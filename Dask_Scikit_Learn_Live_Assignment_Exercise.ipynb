{
  "nbformat": 4,
  "nbformat_minor": 0,
  "metadata": {
    "kernelspec": {
      "display_name": "Python 3",
      "language": "python",
      "name": "python3"
    },
    "language_info": {
      "codemirror_mode": {
        "name": "ipython",
        "version": 3
      },
      "file_extension": ".py",
      "mimetype": "text/x-python",
      "name": "python",
      "nbconvert_exporter": "python",
      "pygments_lexer": "ipython3",
      "version": "3.7.3"
    },
    "colab": {
      "name": "Dask-Scikit-Learn-Live-Assignment-Exercise.ipynb",
      "provenance": [],
      "collapsed_sections": [],
      "include_colab_link": true
    },
    "accelerator": "GPU"
  },
  "cells": [
    {
      "cell_type": "markdown",
      "metadata": {
        "id": "view-in-github",
        "colab_type": "text"
      },
      "source": [
        "<a href=\"https://colab.research.google.com/github/VinayNooji/FourthBrain/blob/main/Dask_Scikit_Learn_Live_Assignment_Exercise.ipynb\" target=\"_parent\"><img src=\"https://colab.research.google.com/assets/colab-badge.svg\" alt=\"Open In Colab\"/></a>"
      ]
    },
    {
      "cell_type": "markdown",
      "metadata": {
        "id": "cHuMZYDNXbs4"
      },
      "source": [
        "Dask Scikit-Learn Live Assignment\n",
        "==========================================\n",
        "\n",
        "This example is based on [Dask's Scikit-Learn Example](https://examples.dask.org/machine-learning/scale-scikit-learn.html). It demonstrates how Dask can scale scikit-learn to a cluster of machines for a CPU-bound problem.\n",
        "We'll fit a large model, a grid-search over many hyper-parameters, on a small dataset."
      ]
    },
    {
      "cell_type": "code",
      "metadata": {
        "id": "G0WPOWelcXuS",
        "colab": {
          "base_uri": "https://localhost:8080/"
        },
        "outputId": "a940d983-17dd-46fd-d945-71906720a4d7"
      },
      "source": [
        "# Dask requires msgpack<1.0 so we will install that first \n",
        "!pip install msgpack==0.6.2"
      ],
      "execution_count": 3,
      "outputs": [
        {
          "output_type": "stream",
          "text": [
            "Requirement already satisfied: msgpack==0.6.2 in /usr/local/lib/python3.7/dist-packages (0.6.2)\n"
          ],
          "name": "stdout"
        }
      ]
    },
    {
      "cell_type": "code",
      "metadata": {
        "id": "9D0VZwB3c4Sh",
        "colab": {
          "base_uri": "https://localhost:8080/"
        },
        "outputId": "1cb73ddd-4dfc-4d1e-d699-447305a5a9c5"
      },
      "source": [
        "# We would also need to install dask-ml to run ML algorithms from Dask\n",
        "!pip install dask-ml"
      ],
      "execution_count": 4,
      "outputs": [
        {
          "output_type": "stream",
          "text": [
            "Requirement already satisfied: dask-ml in /usr/local/lib/python3.7/dist-packages (1.9.0)\n",
            "Requirement already satisfied: scikit-learn>=0.23 in /usr/local/lib/python3.7/dist-packages (from dask-ml) (0.24.2)\n",
            "Requirement already satisfied: packaging in /usr/local/lib/python3.7/dist-packages (from dask-ml) (20.9)\n",
            "Requirement already satisfied: multipledispatch>=0.4.9 in /usr/local/lib/python3.7/dist-packages (from dask-ml) (0.6.0)\n",
            "Requirement already satisfied: numba>=0.51.0 in /usr/local/lib/python3.7/dist-packages (from dask-ml) (0.51.2)\n",
            "Requirement already satisfied: dask[array,dataframe]>=2.4.0 in /usr/local/lib/python3.7/dist-packages (from dask-ml) (2.12.0)\n",
            "Requirement already satisfied: dask-glm>=0.2.0 in /usr/local/lib/python3.7/dist-packages (from dask-ml) (0.2.0)\n",
            "Requirement already satisfied: distributed>=2.4.0 in /usr/local/lib/python3.7/dist-packages (from dask-ml) (2021.6.0)\n",
            "Requirement already satisfied: numpy>=1.17.3 in /usr/local/lib/python3.7/dist-packages (from dask-ml) (1.19.5)\n",
            "Requirement already satisfied: scipy in /usr/local/lib/python3.7/dist-packages (from dask-ml) (1.4.1)\n",
            "Requirement already satisfied: pandas>=0.24.2 in /usr/local/lib/python3.7/dist-packages (from dask-ml) (1.1.5)\n",
            "Requirement already satisfied: threadpoolctl>=2.0.0 in /usr/local/lib/python3.7/dist-packages (from scikit-learn>=0.23->dask-ml) (2.1.0)\n",
            "Requirement already satisfied: joblib>=0.11 in /usr/local/lib/python3.7/dist-packages (from scikit-learn>=0.23->dask-ml) (1.0.1)\n",
            "Requirement already satisfied: pyparsing>=2.0.2 in /usr/local/lib/python3.7/dist-packages (from packaging->dask-ml) (2.4.7)\n",
            "Requirement already satisfied: six in /usr/local/lib/python3.7/dist-packages (from multipledispatch>=0.4.9->dask-ml) (1.15.0)\n",
            "Requirement already satisfied: setuptools in /usr/local/lib/python3.7/dist-packages (from numba>=0.51.0->dask-ml) (57.0.0)\n",
            "Requirement already satisfied: llvmlite<0.35,>=0.34.0.dev0 in /usr/local/lib/python3.7/dist-packages (from numba>=0.51.0->dask-ml) (0.34.0)\n",
            "Requirement already satisfied: toolz>=0.7.3; extra == \"array\" in /usr/local/lib/python3.7/dist-packages (from dask[array,dataframe]>=2.4.0->dask-ml) (0.11.1)\n",
            "Requirement already satisfied: fsspec>=0.6.0; extra == \"dataframe\" in /usr/local/lib/python3.7/dist-packages (from dask[array,dataframe]>=2.4.0->dask-ml) (2021.6.0)\n",
            "Requirement already satisfied: partd>=0.3.10; extra == \"dataframe\" in /usr/local/lib/python3.7/dist-packages (from dask[array,dataframe]>=2.4.0->dask-ml) (1.2.0)\n",
            "Requirement already satisfied: cloudpickle>=0.2.2 in /usr/local/lib/python3.7/dist-packages (from dask-glm>=0.2.0->dask-ml) (1.3.0)\n",
            "Requirement already satisfied: sortedcontainers!=2.0.0,!=2.0.1 in /usr/local/lib/python3.7/dist-packages (from distributed>=2.4.0->dask-ml) (2.4.0)\n",
            "Requirement already satisfied: zict>=0.1.3 in /usr/local/lib/python3.7/dist-packages (from distributed>=2.4.0->dask-ml) (2.0.0)\n",
            "Requirement already satisfied: tornado>=5; python_version < \"3.8\" in /usr/local/lib/python3.7/dist-packages (from distributed>=2.4.0->dask-ml) (5.1.1)\n",
            "Requirement already satisfied: click>=6.6 in /usr/local/lib/python3.7/dist-packages (from distributed>=2.4.0->dask-ml) (7.1.2)\n",
            "Requirement already satisfied: msgpack>=0.6.0 in /usr/local/lib/python3.7/dist-packages (from distributed>=2.4.0->dask-ml) (0.6.2)\n",
            "Requirement already satisfied: tblib>=1.6.0 in /usr/local/lib/python3.7/dist-packages (from distributed>=2.4.0->dask-ml) (1.7.0)\n",
            "Requirement already satisfied: psutil>=5.0 in /usr/local/lib/python3.7/dist-packages (from distributed>=2.4.0->dask-ml) (5.4.8)\n",
            "Requirement already satisfied: pyyaml in /usr/local/lib/python3.7/dist-packages (from distributed>=2.4.0->dask-ml) (3.13)\n",
            "Requirement already satisfied: pytz>=2017.2 in /usr/local/lib/python3.7/dist-packages (from pandas>=0.24.2->dask-ml) (2018.9)\n",
            "Requirement already satisfied: python-dateutil>=2.7.3 in /usr/local/lib/python3.7/dist-packages (from pandas>=0.24.2->dask-ml) (2.8.1)\n",
            "Requirement already satisfied: locket in /usr/local/lib/python3.7/dist-packages (from partd>=0.3.10; extra == \"dataframe\"->dask[array,dataframe]>=2.4.0->dask-ml) (0.2.1)\n",
            "Requirement already satisfied: heapdict in /usr/local/lib/python3.7/dist-packages (from zict>=0.1.3->distributed>=2.4.0->dask-ml) (1.0.1)\n"
          ],
          "name": "stdout"
        }
      ]
    },
    {
      "cell_type": "code",
      "metadata": {
        "id": "eysDyaJVdNs9",
        "colab": {
          "base_uri": "https://localhost:8080/"
        },
        "outputId": "8229454a-34f5-4243-c68d-25ba2961b7da"
      },
      "source": [
        "!pip install dask distributed --upgrade"
      ],
      "execution_count": 5,
      "outputs": [
        {
          "output_type": "stream",
          "text": [
            "Collecting dask\n",
            "\u001b[?25l  Downloading https://files.pythonhosted.org/packages/31/a2/59bd5d72cfe1ecc540d1307fc4cca8ac5151d625e0a68474e21cf7b2267d/dask-2021.6.0-py3-none-any.whl (965kB)\n",
            "\r\u001b[K     |▍                               | 10kB 24.9MB/s eta 0:00:01\r\u001b[K     |▊                               | 20kB 32.6MB/s eta 0:00:01\r\u001b[K     |█                               | 30kB 22.4MB/s eta 0:00:01\r\u001b[K     |█▍                              | 40kB 17.7MB/s eta 0:00:01\r\u001b[K     |█▊                              | 51kB 8.9MB/s eta 0:00:01\r\u001b[K     |██                              | 61kB 9.3MB/s eta 0:00:01\r\u001b[K     |██▍                             | 71kB 9.4MB/s eta 0:00:01\r\u001b[K     |██▊                             | 81kB 10.5MB/s eta 0:00:01\r\u001b[K     |███                             | 92kB 10.9MB/s eta 0:00:01\r\u001b[K     |███▍                            | 102kB 8.6MB/s eta 0:00:01\r\u001b[K     |███▊                            | 112kB 8.6MB/s eta 0:00:01\r\u001b[K     |████                            | 122kB 8.6MB/s eta 0:00:01\r\u001b[K     |████▍                           | 133kB 8.6MB/s eta 0:00:01\r\u001b[K     |████▊                           | 143kB 8.6MB/s eta 0:00:01\r\u001b[K     |█████                           | 153kB 8.6MB/s eta 0:00:01\r\u001b[K     |█████▍                          | 163kB 8.6MB/s eta 0:00:01\r\u001b[K     |█████▊                          | 174kB 8.6MB/s eta 0:00:01\r\u001b[K     |██████                          | 184kB 8.6MB/s eta 0:00:01\r\u001b[K     |██████▌                         | 194kB 8.6MB/s eta 0:00:01\r\u001b[K     |██████▉                         | 204kB 8.6MB/s eta 0:00:01\r\u001b[K     |███████▏                        | 215kB 8.6MB/s eta 0:00:01\r\u001b[K     |███████▌                        | 225kB 8.6MB/s eta 0:00:01\r\u001b[K     |███████▉                        | 235kB 8.6MB/s eta 0:00:01\r\u001b[K     |████████▏                       | 245kB 8.6MB/s eta 0:00:01\r\u001b[K     |████████▌                       | 256kB 8.6MB/s eta 0:00:01\r\u001b[K     |████████▉                       | 266kB 8.6MB/s eta 0:00:01\r\u001b[K     |█████████▏                      | 276kB 8.6MB/s eta 0:00:01\r\u001b[K     |█████████▌                      | 286kB 8.6MB/s eta 0:00:01\r\u001b[K     |█████████▉                      | 296kB 8.6MB/s eta 0:00:01\r\u001b[K     |██████████▏                     | 307kB 8.6MB/s eta 0:00:01\r\u001b[K     |██████████▌                     | 317kB 8.6MB/s eta 0:00:01\r\u001b[K     |██████████▉                     | 327kB 8.6MB/s eta 0:00:01\r\u001b[K     |███████████▏                    | 337kB 8.6MB/s eta 0:00:01\r\u001b[K     |███████████▌                    | 348kB 8.6MB/s eta 0:00:01\r\u001b[K     |███████████▉                    | 358kB 8.6MB/s eta 0:00:01\r\u001b[K     |████████████▏                   | 368kB 8.6MB/s eta 0:00:01\r\u001b[K     |████████████▌                   | 378kB 8.6MB/s eta 0:00:01\r\u001b[K     |█████████████                   | 389kB 8.6MB/s eta 0:00:01\r\u001b[K     |█████████████▎                  | 399kB 8.6MB/s eta 0:00:01\r\u001b[K     |█████████████▋                  | 409kB 8.6MB/s eta 0:00:01\r\u001b[K     |██████████████                  | 419kB 8.6MB/s eta 0:00:01\r\u001b[K     |██████████████▎                 | 430kB 8.6MB/s eta 0:00:01\r\u001b[K     |██████████████▋                 | 440kB 8.6MB/s eta 0:00:01\r\u001b[K     |███████████████                 | 450kB 8.6MB/s eta 0:00:01\r\u001b[K     |███████████████▎                | 460kB 8.6MB/s eta 0:00:01\r\u001b[K     |███████████████▋                | 471kB 8.6MB/s eta 0:00:01\r\u001b[K     |████████████████                | 481kB 8.6MB/s eta 0:00:01\r\u001b[K     |████████████████▎               | 491kB 8.6MB/s eta 0:00:01\r\u001b[K     |████████████████▋               | 501kB 8.6MB/s eta 0:00:01\r\u001b[K     |█████████████████               | 512kB 8.6MB/s eta 0:00:01\r\u001b[K     |█████████████████▎              | 522kB 8.6MB/s eta 0:00:01\r\u001b[K     |█████████████████▋              | 532kB 8.6MB/s eta 0:00:01\r\u001b[K     |██████████████████              | 542kB 8.6MB/s eta 0:00:01\r\u001b[K     |██████████████████▎             | 552kB 8.6MB/s eta 0:00:01\r\u001b[K     |██████████████████▋             | 563kB 8.6MB/s eta 0:00:01\r\u001b[K     |███████████████████             | 573kB 8.6MB/s eta 0:00:01\r\u001b[K     |███████████████████▍            | 583kB 8.6MB/s eta 0:00:01\r\u001b[K     |███████████████████▊            | 593kB 8.6MB/s eta 0:00:01\r\u001b[K     |████████████████████            | 604kB 8.6MB/s eta 0:00:01\r\u001b[K     |████████████████████▍           | 614kB 8.6MB/s eta 0:00:01\r\u001b[K     |████████████████████▊           | 624kB 8.6MB/s eta 0:00:01\r\u001b[K     |█████████████████████           | 634kB 8.6MB/s eta 0:00:01\r\u001b[K     |█████████████████████▍          | 645kB 8.6MB/s eta 0:00:01\r\u001b[K     |█████████████████████▊          | 655kB 8.6MB/s eta 0:00:01\r\u001b[K     |██████████████████████          | 665kB 8.6MB/s eta 0:00:01\r\u001b[K     |██████████████████████▍         | 675kB 8.6MB/s eta 0:00:01\r\u001b[K     |██████████████████████▊         | 686kB 8.6MB/s eta 0:00:01\r\u001b[K     |███████████████████████         | 696kB 8.6MB/s eta 0:00:01\r\u001b[K     |███████████████████████▍        | 706kB 8.6MB/s eta 0:00:01\r\u001b[K     |███████████████████████▊        | 716kB 8.6MB/s eta 0:00:01\r\u001b[K     |████████████████████████        | 727kB 8.6MB/s eta 0:00:01\r\u001b[K     |████████████████████████▍       | 737kB 8.6MB/s eta 0:00:01\r\u001b[K     |████████████████████████▊       | 747kB 8.6MB/s eta 0:00:01\r\u001b[K     |█████████████████████████       | 757kB 8.6MB/s eta 0:00:01\r\u001b[K     |█████████████████████████▌      | 768kB 8.6MB/s eta 0:00:01\r\u001b[K     |█████████████████████████▉      | 778kB 8.6MB/s eta 0:00:01\r\u001b[K     |██████████████████████████▏     | 788kB 8.6MB/s eta 0:00:01\r\u001b[K     |██████████████████████████▌     | 798kB 8.6MB/s eta 0:00:01\r\u001b[K     |██████████████████████████▉     | 808kB 8.6MB/s eta 0:00:01\r\u001b[K     |███████████████████████████▏    | 819kB 8.6MB/s eta 0:00:01\r\u001b[K     |███████████████████████████▌    | 829kB 8.6MB/s eta 0:00:01\r\u001b[K     |███████████████████████████▉    | 839kB 8.6MB/s eta 0:00:01\r\u001b[K     |████████████████████████████▏   | 849kB 8.6MB/s eta 0:00:01\r\u001b[K     |████████████████████████████▌   | 860kB 8.6MB/s eta 0:00:01\r\u001b[K     |████████████████████████████▉   | 870kB 8.6MB/s eta 0:00:01\r\u001b[K     |█████████████████████████████▏  | 880kB 8.6MB/s eta 0:00:01\r\u001b[K     |█████████████████████████████▌  | 890kB 8.6MB/s eta 0:00:01\r\u001b[K     |█████████████████████████████▉  | 901kB 8.6MB/s eta 0:00:01\r\u001b[K     |██████████████████████████████▏ | 911kB 8.6MB/s eta 0:00:01\r\u001b[K     |██████████████████████████████▌ | 921kB 8.6MB/s eta 0:00:01\r\u001b[K     |██████████████████████████████▉ | 931kB 8.6MB/s eta 0:00:01\r\u001b[K     |███████████████████████████████▏| 942kB 8.6MB/s eta 0:00:01\r\u001b[K     |███████████████████████████████▋| 952kB 8.6MB/s eta 0:00:01\r\u001b[K     |████████████████████████████████| 962kB 8.6MB/s eta 0:00:01\r\u001b[K     |████████████████████████████████| 972kB 8.6MB/s \n",
            "\u001b[?25hRequirement already up-to-date: distributed in /usr/local/lib/python3.7/dist-packages (2021.6.0)\n",
            "Requirement already satisfied, skipping upgrade: partd>=0.3.10 in /usr/local/lib/python3.7/dist-packages (from dask) (1.2.0)\n",
            "Requirement already satisfied, skipping upgrade: toolz>=0.8.2 in /usr/local/lib/python3.7/dist-packages (from dask) (0.11.1)\n",
            "Requirement already satisfied, skipping upgrade: fsspec>=0.6.0 in /usr/local/lib/python3.7/dist-packages (from dask) (2021.6.0)\n",
            "Requirement already satisfied, skipping upgrade: pyyaml in /usr/local/lib/python3.7/dist-packages (from dask) (3.13)\n",
            "Requirement already satisfied, skipping upgrade: cloudpickle>=1.1.1 in /usr/local/lib/python3.7/dist-packages (from dask) (1.3.0)\n",
            "Requirement already satisfied, skipping upgrade: sortedcontainers!=2.0.0,!=2.0.1 in /usr/local/lib/python3.7/dist-packages (from distributed) (2.4.0)\n",
            "Requirement already satisfied, skipping upgrade: psutil>=5.0 in /usr/local/lib/python3.7/dist-packages (from distributed) (5.4.8)\n",
            "Requirement already satisfied, skipping upgrade: setuptools in /usr/local/lib/python3.7/dist-packages (from distributed) (57.0.0)\n",
            "Requirement already satisfied, skipping upgrade: zict>=0.1.3 in /usr/local/lib/python3.7/dist-packages (from distributed) (2.0.0)\n",
            "Requirement already satisfied, skipping upgrade: tblib>=1.6.0 in /usr/local/lib/python3.7/dist-packages (from distributed) (1.7.0)\n",
            "Requirement already satisfied, skipping upgrade: msgpack>=0.6.0 in /usr/local/lib/python3.7/dist-packages (from distributed) (0.6.2)\n",
            "Requirement already satisfied, skipping upgrade: click>=6.6 in /usr/local/lib/python3.7/dist-packages (from distributed) (7.1.2)\n",
            "Requirement already satisfied, skipping upgrade: tornado>=5; python_version < \"3.8\" in /usr/local/lib/python3.7/dist-packages (from distributed) (5.1.1)\n",
            "Requirement already satisfied, skipping upgrade: locket in /usr/local/lib/python3.7/dist-packages (from partd>=0.3.10->dask) (0.2.1)\n",
            "Requirement already satisfied, skipping upgrade: heapdict in /usr/local/lib/python3.7/dist-packages (from zict>=0.1.3->distributed) (1.0.1)\n",
            "\u001b[31mERROR: distributed 2021.6.0 has requirement cloudpickle>=1.5.0, but you'll have cloudpickle 1.3.0 which is incompatible.\u001b[0m\n",
            "Installing collected packages: dask\n",
            "  Found existing installation: dask 2.12.0\n",
            "    Uninstalling dask-2.12.0:\n",
            "      Successfully uninstalled dask-2.12.0\n",
            "Successfully installed dask-2021.6.0\n"
          ],
          "name": "stdout"
        }
      ]
    },
    {
      "cell_type": "code",
      "metadata": {
        "colab": {
          "base_uri": "https://localhost:8080/",
          "height": 118
        },
        "id": "A-w4erR-Xbs8",
        "outputId": "4cf64ca2-0c0f-4a73-e3c0-007ea7ff8057"
      },
      "source": [
        "from dask.distributed import Client, progress\n",
        "client = Client(n_workers=4, threads_per_worker=1, memory_limit='2GB')\n",
        "client"
      ],
      "execution_count": 6,
      "outputs": [
        {
          "output_type": "execute_result",
          "data": {
            "text/html": [
              "<table style=\"border: 2px solid white;\">\n",
              "<tr>\n",
              "<td style=\"vertical-align: top; border: 0px solid white\">\n",
              "<h3 style=\"text-align: left;\">Client</h3>\n",
              "<ul style=\"text-align: left; list-style: none; margin: 0; padding: 0;\">\n",
              "  <li><b>Scheduler: </b>tcp://127.0.0.1:44147</li>\n",
              "  <li><b>Dashboard: </b><a href='http://127.0.0.1:8787/status' target='_blank'>http://127.0.0.1:8787/status</a></li>\n",
              "</ul>\n",
              "</td>\n",
              "<td style=\"vertical-align: top; border: 0px solid white\">\n",
              "<h3 style=\"text-align: left;\">Cluster</h3>\n",
              "<ul style=\"text-align: left; list-style:none; margin: 0; padding: 0;\">\n",
              "  <li><b>Workers: </b>4</li>\n",
              "  <li><b>Cores: </b>4</li>\n",
              "  <li><b>Memory: </b>7.45 GiB</li>\n",
              "</ul>\n",
              "</td>\n",
              "</tr>\n",
              "</table>"
            ],
            "text/plain": [
              "<Client: 'tcp://127.0.0.1:44147' processes=4 threads=4, memory=7.45 GiB>"
            ]
          },
          "metadata": {
            "tags": []
          },
          "execution_count": 6
        }
      ]
    },
    {
      "cell_type": "markdown",
      "metadata": {
        "keep_output": true,
        "id": "GrTMHd_GXbs9"
      },
      "source": [
        "## Distributed Training\n",
        "\n",
        "Scikit-learn uses [joblib](http://joblib.readthedocs.io/) for single-machine parallelism. This lets you train most estimators (anything that accepts an `n_jobs` parameter) using all the cores of your laptop or workstation.\n",
        "\n",
        "Alternatively, Scikit-Learn can use Dask for parallelism.  This lets you train those estimators using all the cores of your *cluster* without significantly changing your code.\n",
        "\n",
        "This is most useful for training large models on medium-sized datasets. You may have a large model when searching over many hyper-parameters, or when using an ensemble method with many individual estimators. For too small datasets, training times will typically be small enough that cluster-wide parallelism isn't helpful. For too large datasets (larger than a single machine's memory), the scikit-learn estimators may not be able to cope (though Dask-ML provides other ways for working with larger than memory datasets)."
      ]
    },
    {
      "cell_type": "markdown",
      "metadata": {
        "id": "RMK8fMC6Xbs-"
      },
      "source": [
        "### Create Scikit-Learn Pipeline"
      ]
    },
    {
      "cell_type": "code",
      "metadata": {
        "id": "uVrOQkDnXbtC"
      },
      "source": [
        "from pprint import pprint\n",
        "from time import time\n",
        "import logging\n",
        "\n",
        "from sklearn.datasets import fetch_20newsgroups\n",
        "from sklearn.feature_extraction.text import HashingVectorizer\n",
        "from sklearn.feature_extraction.text import TfidfTransformer\n",
        "from sklearn.linear_model import SGDClassifier\n",
        "from sklearn.model_selection import GridSearchCV\n",
        "from sklearn.pipeline import Pipeline"
      ],
      "execution_count": 7,
      "outputs": []
    },
    {
      "cell_type": "code",
      "metadata": {
        "colab": {
          "base_uri": "https://localhost:8080/"
        },
        "id": "ScwpYiymXbtC",
        "outputId": "c5f350ad-7f01-4da1-a990-e8e54fd98083"
      },
      "source": [
        "# Scale Up: set categories=None to use all the categories\n",
        "categories = [\n",
        "    'alt.atheism',\n",
        "    'talk.religion.misc',\n",
        "]\n",
        "\n",
        "print(\"Loading 20 newsgroups dataset for categories:\")\n",
        "print(categories)\n",
        "\n",
        "data = fetch_20newsgroups(subset='train', categories=categories)\n",
        "print(\"%d documents\" % len(data.filenames))\n",
        "print(\"%d categories\" % len(data.target_names))\n",
        "print()"
      ],
      "execution_count": 8,
      "outputs": [
        {
          "output_type": "stream",
          "text": [
            "Loading 20 newsgroups dataset for categories:\n",
            "['alt.atheism', 'talk.religion.misc']\n",
            "857 documents\n",
            "2 categories\n",
            "\n"
          ],
          "name": "stdout"
        }
      ]
    },
    {
      "cell_type": "markdown",
      "metadata": {
        "id": "3bkhxhj4XbtD"
      },
      "source": [
        "We'll define a small pipeline that combines text feature extraction with a simple classifier."
      ]
    },
    {
      "cell_type": "code",
      "metadata": {
        "id": "yPdGiqj3XbtD"
      },
      "source": [
        "### START CODE ###\n",
        "# Add HashingVectorizer, TfidfTransformer and SGDClassifier with max_iter of 1000 in the pipeline steps\n",
        "pipeline = Pipeline([\n",
        "    ('vect', HashingVectorizer()),\n",
        "    ('tfidf', TfidfTransformer()),\n",
        "    ('clf', SGDClassifier(max_iter=1000)),\n",
        "])\n",
        "### END CODE ###"
      ],
      "execution_count": 9,
      "outputs": []
    },
    {
      "cell_type": "markdown",
      "metadata": {
        "id": "D7S6nccQXbtD"
      },
      "source": [
        "### Define Grid for Parameter Search"
      ]
    },
    {
      "cell_type": "markdown",
      "metadata": {
        "id": "qnwLKdJzXbtE"
      },
      "source": [
        "Grid search over some parameters."
      ]
    },
    {
      "cell_type": "code",
      "metadata": {
        "id": "T1X_NY8HXbtE"
      },
      "source": [
        "# Un comment the addition parameters if you want to train more\n",
        "parameters = {\n",
        "    'tfidf__use_idf': (True, False),\n",
        "    'tfidf__norm': ('l1', 'l2'),\n",
        "    'clf__alpha': (0.00001, 0.000001),\n",
        "    # 'clf__penalty': ('l2', 'elasticnet'),\n",
        "    # 'clf__n_iter': (10, 50, 80),\n",
        "}"
      ],
      "execution_count": 10,
      "outputs": []
    },
    {
      "cell_type": "code",
      "metadata": {
        "id": "l1EFN8DAXbtE"
      },
      "source": [
        "### START CODE ###\n",
        "# Run GridSearchCV with the pipeline, parameters, n_jobs as -1, cv as 3 and refit=False \n",
        "grid_search = GridSearchCV(pipeline, parameters, n_jobs=-1, verbose=1, cv=3, refit=False)\n",
        "### END CODE ###"
      ],
      "execution_count": 11,
      "outputs": []
    },
    {
      "cell_type": "markdown",
      "metadata": {
        "id": "aO1J7gA-XbtE"
      },
      "source": [
        "To fit this normally, we would write\n",
        "\n",
        "\n",
        "```python\n",
        "grid_search.fit(data.data, data.target)\n",
        "```\n",
        "\n",
        "That would use the default joblib backend (multiple processes) for parallelism.\n",
        "To use the Dask distributed backend, which will use a cluster of machines to train the model, perform the fit in a `parallel_backend` context."
      ]
    },
    {
      "cell_type": "code",
      "metadata": {
        "colab": {
          "base_uri": "https://localhost:8080/"
        },
        "id": "jsZY3qVYXbtF",
        "outputId": "58ba6f6f-23a5-4301-ca78-c8d171e5376a"
      },
      "source": [
        "import joblib\n",
        "\n",
        "with joblib.parallel_backend('dask'):\n",
        "    grid_search.fit(data.data, data.target)"
      ],
      "execution_count": 13,
      "outputs": [
        {
          "output_type": "stream",
          "text": [
            "Fitting 3 folds for each of 8 candidates, totalling 24 fits\n"
          ],
          "name": "stdout"
        }
      ]
    },
    {
      "cell_type": "markdown",
      "metadata": {
        "id": "cB9QFH2UXbtF"
      },
      "source": [
        "If you had your distributed dashboard open during that fit, you'll notice that each worker performs some of the fit tasks."
      ]
    },
    {
      "cell_type": "markdown",
      "metadata": {
        "id": "PS0Kosc2XbtF"
      },
      "source": [
        "## Parallel, Distributed Prediction\n",
        "\n",
        "Sometimes, you're train on a small dataset, but need to predict for a much larger batch of data.\n",
        "In this case, you'd like your estimator to handle NumPy arrays and pandas DataFrames for training, and dask arrays or DataFrames for prediction. [`dask_ml.wrappers.ParallelPostFit`](http://ml.dask.org/modules/generated/dask_ml.wrappers.ParallelPostFit.html#dask_ml.wrappers.ParallelPostFit) provides exactly that. It's a meta-estimator. It does nothing during training; the underlying estimator (probably a scikit-learn estimator) will probably be in-memory on a single machine. But tasks like `predict`, `score`, etc. are parallelized and distributed.\n",
        "\n",
        "Most of the time, using `ParallelPostFit` is as simple as wrapping the original estimator.\n",
        "When used inside a GridSearch, you'll need to update the keys of the parameters, just like with any meta-estimator.\n",
        "The only complication comes when using `ParallelPostFit` with another meta-estimator like `GridSearchCV`. In this case, you'll need to prefix your parameter names with `estimator__`."
      ]
    },
    {
      "cell_type": "code",
      "metadata": {
        "id": "5kgm69waXbtF"
      },
      "source": [
        "from sklearn.datasets import load_digits\n",
        "from sklearn.svm import SVC\n",
        "from dask_ml.wrappers import ParallelPostFit"
      ],
      "execution_count": 16,
      "outputs": []
    },
    {
      "cell_type": "markdown",
      "metadata": {
        "id": "2eC1GxqhXbtG"
      },
      "source": [
        "We'll load the small NumPy arrays for training."
      ]
    },
    {
      "cell_type": "code",
      "metadata": {
        "colab": {
          "base_uri": "https://localhost:8080/"
        },
        "id": "X_KUYiN0XbtG",
        "outputId": "d65b6099-5e1e-4760-8cea-bed59709e00f"
      },
      "source": [
        "X, y = load_digits(return_X_y=True)\n",
        "X.shape"
      ],
      "execution_count": 17,
      "outputs": [
        {
          "output_type": "execute_result",
          "data": {
            "text/plain": [
              "(1797, 64)"
            ]
          },
          "metadata": {
            "tags": []
          },
          "execution_count": 17
        }
      ]
    },
    {
      "cell_type": "code",
      "metadata": {
        "id": "psak30xvXbtG"
      },
      "source": [
        "svc = ParallelPostFit(SVC(random_state=0, gamma='scale'))\n",
        "\n",
        "param_grid = {\n",
        "    # use estimator__param instead of param\n",
        "    'estimator__C': [0.01, 1.0, 10],\n",
        "}\n",
        "\n",
        "grid_search = GridSearchCV(svc, param_grid, cv=3)"
      ],
      "execution_count": 18,
      "outputs": []
    },
    {
      "cell_type": "markdown",
      "metadata": {
        "id": "Kv2rJbouXbtH"
      },
      "source": [
        "And fit as usual."
      ]
    },
    {
      "cell_type": "code",
      "metadata": {
        "colab": {
          "base_uri": "https://localhost:8080/"
        },
        "id": "kB1fyALEXbtH",
        "outputId": "31c4608d-3271-49cb-b0a2-2965a33a8a18"
      },
      "source": [
        "grid_search.fit(X, y)"
      ],
      "execution_count": 19,
      "outputs": [
        {
          "output_type": "execute_result",
          "data": {
            "text/plain": [
              "GridSearchCV(cv=3, estimator=ParallelPostFit(estimator=SVC(random_state=0)),\n",
              "             param_grid={'estimator__C': [0.01, 1.0, 10]})"
            ]
          },
          "metadata": {
            "tags": []
          },
          "execution_count": 19
        }
      ]
    },
    {
      "cell_type": "markdown",
      "metadata": {
        "id": "QA0WgvJIXbtI"
      },
      "source": [
        "We'll simulate a large dask array by replicating the training data a few times.\n",
        "In reality, you would load this from your file system."
      ]
    },
    {
      "cell_type": "code",
      "metadata": {
        "id": "BdsMLYjBXbtI"
      },
      "source": [
        "import dask.array as da"
      ],
      "execution_count": 20,
      "outputs": []
    },
    {
      "cell_type": "code",
      "metadata": {
        "colab": {
          "base_uri": "https://localhost:8080/",
          "height": 197
        },
        "id": "XUdbXcwjXbtJ",
        "outputId": "6f5c729f-5cfe-4964-ded7-b78236ab2baf"
      },
      "source": [
        "big_X = da.concatenate([\n",
        "    da.from_array(X, chunks=X.shape)\n",
        "    for _ in range(10)\n",
        "])\n",
        "big_X"
      ],
      "execution_count": 21,
      "outputs": [
        {
          "output_type": "execute_result",
          "data": {
            "text/html": [
              "<table>\n",
              "<tr>\n",
              "<td>\n",
              "<table>\n",
              "  <thead>\n",
              "    <tr><td> </td><th> Array </th><th> Chunk </th></tr>\n",
              "  </thead>\n",
              "  <tbody>\n",
              "    <tr><th> Bytes </th><td> 8.77 MiB </td> <td> 898.50 kiB </td></tr>\n",
              "    <tr><th> Shape </th><td> (17970, 64) </td> <td> (1797, 64) </td></tr>\n",
              "    <tr><th> Count </th><td> 11 Tasks </td><td> 10 Chunks </td></tr>\n",
              "    <tr><th> Type </th><td> float64 </td><td> numpy.ndarray </td></tr>\n",
              "  </tbody>\n",
              "</table>\n",
              "</td>\n",
              "<td>\n",
              "<svg width=\"75\" height=\"170\" style=\"stroke:rgb(0,0,0);stroke-width:1\" >\n",
              "\n",
              "  <!-- Horizontal lines -->\n",
              "  <line x1=\"0\" y1=\"0\" x2=\"25\" y2=\"0\" style=\"stroke-width:2\" />\n",
              "  <line x1=\"0\" y1=\"12\" x2=\"25\" y2=\"12\" />\n",
              "  <line x1=\"0\" y1=\"24\" x2=\"25\" y2=\"24\" />\n",
              "  <line x1=\"0\" y1=\"36\" x2=\"25\" y2=\"36\" />\n",
              "  <line x1=\"0\" y1=\"48\" x2=\"25\" y2=\"48\" />\n",
              "  <line x1=\"0\" y1=\"60\" x2=\"25\" y2=\"60\" />\n",
              "  <line x1=\"0\" y1=\"72\" x2=\"25\" y2=\"72\" />\n",
              "  <line x1=\"0\" y1=\"84\" x2=\"25\" y2=\"84\" />\n",
              "  <line x1=\"0\" y1=\"96\" x2=\"25\" y2=\"96\" />\n",
              "  <line x1=\"0\" y1=\"108\" x2=\"25\" y2=\"108\" />\n",
              "  <line x1=\"0\" y1=\"120\" x2=\"25\" y2=\"120\" style=\"stroke-width:2\" />\n",
              "\n",
              "  <!-- Vertical lines -->\n",
              "  <line x1=\"0\" y1=\"0\" x2=\"0\" y2=\"120\" style=\"stroke-width:2\" />\n",
              "  <line x1=\"25\" y1=\"0\" x2=\"25\" y2=\"120\" style=\"stroke-width:2\" />\n",
              "\n",
              "  <!-- Colored Rectangle -->\n",
              "  <polygon points=\"0.0,0.0 25.412616514582485,0.0 25.412616514582485,120.0 0.0,120.0\" style=\"fill:#ECB172A0;stroke-width:0\"/>\n",
              "\n",
              "  <!-- Text -->\n",
              "  <text x=\"12.706308\" y=\"140.000000\" font-size=\"1.0rem\" font-weight=\"100\" text-anchor=\"middle\" >64</text>\n",
              "  <text x=\"45.412617\" y=\"60.000000\" font-size=\"1.0rem\" font-weight=\"100\" text-anchor=\"middle\" transform=\"rotate(-90,45.412617,60.000000)\">17970</text>\n",
              "</svg>\n",
              "</td>\n",
              "</tr>\n",
              "</table>"
            ],
            "text/plain": [
              "dask.array<concatenate, shape=(17970, 64), dtype=float64, chunksize=(1797, 64), chunktype=numpy.ndarray>"
            ]
          },
          "metadata": {
            "tags": []
          },
          "execution_count": 21
        }
      ]
    },
    {
      "cell_type": "markdown",
      "metadata": {
        "id": "jiRPQcC6XbtJ"
      },
      "source": [
        "Operations like `predict`, or `predict_proba` return dask, rather than NumPy arrays.\n",
        "When you compute, the work will be done in parallel, out of core or distributed on the cluster."
      ]
    },
    {
      "cell_type": "code",
      "metadata": {
        "colab": {
          "base_uri": "https://localhost:8080/",
          "height": 130
        },
        "id": "vJVWMAi1XbtK",
        "outputId": "fdef7d59-17b0-47b5-f490-9a1108329421"
      },
      "source": [
        "predicted = grid_search.predict(big_X)\n",
        "predicted"
      ],
      "execution_count": 22,
      "outputs": [
        {
          "output_type": "execute_result",
          "data": {
            "text/html": [
              "<table>\n",
              "<tr>\n",
              "<td>\n",
              "<table>\n",
              "  <thead>\n",
              "    <tr><td> </td><th> Array </th><th> Chunk </th></tr>\n",
              "  </thead>\n",
              "  <tbody>\n",
              "    <tr><th> Bytes </th><td> 140.39 kiB </td> <td> 14.04 kiB </td></tr>\n",
              "    <tr><th> Shape </th><td> (17970,) </td> <td> (1797,) </td></tr>\n",
              "    <tr><th> Count </th><td> 21 Tasks </td><td> 10 Chunks </td></tr>\n",
              "    <tr><th> Type </th><td> int64 </td><td> numpy.ndarray </td></tr>\n",
              "  </tbody>\n",
              "</table>\n",
              "</td>\n",
              "<td>\n",
              "<svg width=\"170\" height=\"75\" style=\"stroke:rgb(0,0,0);stroke-width:1\" >\n",
              "\n",
              "  <!-- Horizontal lines -->\n",
              "  <line x1=\"0\" y1=\"0\" x2=\"120\" y2=\"0\" style=\"stroke-width:2\" />\n",
              "  <line x1=\"0\" y1=\"25\" x2=\"120\" y2=\"25\" style=\"stroke-width:2\" />\n",
              "\n",
              "  <!-- Vertical lines -->\n",
              "  <line x1=\"0\" y1=\"0\" x2=\"0\" y2=\"25\" style=\"stroke-width:2\" />\n",
              "  <line x1=\"12\" y1=\"0\" x2=\"12\" y2=\"25\" />\n",
              "  <line x1=\"24\" y1=\"0\" x2=\"24\" y2=\"25\" />\n",
              "  <line x1=\"36\" y1=\"0\" x2=\"36\" y2=\"25\" />\n",
              "  <line x1=\"48\" y1=\"0\" x2=\"48\" y2=\"25\" />\n",
              "  <line x1=\"60\" y1=\"0\" x2=\"60\" y2=\"25\" />\n",
              "  <line x1=\"72\" y1=\"0\" x2=\"72\" y2=\"25\" />\n",
              "  <line x1=\"84\" y1=\"0\" x2=\"84\" y2=\"25\" />\n",
              "  <line x1=\"96\" y1=\"0\" x2=\"96\" y2=\"25\" />\n",
              "  <line x1=\"108\" y1=\"0\" x2=\"108\" y2=\"25\" />\n",
              "  <line x1=\"120\" y1=\"0\" x2=\"120\" y2=\"25\" style=\"stroke-width:2\" />\n",
              "\n",
              "  <!-- Colored Rectangle -->\n",
              "  <polygon points=\"0.0,0.0 120.0,0.0 120.0,25.412616514582485 0.0,25.412616514582485\" style=\"fill:#ECB172A0;stroke-width:0\"/>\n",
              "\n",
              "  <!-- Text -->\n",
              "  <text x=\"60.000000\" y=\"45.412617\" font-size=\"1.0rem\" font-weight=\"100\" text-anchor=\"middle\" >17970</text>\n",
              "  <text x=\"140.000000\" y=\"12.706308\" font-size=\"1.0rem\" font-weight=\"100\" text-anchor=\"middle\" transform=\"rotate(0,140.000000,12.706308)\">1</text>\n",
              "</svg>\n",
              "</td>\n",
              "</tr>\n",
              "</table>"
            ],
            "text/plain": [
              "dask.array<_predict, shape=(17970,), dtype=int64, chunksize=(1797,), chunktype=numpy.ndarray>"
            ]
          },
          "metadata": {
            "tags": []
          },
          "execution_count": 22
        }
      ]
    },
    {
      "cell_type": "markdown",
      "metadata": {
        "id": "h-7D10lbXbtL"
      },
      "source": [
        "At this point predicted could be written to disk, or aggregated before returning to the client."
      ]
    }
  ]
}