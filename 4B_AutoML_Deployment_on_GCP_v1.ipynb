{
  "nbformat": 4,
  "nbformat_minor": 0,
  "metadata": {
    "colab": {
      "name": "4B_AutoML_Deployment_on_GCP_v1.ipynb",
      "provenance": [],
      "collapsed_sections": [],
      "include_colab_link": true
    },
    "kernelspec": {
      "display_name": "Python 3",
      "language": "python",
      "name": "python3"
    },
    "language_info": {
      "codemirror_mode": {
        "name": "ipython",
        "version": 3
      },
      "file_extension": ".py",
      "mimetype": "text/x-python",
      "name": "python",
      "nbconvert_exporter": "python",
      "pygments_lexer": "ipython3",
      "version": "3.5.3"
    },
    "accelerator": "GPU"
  },
  "cells": [
    {
      "cell_type": "markdown",
      "metadata": {
        "id": "view-in-github",
        "colab_type": "text"
      },
      "source": [
        "<a href=\"https://colab.research.google.com/github/VinayNooji/FourthBrain/blob/main/4B_AutoML_Deployment_on_GCP_v1.ipynb\" target=\"_parent\"><img src=\"https://colab.research.google.com/assets/colab-badge.svg\" alt=\"Open In Colab\"/></a>"
      ]
    },
    {
      "cell_type": "markdown",
      "metadata": {
        "id": "I4H8UJlKRl6P"
      },
      "source": [
        "# This code book is modified version of original\n",
        "https://cloud.google.com/ai-platform/docs/getting-started-keras\n",
        " # to cater to the classroom instruction format at FourthBrain\n",
        "\n",
        " # This provides a solution to transfer data from your Google Drive and run on AI Platform in GCP through GCP. \n",
        " # Please run this code on Colab for complete learning experience.\n",
        "\n",
        " 1. Ensure your gmail that you connect with Colab has been added to a GCP project\n",
        " 2. Authenticate Colab to access your Google drive. This surpasses the need for Google authentication"
      ]
    },
    {
      "cell_type": "code",
      "metadata": {
        "cellView": "both",
        "deletable": true,
        "editable": true,
        "id": "qnMpW5Y9nv2l"
      },
      "source": [
        "# Copyright 2019 Google LLC\n",
        "# Redo for region= US-east1\n",
        "# Licensed under the Apache License, Version 2.0 (the \"License\");\n",
        "# you may not use this file except in compliance with the License.\n",
        "# You may obtain a copy of the License at\n",
        "#\n",
        "#     https://www.apache.org/licenses/LICENSE-2.0\n",
        "#\n",
        "# Unless required by applicable law or agreed to in writing, software\n",
        "# distributed under the License is distributed on an \"AS IS\" BASIS,\n",
        "# WITHOUT WARRANTIES OR CONDITIONS OF ANY KIND, either express or implied.\n",
        "# See the License for the specific language governing permissions and\n",
        "# limitations under the License."
      ],
      "execution_count": null,
      "outputs": []
    },
    {
      "cell_type": "markdown",
      "metadata": {
        "deletable": true,
        "editable": true,
        "id": "mHF9VCProKJN"
      },
      "source": [
        "# Getting started: Training and prediction with Keras in AI Platform\n",
        "\n",
        "<img src=\"https://storage.googleapis.com/cloud-samples-data/ai-platform/census/keras-tensorflow-cmle.png\" alt=\"Keras, TensorFlow, and AI Platform logos\" width=\"300px\">\n",
        "\n",
        "<table align=\"left\">\n",
        "  <td>\n",
        "    <a href=\"https://cloud.google.com/ml-engine/docs/tensorflow/getting-started-keras\">\n",
        "      <img src=\"https://cloud.google.com/_static/images/cloud/icons/favicons/onecloud/super_cloud.png\"\n",
        "           alt=\"Google Cloud logo\" width=\"32px\"> Read on cloud.google.com\n",
        "    </a>\n",
        "  </td>\n",
        "  <td>\n",
        "    <a href=\"https://colab.research.google.com/github/GoogleCloudPlatform/cloudml-samples/blob/master/notebooks/tensorflow/getting-started-keras.ipynb\">\n",
        "      <img src=\"https://cloud.google.com/ml-engine/images/colab-logo-32px.png\" alt=\"Colab logo\"> Run in Colab\n",
        "    </a>\n",
        "  </td>\n",
        "  <td>\n",
        "    <a href=\"https://github.com/GoogleCloudPlatform/cloudml-samples/blob/master/notebooks/tensorflow/getting-started-keras.ipynb\">\n",
        "      <img src=\"https://cloud.google.com/ml-engine/images/github-logo-32px.png\" alt=\"GitHub logo\">\n",
        "      View on GitHub\n",
        "    </a>\n",
        "  </td>\n",
        "</table>"
      ]
    },
    {
      "cell_type": "markdown",
      "metadata": {
        "deletable": true,
        "editable": true,
        "id": "hZzRVxNtH-zG"
      },
      "source": [
        "## Overview\n",
        "\n",
        "This tutorial shows how to train a neural network on AI Platform\n",
        "using the Keras sequential API and how to serve predictions from that\n",
        "model.\n",
        "\n",
        "Keras is a high-level API for building and training deep learning models.\n",
        "[tf.keras](https://www.tensorflow.org/guide/keras) is TensorFlow’s\n",
        "implementation of this API.\n",
        "\n",
        "The first two parts of the tutorial walk through training a model on Cloud\n",
        "AI Platform using prewritten Keras code, deploying the trained model to\n",
        "AI Platform, and serving online predictions from the deployed model.\n",
        "\n",
        "The last part of the tutorial digs into the training code used for this model and ensuring it's compatible with AI Platform. To learn more about building\n",
        "machine learning models in Keras more generally, read [TensorFlow's Keras\n",
        "tutorials](https://www.tensorflow.org/tutorials/keras)."
      ]
    },
    {
      "cell_type": "markdown",
      "metadata": {
        "deletable": true,
        "editable": true,
        "id": "iN69d4D9Flrh"
      },
      "source": [
        "### Dataset\n",
        "\n",
        "This tutorial uses the [United States Census Income\n",
        "Dataset](https://archive.ics.uci.edu/ml/datasets/census+income) provided by the\n",
        "[UC Irvine Machine Learning\n",
        "Repository](https://archive.ics.uci.edu/ml/index.php). This dataset contains\n",
        "information about people from a 1994 Census database, including age, education,\n",
        "marital status, occupation, and whether they make more than $50,000 a year."
      ]
    },
    {
      "cell_type": "markdown",
      "metadata": {
        "deletable": true,
        "editable": true,
        "id": "Su2qu-4CW-YH"
      },
      "source": [
        "### Objective\n",
        "\n",
        "The goal is to train a deep neural network (DNN) using Keras that predicts\n",
        "whether a person makes more than $50,000 a year (target label) based on other\n",
        "Census information about the person (features).\n",
        "\n",
        "This tutorial focuses more on using this model with AI Platform than on\n",
        "the design of the model itself. However, it's always important to think about\n",
        "potential problems and unintended consequences when building machine learning\n",
        "systems. See the [Machine Learning Crash Course exercise about\n",
        "fairness](https://developers.google.com/machine-learning/crash-course/fairness/programming-exercise)\n",
        "to learn about sources of bias in the Census dataset, as well as machine\n",
        "learning fairness more generally."
      ]
    },
    {
      "cell_type": "markdown",
      "metadata": {
        "deletable": true,
        "editable": true,
        "id": "i2qsxysTVc-l"
      },
      "source": [
        "# Start here\n",
        "### Setting up your GCP project\n",
        "\n",
        "**The following steps are required to start a new project. You currently have access to the FourthBrain Project, so step 1 and 2 are NOT applicable for now.**\n",
        "\n",
        "1. [Select or create a GCP project.](https://console.cloud.google.com/cloud-resource-manager)\n",
        "\n",
        "2. [Make sure that billing is enabled for your project.](https://cloud.google.com/billing/docs/how-to/modify-project). \n",
        "\n",
        "**For the Live assignment start from here.**\n",
        "\n",
        "3. [Enable the AI Platform (\"Cloud Machine Learning Engine\") and Compute Engine APIs.](https://console.cloud.google.com/flows/enableapi?apiid=ml.googleapis.com,compute_component)\n",
        "\n",
        "4. Enter your project ID in the cell below. Then run the  cell to make sure the\n",
        "Cloud SDK uses the right project for all the commands in this notebook. \n",
        "# **Dont change the settings below for Live assignment.**\n",
        "\n",
        "**Note**: Jupyter runs lines prefixed with `!` as shell commands, and it interpolates Python variables prefixed with `$` into these commands."
      ]
    },
    {
      "cell_type": "code",
      "metadata": {
        "deletable": true,
        "editable": true,
        "id": "4qxwBA4RM9Lu",
        "colab": {
          "base_uri": "https://localhost:8080/"
        },
        "outputId": "24d4d41f-e0a6-4b90-e226-685d3ea89af8"
      },
      "source": [
        "PROJECT_ID = \"fb-mle-march-21\" #@param {type:\"string\"}\n",
        "! gcloud config set project $PROJECT_ID"
      ],
      "execution_count": 2,
      "outputs": [
        {
          "output_type": "stream",
          "text": [
            "Updated property [core/project].\n"
          ],
          "name": "stdout"
        }
      ]
    },
    {
      "cell_type": "markdown",
      "metadata": {
        "deletable": true,
        "editable": true,
        "id": "TSy-f05IO4LB"
      },
      "source": [
        "### Authenticate your GCP account\n",
        "\n",
        "**If you are using AI Platform Notebooks**, your environment is already\n",
        "authenticated. Skip this step."
      ]
    },
    {
      "cell_type": "markdown",
      "metadata": {
        "deletable": true,
        "editable": true,
        "id": "fZQUrHdXNJnk"
      },
      "source": [
        "**If you are using Colab**, run the cell below and follow the instructions\n",
        "when prompted to authenticate your account via oAuth.\n",
        "\n"
      ]
    },
    {
      "cell_type": "code",
      "metadata": {
        "colab": {
          "base_uri": "https://localhost:8080/"
        },
        "id": "gIr048-DPUge",
        "outputId": "f51c21a9-5770-439a-f278-85beb7740711"
      },
      "source": [
        "from google.colab import drive\n",
        "drive.mount('/content/drive')\n",
        "import os\n"
      ],
      "execution_count": 3,
      "outputs": [
        {
          "output_type": "stream",
          "text": [
            "Mounted at /content/drive\n"
          ],
          "name": "stdout"
        }
      ]
    },
    {
      "cell_type": "code",
      "metadata": {
        "colab": {
          "base_uri": "https://localhost:8080/"
        },
        "id": "3Znf1aqUDRBP",
        "outputId": "d75dd7f7-44f5-4060-edb9-3408db11c5ff"
      },
      "source": [
        "# The path below should point to the directory containing this notebook and the associated utility files\n",
        "# Change it if necessary\n",
        "os.chdir('/content/drive/MyDrive/FourthBrain/Week13/Live')\n",
        "!ls"
      ],
      "execution_count": 4,
      "outputs": [
        {
          "output_type": "stream",
          "text": [
            "4B_AutoML_Deployment_on_GCP_v1.ipynb  train.csv\n"
          ],
          "name": "stdout"
        }
      ]
    },
    {
      "cell_type": "markdown",
      "metadata": {
        "deletable": true,
        "editable": true,
        "id": "tT061irlJwkg"
      },
      "source": [
        "### Create a Cloud Storage bucket\n",
        "\n",
        "**The following steps are required, regardless of your notebook environment.**\n",
        "https://cloud.google.com/storage/docs/creating-buckets#storage-create-bucket-console\n",
        "When you submit a training job using the Cloud SDK, you upload a Python package\n",
        "containing your training code to a Cloud Storage bucket. AI Platform runs\n",
        "the code from this package. In this tutorial, AI Platform also saves the\n",
        "trained model that results from your job in the same bucket. You can then\n",
        "create an AI Platform model version based on this output in order to serve\n",
        "online predictions.\n",
        "\n",
        "Set the name of your Cloud Storage bucket below. It must be unique across all\n",
        "Cloud Storage buckets. \n",
        "\n",
        "# Do Not change the settings below for Live Assignment!"
      ]
    },
    {
      "cell_type": "code",
      "metadata": {
        "deletable": true,
        "editable": true,
        "id": "bTxmbDg1I0x1"
      },
      "source": [
        "BUCKET_NAME = \"nooji-test-bucket\" #@param {type:\"string\"}\n",
        "REGION = \"us-east1\" #@param {type:\"string\"}"
      ],
      "execution_count": 6,
      "outputs": []
    },
    {
      "cell_type": "markdown",
      "metadata": {
        "deletable": true,
        "editable": true,
        "id": "fsmCk2dwJnLZ"
      },
      "source": [
        "# Task 1: Create your Cloud Storage bucket. https://cloud.google.com/storage/docs/creating-buckets\n",
        "\n",
        "## Give any name to your bitbucket. **Select Region as US-east 1.**\n",
        "Hit create. Once you run the command below, you should be able to see the bitbucket associated.\n"
      ]
    },
    {
      "cell_type": "code",
      "metadata": {
        "colab": {
          "base_uri": "https://localhost:8080/"
        },
        "id": "qxGTn3hqkdOy",
        "outputId": "fff0e82d-22d6-4dba-ab3f-25412a1551a3"
      },
      "source": [
        "#This will check connection and list the connected data bucket. Ensure Bitbucket created before this.\n",
        "from google.colab import auth\n",
        "auth.authenticate_user()\n",
        "project_id = PROJECT_ID\n",
        "!gcloud config set project {project_id}\n",
        "!gsutil ls"
      ],
      "execution_count": 7,
      "outputs": [
        {
          "output_type": "stream",
          "text": [
            "Updated property [core/project].\n",
            "gs://abgrtyu/\n",
            "gs://abhi1/\n",
            "gs://anthonyho/\n",
            "gs://artifacts.fb-mle-march-21.appspot.com/\n",
            "gs://automl-experiment-fourthbrain-alessiot/\n",
            "gs://automl-experiment-fourthbrain-daniel/\n",
            "gs://automl-experiment-fourthbrain-jt/\n",
            "gs://automl-experiment-fourthbrain-mm/\n",
            "gs://automl-experiment-fourthbrain-russell/\n",
            "gs://bernie/\n",
            "gs://ethan-lewis-4b-bucket/\n",
            "gs://fb-karsten-test/\n",
            "gs://fb-mle-march-21-jida/\n",
            "gs://fb-mle-march-21-tf2-models/\n",
            "gs://fb-mle-march-21.appspot.com/\n",
            "gs://jgiri-automl-experiment-fourthbrain/\n",
            "gs://kei_4b_bucket/\n",
            "gs://manny_glg/\n",
            "gs://mbaugh_4b_bucket0/\n",
            "gs://mikhail2/\n",
            "gs://misbah1/\n",
            "gs://moha_bucket_1/\n",
            "gs://nooji-test-bucket/\n",
            "gs://paulo-test-fb/\n",
            "gs://rsinghal/\n",
            "gs://samsung-oct/\n",
            "gs://shayansombol/\n",
            "gs://spatikaganesh/\n",
            "gs://staging.fb-mle-march-21.appspot.com/\n",
            "gs://us.artifacts.fb-mle-march-21.appspot.com/\n"
          ],
          "name": "stdout"
        }
      ]
    },
    {
      "cell_type": "markdown",
      "metadata": {
        "deletable": true,
        "editable": true,
        "id": "aRVMEU2Qshm4"
      },
      "source": [
        "## Part 1. Quickstart for training in AI Platform\n",
        "\n",
        "This section of the tutorial walks you through submitting a training job to Cloud\n",
        "AI Platform. This job runs sample code that uses Keras to train a deep neural\n",
        "network on the United States Census data. It outputs the trained model as a\n",
        "[TensorFlow SavedModel\n",
        "directory](https://www.tensorflow.org/guide/saved_model#save_and_restore_models)\n",
        "in your Cloud Storage bucket.\n",
        "\n",
        "**Details of pre-trained weights: cloudml-samples->tf-keras->trainer**"
      ]
    },
    {
      "cell_type": "markdown",
      "metadata": {
        "deletable": true,
        "editable": true,
        "id": "8zr6lj66UlMn"
      },
      "source": [
        "### Get training code and dependencies\n",
        "\n",
        "First, download the training code and change the notebook's working directory. The code and data get downloaded to your GDrive:"
      ]
    },
    {
      "cell_type": "code",
      "metadata": {
        "deletable": true,
        "editable": true,
        "id": "Icz22E69smnD",
        "colab": {
          "base_uri": "https://localhost:8080/"
        },
        "outputId": "000ae7ed-40d6-4e2f-995d-f971460653e6"
      },
      "source": [
        "# Clone the repository of AI Platform samples\n",
        "! git clone --depth 1 https://github.com/GoogleCloudPlatform/cloudml-samples\n",
        "\n",
        "# Set the working directory to the sample code directory\n",
        "%cd cloudml-samples/census/tf-keras"
      ],
      "execution_count": 8,
      "outputs": [
        {
          "output_type": "stream",
          "text": [
            "Cloning into 'cloudml-samples'...\n",
            "remote: Enumerating objects: 596, done.\u001b[K\n",
            "remote: Counting objects: 100% (596/596), done.\u001b[K\n",
            "remote: Compressing objects: 100% (461/461), done.\u001b[K\n",
            "remote: Total 596 (delta 163), reused 327 (delta 87), pack-reused 0\u001b[K\n",
            "Receiving objects: 100% (596/596), 23.26 MiB | 14.24 MiB/s, done.\n",
            "Resolving deltas: 100% (163/163), done.\n",
            "Checking out files: 100% (528/528), done.\n",
            "/content/drive/My Drive/FourthBrain/Week13/Live/cloudml-samples/census/tf-keras\n"
          ],
          "name": "stdout"
        }
      ]
    },
    {
      "cell_type": "markdown",
      "metadata": {
        "deletable": true,
        "editable": true,
        "id": "MhubJDDXSVv3"
      },
      "source": [
        "Notice that the training code is structured as a Python package in the\n",
        "`trainer/` subdirectory:"
      ]
    },
    {
      "cell_type": "code",
      "metadata": {
        "deletable": true,
        "editable": true,
        "id": "uZ_nfuPJlNpi",
        "colab": {
          "base_uri": "https://localhost:8080/"
        },
        "outputId": "a9a0814f-258c-4e94-dbf6-62cd7f796e32"
      },
      "source": [
        "# `ls` shows the working directory's contents. The `p` flag adds trailing \n",
        "# slashes to subdirectory names. The `R` flag lists subdirectories recursively.\n",
        "! ls -pR"
      ],
      "execution_count": 9,
      "outputs": [
        {
          "output_type": "stream",
          "text": [
            ".:\n",
            "hptuning_config.yaml  README.md  requirements.txt  scripts/  trainer/\n",
            "\n",
            "./scripts:\n",
            "train-local.sh\n",
            "\n",
            "./trainer:\n",
            "__init__.py  model.py  task.py\tutil.py\n"
          ],
          "name": "stdout"
        }
      ]
    },
    {
      "cell_type": "markdown",
      "metadata": {
        "deletable": true,
        "editable": true,
        "id": "7KA87o4HUhby"
      },
      "source": [
        "Run the following cell to install Python dependencies needed to train the model locally. When you run the training job in AI Platform,\n",
        "dependencies are preinstalled based on the [runtime\n",
        "version](https://cloud.google.com/ml-engine/docs/tensorflow/runtime-version-list)\n",
        "you choose."
      ]
    },
    {
      "cell_type": "code",
      "metadata": {
        "deletable": true,
        "editable": true,
        "id": "Wm5w1UrmVU7O",
        "colab": {
          "base_uri": "https://localhost:8080/"
        },
        "outputId": "159ca674-3931-43cd-b731-af350d28f501"
      },
      "source": [
        "! pip install -r requirements.txt"
      ],
      "execution_count": 10,
      "outputs": [
        {
          "output_type": "stream",
          "text": [
            "Requirement already satisfied: numpy>=1.14 in /usr/local/lib/python3.7/dist-packages (from -r requirements.txt (line 1)) (1.19.5)\n",
            "Requirement already satisfied: pandas>=0.22 in /usr/local/lib/python3.7/dist-packages (from -r requirements.txt (line 2)) (1.1.5)\n",
            "Requirement already satisfied: six>=1.11 in /usr/local/lib/python3.7/dist-packages (from -r requirements.txt (line 3)) (1.15.0)\n",
            "Collecting tensorflow<2,>=1.15\n",
            "\u001b[?25l  Downloading https://files.pythonhosted.org/packages/9a/51/99abd43185d94adaaaddf8f44a80c418a91977924a7bc39b8dacd0c495b0/tensorflow-1.15.5-cp37-cp37m-manylinux2010_x86_64.whl (110.5MB)\n",
            "\u001b[K     |████████████████████████████████| 110.5MB 79kB/s \n",
            "\u001b[?25hRequirement already satisfied: python-dateutil>=2.7.3 in /usr/local/lib/python3.7/dist-packages (from pandas>=0.22->-r requirements.txt (line 2)) (2.8.1)\n",
            "Requirement already satisfied: pytz>=2017.2 in /usr/local/lib/python3.7/dist-packages (from pandas>=0.22->-r requirements.txt (line 2)) (2018.9)\n",
            "Collecting gast==0.2.2\n",
            "  Downloading https://files.pythonhosted.org/packages/4e/35/11749bf99b2d4e3cceb4d55ca22590b0d7c2c62b9de38ac4a4a7f4687421/gast-0.2.2.tar.gz\n",
            "Requirement already satisfied: opt-einsum>=2.3.2 in /usr/local/lib/python3.7/dist-packages (from tensorflow<2,>=1.15->-r requirements.txt (line 4)) (3.3.0)\n",
            "Collecting tensorboard<1.16.0,>=1.15.0\n",
            "\u001b[?25l  Downloading https://files.pythonhosted.org/packages/1e/e9/d3d747a97f7188f48aa5eda486907f3b345cd409f0a0850468ba867db246/tensorboard-1.15.0-py3-none-any.whl (3.8MB)\n",
            "\u001b[K     |████████████████████████████████| 3.8MB 44.3MB/s \n",
            "\u001b[?25hRequirement already satisfied: termcolor>=1.1.0 in /usr/local/lib/python3.7/dist-packages (from tensorflow<2,>=1.15->-r requirements.txt (line 4)) (1.1.0)\n",
            "Requirement already satisfied: astor>=0.6.0 in /usr/local/lib/python3.7/dist-packages (from tensorflow<2,>=1.15->-r requirements.txt (line 4)) (0.8.1)\n",
            "Collecting h5py<=2.10.0\n",
            "\u001b[?25l  Downloading https://files.pythonhosted.org/packages/3f/c0/abde58b837e066bca19a3f7332d9d0493521d7dd6b48248451a9e3fe2214/h5py-2.10.0-cp37-cp37m-manylinux1_x86_64.whl (2.9MB)\n",
            "\u001b[K     |████████████████████████████████| 2.9MB 48.4MB/s \n",
            "\u001b[?25hRequirement already satisfied: protobuf>=3.6.1 in /usr/local/lib/python3.7/dist-packages (from tensorflow<2,>=1.15->-r requirements.txt (line 4)) (3.12.4)\n",
            "Requirement already satisfied: absl-py>=0.7.0 in /usr/local/lib/python3.7/dist-packages (from tensorflow<2,>=1.15->-r requirements.txt (line 4)) (0.12.0)\n",
            "Requirement already satisfied: keras-preprocessing>=1.0.5 in /usr/local/lib/python3.7/dist-packages (from tensorflow<2,>=1.15->-r requirements.txt (line 4)) (1.1.2)\n",
            "Requirement already satisfied: wrapt>=1.11.1 in /usr/local/lib/python3.7/dist-packages (from tensorflow<2,>=1.15->-r requirements.txt (line 4)) (1.12.1)\n",
            "Requirement already satisfied: grpcio>=1.8.6 in /usr/local/lib/python3.7/dist-packages (from tensorflow<2,>=1.15->-r requirements.txt (line 4)) (1.34.1)\n",
            "Collecting keras-applications>=1.0.8\n",
            "\u001b[?25l  Downloading https://files.pythonhosted.org/packages/71/e3/19762fdfc62877ae9102edf6342d71b28fbfd9dea3d2f96a882ce099b03f/Keras_Applications-1.0.8-py3-none-any.whl (50kB)\n",
            "\u001b[K     |████████████████████████████████| 51kB 7.0MB/s \n",
            "\u001b[?25hRequirement already satisfied: wheel>=0.26; python_version >= \"3\" in /usr/local/lib/python3.7/dist-packages (from tensorflow<2,>=1.15->-r requirements.txt (line 4)) (0.36.2)\n",
            "Requirement already satisfied: google-pasta>=0.1.6 in /usr/local/lib/python3.7/dist-packages (from tensorflow<2,>=1.15->-r requirements.txt (line 4)) (0.2.0)\n",
            "Collecting tensorflow-estimator==1.15.1\n",
            "\u001b[?25l  Downloading https://files.pythonhosted.org/packages/de/62/2ee9cd74c9fa2fa450877847ba560b260f5d0fb70ee0595203082dafcc9d/tensorflow_estimator-1.15.1-py2.py3-none-any.whl (503kB)\n",
            "\u001b[K     |████████████████████████████████| 512kB 48.4MB/s \n",
            "\u001b[?25hRequirement already satisfied: markdown>=2.6.8 in /usr/local/lib/python3.7/dist-packages (from tensorboard<1.16.0,>=1.15.0->tensorflow<2,>=1.15->-r requirements.txt (line 4)) (3.3.4)\n",
            "Requirement already satisfied: setuptools>=41.0.0 in /usr/local/lib/python3.7/dist-packages (from tensorboard<1.16.0,>=1.15.0->tensorflow<2,>=1.15->-r requirements.txt (line 4)) (57.0.0)\n",
            "Requirement already satisfied: werkzeug>=0.11.15 in /usr/local/lib/python3.7/dist-packages (from tensorboard<1.16.0,>=1.15.0->tensorflow<2,>=1.15->-r requirements.txt (line 4)) (1.0.1)\n",
            "Requirement already satisfied: importlib-metadata; python_version < \"3.8\" in /usr/local/lib/python3.7/dist-packages (from markdown>=2.6.8->tensorboard<1.16.0,>=1.15.0->tensorflow<2,>=1.15->-r requirements.txt (line 4)) (4.5.0)\n",
            "Requirement already satisfied: zipp>=0.5 in /usr/local/lib/python3.7/dist-packages (from importlib-metadata; python_version < \"3.8\"->markdown>=2.6.8->tensorboard<1.16.0,>=1.15.0->tensorflow<2,>=1.15->-r requirements.txt (line 4)) (3.4.1)\n",
            "Requirement already satisfied: typing-extensions>=3.6.4; python_version < \"3.8\" in /usr/local/lib/python3.7/dist-packages (from importlib-metadata; python_version < \"3.8\"->markdown>=2.6.8->tensorboard<1.16.0,>=1.15.0->tensorflow<2,>=1.15->-r requirements.txt (line 4)) (3.7.4.3)\n",
            "Building wheels for collected packages: gast\n",
            "  Building wheel for gast (setup.py) ... \u001b[?25l\u001b[?25hdone\n",
            "  Created wheel for gast: filename=gast-0.2.2-cp37-none-any.whl size=7557 sha256=7843840843cbdb942b187e47639daff58add1ab3dcc6fce7d764db554c245e21\n",
            "  Stored in directory: /root/.cache/pip/wheels/5c/2e/7e/a1d4d4fcebe6c381f378ce7743a3ced3699feb89bcfbdadadd\n",
            "Successfully built gast\n",
            "\u001b[31mERROR: tensorflow 1.15.5 has requirement numpy<1.19.0,>=1.16.0, but you'll have numpy 1.19.5 which is incompatible.\u001b[0m\n",
            "\u001b[31mERROR: tensorflow-probability 0.12.1 has requirement gast>=0.3.2, but you'll have gast 0.2.2 which is incompatible.\u001b[0m\n",
            "\u001b[31mERROR: kapre 0.3.5 has requirement tensorflow>=2.0.0, but you'll have tensorflow 1.15.5 which is incompatible.\u001b[0m\n",
            "Installing collected packages: gast, tensorboard, h5py, keras-applications, tensorflow-estimator, tensorflow\n",
            "  Found existing installation: gast 0.4.0\n",
            "    Uninstalling gast-0.4.0:\n",
            "      Successfully uninstalled gast-0.4.0\n",
            "  Found existing installation: tensorboard 2.5.0\n",
            "    Uninstalling tensorboard-2.5.0:\n",
            "      Successfully uninstalled tensorboard-2.5.0\n",
            "  Found existing installation: h5py 3.1.0\n",
            "    Uninstalling h5py-3.1.0:\n",
            "      Successfully uninstalled h5py-3.1.0\n",
            "  Found existing installation: tensorflow-estimator 2.5.0\n",
            "    Uninstalling tensorflow-estimator-2.5.0:\n",
            "      Successfully uninstalled tensorflow-estimator-2.5.0\n",
            "  Found existing installation: tensorflow 2.5.0\n",
            "    Uninstalling tensorflow-2.5.0:\n",
            "      Successfully uninstalled tensorflow-2.5.0\n",
            "Successfully installed gast-0.2.2 h5py-2.10.0 keras-applications-1.0.8 tensorboard-1.15.0 tensorflow-1.15.5 tensorflow-estimator-1.15.1\n"
          ],
          "name": "stdout"
        }
      ]
    },
    {
      "cell_type": "markdown",
      "metadata": {
        "deletable": true,
        "editable": true,
        "id": "iSrzwuchvcgv"
      },
      "source": [
        "### Train your model locally\n",
        "\n",
        "Before training on AI Platform, train the job locally to verify the file\n",
        "structure and packaging is correct.\n",
        "\n",
        "For a complex or resource-intensive job, you\n",
        "may want to train locally on a small sample of your dataset to verify your code.\n",
        "Then you can run the job on AI Platform to train on the whole dataset.\n",
        "\n",
        "This sample runs a relatively quick job on a small dataset, so the local\n",
        "training and the AI Platform job run the same code on the same data.\n",
        "\n",
        "Run the following cell to train a model locally:"
      ]
    },
    {
      "cell_type": "code",
      "metadata": {
        "deletable": true,
        "editable": true,
        "id": "D5PIljnYveDN",
        "colab": {
          "base_uri": "https://localhost:8080/"
        },
        "outputId": "795ec88e-8d39-4cb8-f780-d9fc71f3173e"
      },
      "source": [
        "# Explicitly tell `gcloud ai-platform local train` to use Python 3 \n",
        "! gcloud config set ml_engine/local_python $(which python3)\n",
        "\n",
        "# This is similar to `python -m trainer.task --job-dir local-training-output`\n",
        "# but it better replicates the AI Platform environment, especially for\n",
        "# distributed training (not applicable here).\n",
        "! gcloud ai-platform local train \\\n",
        "  --package-path trainer \\\n",
        "  --module-name trainer.task \\\n",
        "  --job-dir local-training-output"
      ],
      "execution_count": 11,
      "outputs": [
        {
          "output_type": "stream",
          "text": [
            "Updated property [ml_engine/local_python].\n",
            "WARNING:tensorflow:From /usr/local/lib/python3.7/dist-packages/tensorflow_core/python/keras/initializers.py:119: calling RandomUniform.__init__ (from tensorflow.python.ops.init_ops) with dtype is deprecated and will be removed in a future version.\n",
            "Instructions for updating:\n",
            "Call initializer instance with the dtype argument instead of passing it to the constructor\n",
            "WARNING:tensorflow:From /usr/local/lib/python3.7/dist-packages/tensorflow_core/python/ops/resource_variable_ops.py:1630: calling BaseResourceVariable.__init__ (from tensorflow.python.ops.resource_variable_ops) with constraint is deprecated and will be removed in a future version.\n",
            "Instructions for updating:\n",
            "If using Keras pass *_constraint arguments to layers.\n",
            "WARNING:tensorflow:From /usr/local/lib/python3.7/dist-packages/tensorflow_core/python/ops/nn_impl.py:183: where (from tensorflow.python.ops.array_ops) is deprecated and will be removed in a future version.\n",
            "Instructions for updating:\n",
            "Use tf.where in 2.0, which has the same broadcast rule as np.where\n",
            "2021-06-19 17:38:07.729110: I tensorflow/core/platform/cpu_feature_guard.cc:142] Your CPU supports instructions that this TensorFlow binary was not compiled to use: AVX2 AVX512F FMA\n",
            "2021-06-19 17:38:07.732869: I tensorflow/core/platform/profile_utils/cpu_utils.cc:94] CPU Frequency: 2000140000 Hz\n",
            "2021-06-19 17:38:07.733143: I tensorflow/compiler/xla/service/service.cc:168] XLA service 0x5558a4176840 initialized for platform Host (this does not guarantee that XLA will be used). Devices:\n",
            "2021-06-19 17:38:07.733191: I tensorflow/compiler/xla/service/service.cc:176]   StreamExecutor device (0): Host, Default Version\n",
            "Train on 254 steps, validate on 1 steps\n",
            "\n",
            "Epoch 00001: LearningRateScheduler reducing learning rate to 0.02.\n",
            "Epoch 1/20\n",
            "2021-06-19 17:38:08.412851: I tensorflow/core/profiler/lib/profiler_session.cc:205] Profiler session started.\n",
            "254/254 [==============================] - 1s 3ms/step - loss: 0.4781 - acc: 0.7876 - val_loss: 0.3579 - val_acc: 0.8278\n",
            "\n",
            "Epoch 00002: LearningRateScheduler reducing learning rate to 0.015.\n",
            "Epoch 2/20\n",
            "254/254 [==============================] - 1s 2ms/step - loss: 0.3527 - acc: 0.8380 - val_loss: 0.3535 - val_acc: 0.8395\n",
            "\n",
            "Epoch 00003: LearningRateScheduler reducing learning rate to 0.0125.\n",
            "Epoch 3/20\n",
            "254/254 [==============================] - 1s 2ms/step - loss: 0.3398 - acc: 0.8445 - val_loss: 0.3409 - val_acc: 0.8467\n",
            "\n",
            "Epoch 00004: LearningRateScheduler reducing learning rate to 0.01125.\n",
            "Epoch 4/20\n",
            "254/254 [==============================] - 1s 2ms/step - loss: 0.3356 - acc: 0.8452 - val_loss: 0.3291 - val_acc: 0.8476\n",
            "\n",
            "Epoch 00005: LearningRateScheduler reducing learning rate to 0.010625.\n",
            "Epoch 5/20\n",
            "254/254 [==============================] - 1s 2ms/step - loss: 0.3315 - acc: 0.8464 - val_loss: 0.3340 - val_acc: 0.8487\n",
            "\n",
            "Epoch 00006: LearningRateScheduler reducing learning rate to 0.0103125.\n",
            "Epoch 6/20\n",
            "254/254 [==============================] - 1s 2ms/step - loss: 0.3314 - acc: 0.8469 - val_loss: 0.3269 - val_acc: 0.8494\n",
            "\n",
            "Epoch 00007: LearningRateScheduler reducing learning rate to 0.01015625.\n",
            "Epoch 7/20\n",
            "254/254 [==============================] - 1s 2ms/step - loss: 0.3298 - acc: 0.8462 - val_loss: 0.3324 - val_acc: 0.8487\n",
            "\n",
            "Epoch 00008: LearningRateScheduler reducing learning rate to 0.010078125.\n",
            "Epoch 8/20\n",
            "254/254 [==============================] - 1s 2ms/step - loss: 0.3277 - acc: 0.8491 - val_loss: 0.3253 - val_acc: 0.8501\n",
            "\n",
            "Epoch 00009: LearningRateScheduler reducing learning rate to 0.0100390625.\n",
            "Epoch 9/20\n",
            "254/254 [==============================] - 1s 2ms/step - loss: 0.3291 - acc: 0.8490 - val_loss: 0.3317 - val_acc: 0.8501\n",
            "\n",
            "Epoch 00010: LearningRateScheduler reducing learning rate to 0.01001953125.\n",
            "Epoch 10/20\n",
            "254/254 [==============================] - 1s 2ms/step - loss: 0.3255 - acc: 0.8487 - val_loss: 0.3238 - val_acc: 0.8492\n",
            "\n",
            "Epoch 00011: LearningRateScheduler reducing learning rate to 0.010009765625.\n",
            "Epoch 11/20\n",
            "254/254 [==============================] - 1s 2ms/step - loss: 0.3251 - acc: 0.8489 - val_loss: 0.3219 - val_acc: 0.8470\n",
            "\n",
            "Epoch 00012: LearningRateScheduler reducing learning rate to 0.010004882812500001.\n",
            "Epoch 12/20\n",
            "254/254 [==============================] - 1s 2ms/step - loss: 0.3236 - acc: 0.8501 - val_loss: 0.3238 - val_acc: 0.8511\n",
            "\n",
            "Epoch 00013: LearningRateScheduler reducing learning rate to 0.01000244140625.\n",
            "Epoch 13/20\n",
            "254/254 [==============================] - 1s 2ms/step - loss: 0.3277 - acc: 0.8500 - val_loss: 0.3303 - val_acc: 0.8479\n",
            "\n",
            "Epoch 00014: LearningRateScheduler reducing learning rate to 0.010001220703125.\n",
            "Epoch 14/20\n",
            "254/254 [==============================] - 1s 2ms/step - loss: 0.3247 - acc: 0.8490 - val_loss: 0.3251 - val_acc: 0.8499\n",
            "\n",
            "Epoch 00015: LearningRateScheduler reducing learning rate to 0.0100006103515625.\n",
            "Epoch 15/20\n",
            "254/254 [==============================] - 1s 2ms/step - loss: 0.3235 - acc: 0.8509 - val_loss: 0.3422 - val_acc: 0.8513\n",
            "\n",
            "Epoch 00016: LearningRateScheduler reducing learning rate to 0.01000030517578125.\n",
            "Epoch 16/20\n",
            "254/254 [==============================] - 1s 2ms/step - loss: 0.3237 - acc: 0.8493 - val_loss: 0.3289 - val_acc: 0.8527\n",
            "\n",
            "Epoch 00017: LearningRateScheduler reducing learning rate to 0.010000152587890625.\n",
            "Epoch 17/20\n",
            "254/254 [==============================] - 1s 2ms/step - loss: 0.3233 - acc: 0.8512 - val_loss: 0.3275 - val_acc: 0.8491\n",
            "\n",
            "Epoch 00018: LearningRateScheduler reducing learning rate to 0.010000076293945313.\n",
            "Epoch 18/20\n",
            "254/254 [==============================] - 1s 2ms/step - loss: 0.3236 - acc: 0.8509 - val_loss: 0.3378 - val_acc: 0.8534\n",
            "\n",
            "Epoch 00019: LearningRateScheduler reducing learning rate to 0.010000038146972657.\n",
            "Epoch 19/20\n",
            "254/254 [==============================] - 1s 2ms/step - loss: 0.3221 - acc: 0.8519 - val_loss: 0.3204 - val_acc: 0.8515\n",
            "\n",
            "Epoch 00020: LearningRateScheduler reducing learning rate to 0.010000019073486329.\n",
            "Epoch 20/20\n",
            "254/254 [==============================] - 1s 2ms/step - loss: 0.3234 - acc: 0.8513 - val_loss: 0.3332 - val_acc: 0.8490\n",
            "WARNING:tensorflow:From /content/drive/My Drive/FourthBrain/Week13/Live/cloudml-samples/census/tf-keras/trainer/task.py:123: export_saved_model (from tensorflow.python.keras.saving.saved_model_experimental) is deprecated and will be removed in a future version.\n",
            "Instructions for updating:\n",
            "Please use `model.save(..., save_format=\"tf\")` or `tf.keras.models.save_model(..., save_format=\"tf\")`.\n",
            "WARNING:tensorflow:From /usr/local/lib/python3.7/dist-packages/tensorflow_core/python/ops/init_ops.py:97: calling Zeros.__init__ (from tensorflow.python.ops.init_ops) with dtype is deprecated and will be removed in a future version.\n",
            "Instructions for updating:\n",
            "Call initializer instance with the dtype argument instead of passing it to the constructor\n",
            "WARNING:tensorflow:From /usr/local/lib/python3.7/dist-packages/tensorflow_core/python/ops/init_ops.py:97: calling GlorotUniform.__init__ (from tensorflow.python.ops.init_ops) with dtype is deprecated and will be removed in a future version.\n",
            "Instructions for updating:\n",
            "Call initializer instance with the dtype argument instead of passing it to the constructor\n",
            "WARNING:tensorflow:From /usr/local/lib/python3.7/dist-packages/tensorflow_core/python/saved_model/signature_def_utils_impl.py:253: build_tensor_info (from tensorflow.python.saved_model.utils_impl) is deprecated and will be removed in a future version.\n",
            "Instructions for updating:\n",
            "This function will only be available through the v1 compatibility library as tf.compat.v1.saved_model.utils.build_tensor_info or tf.compat.v1.saved_model.build_tensor_info.\n",
            "INFO:tensorflow:Signatures INCLUDED in export for Classify: None\n",
            "INFO:tensorflow:Signatures INCLUDED in export for Regress: None\n",
            "INFO:tensorflow:Signatures INCLUDED in export for Predict: None\n",
            "INFO:tensorflow:Signatures INCLUDED in export for Train: ['train']\n",
            "INFO:tensorflow:Signatures INCLUDED in export for Eval: None\n",
            "WARNING:tensorflow:Export includes no default signature!\n",
            "INFO:tensorflow:No assets to save.\n",
            "INFO:tensorflow:No assets to write.\n",
            "INFO:tensorflow:Signatures INCLUDED in export for Classify: None\n",
            "INFO:tensorflow:Signatures INCLUDED in export for Regress: None\n",
            "INFO:tensorflow:Signatures INCLUDED in export for Predict: None\n",
            "INFO:tensorflow:Signatures INCLUDED in export for Train: None\n",
            "INFO:tensorflow:Signatures INCLUDED in export for Eval: ['eval']\n",
            "WARNING:tensorflow:Export includes no default signature!\n",
            "INFO:tensorflow:No assets to save.\n",
            "INFO:tensorflow:No assets to write.\n",
            "INFO:tensorflow:Signatures INCLUDED in export for Classify: None\n",
            "INFO:tensorflow:Signatures INCLUDED in export for Regress: None\n",
            "INFO:tensorflow:Signatures INCLUDED in export for Predict: ['serving_default']\n",
            "INFO:tensorflow:Signatures INCLUDED in export for Train: None\n",
            "INFO:tensorflow:Signatures INCLUDED in export for Eval: None\n",
            "INFO:tensorflow:No assets to save.\n",
            "INFO:tensorflow:No assets to write.\n",
            "INFO:tensorflow:SavedModel written to: local-training-output/keras_export/saved_model.pb\n",
            "Model exported to: local-training-output/keras_export\n",
            "WARNING:tensorflow:Unresolved object in checkpoint: (root).optimizer.decay\n",
            "WARNING:tensorflow:Unresolved object in checkpoint: (root).optimizer.learning_rate\n",
            "WARNING:tensorflow:Unresolved object in checkpoint: (root).optimizer.momentum\n",
            "WARNING:tensorflow:Unresolved object in checkpoint: (root).optimizer.rho\n",
            "WARNING:tensorflow:Unresolved object in checkpoint: (root).optimizer's state 'rms' for (root).layer_with_weights-0.kernel\n",
            "WARNING:tensorflow:Unresolved object in checkpoint: (root).optimizer's state 'rms' for (root).layer_with_weights-0.bias\n",
            "WARNING:tensorflow:Unresolved object in checkpoint: (root).optimizer's state 'rms' for (root).layer_with_weights-1.kernel\n",
            "WARNING:tensorflow:Unresolved object in checkpoint: (root).optimizer's state 'rms' for (root).layer_with_weights-1.bias\n",
            "WARNING:tensorflow:Unresolved object in checkpoint: (root).optimizer's state 'rms' for (root).layer_with_weights-2.kernel\n",
            "WARNING:tensorflow:Unresolved object in checkpoint: (root).optimizer's state 'rms' for (root).layer_with_weights-2.bias\n",
            "WARNING:tensorflow:Unresolved object in checkpoint: (root).optimizer's state 'rms' for (root).layer_with_weights-3.kernel\n",
            "WARNING:tensorflow:Unresolved object in checkpoint: (root).optimizer's state 'rms' for (root).layer_with_weights-3.bias\n",
            "WARNING:tensorflow:Unresolved object in checkpoint: (root).optimizer's state 'rms' for (root).layer_with_weights-4.kernel\n",
            "WARNING:tensorflow:Unresolved object in checkpoint: (root).optimizer's state 'rms' for (root).layer_with_weights-4.bias\n",
            "WARNING:tensorflow:A checkpoint was restored (e.g. tf.train.Checkpoint.restore or tf.keras.Model.load_weights) but not all checkpointed values were used. See above for specific issues. Use expect_partial() on the load status object, e.g. tf.train.Checkpoint.restore(...).expect_partial(), to silence these warnings, or use assert_consumed() to make the check explicit. See https://www.tensorflow.org/alpha/guide/checkpoints#loading_mechanics for details.\n",
            "WARNING:tensorflow:Unresolved object in checkpoint: (root).optimizer\n",
            "WARNING:tensorflow:Unresolved object in checkpoint: (root).optimizer.iter\n",
            "WARNING:tensorflow:Unresolved object in checkpoint: (root).optimizer.decay\n",
            "WARNING:tensorflow:Unresolved object in checkpoint: (root).optimizer.learning_rate\n",
            "WARNING:tensorflow:Unresolved object in checkpoint: (root).optimizer.momentum\n",
            "WARNING:tensorflow:Unresolved object in checkpoint: (root).optimizer.rho\n",
            "WARNING:tensorflow:Unresolved object in checkpoint: (root).optimizer's state 'rms' for (root).layer_with_weights-0.kernel\n",
            "WARNING:tensorflow:Unresolved object in checkpoint: (root).optimizer's state 'rms' for (root).layer_with_weights-0.bias\n",
            "WARNING:tensorflow:Unresolved object in checkpoint: (root).optimizer's state 'rms' for (root).layer_with_weights-1.kernel\n",
            "WARNING:tensorflow:Unresolved object in checkpoint: (root).optimizer's state 'rms' for (root).layer_with_weights-1.bias\n",
            "WARNING:tensorflow:Unresolved object in checkpoint: (root).optimizer's state 'rms' for (root).layer_with_weights-2.kernel\n",
            "WARNING:tensorflow:Unresolved object in checkpoint: (root).optimizer's state 'rms' for (root).layer_with_weights-2.bias\n",
            "WARNING:tensorflow:Unresolved object in checkpoint: (root).optimizer's state 'rms' for (root).layer_with_weights-3.kernel\n",
            "WARNING:tensorflow:Unresolved object in checkpoint: (root).optimizer's state 'rms' for (root).layer_with_weights-3.bias\n",
            "WARNING:tensorflow:Unresolved object in checkpoint: (root).optimizer's state 'rms' for (root).layer_with_weights-4.kernel\n",
            "WARNING:tensorflow:Unresolved object in checkpoint: (root).optimizer's state 'rms' for (root).layer_with_weights-4.bias\n",
            "WARNING:tensorflow:A checkpoint was restored (e.g. tf.train.Checkpoint.restore or tf.keras.Model.load_weights) but not all checkpointed values were used. See above for specific issues. Use expect_partial() on the load status object, e.g. tf.train.Checkpoint.restore(...).expect_partial(), to silence these warnings, or use assert_consumed() to make the check explicit. See https://www.tensorflow.org/alpha/guide/checkpoints#loading_mechanics for details.\n"
          ],
          "name": "stdout"
        }
      ]
    },
    {
      "cell_type": "markdown",
      "metadata": {
        "deletable": true,
        "editable": true,
        "id": "rAX4hZip53SR"
      },
      "source": [
        "### Train your model using AI Platform\n",
        "\n",
        "Next, submit a training job to AI Platform. This runs the training module\n",
        "in the cloud and exports the trained model to Cloud Storage.\n",
        "\n",
        "First, give your training job a name and choose a directory within your Cloud\n",
        "Storage bucket for saving intermediate and output files:"
      ]
    },
    {
      "cell_type": "code",
      "metadata": {
        "deletable": true,
        "editable": true,
        "id": "05lDch9-0-2v",
        "colab": {
          "base_uri": "https://localhost:8080/"
        },
        "outputId": "b3300b8c-d129-47e3-d11f-8591a25f2421"
      },
      "source": [
        "####ENTER HERE#############################################\n",
        "JOB_NAME = 'nooji_4B_keras_job' #Pick any name <Lastname_4B_keras_job>\n",
        "JOB_DIR = 'gs://' + BUCKET_NAME + '/keras-job-dir'\n",
        "print(JOB_DIR)"
      ],
      "execution_count": 12,
      "outputs": [
        {
          "output_type": "stream",
          "text": [
            "gs://nooji-test-bucket/keras-job-dir\n"
          ],
          "name": "stdout"
        }
      ]
    },
    {
      "cell_type": "markdown",
      "metadata": {
        "deletable": true,
        "editable": true,
        "id": "yp9nyrZ01a2q"
      },
      "source": [
        "Run the following command to package the `trainer/` directory, upload it to the\n",
        "specified `--job-dir`, and instruct AI Platform to run the\n",
        "`trainer.task` module from that package.\n",
        "\n",
        "The `--stream-logs` flag lets you view training logs in the cell below. You can\n",
        "also see logs and other job details in the GCP Console."
      ]
    },
    {
      "cell_type": "markdown",
      "metadata": {
        "id": "J2WGqwAzc3xM"
      },
      "source": [
        "### Hyperparameter tuning\n",
        "## (This process will take the most time)!!!\n",
        "\n",
        "You can optionally perform hyperparameter tuning by using the included\n",
        "`hptuning_config.yaml` configuration file. This file tells AI Platform to tune the batch size and learning rate for training over multiple trials to maximize accuracy.\n",
        "\n",
        "In this example, the training code uses a [TensorBoard\n",
        "callback](https://www.tensorflow.org/api_docs/python/tf/keras/callbacks/TensorBoard),\n",
        "which [creates TensorFlow `Summary`\n",
        "`Event`s](https://www.tensorflow.org/api_docs/python/tf/summary/FileWriter#add_summary)\n",
        "during training. AI Platform uses these events to track the metric you want to\n",
        "optimize. Learn more about [hyperparameter tuning in\n",
        "AI Platform Training](https://cloud.google.com/ml-engine/docs/tensorflow/hyperparameter-tuning-overview).\n",
        "\n",
        "# While you wait for this step to complete, you can check on GCP console that you job is running!"
      ]
    },
    {
      "cell_type": "code",
      "metadata": {
        "deletable": true,
        "editable": true,
        "id": "1haRe54v53CN",
        "colab": {
          "base_uri": "https://localhost:8080/"
        },
        "outputId": "bd74e3ec-313e-4fa5-9ceb-2e63c3fef218"
      },
      "source": [
        "! gcloud ai-platform jobs submit training $JOB_NAME \\\n",
        "  --package-path trainer/ \\\n",
        "  --module-name trainer.task \\\n",
        "  --region $REGION \\\n",
        "  --python-version 3.7 \\\n",
        "  --runtime-version 1.15 \\\n",
        "  --job-dir $JOB_DIR \\\n",
        "  --stream-logs"
      ],
      "execution_count": 13,
      "outputs": [
        {
          "output_type": "stream",
          "text": [
            "Job [nooji_4B_keras_job] submitted successfully.\n",
            "INFO\t2021-06-19 17:41:45 +0000\tservice\t\tValidating job requirements...\n",
            "INFO\t2021-06-19 17:41:45 +0000\tservice\t\tJob creation request has been successfully validated.\n",
            "INFO\t2021-06-19 17:41:45 +0000\tservice\t\tWaiting for job to be provisioned.\n",
            "INFO\t2021-06-19 17:41:46 +0000\tservice\t\tJob nooji_4B_keras_job is queued.\n",
            "INFO\t2021-06-19 17:41:48 +0000\tservice\t\tWaiting for training program to start.\n",
            "INFO\t2021-06-19 17:42:15 +0000\tmaster-replica-0\t\tUsing mount point: /gcs\n",
            "NOTICE\t2021-06-19 17:42:15 +0000\tmaster-replica-0\t\tOpening GCS connection...\n",
            "INFO\t2021-06-19 17:42:15 +0000\tmaster-replica-0\t\tSet up root directory for all accessible buckets\n",
            "NOTICE\t2021-06-19 17:42:15 +0000\tmaster-replica-0\t\tMounting file system \"gcsfuse\"...\n",
            "NOTICE\t2021-06-19 17:42:15 +0000\tmaster-replica-0\t\tFile system has been successfully mounted.\n",
            "INFO\t2021-06-19 17:42:17 +0000\tmaster-replica-0\t\tRunning task with arguments: --cluster={\"master\": [\"127.0.0.1:2222\"]} --task={\"type\": \"master\", \"index\": 0} --job={  \"package_uris\": [\"gs://nooji-test-bucket/keras-job-dir/packages/6b4226c9be10daf2e1b7eb7c238ba18ece4f289ff8e497988e7b4b1e9e226621/trainer-0.0.0.tar.gz\"],  \"python_module\": \"trainer.task\",  \"region\": \"us-east1\",  \"runtime_version\": \"1.15\",  \"job_dir\": \"gs://nooji-test-bucket/keras-job-dir\",  \"run_on_raw_vm\": true,  \"python_version\": \"3.7\"}\n",
            "WARNING\t2021-06-19 17:42:25 +0000\tmaster-replica-0\t\tFrom /runcloudml.py:698: The name tf.ConfigProto is deprecated. Please use tf.compat.v1.ConfigProto instead.\n",
            "WARNING\t2021-06-19 17:42:25 +0000\tmaster-replica-0\t\tFrom /runcloudml.py:699: The name tf.GraphOptions is deprecated. Please use tf.compat.v1.GraphOptions instead.\n",
            "WARNING\t2021-06-19 17:42:25 +0000\tmaster-replica-0\t\tFrom /runcloudml.py:700: The name tf.OptimizerOptions is deprecated. Please use tf.compat.v1.OptimizerOptions instead.\n",
            "WARNING\t2021-06-19 17:42:25 +0000\tmaster-replica-0\t\tFrom /runcloudml.py:703: The name tf.Session is deprecated. Please use tf.compat.v1.Session instead.\n",
            "WARNING\t2021-06-19 17:42:25 +0000\tmaster-replica-0\t\tFrom /runcloudml.py:704: The name tf.global_variables_initializer is deprecated. Please use tf.compat.v1.global_variables_initializer instead.\n",
            "INFO\t2021-06-19 17:42:29 +0000\tmaster-replica-0\t\tRunning module trainer.task.\n",
            "INFO\t2021-06-19 17:42:29 +0000\tmaster-replica-0\t\tDownloading the package: gs://nooji-test-bucket/keras-job-dir/packages/6b4226c9be10daf2e1b7eb7c238ba18ece4f289ff8e497988e7b4b1e9e226621/trainer-0.0.0.tar.gz\n",
            "INFO\t2021-06-19 17:42:29 +0000\tmaster-replica-0\t\tRunning command: gsutil -q cp gs://nooji-test-bucket/keras-job-dir/packages/6b4226c9be10daf2e1b7eb7c238ba18ece4f289ff8e497988e7b4b1e9e226621/trainer-0.0.0.tar.gz trainer-0.0.0.tar.gz\n",
            "INFO\t2021-06-19 17:42:30 +0000\tmaster-replica-0\t\tInstalling the package: gs://nooji-test-bucket/keras-job-dir/packages/6b4226c9be10daf2e1b7eb7c238ba18ece4f289ff8e497988e7b4b1e9e226621/trainer-0.0.0.tar.gz\n",
            "INFO\t2021-06-19 17:42:30 +0000\tmaster-replica-0\t\tRunning command: pip3 install --user --upgrade --force-reinstall --no-deps trainer-0.0.0.tar.gz\n",
            "INFO\t2021-06-19 17:42:31 +0000\tmaster-replica-0\t\tProcessing ./trainer-0.0.0.tar.gz\n",
            "INFO\t2021-06-19 17:42:31 +0000\tmaster-replica-0\t\tGenerating grammar tables from /usr/lib/python3.7/lib2to3/Grammar.txt\n",
            "INFO\t2021-06-19 17:42:31 +0000\tmaster-replica-0\t\tGenerating grammar tables from /usr/lib/python3.7/lib2to3/PatternGrammar.txt\n",
            "INFO\t2021-06-19 17:42:31 +0000\tmaster-replica-0\t\tBuilding wheels for collected packages: trainer\n",
            "INFO\t2021-06-19 17:42:31 +0000\tmaster-replica-0\t\t  Building wheel for trainer (setup.py): started\n",
            "INFO\t2021-06-19 17:42:32 +0000\tmaster-replica-0\t\tGenerating grammar tables from /usr/lib/python3.7/lib2to3/Grammar.txt\n",
            "INFO\t2021-06-19 17:42:32 +0000\tmaster-replica-0\t\tGenerating grammar tables from /usr/lib/python3.7/lib2to3/PatternGrammar.txt\n",
            "INFO\t2021-06-19 17:42:32 +0000\tmaster-replica-0\t\t  Building wheel for trainer (setup.py): finished with status 'done'\n",
            "INFO\t2021-06-19 17:42:32 +0000\tmaster-replica-0\t\t  Created wheel for trainer: filename=trainer-0.0.0-py3-none-any.whl size=7893 sha256=41c7e79bae5414546c6541f0f501711f25a9c150e53d7bfc47ac2e9796696d50\n",
            "INFO\t2021-06-19 17:42:32 +0000\tmaster-replica-0\t\t  Stored in directory: /root/.cache/pip/wheels/23/ad/57/8e99a4eeb034edca80b0624cb205859d79e985819276530408\n",
            "INFO\t2021-06-19 17:42:32 +0000\tmaster-replica-0\t\tSuccessfully built trainer\n",
            "INFO\t2021-06-19 17:42:32 +0000\tmaster-replica-0\t\tInstalling collected packages: trainer\n",
            "INFO\t2021-06-19 17:42:32 +0000\tmaster-replica-0\t\tSuccessfully installed trainer-0.0.0\n",
            "ERROR\t2021-06-19 17:42:32 +0000\tmaster-replica-0\t\tWARNING: You are using pip version 20.1; however, version 21.1.2 is available.\n",
            "ERROR\t2021-06-19 17:42:32 +0000\tmaster-replica-0\t\tYou should consider upgrading via the '/usr/local/bin/python3 -m pip install --upgrade pip' command.\n",
            "INFO\t2021-06-19 17:42:32 +0000\tmaster-replica-0\t\tRunning command: pip3 install --user trainer-0.0.0.tar.gz\n",
            "INFO\t2021-06-19 17:42:33 +0000\tmaster-replica-0\t\tProcessing ./trainer-0.0.0.tar.gz\n",
            "INFO\t2021-06-19 17:42:33 +0000\tmaster-replica-0\t\tGenerating grammar tables from /usr/lib/python3.7/lib2to3/Grammar.txt\n",
            "INFO\t2021-06-19 17:42:33 +0000\tmaster-replica-0\t\tGenerating grammar tables from /usr/lib/python3.7/lib2to3/PatternGrammar.txt\n",
            "INFO\t2021-06-19 17:42:33 +0000\tmaster-replica-0\t\tBuilding wheels for collected packages: trainer\n",
            "INFO\t2021-06-19 17:42:33 +0000\tmaster-replica-0\t\t  Building wheel for trainer (setup.py): started\n",
            "INFO\t2021-06-19 17:42:33 +0000\tmaster-replica-0\t\tGenerating grammar tables from /usr/lib/python3.7/lib2to3/Grammar.txt\n",
            "INFO\t2021-06-19 17:42:33 +0000\tmaster-replica-0\t\tGenerating grammar tables from /usr/lib/python3.7/lib2to3/PatternGrammar.txt\n",
            "INFO\t2021-06-19 17:42:33 +0000\tmaster-replica-0\t\t  Building wheel for trainer (setup.py): finished with status 'done'\n",
            "INFO\t2021-06-19 17:42:33 +0000\tmaster-replica-0\t\t  Created wheel for trainer: filename=trainer-0.0.0-py3-none-any.whl size=7893 sha256=41c7e79bae5414546c6541f0f501711f25a9c150e53d7bfc47ac2e9796696d50\n",
            "INFO\t2021-06-19 17:42:33 +0000\tmaster-replica-0\t\t  Stored in directory: /root/.cache/pip/wheels/23/ad/57/8e99a4eeb034edca80b0624cb205859d79e985819276530408\n",
            "INFO\t2021-06-19 17:42:33 +0000\tmaster-replica-0\t\tSuccessfully built trainer\n",
            "INFO\t2021-06-19 17:42:34 +0000\tmaster-replica-0\t\tInstalling collected packages: trainer\n",
            "INFO\t2021-06-19 17:42:34 +0000\tmaster-replica-0\t\t  Attempting uninstall: trainer\n",
            "INFO\t2021-06-19 17:42:34 +0000\tmaster-replica-0\t\t    Found existing installation: trainer 0.0.0\n",
            "INFO\t2021-06-19 17:42:34 +0000\tmaster-replica-0\t\t    Uninstalling trainer-0.0.0:\n",
            "INFO\t2021-06-19 17:42:34 +0000\tmaster-replica-0\t\t      Successfully uninstalled trainer-0.0.0\n",
            "INFO\t2021-06-19 17:42:34 +0000\tmaster-replica-0\t\tSuccessfully installed trainer-0.0.0\n",
            "ERROR\t2021-06-19 17:42:34 +0000\tmaster-replica-0\t\tWARNING: You are using pip version 20.1; however, version 21.1.2 is available.\n",
            "ERROR\t2021-06-19 17:42:34 +0000\tmaster-replica-0\t\tYou should consider upgrading via the '/usr/local/bin/python3 -m pip install --upgrade pip' command.\n",
            "INFO\t2021-06-19 17:42:34 +0000\tmaster-replica-0\t\tRunning command: python3 -m trainer.task --job-dir gs://nooji-test-bucket/keras-job-dir\n",
            "WARNING\t2021-06-19 17:42:37 +0000\tmaster-replica-0\t\tFrom /usr/local/lib/python3.7/dist-packages/tensorflow_core/python/keras/initializers.py:119: calling RandomUniform.__init__ (from tensorflow.python.ops.init_ops) with dtype is deprecated and will be removed in a future version.\n",
            "WARNING\t2021-06-19 17:42:37 +0000\tmaster-replica-0\t\tInstructions for updating:\n",
            "WARNING\t2021-06-19 17:42:37 +0000\tmaster-replica-0\t\tCall initializer instance with the dtype argument instead of passing it to the constructor\n",
            "WARNING\t2021-06-19 17:42:37 +0000\tmaster-replica-0\t\tFrom /usr/local/lib/python3.7/dist-packages/tensorflow_core/python/ops/resource_variable_ops.py:1630: calling BaseResourceVariable.__init__ (from tensorflow.python.ops.resource_variable_ops) with constraint is deprecated and will be removed in a future version.\n",
            "WARNING\t2021-06-19 17:42:37 +0000\tmaster-replica-0\t\tInstructions for updating:\n",
            "WARNING\t2021-06-19 17:42:37 +0000\tmaster-replica-0\t\tIf using Keras pass *_constraint arguments to layers.\n",
            "WARNING\t2021-06-19 17:42:37 +0000\tmaster-replica-0\t\tFrom /usr/local/lib/python3.7/dist-packages/tensorflow_core/python/ops/nn_impl.py:183: where (from tensorflow.python.ops.array_ops) is deprecated and will be removed in a future version.\n",
            "WARNING\t2021-06-19 17:42:37 +0000\tmaster-replica-0\t\tInstructions for updating:\n",
            "WARNING\t2021-06-19 17:42:37 +0000\tmaster-replica-0\t\tUse tf.where in 2.0, which has the same broadcast rule as np.where\n",
            "WARNING\t2021-06-19 17:42:37 +0000\tmaster-replica-0\t\tOMP_NUM_THREADS is no longer used by the default Keras config. To configure the number of threads, use tf.config.threading APIs.\n",
            "INFO\t2021-06-19 17:42:37 +0000\tmaster-replica-0\t\tYour CPU supports instructions that this TensorFlow binary was not compiled to use: AVX2 FMA\n",
            "INFO\t2021-06-19 17:42:37 +0000\tmaster-replica-0\t\tCPU Frequency: 2299995000 Hz\n",
            "INFO\t2021-06-19 17:42:37 +0000\tmaster-replica-0\t\tXLA service 0x5621af0 initialized for platform Host (this does not guarantee that XLA will be used). Devices:\n",
            "INFO\t2021-06-19 17:42:37 +0000\tmaster-replica-0\t\t  StreamExecutor device (0): Host, Default Version\n",
            "INFO\t2021-06-19 17:42:38 +0000\tmaster-replica-0\t\tProfiler session started.\n",
            "INFO\t2021-06-19 17:42:38 +0000\tmaster-replica-0\t\tTrain on 254 steps, validate on 1 steps\n",
            "INFO\t2021-06-19 17:42:38 +0000\tmaster-replica-0\t\tEpoch 00001: LearningRateScheduler reducing learning rate to 0.02.\n",
            "INFO\t2021-06-19 17:42:38 +0000\tmaster-replica-0\t\tEpoch 1/20\n",
            "WARNING\t2021-06-19 17:42:40 +0000\tmaster-replica-0\t\tMethod (on_train_batch_end) is slow compared to the batch update (0.716349). Check your callbacks.\n",
            "INFO\t2021-06-19 17:42:40 +0000\tmaster-replica-0\t\t  1/254 [..............................] - ETA: 53s - loss: 0.6071 - acc: 0.7188\b\b\b\b\b\b\b\b\b\b\b\b\b\b\b\b\b\b\b\b\b\b\b\b\b\b\b\b\b\b\b\b\b\b\b\b\b\b\b\b\b\b\b\b\b\b\b\b\b\b\b\b\b\b\b\b\b\b\b\b\b\b\b\b\b\b\b\b\b\b\b\b\b\b\b\b\b\b\b\b\n",
            "INFO\t2021-06-19 17:42:40 +0000\tmaster-replica-0\t\t  2/254 [..............................] - ETA: 3:27 - loss: 7.2859 - acc: 0.4922\b\b\b\b\b\b\b\b\b\b\b\b\b\b\b\b\b\b\b\b\b\b\b\b\b\b\b\b\b\b\b\b\b\b\b\b\b\b\b\b\b\b\b\b\b\b\b\b\b\b\b\b\b\b\b\b\b\b\b\b\b\b\b\b\b\b\b\b\b\b\b\b\b\b\b\b\b\b\b\b\b\n",
            "INFO\t2021-06-19 17:42:40 +0000\tmaster-replica-0\t\t 22/254 [=>............................] - ETA: 17s - loss: 1.2516 - acc: 0.6637 \b\b\b\b\b\b\b\b\b\b\b\b\b\b\b\b\b\b\b\b\b\b\b\b\b\b\b\b\b\b\b\b\b\b\b\b\b\b\b\b\b\b\b\b\b\b\b\b\b\b\b\b\b\b\b\b\b\b\b\b\b\b\b\b\b\b\b\b\b\b\b\b\b\b\b\b\b\b\b\b\n",
            "INFO\t2021-06-19 17:42:40 +0000\tmaster-replica-0\t\t 41/254 [===>..........................] - ETA: 9s - loss: 0.9090 - acc: 0.7066 \b\b\b\b\b\b\b\b\b\b\b\b\b\b\b\b\b\b\b\b\b\b\b\b\b\b\b\b\b\b\b\b\b\b\b\b\b\b\b\b\b\b\b\b\b\b\b\b\b\b\b\b\b\b\b\b\b\b\b\b\b\b\b\b\b\b\b\b\b\b\b\b\b\b\b\b\b\b\b\n",
            "INFO\t2021-06-19 17:42:40 +0000\tmaster-replica-0\t\t 61/254 [======>.......................] - ETA: 5s - loss: 0.7591 - acc: 0.7380\b\b\b\b\b\b\b\b\b\b\b\b\b\b\b\b\b\b\b\b\b\b\b\b\b\b\b\b\b\b\b\b\b\b\b\b\b\b\b\b\b\b\b\b\b\b\b\b\b\b\b\b\b\b\b\b\b\b\b\b\b\b\b\b\b\b\b\b\b\b\b\b\b\b\b\b\b\b\b\n",
            "INFO\t2021-06-19 17:42:40 +0000\tmaster-replica-0\t\t 78/254 [========>.....................] - ETA: 4s - loss: 0.6896 - acc: 0.7501\b\b\b\b\b\b\b\b\b\b\b\b\b\b\b\b\b\b\b\b\b\b\b\b\b\b\b\b\b\b\b\b\b\b\b\b\b\b\b\b\b\b\b\b\b\b\b\b\b\b\b\b\b\b\b\b\b\b\b\b\b\b\b\b\b\b\b\b\b\b\b\b\b\b\b\b\b\b\b\n",
            "INFO\t2021-06-19 17:42:40 +0000\tmaster-replica-0\t\t 98/254 [==========>...................] - ETA: 3s - loss: 0.6401 - acc: 0.7585\b\b\b\b\b\b\b\b\b\b\b\b\b\b\b\b\b\b\b\b\b\b\b\b\b\b\b\b\b\b\b\b\b\b\b\b\b\b\b\b\b\b\b\b\b\b\b\b\b\b\b\b\b\b\b\b\b\b\b\b\b\b\b\b\b\b\b\b\b\b\b\b\b\b\b\b\b\b\b\n",
            "INFO\t2021-06-19 17:42:40 +0000\tmaster-replica-0\t\t118/254 [============>.................] - ETA: 2s - loss: 0.6048 - acc: 0.7666\b\b\b\b\b\b\b\b\b\b\b\b\b\b\b\b\b\b\b\b\b\b\b\b\b\b\b\b\b\b\b\b\b\b\b\b\b\b\b\b\b\b\b\b\b\b\b\b\b\b\b\b\b\b\b\b\b\b\b\b\b\b\b\b\b\b\b\b\b\b\b\b\b\b\b\b\b\b\b\n",
            "INFO\t2021-06-19 17:42:40 +0000\tmaster-replica-0\t\t138/254 [===============>..............] - ETA: 1s - loss: 0.5806 - acc: 0.7712\b\b\b\b\b\b\b\b\b\b\b\b\b\b\b\b\b\b\b\b\b\b\b\b\b\b\b\b\b\b\b\b\b\b\b\b\b\b\b\b\b\b\b\b\b\b\b\b\b\b\b\b\b\b\b\b\b\b\b\b\b\b\b\b\b\b\b\b\b\b\b\b\b\b\b\b\b\b\b\n",
            "INFO\t2021-06-19 17:42:40 +0000\tmaster-replica-0\t\t157/254 [=================>............] - ETA: 1s - loss: 0.5605 - acc: 0.7769\b\b\b\b\b\b\b\b\b\b\b\b\b\b\b\b\b\b\b\b\b\b\b\b\b\b\b\b\b\b\b\b\b\b\b\b\b\b\b\b\b\b\b\b\b\b\b\b\b\b\b\b\b\b\b\b\b\b\b\b\b\b\b\b\b\b\b\b\b\b\b\b\b\b\b\b\b\b\b\n",
            "INFO\t2021-06-19 17:42:40 +0000\tmaster-replica-0\t\t175/254 [===================>..........] - ETA: 0s - loss: 0.5443 - acc: 0.7810\b\b\b\b\b\b\b\b\b\b\b\b\b\b\b\b\b\b\b\b\b\b\b\b\b\b\b\b\b\b\b\b\b\b\b\b\b\b\b\b\b\b\b\b\b\b\b\b\b\b\b\b\b\b\b\b\b\b\b\b\b\b\b\b\b\b\b\b\b\b\b\b\b\b\b\b\b\b\b\n",
            "INFO\t2021-06-19 17:42:40 +0000\tmaster-replica-0\t\t195/254 [======================>.......] - ETA: 0s - loss: 0.5331 - acc: 0.7830\b\b\b\b\b\b\b\b\b\b\b\b\b\b\b\b\b\b\b\b\b\b\b\b\b\b\b\b\b\b\b\b\b\b\b\b\b\b\b\b\b\b\b\b\b\b\b\b\b\b\b\b\b\b\b\b\b\b\b\b\b\b\b\b\b\b\b\b\b\b\b\b\b\b\b\b\b\b\b\n",
            "INFO\t2021-06-19 17:42:41 +0000\tmaster-replica-0\t\t215/254 [========================>.....] - ETA: 0s - loss: 0.5199 - acc: 0.7857\b\b\b\b\b\b\b\b\b\b\b\b\b\b\b\b\b\b\b\b\b\b\b\b\b\b\b\b\b\b\b\b\b\b\b\b\b\b\b\b\b\b\b\b\b\b\b\b\b\b\b\b\b\b\b\b\b\b\b\b\b\b\b\b\b\b\b\b\b\b\b\b\b\b\b\b\b\b\b\n",
            "INFO\t2021-06-19 17:42:41 +0000\tmaster-replica-0\t\t235/254 [==========================>...] - ETA: 0s - loss: 0.5105 - acc: 0.7876\b\b\b\b\b\b\b\b\b\b\b\b\b\b\b\b\b\b\b\b\b\b\b\b\b\b\b\b\b\b\b\b\b\b\b\b\b\b\b\b\b\b\b\b\b\b\b\b\b\b\b\b\b\b\b\b\b\b\b\b\b\b\b\b\b\b\b\b\b\b\b\b\b\b\b\b\b\b\b\n",
            "INFO\t2021-06-19 17:42:41 +0000\tmaster-replica-0\t\t254/254 [==============================] - 3s 10ms/step - loss: 0.5014 - acc: 0.7898 - val_loss: 0.3776 - val_acc: 0.8292\n",
            "INFO\t2021-06-19 17:42:41 +0000\tmaster-replica-0\t\tEpoch 00002: LearningRateScheduler reducing learning rate to 0.015.\n",
            "INFO\t2021-06-19 17:42:41 +0000\tmaster-replica-0\t\tEpoch 2/20\n",
            "INFO\t2021-06-19 17:42:41 +0000\tmaster-replica-0\t\t  1/254 [..............................] - ETA: 0s - loss: 0.3205 - acc: 0.8672\b\b\b\b\b\b\b\b\b\b\b\b\b\b\b\b\b\b\b\b\b\b\b\b\b\b\b\b\b\b\b\b\b\b\b\b\b\b\b\b\b\b\b\b\b\b\b\b\b\b\b\b\b\b\b\b\b\b\b\b\b\b\b\b\b\b\b\b\b\b\b\b\b\b\b\b\b\b\b\n",
            "INFO\t2021-06-19 17:42:41 +0000\tmaster-replica-0\t\t 22/254 [=>............................] - ETA: 0s - loss: 0.3596 - acc: 0.8381\b\b\b\b\b\b\b\b\b\b\b\b\b\b\b\b\b\b\b\b\b\b\b\b\b\b\b\b\b\b\b\b\b\b\b\b\b\b\b\b\b\b\b\b\b\b\b\b\b\b\b\b\b\b\b\b\b\b\b\b\b\b\b\b\b\b\b\b\b\b\b\b\b\b\b\b\b\b\b\n",
            "INFO\t2021-06-19 17:42:41 +0000\tmaster-replica-0\t\t 42/254 [===>..........................] - ETA: 0s - loss: 0.3618 - acc: 0.8365\b\b\b\b\b\b\b\b\b\b\b\b\b\b\b\b\b\b\b\b\b\b\b\b\b\b\b\b\b\b\b\b\b\b\b\b\b\b\b\b\b\b\b\b\b\b\b\b\b\b\b\b\b\b\b\b\b\b\b\b\b\b\b\b\b\b\b\b\b\b\b\b\b\b\b\b\b\b\b\n",
            "INFO\t2021-06-19 17:42:41 +0000\tmaster-replica-0\t\t 63/254 [======>.......................] - ETA: 0s - loss: 0.3641 - acc: 0.8353\b\b\b\b\b\b\b\b\b\b\b\b\b\b\b\b\b\b\b\b\b\b\b\b\b\b\b\b\b\b\b\b\b\b\b\b\b\b\b\b\b\b\b\b\b\b\b\b\b\b\b\b\b\b\b\b\b\b\b\b\b\b\b\b\b\b\b\b\b\b\b\b\b\b\b\b\b\b\b\n",
            "INFO\t2021-06-19 17:42:41 +0000\tmaster-replica-0\t\t 84/254 [========>.....................] - ETA: 0s - loss: 0.3610 - acc: 0.8373\b\b\b\b\b\b\b\b\b\b\b\b\b\b\b\b\b\b\b\b\b\b\b\b\b\b\b\b\b\b\b\b\b\b\b\b\b\b\b\b\b\b\b\b\b\b\b\b\b\b\b\b\b\b\b\b\b\b\b\b\b\b\b\b\b\b\b\b\b\b\b\b\b\b\b\b\b\b\b\n",
            "INFO\t2021-06-19 17:42:41 +0000\tmaster-replica-0\t\t105/254 [===========>..................] - ETA: 0s - loss: 0.3599 - acc: 0.8374\b\b\b\b\b\b\b\b\b\b\b\b\b\b\b\b\b\b\b\b\b\b\b\b\b\b\b\b\b\b\b\b\b\b\b\b\b\b\b\b\b\b\b\b\b\b\b\b\b\b\b\b\b\b\b\b\b\b\b\b\b\b\b\b\b\b\b\b\b\b\b\b\b\b\b\b\b\b\b\n",
            "INFO\t2021-06-19 17:42:41 +0000\tmaster-replica-0\t\t125/254 [=============>................] - ETA: 0s - loss: 0.3608 - acc: 0.8360\b\b\b\b\b\b\b\b\b\b\b\b\b\b\b\b\b\b\b\b\b\b\b\b\b\b\b\b\b\b\b\b\b\b\b\b\b\b\b\b\b\b\b\b\b\b\b\b\b\b\b\b\b\b\b\b\b\b\b\b\b\b\b\b\b\b\b\b\b\b\b\b\b\b\b\b\b\b\b\n",
            "INFO\t2021-06-19 17:42:41 +0000\tmaster-replica-0\t\t146/254 [================>.............] - ETA: 0s - loss: 0.3593 - acc: 0.8367\b\b\b\b\b\b\b\b\b\b\b\b\b\b\b\b\b\b\b\b\b\b\b\b\b\b\b\b\b\b\b\b\b\b\b\b\b\b\b\b\b\b\b\b\b\b\b\b\b\b\b\b\b\b\b\b\b\b\b\b\b\b\b\b\b\b\b\b\b\b\b\b\b\b\b\b\b\b\b\n",
            "INFO\t2021-06-19 17:42:41 +0000\tmaster-replica-0\t\t166/254 [==================>...........] - ETA: 0s - loss: 0.3584 - acc: 0.8373\b\b\b\b\b\b\b\b\b\b\b\b\b\b\b\b\b\b\b\b\b\b\b\b\b\b\b\b\b\b\b\b\b\b\b\b\b\b\b\b\b\b\b\b\b\b\b\b\b\b\b\b\b\b\b\b\b\b\b\b\b\b\b\b\b\b\b\b\b\b\b\b\b\b\b\b\b\b\b\n",
            "INFO\t2021-06-19 17:42:41 +0000\tmaster-replica-0\t\t187/254 [=====================>........] - ETA: 0s - loss: 0.3584 - acc: 0.8369\b\b\b\b\b\b\b\b\b\b\b\b\b\b\b\b\b\b\b\b\b\b\b\b\b\b\b\b\b\b\b\b\b\b\b\b\b\b\b\b\b\b\b\b\b\b\b\b\b\b\b\b\b\b\b\b\b\b\b\b\b\b\b\b\b\b\b\b\b\b\b\b\b\b\b\b\b\b\b\n",
            "INFO\t2021-06-19 17:42:41 +0000\tmaster-replica-0\t\t206/254 [=======================>......] - ETA: 0s - loss: 0.3594 - acc: 0.8361\b\b\b\b\b\b\b\b\b\b\b\b\b\b\b\b\b\b\b\b\b\b\b\b\b\b\b\b\b\b\b\b\b\b\b\b\b\b\b\b\b\b\b\b\b\b\b\b\b\b\b\b\b\b\b\b\b\b\b\b\b\b\b\b\b\b\b\b\b\b\b\b\b\b\b\b\b\b\b\n",
            "INFO\t2021-06-19 17:42:42 +0000\tmaster-replica-0\t\t228/254 [=========================>....] - ETA: 0s - loss: 0.3587 - acc: 0.8363\b\b\b\b\b\b\b\b\b\b\b\b\b\b\b\b\b\b\b\b\b\b\b\b\b\b\b\b\b\b\b\b\b\b\b\b\b\b\b\b\b\b\b\b\b\b\b\b\b\b\b\b\b\b\b\b\b\b\b\b\b\b\b\b\b\b\b\b\b\b\b\b\b\b\b\b\b\b\b\n",
            "INFO\t2021-06-19 17:42:42 +0000\tmaster-replica-0\t\t248/254 [============================>.] - ETA: 0s - loss: 0.3597 - acc: 0.8360\b\b\b\b\b\b\b\b\b\b\b\b\b\b\b\b\b\b\b\b\b\b\b\b\b\b\b\b\b\b\b\b\b\b\b\b\b\b\b\b\b\b\b\b\b\b\b\b\b\b\b\b\b\b\b\b\b\b\b\b\b\b\b\b\b\b\b\b\b\b\b\b\b\b\b\b\b\b\b\n",
            "INFO\t2021-06-19 17:42:42 +0000\tmaster-replica-0\t\t254/254 [==============================] - 1s 4ms/step - loss: 0.3596 - acc: 0.8361 - val_loss: 0.3398 - val_acc: 0.8411\n",
            "INFO\t2021-06-19 17:42:42 +0000\tmaster-replica-0\t\tEpoch 00003: LearningRateScheduler reducing learning rate to 0.0125.\n",
            "INFO\t2021-06-19 17:42:42 +0000\tmaster-replica-0\t\tEpoch 3/20\n",
            "INFO\t2021-06-19 17:42:42 +0000\tmaster-replica-0\t\t  1/254 [..............................] - ETA: 0s - loss: 0.3509 - acc: 0.8203\b\b\b\b\b\b\b\b\b\b\b\b\b\b\b\b\b\b\b\b\b\b\b\b\b\b\b\b\b\b\b\b\b\b\b\b\b\b\b\b\b\b\b\b\b\b\b\b\b\b\b\b\b\b\b\b\b\b\b\b\b\b\b\b\b\b\b\b\b\b\b\b\b\b\b\b\b\b\b\n",
            "INFO\t2021-06-19 17:42:42 +0000\tmaster-replica-0\t\t 18/254 [=>............................] - ETA: 0s - loss: 0.3298 - acc: 0.8511\b\b\b\b\b\b\b\b\b\b\b\b\b\b\b\b\b\b\b\b\b\b\b\b\b\b\b\b\b\b\b\b\b\b\b\b\b\b\b\b\b\b\b\b\b\b\b\b\b\b\b\b\b\b\b\b\b\b\b\b\b\b\b\b\b\b\b\b\b\b\b\b\b\b\b\b\b\b\b\n",
            "INFO\t2021-06-19 17:42:42 +0000\tmaster-replica-0\t\t 38/254 [===>..........................] - ETA: 0s - loss: 0.3311 - acc: 0.8485\b\b\b\b\b\b\b\b\b\b\b\b\b\b\b\b\b\b\b\b\b\b\b\b\b\b\b\b\b\b\b\b\b\b\b\b\b\b\b\b\b\b\b\b\b\b\b\b\b\b\b\b\b\b\b\b\b\b\b\b\b\b\b\b\b\b\b\b\b\b\b\b\b\b\b\b\b\b\b\n",
            "INFO\t2021-06-19 17:42:42 +0000\tmaster-replica-0\t\t 58/254 [=====>........................] - ETA: 0s - loss: 0.3385 - acc: 0.8464\b\b\b\b\b\b\b\b\b\b\b\b\b\b\b\b\b\b\b\b\b\b\b\b\b\b\b\b\b\b\b\b\b\b\b\b\b\b\b\b\b\b\b\b\b\b\b\b\b\b\b\b\b\b\b\b\b\b\b\b\b\b\b\b\b\b\b\b\b\b\b\b\b\b\b\b\b\b\b\n",
            "INFO\t2021-06-19 17:42:42 +0000\tmaster-replica-0\t\t 78/254 [========>.....................] - ETA: 0s - loss: 0.3396 - acc: 0.8481\b\b\b\b\b\b\b\b\b\b\b\b\b\b\b\b\b\b\b\b\b\b\b\b\b\b\b\b\b\b\b\b\b\b\b\b\b\b\b\b\b\b\b\b\b\b\b\b\b\b\b\b\b\b\b\b\b\b\b\b\b\b\b\b\b\b\b\b\b\b\b\b\b\b\b\b\b\b\b\n",
            "INFO\t2021-06-19 17:42:42 +0000\tmaster-replica-0\t\t 99/254 [==========>...................] - ETA: 0s - loss: 0.3408 - acc: 0.8454\b\b\b\b\b\b\b\b\b\b\b\b\b\b\b\b\b\b\b\b\b\b\b\b\b\b\b\b\b\b\b\b\b\b\b\b\b\b\b\b\b\b\b\b\b\b\b\b\b\b\b\b\b\b\b\b\b\b\b\b\b\b\b\b\b\b\b\b\b\b\b\b\b\b\b\b\b\b\b\n",
            "INFO\t2021-06-19 17:42:42 +0000\tmaster-replica-0\t\t121/254 [=============>................] - ETA: 0s - loss: 0.3417 - acc: 0.8446\b\b\b\b\b\b\b\b\b\b\b\b\b\b\b\b\b\b\b\b\b\b\b\b\b\b\b\b\b\b\b\b\b\b\b\b\b\b\b\b\b\b\b\b\b\b\b\b\b\b\b\b\b\b\b\b\b\b\b\b\b\b\b\b\b\b\b\b\b\b\b\b\b\b\b\b\b\b\b\n",
            "INFO\t2021-06-19 17:42:42 +0000\tmaster-replica-0\t\t141/254 [===============>..............] - ETA: 0s - loss: 0.3416 - acc: 0.8451\b\b\b\b\b\b\b\b\b\b\b\b\b\b\b\b\b\b\b\b\b\b\b\b\b\b\b\b\b\b\b\b\b\b\b\b\b\b\b\b\b\b\b\b\b\b\b\b\b\b\b\b\b\b\b\b\b\b\b\b\b\b\b\b\b\b\b\b\b\b\b\b\b\b\b\b\b\b\b\n",
            "INFO\t2021-06-19 17:42:42 +0000\tmaster-replica-0\t\t162/254 [==================>...........] - ETA: 0s - loss: 0.3446 - acc: 0.8425\b\b\b\b\b\b\b\b\b\b\b\b\b\b\b\b\b\b\b\b\b\b\b\b\b\b\b\b\b\b\b\b\b\b\b\b\b\b\b\b\b\b\b\b\b\b\b\b\b\b\b\b\b\b\b\b\b\b\b\b\b\b\b\b\b\b\b\b\b\b\b\b\b\b\b\b\b\b\b\n",
            "INFO\t2021-06-19 17:42:42 +0000\tmaster-replica-0\t\t183/254 [====================>.........] - ETA: 0s - loss: 0.3431 - acc: 0.8432\b\b\b\b\b\b\b\b\b\b\b\b\b\b\b\b\b\b\b\b\b\b\b\b\b\b\b\b\b\b\b\b\b\b\b\b\b\b\b\b\b\b\b\b\b\b\b\b\b\b\b\b\b\b\b\b\b\b\b\b\b\b\b\b\b\b\b\b\b\b\b\b\b\b\b\b\b\b\b\n",
            "INFO\t2021-06-19 17:42:42 +0000\tmaster-replica-0\t\t201/254 [======================>.......] - ETA: 0s - loss: 0.3420 - acc: 0.8434\b\b\b\b\b\b\b\b\b\b\b\b\b\b\b\b\b\b\b\b\b\b\b\b\b\b\b\b\b\b\b\b\b\b\b\b\b\b\b\b\b\b\b\b\b\b\b\b\b\b\b\b\b\b\b\b\b\b\b\b\b\b\b\b\b\b\b\b\b\b\b\b\b\b\b\b\b\b\b\n",
            "INFO\t2021-06-19 17:42:43 +0000\tmaster-replica-0\t\t222/254 [=========================>....] - ETA: 0s - loss: 0.3438 - acc: 0.8427\b\b\b\b\b\b\b\b\b\b\b\b\b\b\b\b\b\b\b\b\b\b\b\b\b\b\b\b\b\b\b\b\b\b\b\b\b\b\b\b\b\b\b\b\b\b\b\b\b\b\b\b\b\b\b\b\b\b\b\b\b\b\b\b\b\b\b\b\b\b\b\b\b\b\b\b\b\b\b\n",
            "INFO\t2021-06-19 17:42:43 +0000\tmaster-replica-0\t\t243/254 [===========================>..] - ETA: 0s - loss: 0.3422 - acc: 0.8437\b\b\b\b\b\b\b\b\b\b\b\b\b\b\b\b\b\b\b\b\b\b\b\b\b\b\b\b\b\b\b\b\b\b\b\b\b\b\b\b\b\b\b\b\b\b\b\b\b\b\b\b\b\b\b\b\b\b\b\b\b\b\b\b\b\b\b\b\b\b\b\b\b\b\b\b\b\b\b\n",
            "INFO\t2021-06-19 17:42:43 +0000\tmaster-replica-0\t\t254/254 [==============================] - 1s 4ms/step - loss: 0.3420 - acc: 0.8438 - val_loss: 0.3252 - val_acc: 0.8507\n",
            "INFO\t2021-06-19 17:42:43 +0000\tmaster-replica-0\t\tEpoch 00004: LearningRateScheduler reducing learning rate to 0.01125.\n",
            "INFO\t2021-06-19 17:42:43 +0000\tmaster-replica-0\t\tEpoch 4/20\n",
            "INFO\t2021-06-19 17:42:43 +0000\tmaster-replica-0\t\t  1/254 [..............................] - ETA: 0s - loss: 0.3034 - acc: 0.8594\b\b\b\b\b\b\b\b\b\b\b\b\b\b\b\b\b\b\b\b\b\b\b\b\b\b\b\b\b\b\b\b\b\b\b\b\b\b\b\b\b\b\b\b\b\b\b\b\b\b\b\b\b\b\b\b\b\b\b\b\b\b\b\b\b\b\b\b\b\b\b\b\b\b\b\b\b\b\b\n",
            "INFO\t2021-06-19 17:42:43 +0000\tmaster-replica-0\t\t 19/254 [=>............................] - ETA: 0s - loss: 0.3332 - acc: 0.8491\b\b\b\b\b\b\b\b\b\b\b\b\b\b\b\b\b\b\b\b\b\b\b\b\b\b\b\b\b\b\b\b\b\b\b\b\b\b\b\b\b\b\b\b\b\b\b\b\b\b\b\b\b\b\b\b\b\b\b\b\b\b\b\b\b\b\b\b\b\b\b\b\b\b\b\b\b\b\b\n",
            "INFO\t2021-06-19 17:42:43 +0000\tmaster-replica-0\t\t 39/254 [===>..........................] - ETA: 0s - loss: 0.3369 - acc: 0.8454\b\b\b\b\b\b\b\b\b\b\b\b\b\b\b\b\b\b\b\b\b\b\b\b\b\b\b\b\b\b\b\b\b\b\b\b\b\b\b\b\b\b\b\b\b\b\b\b\b\b\b\b\b\b\b\b\b\b\b\b\b\b\b\b\b\b\b\b\b\b\b\b\b\b\b\b\b\b\b\n",
            "INFO\t2021-06-19 17:42:43 +0000\tmaster-replica-0\t\t 56/254 [=====>........................] - ETA: 0s - loss: 0.3288 - acc: 0.8474\b\b\b\b\b\b\b\b\b\b\b\b\b\b\b\b\b\b\b\b\b\b\b\b\b\b\b\b\b\b\b\b\b\b\b\b\b\b\b\b\b\b\b\b\b\b\b\b\b\b\b\b\b\b\b\b\b\b\b\b\b\b\b\b\b\b\b\b\b\b\b\b\b\b\b\b\b\b\b\n",
            "INFO\t2021-06-19 17:42:43 +0000\tmaster-replica-0\t\t 76/254 [=======>......................] - ETA: 0s - loss: 0.3334 - acc: 0.8462\b\b\b\b\b\b\b\b\b\b\b\b\b\b\b\b\b\b\b\b\b\b\b\b\b\b\b\b\b\b\b\b\b\b\b\b\b\b\b\b\b\b\b\b\b\b\b\b\b\b\b\b\b\b\b\b\b\b\b\b\b\b\b\b\b\b\b\b\b\b\b\b\b\b\b\b\b\b\b\n",
            "INFO\t2021-06-19 17:42:43 +0000\tmaster-replica-0\t\t 96/254 [==========>...................] - ETA: 0s - loss: 0.3314 - acc: 0.8464\b\b\b\b\b\b\b\b\b\b\b\b\b\b\b\b\b\b\b\b\b\b\b\b\b\b\b\b\b\b\b\b\b\b\b\b\b\b\b\b\b\b\b\b\b\b\b\b\b\b\b\b\b\b\b\b\b\b\b\b\b\b\b\b\b\b\b\b\b\b\b\b\b\b\b\b\b\b\b\n",
            "INFO\t2021-06-19 17:42:43 +0000\tmaster-replica-0\t\t117/254 [============>.................] - ETA: 0s - loss: 0.3367 - acc: 0.8455\b\b\b\b\b\b\b\b\b\b\b\b\b\b\b\b\b\b\b\b\b\b\b\b\b\b\b\b\b\b\b\b\b\b\b\b\b\b\b\b\b\b\b\b\b\b\b\b\b\b\b\b\b\b\b\b\b\b\b\b\b\b\b\b\b\b\b\b\b\b\b\b\b\b\b\b\b\b\b\n",
            "INFO\t2021-06-19 17:42:43 +0000\tmaster-replica-0\t\t134/254 [==============>...............] - ETA: 0s - loss: 0.3371 - acc: 0.8460\b\b\b\b\b\b\b\b\b\b\b\b\b\b\b\b\b\b\b\b\b\b\b\b\b\b\b\b\b\b\b\b\b\b\b\b\b\b\b\b\b\b\b\b\b\b\b\b\b\b\b\b\b\b\b\b\b\b\b\b\b\b\b\b\b\b\b\b\b\b\b\b\b\b\b\b\b\b\b\n",
            "INFO\t2021-06-19 17:42:43 +0000\tmaster-replica-0\t\t155/254 [=================>............] - ETA: 0s - loss: 0.3383 - acc: 0.8448\b\b\b\b\b\b\b\b\b\b\b\b\b\b\b\b\b\b\b\b\b\b\b\b\b\b\b\b\b\b\b\b\b\b\b\b\b\b\b\b\b\b\b\b\b\b\b\b\b\b\b\b\b\b\b\b\b\b\b\b\b\b\b\b\b\b\b\b\b\b\b\b\b\b\b\b\b\b\b\n",
            "INFO\t2021-06-19 17:42:43 +0000\tmaster-replica-0\t\t175/254 [===================>..........] - ETA: 0s - loss: 0.3380 - acc: 0.8443\b\b\b\b\b\b\b\b\b\b\b\b\b\b\b\b\b\b\b\b\b\b\b\b\b\b\b\b\b\b\b\b\b\b\b\b\b\b\b\b\b\b\b\b\b\b\b\b\b\b\b\b\b\b\b\b\b\b\b\b\b\b\b\b\b\b\b\b\b\b\b\b\b\b\b\b\b\b\b\n",
            "INFO\t2021-06-19 17:42:43 +0000\tmaster-replica-0\t\t196/254 [======================>.......] - ETA: 0s - loss: 0.3357 - acc: 0.8449\b\b\b\b\b\b\b\b\b\b\b\b\b\b\b\b\b\b\b\b\b\b\b\b\b\b\b\b\b\b\b\b\b\b\b\b\b\b\b\b\b\b\b\b\b\b\b\b\b\b\b\b\b\b\b\b\b\b\b\b\b\b\b\b\b\b\b\b\b\b\b\b\b\b\b\b\b\b\b\n",
            "INFO\t2021-06-19 17:42:43 +0000\tmaster-replica-0\t\t217/254 [========================>.....] - ETA: 0s - loss: 0.3360 - acc: 0.8439\b\b\b\b\b\b\b\b\b\b\b\b\b\b\b\b\b\b\b\b\b\b\b\b\b\b\b\b\b\b\b\b\b\b\b\b\b\b\b\b\b\b\b\b\b\b\b\b\b\b\b\b\b\b\b\b\b\b\b\b\b\b\b\b\b\b\b\b\b\b\b\b\b\b\b\b\b\b\b\n",
            "INFO\t2021-06-19 17:42:44 +0000\tmaster-replica-0\t\t238/254 [===========================>..] - ETA: 0s - loss: 0.3370 - acc: 0.8437\b\b\b\b\b\b\b\b\b\b\b\b\b\b\b\b\b\b\b\b\b\b\b\b\b\b\b\b\b\b\b\b\b\b\b\b\b\b\b\b\b\b\b\b\b\b\b\b\b\b\b\b\b\b\b\b\b\b\b\b\b\b\b\b\b\b\b\b\b\b\b\b\b\b\b\b\b\b\b\n",
            "INFO\t2021-06-19 17:42:44 +0000\tmaster-replica-0\t\t254/254 [==============================] - 1s 4ms/step - loss: 0.3361 - acc: 0.8437 - val_loss: 0.3255 - val_acc: 0.8441\n",
            "INFO\t2021-06-19 17:42:44 +0000\tmaster-replica-0\t\tEpoch 00005: LearningRateScheduler reducing learning rate to 0.010625.\n",
            "INFO\t2021-06-19 17:42:44 +0000\tmaster-replica-0\t\tEpoch 5/20\n",
            "INFO\t2021-06-19 17:42:44 +0000\tmaster-replica-0\t\t  1/254 [..............................] - ETA: 0s - loss: 0.2531 - acc: 0.8828\b\b\b\b\b\b\b\b\b\b\b\b\b\b\b\b\b\b\b\b\b\b\b\b\b\b\b\b\b\b\b\b\b\b\b\b\b\b\b\b\b\b\b\b\b\b\b\b\b\b\b\b\b\b\b\b\b\b\b\b\b\b\b\b\b\b\b\b\b\b\b\b\b\b\b\b\b\b\b\n",
            "INFO\t2021-06-19 17:42:44 +0000\tmaster-replica-0\t\t 21/254 [=>............................] - ETA: 0s - loss: 0.3167 - acc: 0.8482\b\b\b\b\b\b\b\b\b\b\b\b\b\b\b\b\b\b\b\b\b\b\b\b\b\b\b\b\b\b\b\b\b\b\b\b\b\b\b\b\b\b\b\b\b\b\b\b\b\b\b\b\b\b\b\b\b\b\b\b\b\b\b\b\b\b\b\b\b\b\b\b\b\b\b\b\b\b\b\n",
            "INFO\t2021-06-19 17:42:44 +0000\tmaster-replica-0\t\t 40/254 [===>..........................] - ETA: 0s - loss: 0.3266 - acc: 0.8480\b\b\b\b\b\b\b\b\b\b\b\b\b\b\b\b\b\b\b\b\b\b\b\b\b\b\b\b\b\b\b\b\b\b\b\b\b\b\b\b\b\b\b\b\b\b\b\b\b\b\b\b\b\b\b\b\b\b\b\b\b\b\b\b\b\b\b\b\b\b\b\b\b\b\b\b\b\b\b\n",
            "INFO\t2021-06-19 17:42:44 +0000\tmaster-replica-0\t\t 61/254 [======>.......................] - ETA: 0s - loss: 0.3284 - acc: 0.8476\b\b\b\b\b\b\b\b\b\b\b\b\b\b\b\b\b\b\b\b\b\b\b\b\b\b\b\b\b\b\b\b\b\b\b\b\b\b\b\b\b\b\b\b\b\b\b\b\b\b\b\b\b\b\b\b\b\b\b\b\b\b\b\b\b\b\b\b\b\b\b\b\b\b\b\b\b\b\b\n",
            "INFO\t2021-06-19 17:42:44 +0000\tmaster-replica-0\t\t 80/254 [========>.....................] - ETA: 0s - loss: 0.3284 - acc: 0.8479\b\b\b\b\b\b\b\b\b\b\b\b\b\b\b\b\b\b\b\b\b\b\b\b\b\b\b\b\b\b\b\b\b\b\b\b\b\b\b\b\b\b\b\b\b\b\b\b\b\b\b\b\b\b\b\b\b\b\b\b\b\b\b\b\b\b\b\b\b\b\b\b\b\b\b\b\b\b\b\n",
            "INFO\t2021-06-19 17:42:44 +0000\tmaster-replica-0\t\t101/254 [==========>...................] - ETA: 0s - loss: 0.3286 - acc: 0.8492\b\b\b\b\b\b\b\b\b\b\b\b\b\b\b\b\b\b\b\b\b\b\b\b\b\b\b\b\b\b\b\b\b\b\b\b\b\b\b\b\b\b\b\b\b\b\b\b\b\b\b\b\b\b\b\b\b\b\b\b\b\b\b\b\b\b\b\b\b\b\b\b\b\b\b\b\b\b\b\n",
            "INFO\t2021-06-19 17:42:44 +0000\tmaster-replica-0\t\t121/254 [=============>................] - ETA: 0s - loss: 0.3295 - acc: 0.8490\b\b\b\b\b\b\b\b\b\b\b\b\b\b\b\b\b\b\b\b\b\b\b\b\b\b\b\b\b\b\b\b\b\b\b\b\b\b\b\b\b\b\b\b\b\b\b\b\b\b\b\b\b\b\b\b\b\b\b\b\b\b\b\b\b\b\b\b\b\b\b\b\b\b\b\b\b\b\b\n",
            "INFO\t2021-06-19 17:42:44 +0000\tmaster-replica-0\t\t142/254 [===============>..............] - ETA: 0s - loss: 0.3311 - acc: 0.8478\b\b\b\b\b\b\b\b\b\b\b\b\b\b\b\b\b\b\b\b\b\b\b\b\b\b\b\b\b\b\b\b\b\b\b\b\b\b\b\b\b\b\b\b\b\b\b\b\b\b\b\b\b\b\b\b\b\b\b\b\b\b\b\b\b\b\b\b\b\b\b\b\b\b\b\b\b\b\b\n",
            "INFO\t2021-06-19 17:42:44 +0000\tmaster-replica-0\t\t160/254 [=================>............] - ETA: 0s - loss: 0.3312 - acc: 0.8479\b\b\b\b\b\b\b\b\b\b\b\b\b\b\b\b\b\b\b\b\b\b\b\b\b\b\b\b\b\b\b\b\b\b\b\b\b\b\b\b\b\b\b\b\b\b\b\b\b\b\b\b\b\b\b\b\b\b\b\b\b\b\b\b\b\b\b\b\b\b\b\b\b\b\b\b\b\b\b\n",
            "INFO\t2021-06-19 17:42:44 +0000\tmaster-replica-0\t\t181/254 [====================>.........] - ETA: 0s - loss: 0.3311 - acc: 0.8484\b\b\b\b\b\b\b\b\b\b\b\b\b\b\b\b\b\b\b\b\b\b\b\b\b\b\b\b\b\b\b\b\b\b\b\b\b\b\b\b\b\b\b\b\b\b\b\b\b\b\b\b\b\b\b\b\b\b\b\b\b\b\b\b\b\b\b\b\b\b\b\b\b\b\b\b\b\b\b\n",
            "INFO\t2021-06-19 17:42:44 +0000\tmaster-replica-0\t\t201/254 [======================>.......] - ETA: 0s - loss: 0.3341 - acc: 0.8474\b\b\b\b\b\b\b\b\b\b\b\b\b\b\b\b\b\b\b\b\b\b\b\b\b\b\b\b\b\b\b\b\b\b\b\b\b\b\b\b\b\b\b\b\b\b\b\b\b\b\b\b\b\b\b\b\b\b\b\b\b\b\b\b\b\b\b\b\b\b\b\b\b\b\b\b\b\b\b\n",
            "INFO\t2021-06-19 17:42:44 +0000\tmaster-replica-0\t\t223/254 [=========================>....] - ETA: 0s - loss: 0.3334 - acc: 0.8472\b\b\b\b\b\b\b\b\b\b\b\b\b\b\b\b\b\b\b\b\b\b\b\b\b\b\b\b\b\b\b\b\b\b\b\b\b\b\b\b\b\b\b\b\b\b\b\b\b\b\b\b\b\b\b\b\b\b\b\b\b\b\b\b\b\b\b\b\b\b\b\b\b\b\b\b\b\b\b\n",
            "INFO\t2021-06-19 17:42:45 +0000\tmaster-replica-0\t\t243/254 [===========================>..] - ETA: 0s - loss: 0.3329 - acc: 0.8466\b\b\b\b\b\b\b\b\b\b\b\b\b\b\b\b\b\b\b\b\b\b\b\b\b\b\b\b\b\b\b\b\b\b\b\b\b\b\b\b\b\b\b\b\b\b\b\b\b\b\b\b\b\b\b\b\b\b\b\b\b\b\b\b\b\b\b\b\b\b\b\b\b\b\b\b\b\b\b\n",
            "INFO\t2021-06-19 17:42:45 +0000\tmaster-replica-0\t\t254/254 [==============================] - 1s 4ms/step - loss: 0.3339 - acc: 0.8460 - val_loss: 0.3226 - val_acc: 0.8478\n",
            "INFO\t2021-06-19 17:42:45 +0000\tmaster-replica-0\t\tEpoch 00006: LearningRateScheduler reducing learning rate to 0.0103125.\n",
            "INFO\t2021-06-19 17:42:45 +0000\tmaster-replica-0\t\tEpoch 6/20\n",
            "INFO\t2021-06-19 17:42:45 +0000\tmaster-replica-0\t\t  1/254 [..............................] - ETA: 0s - loss: 0.3432 - acc: 0.8281\b\b\b\b\b\b\b\b\b\b\b\b\b\b\b\b\b\b\b\b\b\b\b\b\b\b\b\b\b\b\b\b\b\b\b\b\b\b\b\b\b\b\b\b\b\b\b\b\b\b\b\b\b\b\b\b\b\b\b\b\b\b\b\b\b\b\b\b\b\b\b\b\b\b\b\b\b\b\b\n",
            "INFO\t2021-06-19 17:42:45 +0000\tmaster-replica-0\t\t 19/254 [=>............................] - ETA: 0s - loss: 0.3338 - acc: 0.8384\b\b\b\b\b\b\b\b\b\b\b\b\b\b\b\b\b\b\b\b\b\b\b\b\b\b\b\b\b\b\b\b\b\b\b\b\b\b\b\b\b\b\b\b\b\b\b\b\b\b\b\b\b\b\b\b\b\b\b\b\b\b\b\b\b\b\b\b\b\b\b\b\b\b\b\b\b\b\b\n",
            "INFO\t2021-06-19 17:42:45 +0000\tmaster-replica-0\t\t 40/254 [===>..........................] - ETA: 0s - loss: 0.3406 - acc: 0.8393\b\b\b\b\b\b\b\b\b\b\b\b\b\b\b\b\b\b\b\b\b\b\b\b\b\b\b\b\b\b\b\b\b\b\b\b\b\b\b\b\b\b\b\b\b\b\b\b\b\b\b\b\b\b\b\b\b\b\b\b\b\b\b\b\b\b\b\b\b\b\b\b\b\b\b\b\b\b\b\n",
            "INFO\t2021-06-19 17:42:45 +0000\tmaster-replica-0\t\t 61/254 [======>.......................] - ETA: 0s - loss: 0.3386 - acc: 0.8404\b\b\b\b\b\b\b\b\b\b\b\b\b\b\b\b\b\b\b\b\b\b\b\b\b\b\b\b\b\b\b\b\b\b\b\b\b\b\b\b\b\b\b\b\b\b\b\b\b\b\b\b\b\b\b\b\b\b\b\b\b\b\b\b\b\b\b\b\b\b\b\b\b\b\b\b\b\b\b\n",
            "INFO\t2021-06-19 17:42:45 +0000\tmaster-replica-0\t\t 82/254 [========>.....................] - ETA: 0s - loss: 0.3345 - acc: 0.8425\b\b\b\b\b\b\b\b\b\b\b\b\b\b\b\b\b\b\b\b\b\b\b\b\b\b\b\b\b\b\b\b\b\b\b\b\b\b\b\b\b\b\b\b\b\b\b\b\b\b\b\b\b\b\b\b\b\b\b\b\b\b\b\b\b\b\b\b\b\b\b\b\b\b\b\b\b\b\b\n",
            "INFO\t2021-06-19 17:42:45 +0000\tmaster-replica-0\t\t102/254 [===========>..................] - ETA: 0s - loss: 0.3378 - acc: 0.8423\b\b\b\b\b\b\b\b\b\b\b\b\b\b\b\b\b\b\b\b\b\b\b\b\b\b\b\b\b\b\b\b\b\b\b\b\b\b\b\b\b\b\b\b\b\b\b\b\b\b\b\b\b\b\b\b\b\b\b\b\b\b\b\b\b\b\b\b\b\b\b\b\b\b\b\b\b\b\b\n",
            "INFO\t2021-06-19 17:42:45 +0000\tmaster-replica-0\t\t124/254 [=============>................] - ETA: 0s - loss: 0.3342 - acc: 0.8436\b\b\b\b\b\b\b\b\b\b\b\b\b\b\b\b\b\b\b\b\b\b\b\b\b\b\b\b\b\b\b\b\b\b\b\b\b\b\b\b\b\b\b\b\b\b\b\b\b\b\b\b\b\b\b\b\b\b\b\b\b\b\b\b\b\b\b\b\b\b\b\b\b\b\b\b\b\b\b\n",
            "INFO\t2021-06-19 17:42:45 +0000\tmaster-replica-0\t\t145/254 [================>.............] - ETA: 0s - loss: 0.3334 - acc: 0.8451\b\b\b\b\b\b\b\b\b\b\b\b\b\b\b\b\b\b\b\b\b\b\b\b\b\b\b\b\b\b\b\b\b\b\b\b\b\b\b\b\b\b\b\b\b\b\b\b\b\b\b\b\b\b\b\b\b\b\b\b\b\b\b\b\b\b\b\b\b\b\b\b\b\b\b\b\b\b\b\n",
            "INFO\t2021-06-19 17:42:45 +0000\tmaster-replica-0\t\t167/254 [==================>...........] - ETA: 0s - loss: 0.3333 - acc: 0.8463\b\b\b\b\b\b\b\b\b\b\b\b\b\b\b\b\b\b\b\b\b\b\b\b\b\b\b\b\b\b\b\b\b\b\b\b\b\b\b\b\b\b\b\b\b\b\b\b\b\b\b\b\b\b\b\b\b\b\b\b\b\b\b\b\b\b\b\b\b\b\b\b\b\b\b\b\b\b\b\n",
            "INFO\t2021-06-19 17:42:45 +0000\tmaster-replica-0\t\t186/254 [====================>.........] - ETA: 0s - loss: 0.3311 - acc: 0.8473\b\b\b\b\b\b\b\b\b\b\b\b\b\b\b\b\b\b\b\b\b\b\b\b\b\b\b\b\b\b\b\b\b\b\b\b\b\b\b\b\b\b\b\b\b\b\b\b\b\b\b\b\b\b\b\b\b\b\b\b\b\b\b\b\b\b\b\b\b\b\b\b\b\b\b\b\b\b\b\n",
            "INFO\t2021-06-19 17:42:45 +0000\tmaster-replica-0\t\t207/254 [=======================>......] - ETA: 0s - loss: 0.3318 - acc: 0.8473\b\b\b\b\b\b\b\b\b\b\b\b\b\b\b\b\b\b\b\b\b\b\b\b\b\b\b\b\b\b\b\b\b\b\b\b\b\b\b\b\b\b\b\b\b\b\b\b\b\b\b\b\b\b\b\b\b\b\b\b\b\b\b\b\b\b\b\b\b\b\b\b\b\b\b\b\b\b\b\n",
            "INFO\t2021-06-19 17:42:45 +0000\tmaster-replica-0\t\t227/254 [=========================>....] - ETA: 0s - loss: 0.3309 - acc: 0.8464\b\b\b\b\b\b\b\b\b\b\b\b\b\b\b\b\b\b\b\b\b\b\b\b\b\b\b\b\b\b\b\b\b\b\b\b\b\b\b\b\b\b\b\b\b\b\b\b\b\b\b\b\b\b\b\b\b\b\b\b\b\b\b\b\b\b\b\b\b\b\b\b\b\b\b\b\b\b\b\n",
            "INFO\t2021-06-19 17:42:46 +0000\tmaster-replica-0\t\t248/254 [============================>.] - ETA: 0s - loss: 0.3314 - acc: 0.8467\b\b\b\b\b\b\b\b\b\b\b\b\b\b\b\b\b\b\b\b\b\b\b\b\b\b\b\b\b\b\b\b\b\b\b\b\b\b\b\b\b\b\b\b\b\b\b\b\b\b\b\b\b\b\b\b\b\b\b\b\b\b\b\b\b\b\b\b\b\b\b\b\b\b\b\b\b\b\b\n",
            "INFO\t2021-06-19 17:42:46 +0000\tmaster-replica-0\t\t254/254 [==============================] - 1s 4ms/step - loss: 0.3317 - acc: 0.8466 - val_loss: 0.3267 - val_acc: 0.8469\n",
            "INFO\t2021-06-19 17:42:46 +0000\tmaster-replica-0\t\tEpoch 00007: LearningRateScheduler reducing learning rate to 0.01015625.\n",
            "INFO\t2021-06-19 17:42:46 +0000\tmaster-replica-0\t\tEpoch 7/20\n",
            "INFO\t2021-06-19 17:42:46 +0000\tmaster-replica-0\t\t  1/254 [..............................] - ETA: 0s - loss: 0.2504 - acc: 0.8672\b\b\b\b\b\b\b\b\b\b\b\b\b\b\b\b\b\b\b\b\b\b\b\b\b\b\b\b\b\b\b\b\b\b\b\b\b\b\b\b\b\b\b\b\b\b\b\b\b\b\b\b\b\b\b\b\b\b\b\b\b\b\b\b\b\b\b\b\b\b\b\b\b\b\b\b\b\b\b\n",
            "INFO\t2021-06-19 17:42:46 +0000\tmaster-replica-0\t\t 21/254 [=>............................] - ETA: 0s - loss: 0.3170 - acc: 0.8557\b\b\b\b\b\b\b\b\b\b\b\b\b\b\b\b\b\b\b\b\b\b\b\b\b\b\b\b\b\b\b\b\b\b\b\b\b\b\b\b\b\b\b\b\b\b\b\b\b\b\b\b\b\b\b\b\b\b\b\b\b\b\b\b\b\b\b\b\b\b\b\b\b\b\b\b\b\b\b\n",
            "INFO\t2021-06-19 17:42:46 +0000\tmaster-replica-0\t\t 41/254 [===>..........................] - ETA: 0s - loss: 0.3079 - acc: 0.8571\b\b\b\b\b\b\b\b\b\b\b\b\b\b\b\b\b\b\b\b\b\b\b\b\b\b\b\b\b\b\b\b\b\b\b\b\b\b\b\b\b\b\b\b\b\b\b\b\b\b\b\b\b\b\b\b\b\b\b\b\b\b\b\b\b\b\b\b\b\b\b\b\b\b\b\b\b\b\b\n",
            "INFO\t2021-06-19 17:42:46 +0000\tmaster-replica-0\t\t 61/254 [======>.......................] - ETA: 0s - loss: 0.3188 - acc: 0.8516\b\b\b\b\b\b\b\b\b\b\b\b\b\b\b\b\b\b\b\b\b\b\b\b\b\b\b\b\b\b\b\b\b\b\b\b\b\b\b\b\b\b\b\b\b\b\b\b\b\b\b\b\b\b\b\b\b\b\b\b\b\b\b\b\b\b\b\b\b\b\b\b\b\b\b\b\b\b\b\n",
            "INFO\t2021-06-19 17:42:46 +0000\tmaster-replica-0\t\t 82/254 [========>.....................] - ETA: 0s - loss: 0.3229 - acc: 0.8490\b\b\b\b\b\b\b\b\b\b\b\b\b\b\b\b\b\b\b\b\b\b\b\b\b\b\b\b\b\b\b\b\b\b\b\b\b\b\b\b\b\b\b\b\b\b\b\b\b\b\b\b\b\b\b\b\b\b\b\b\b\b\b\b\b\b\b\b\b\b\b\b\b\b\b\b\b\b\b\n",
            "INFO\t2021-06-19 17:42:46 +0000\tmaster-replica-0\t\t100/254 [==========>...................] - ETA: 0s - loss: 0.3236 - acc: 0.8487\b\b\b\b\b\b\b\b\b\b\b\b\b\b\b\b\b\b\b\b\b\b\b\b\b\b\b\b\b\b\b\b\b\b\b\b\b\b\b\b\b\b\b\b\b\b\b\b\b\b\b\b\b\b\b\b\b\b\b\b\b\b\b\b\b\b\b\b\b\b\b\b\b\b\b\b\b\b\b\n",
            "INFO\t2021-06-19 17:42:46 +0000\tmaster-replica-0\t\t117/254 [============>.................] - ETA: 0s - loss: 0.3255 - acc: 0.8494\b\b\b\b\b\b\b\b\b\b\b\b\b\b\b\b\b\b\b\b\b\b\b\b\b\b\b\b\b\b\b\b\b\b\b\b\b\b\b\b\b\b\b\b\b\b\b\b\b\b\b\b\b\b\b\b\b\b\b\b\b\b\b\b\b\b\b\b\b\b\b\b\b\b\b\b\b\b\b\n",
            "INFO\t2021-06-19 17:42:46 +0000\tmaster-replica-0\t\t132/254 [==============>...............] - ETA: 0s - loss: 0.3274 - acc: 0.8492\b\b\b\b\b\b\b\b\b\b\b\b\b\b\b\b\b\b\b\b\b\b\b\b\b\b\b\b\b\b\b\b\b\b\b\b\b\b\b\b\b\b\b\b\b\b\b\b\b\b\b\b\b\b\b\b\b\b\b\b\b\b\b\b\b\b\b\b\b\b\b\b\b\b\b\b\b\b\b\n",
            "INFO\t2021-06-19 17:42:46 +0000\tmaster-replica-0\t\t151/254 [================>.............] - ETA: 0s - loss: 0.3275 - acc: 0.8478\b\b\b\b\b\b\b\b\b\b\b\b\b\b\b\b\b\b\b\b\b\b\b\b\b\b\b\b\b\b\b\b\b\b\b\b\b\b\b\b\b\b\b\b\b\b\b\b\b\b\b\b\b\b\b\b\b\b\b\b\b\b\b\b\b\b\b\b\b\b\b\b\b\b\b\b\b\b\b\n",
            "INFO\t2021-06-19 17:42:46 +0000\tmaster-replica-0\t\t169/254 [==================>...........] - ETA: 0s - loss: 0.3278 - acc: 0.8478\b\b\b\b\b\b\b\b\b\b\b\b\b\b\b\b\b\b\b\b\b\b\b\b\b\b\b\b\b\b\b\b\b\b\b\b\b\b\b\b\b\b\b\b\b\b\b\b\b\b\b\b\b\b\b\b\b\b\b\b\b\b\b\b\b\b\b\b\b\b\b\b\b\b\b\b\b\b\b\n",
            "INFO\t2021-06-19 17:42:46 +0000\tmaster-replica-0\t\t187/254 [=====================>........] - ETA: 0s - loss: 0.3285 - acc: 0.8473\b\b\b\b\b\b\b\b\b\b\b\b\b\b\b\b\b\b\b\b\b\b\b\b\b\b\b\b\b\b\b\b\b\b\b\b\b\b\b\b\b\b\b\b\b\b\b\b\b\b\b\b\b\b\b\b\b\b\b\b\b\b\b\b\b\b\b\b\b\b\b\b\b\b\b\b\b\b\b\n",
            "INFO\t2021-06-19 17:42:46 +0000\tmaster-replica-0\t\t203/254 [======================>.......] - ETA: 0s - loss: 0.3269 - acc: 0.8482\b\b\b\b\b\b\b\b\b\b\b\b\b\b\b\b\b\b\b\b\b\b\b\b\b\b\b\b\b\b\b\b\b\b\b\b\b\b\b\b\b\b\b\b\b\b\b\b\b\b\b\b\b\b\b\b\b\b\b\b\b\b\b\b\b\b\b\b\b\b\b\b\b\b\b\b\b\b\b\n",
            "INFO\t2021-06-19 17:42:46 +0000\tmaster-replica-0\t\t221/254 [=========================>....] - ETA: 0s - loss: 0.3268 - acc: 0.8479\b\b\b\b\b\b\b\b\b\b\b\b\b\b\b\b\b\b\b\b\b\b\b\b\b\b\b\b\b\b\b\b\b\b\b\b\b\b\b\b\b\b\b\b\b\b\b\b\b\b\b\b\b\b\b\b\b\b\b\b\b\b\b\b\b\b\b\b\b\b\b\b\b\b\b\b\b\b\b\n",
            "INFO\t2021-06-19 17:42:47 +0000\tmaster-replica-0\t\t237/254 [==========================>...] - ETA: 0s - loss: 0.3266 - acc: 0.8487\b\b\b\b\b\b\b\b\b\b\b\b\b\b\b\b\b\b\b\b\b\b\b\b\b\b\b\b\b\b\b\b\b\b\b\b\b\b\b\b\b\b\b\b\b\b\b\b\b\b\b\b\b\b\b\b\b\b\b\b\b\b\b\b\b\b\b\b\b\b\b\b\b\b\b\b\b\b\b\n",
            "INFO\t2021-06-19 17:42:47 +0000\tmaster-replica-0\t\t253/254 [============================>.] - ETA: 0s - loss: 0.3280 - acc: 0.8489\b\b\b\b\b\b\b\b\b\b\b\b\b\b\b\b\b\b\b\b\b\b\b\b\b\b\b\b\b\b\b\b\b\b\b\b\b\b\b\b\b\b\b\b\b\b\b\b\b\b\b\b\b\b\b\b\b\b\b\b\b\b\b\b\b\b\b\b\b\b\b\b\b\b\b\b\b\b\b\n",
            "INFO\t2021-06-19 17:42:47 +0000\tmaster-replica-0\t\t254/254 [==============================] - 1s 4ms/step - loss: 0.3281 - acc: 0.8488 - val_loss: 0.3253 - val_acc: 0.8507\n",
            "INFO\t2021-06-19 17:42:47 +0000\tmaster-replica-0\t\tEpoch 00008: LearningRateScheduler reducing learning rate to 0.010078125.\n",
            "INFO\t2021-06-19 17:42:47 +0000\tmaster-replica-0\t\tEpoch 8/20\n",
            "INFO\t2021-06-19 17:42:47 +0000\tmaster-replica-0\t\t  1/254 [..............................] - ETA: 0s - loss: 0.3312 - acc: 0.8359\b\b\b\b\b\b\b\b\b\b\b\b\b\b\b\b\b\b\b\b\b\b\b\b\b\b\b\b\b\b\b\b\b\b\b\b\b\b\b\b\b\b\b\b\b\b\b\b\b\b\b\b\b\b\b\b\b\b\b\b\b\b\b\b\b\b\b\b\b\b\b\b\b\b\b\b\b\b\b\n",
            "INFO\t2021-06-19 17:42:47 +0000\tmaster-replica-0\t\t 18/254 [=>............................] - ETA: 0s - loss: 0.3337 - acc: 0.8472\b\b\b\b\b\b\b\b\b\b\b\b\b\b\b\b\b\b\b\b\b\b\b\b\b\b\b\b\b\b\b\b\b\b\b\b\b\b\b\b\b\b\b\b\b\b\b\b\b\b\b\b\b\b\b\b\b\b\b\b\b\b\b\b\b\b\b\b\b\b\b\b\b\b\b\b\b\b\b\n",
            "INFO\t2021-06-19 17:42:47 +0000\tmaster-replica-0\t\t 35/254 [===>..........................] - ETA: 0s - loss: 0.3359 - acc: 0.8462\b\b\b\b\b\b\b\b\b\b\b\b\b\b\b\b\b\b\b\b\b\b\b\b\b\b\b\b\b\b\b\b\b\b\b\b\b\b\b\b\b\b\b\b\b\b\b\b\b\b\b\b\b\b\b\b\b\b\b\b\b\b\b\b\b\b\b\b\b\b\b\b\b\b\b\b\b\b\b\n",
            "INFO\t2021-06-19 17:42:47 +0000\tmaster-replica-0\t\t 52/254 [=====>........................] - ETA: 0s - loss: 0.3368 - acc: 0.8447\b\b\b\b\b\b\b\b\b\b\b\b\b\b\b\b\b\b\b\b\b\b\b\b\b\b\b\b\b\b\b\b\b\b\b\b\b\b\b\b\b\b\b\b\b\b\b\b\b\b\b\b\b\b\b\b\b\b\b\b\b\b\b\b\b\b\b\b\b\b\b\b\b\b\b\b\b\b\b\n",
            "INFO\t2021-06-19 17:42:47 +0000\tmaster-replica-0\t\t 66/254 [======>.......................] - ETA: 0s - loss: 0.3386 - acc: 0.8432\b\b\b\b\b\b\b\b\b\b\b\b\b\b\b\b\b\b\b\b\b\b\b\b\b\b\b\b\b\b\b\b\b\b\b\b\b\b\b\b\b\b\b\b\b\b\b\b\b\b\b\b\b\b\b\b\b\b\b\b\b\b\b\b\b\b\b\b\b\b\b\b\b\b\b\b\b\b\b\n",
            "INFO\t2021-06-19 17:42:47 +0000\tmaster-replica-0\t\t 85/254 [=========>....................] - ETA: 0s - loss: 0.3355 - acc: 0.8449\b\b\b\b\b\b\b\b\b\b\b\b\b\b\b\b\b\b\b\b\b\b\b\b\b\b\b\b\b\b\b\b\b\b\b\b\b\b\b\b\b\b\b\b\b\b\b\b\b\b\b\b\b\b\b\b\b\b\b\b\b\b\b\b\b\b\b\b\b\b\b\b\b\b\b\b\b\b\b\n",
            "INFO\t2021-06-19 17:42:47 +0000\tmaster-replica-0\t\t102/254 [===========>..................] - ETA: 0s - loss: 0.3305 - acc: 0.8471\b\b\b\b\b\b\b\b\b\b\b\b\b\b\b\b\b\b\b\b\b\b\b\b\b\b\b\b\b\b\b\b\b\b\b\b\b\b\b\b\b\b\b\b\b\b\b\b\b\b\b\b\b\b\b\b\b\b\b\b\b\b\b\b\b\b\b\b\b\b\b\b\b\b\b\b\b\b\b\n",
            "INFO\t2021-06-19 17:42:47 +0000\tmaster-replica-0\t\t120/254 [=============>................] - ETA: 0s - loss: 0.3330 - acc: 0.8451\b\b\b\b\b\b\b\b\b\b\b\b\b\b\b\b\b\b\b\b\b\b\b\b\b\b\b\b\b\b\b\b\b\b\b\b\b\b\b\b\b\b\b\b\b\b\b\b\b\b\b\b\b\b\b\b\b\b\b\b\b\b\b\b\b\b\b\b\b\b\b\b\b\b\b\b\b\b\b\n",
            "INFO\t2021-06-19 17:42:47 +0000\tmaster-replica-0\t\t138/254 [===============>..............] - ETA: 0s - loss: 0.3312 - acc: 0.8453\b\b\b\b\b\b\b\b\b\b\b\b\b\b\b\b\b\b\b\b\b\b\b\b\b\b\b\b\b\b\b\b\b\b\b\b\b\b\b\b\b\b\b\b\b\b\b\b\b\b\b\b\b\b\b\b\b\b\b\b\b\b\b\b\b\b\b\b\b\b\b\b\b\b\b\b\b\b\b\n",
            "INFO\t2021-06-19 17:42:47 +0000\tmaster-replica-0\t\t155/254 [=================>............] - ETA: 0s - loss: 0.3304 - acc: 0.8456\b\b\b\b\b\b\b\b\b\b\b\b\b\b\b\b\b\b\b\b\b\b\b\b\b\b\b\b\b\b\b\b\b\b\b\b\b\b\b\b\b\b\b\b\b\b\b\b\b\b\b\b\b\b\b\b\b\b\b\b\b\b\b\b\b\b\b\b\b\b\b\b\b\b\b\b\b\b\b\n",
            "INFO\t2021-06-19 17:42:47 +0000\tmaster-replica-0\t\t171/254 [===================>..........] - ETA: 0s - loss: 0.3302 - acc: 0.8469\b\b\b\b\b\b\b\b\b\b\b\b\b\b\b\b\b\b\b\b\b\b\b\b\b\b\b\b\b\b\b\b\b\b\b\b\b\b\b\b\b\b\b\b\b\b\b\b\b\b\b\b\b\b\b\b\b\b\b\b\b\b\b\b\b\b\b\b\b\b\b\b\b\b\b\b\b\b\b\n",
            "INFO\t2021-06-19 17:42:47 +0000\tmaster-replica-0\t\t190/254 [=====================>........] - ETA: 0s - loss: 0.3296 - acc: 0.8464\b\b\b\b\b\b\b\b\b\b\b\b\b\b\b\b\b\b\b\b\b\b\b\b\b\b\b\b\b\b\b\b\b\b\b\b\b\b\b\b\b\b\b\b\b\b\b\b\b\b\b\b\b\b\b\b\b\b\b\b\b\b\b\b\b\b\b\b\b\b\b\b\b\b\b\b\b\b\b\n",
            "INFO\t2021-06-19 17:42:47 +0000\tmaster-replica-0\t\t206/254 [=======================>......] - ETA: 0s - loss: 0.3291 - acc: 0.8464\b\b\b\b\b\b\b\b\b\b\b\b\b\b\b\b\b\b\b\b\b\b\b\b\b\b\b\b\b\b\b\b\b\b\b\b\b\b\b\b\b\b\b\b\b\b\b\b\b\b\b\b\b\b\b\b\b\b\b\b\b\b\b\b\b\b\b\b\b\b\b\b\b\b\b\b\b\b\b\n",
            "INFO\t2021-06-19 17:42:48 +0000\tmaster-replica-0\t\t225/254 [=========================>....] - ETA: 0s - loss: 0.3289 - acc: 0.8466\b\b\b\b\b\b\b\b\b\b\b\b\b\b\b\b\b\b\b\b\b\b\b\b\b\b\b\b\b\b\b\b\b\b\b\b\b\b\b\b\b\b\b\b\b\b\b\b\b\b\b\b\b\b\b\b\b\b\b\b\b\b\b\b\b\b\b\b\b\b\b\b\b\b\b\b\b\b\b\n",
            "INFO\t2021-06-19 17:42:48 +0000\tmaster-replica-0\t\t243/254 [===========================>..] - ETA: 0s - loss: 0.3295 - acc: 0.8465\b\b\b\b\b\b\b\b\b\b\b\b\b\b\b\b\b\b\b\b\b\b\b\b\b\b\b\b\b\b\b\b\b\b\b\b\b\b\b\b\b\b\b\b\b\b\b\b\b\b\b\b\b\b\b\b\b\b\b\b\b\b\b\b\b\b\b\b\b\b\b\b\b\b\b\b\b\b\b\n",
            "INFO\t2021-06-19 17:42:48 +0000\tmaster-replica-0\t\t254/254 [==============================] - 1s 4ms/step - loss: 0.3292 - acc: 0.8469 - val_loss: 0.3288 - val_acc: 0.8449\n",
            "INFO\t2021-06-19 17:42:48 +0000\tmaster-replica-0\t\tEpoch 00009: LearningRateScheduler reducing learning rate to 0.0100390625.\n",
            "INFO\t2021-06-19 17:42:48 +0000\tmaster-replica-0\t\tEpoch 9/20\n",
            "INFO\t2021-06-19 17:42:48 +0000\tmaster-replica-0\t\t  1/254 [..............................] - ETA: 0s - loss: 0.2406 - acc: 0.8828\b\b\b\b\b\b\b\b\b\b\b\b\b\b\b\b\b\b\b\b\b\b\b\b\b\b\b\b\b\b\b\b\b\b\b\b\b\b\b\b\b\b\b\b\b\b\b\b\b\b\b\b\b\b\b\b\b\b\b\b\b\b\b\b\b\b\b\b\b\b\b\b\b\b\b\b\b\b\b\n",
            "INFO\t2021-06-19 17:42:48 +0000\tmaster-replica-0\t\t 19/254 [=>............................] - ETA: 0s - loss: 0.3321 - acc: 0.8405\b\b\b\b\b\b\b\b\b\b\b\b\b\b\b\b\b\b\b\b\b\b\b\b\b\b\b\b\b\b\b\b\b\b\b\b\b\b\b\b\b\b\b\b\b\b\b\b\b\b\b\b\b\b\b\b\b\b\b\b\b\b\b\b\b\b\b\b\b\b\b\b\b\b\b\b\b\b\b\n",
            "INFO\t2021-06-19 17:42:48 +0000\tmaster-replica-0\t\t 40/254 [===>..........................] - ETA: 0s - loss: 0.3356 - acc: 0.8432\b\b\b\b\b\b\b\b\b\b\b\b\b\b\b\b\b\b\b\b\b\b\b\b\b\b\b\b\b\b\b\b\b\b\b\b\b\b\b\b\b\b\b\b\b\b\b\b\b\b\b\b\b\b\b\b\b\b\b\b\b\b\b\b\b\b\b\b\b\b\b\b\b\b\b\b\b\b\b\n",
            "INFO\t2021-06-19 17:42:48 +0000\tmaster-replica-0\t\t 56/254 [=====>........................] - ETA: 0s - loss: 0.3361 - acc: 0.8422\b\b\b\b\b\b\b\b\b\b\b\b\b\b\b\b\b\b\b\b\b\b\b\b\b\b\b\b\b\b\b\b\b\b\b\b\b\b\b\b\b\b\b\b\b\b\b\b\b\b\b\b\b\b\b\b\b\b\b\b\b\b\b\b\b\b\b\b\b\b\b\b\b\b\b\b\b\b\b\n",
            "INFO\t2021-06-19 17:42:48 +0000\tmaster-replica-0\t\t 76/254 [=======>......................] - ETA: 0s - loss: 0.3278 - acc: 0.8483\b\b\b\b\b\b\b\b\b\b\b\b\b\b\b\b\b\b\b\b\b\b\b\b\b\b\b\b\b\b\b\b\b\b\b\b\b\b\b\b\b\b\b\b\b\b\b\b\b\b\b\b\b\b\b\b\b\b\b\b\b\b\b\b\b\b\b\b\b\b\b\b\b\b\b\b\b\b\b\n",
            "INFO\t2021-06-19 17:42:48 +0000\tmaster-replica-0\t\t 94/254 [==========>...................] - ETA: 0s - loss: 0.3334 - acc: 0.8462\b\b\b\b\b\b\b\b\b\b\b\b\b\b\b\b\b\b\b\b\b\b\b\b\b\b\b\b\b\b\b\b\b\b\b\b\b\b\b\b\b\b\b\b\b\b\b\b\b\b\b\b\b\b\b\b\b\b\b\b\b\b\b\b\b\b\b\b\b\b\b\b\b\b\b\b\b\b\b\n",
            "INFO\t2021-06-19 17:42:48 +0000\tmaster-replica-0\t\t114/254 [============>.................] - ETA: 0s - loss: 0.3308 - acc: 0.8467\b\b\b\b\b\b\b\b\b\b\b\b\b\b\b\b\b\b\b\b\b\b\b\b\b\b\b\b\b\b\b\b\b\b\b\b\b\b\b\b\b\b\b\b\b\b\b\b\b\b\b\b\b\b\b\b\b\b\b\b\b\b\b\b\b\b\b\b\b\b\b\b\b\b\b\b\b\b\b\n",
            "INFO\t2021-06-19 17:42:48 +0000\tmaster-replica-0\t\t130/254 [==============>...............] - ETA: 0s - loss: 0.3295 - acc: 0.8472\b\b\b\b\b\b\b\b\b\b\b\b\b\b\b\b\b\b\b\b\b\b\b\b\b\b\b\b\b\b\b\b\b\b\b\b\b\b\b\b\b\b\b\b\b\b\b\b\b\b\b\b\b\b\b\b\b\b\b\b\b\b\b\b\b\b\b\b\b\b\b\b\b\b\b\b\b\b\b\n",
            "INFO\t2021-06-19 17:42:48 +0000\tmaster-replica-0\t\t150/254 [================>.............] - ETA: 0s - loss: 0.3280 - acc: 0.8485\b\b\b\b\b\b\b\b\b\b\b\b\b\b\b\b\b\b\b\b\b\b\b\b\b\b\b\b\b\b\b\b\b\b\b\b\b\b\b\b\b\b\b\b\b\b\b\b\b\b\b\b\b\b\b\b\b\b\b\b\b\b\b\b\b\b\b\b\b\b\b\b\b\b\b\b\b\b\b\n",
            "INFO\t2021-06-19 17:42:48 +0000\tmaster-replica-0\t\t169/254 [==================>...........] - ETA: 0s - loss: 0.3284 - acc: 0.8494\b\b\b\b\b\b\b\b\b\b\b\b\b\b\b\b\b\b\b\b\b\b\b\b\b\b\b\b\b\b\b\b\b\b\b\b\b\b\b\b\b\b\b\b\b\b\b\b\b\b\b\b\b\b\b\b\b\b\b\b\b\b\b\b\b\b\b\b\b\b\b\b\b\b\b\b\b\b\b\n",
            "INFO\t2021-06-19 17:42:48 +0000\tmaster-replica-0\t\t189/254 [=====================>........] - ETA: 0s - loss: 0.3273 - acc: 0.8489\b\b\b\b\b\b\b\b\b\b\b\b\b\b\b\b\b\b\b\b\b\b\b\b\b\b\b\b\b\b\b\b\b\b\b\b\b\b\b\b\b\b\b\b\b\b\b\b\b\b\b\b\b\b\b\b\b\b\b\b\b\b\b\b\b\b\b\b\b\b\b\b\b\b\b\b\b\b\b\n",
            "INFO\t2021-06-19 17:42:49 +0000\tmaster-replica-0\t\t206/254 [=======================>......] - ETA: 0s - loss: 0.3277 - acc: 0.8493\b\b\b\b\b\b\b\b\b\b\b\b\b\b\b\b\b\b\b\b\b\b\b\b\b\b\b\b\b\b\b\b\b\b\b\b\b\b\b\b\b\b\b\b\b\b\b\b\b\b\b\b\b\b\b\b\b\b\b\b\b\b\b\b\b\b\b\b\b\b\b\b\b\b\b\b\b\b\b\n",
            "INFO\t2021-06-19 17:42:49 +0000\tmaster-replica-0\t\t226/254 [=========================>....] - ETA: 0s - loss: 0.3272 - acc: 0.8492\b\b\b\b\b\b\b\b\b\b\b\b\b\b\b\b\b\b\b\b\b\b\b\b\b\b\b\b\b\b\b\b\b\b\b\b\b\b\b\b\b\b\b\b\b\b\b\b\b\b\b\b\b\b\b\b\b\b\b\b\b\b\b\b\b\b\b\b\b\b\b\b\b\b\b\b\b\b\b\n",
            "INFO\t2021-06-19 17:42:49 +0000\tmaster-replica-0\t\t245/254 [===========================>..] - ETA: 0s - loss: 0.3283 - acc: 0.8487\b\b\b\b\b\b\b\b\b\b\b\b\b\b\b\b\b\b\b\b\b\b\b\b\b\b\b\b\b\b\b\b\b\b\b\b\b\b\b\b\b\b\b\b\b\b\b\b\b\b\b\b\b\b\b\b\b\b\b\b\b\b\b\b\b\b\b\b\b\b\b\b\b\b\b\b\b\b\b\n",
            "INFO\t2021-06-19 17:42:49 +0000\tmaster-replica-0\t\t254/254 [==============================] - 1s 4ms/step - loss: 0.3284 - acc: 0.8483 - val_loss: 0.3220 - val_acc: 0.8494\n",
            "INFO\t2021-06-19 17:42:49 +0000\tmaster-replica-0\t\tEpoch 00010: LearningRateScheduler reducing learning rate to 0.01001953125.\n",
            "INFO\t2021-06-19 17:42:49 +0000\tmaster-replica-0\t\tEpoch 10/20\n",
            "INFO\t2021-06-19 17:42:49 +0000\tmaster-replica-0\t\t  1/254 [..............................] - ETA: 0s - loss: 0.3634 - acc: 0.8438\b\b\b\b\b\b\b\b\b\b\b\b\b\b\b\b\b\b\b\b\b\b\b\b\b\b\b\b\b\b\b\b\b\b\b\b\b\b\b\b\b\b\b\b\b\b\b\b\b\b\b\b\b\b\b\b\b\b\b\b\b\b\b\b\b\b\b\b\b\b\b\b\b\b\b\b\b\b\b\n",
            "INFO\t2021-06-19 17:42:49 +0000\tmaster-replica-0\t\t 19/254 [=>............................] - ETA: 0s - loss: 0.3450 - acc: 0.8466\b\b\b\b\b\b\b\b\b\b\b\b\b\b\b\b\b\b\b\b\b\b\b\b\b\b\b\b\b\b\b\b\b\b\b\b\b\b\b\b\b\b\b\b\b\b\b\b\b\b\b\b\b\b\b\b\b\b\b\b\b\b\b\b\b\b\b\b\b\b\b\b\b\b\b\b\b\b\b\n",
            "INFO\t2021-06-19 17:42:49 +0000\tmaster-replica-0\t\t 40/254 [===>..........................] - ETA: 0s - loss: 0.3335 - acc: 0.8469\b\b\b\b\b\b\b\b\b\b\b\b\b\b\b\b\b\b\b\b\b\b\b\b\b\b\b\b\b\b\b\b\b\b\b\b\b\b\b\b\b\b\b\b\b\b\b\b\b\b\b\b\b\b\b\b\b\b\b\b\b\b\b\b\b\b\b\b\b\b\b\b\b\b\b\b\b\b\b\n",
            "INFO\t2021-06-19 17:42:49 +0000\tmaster-replica-0\t\t 59/254 [=====>........................] - ETA: 0s - loss: 0.3279 - acc: 0.8485\b\b\b\b\b\b\b\b\b\b\b\b\b\b\b\b\b\b\b\b\b\b\b\b\b\b\b\b\b\b\b\b\b\b\b\b\b\b\b\b\b\b\b\b\b\b\b\b\b\b\b\b\b\b\b\b\b\b\b\b\b\b\b\b\b\b\b\b\b\b\b\b\b\b\b\b\b\b\b\n",
            "INFO\t2021-06-19 17:42:49 +0000\tmaster-replica-0\t\t 77/254 [========>.....................] - ETA: 0s - loss: 0.3284 - acc: 0.8476\b\b\b\b\b\b\b\b\b\b\b\b\b\b\b\b\b\b\b\b\b\b\b\b\b\b\b\b\b\b\b\b\b\b\b\b\b\b\b\b\b\b\b\b\b\b\b\b\b\b\b\b\b\b\b\b\b\b\b\b\b\b\b\b\b\b\b\b\b\b\b\b\b\b\b\b\b\b\b\n",
            "INFO\t2021-06-19 17:42:49 +0000\tmaster-replica-0\t\t 97/254 [==========>...................] - ETA: 0s - loss: 0.3318 - acc: 0.8455\b\b\b\b\b\b\b\b\b\b\b\b\b\b\b\b\b\b\b\b\b\b\b\b\b\b\b\b\b\b\b\b\b\b\b\b\b\b\b\b\b\b\b\b\b\b\b\b\b\b\b\b\b\b\b\b\b\b\b\b\b\b\b\b\b\b\b\b\b\b\b\b\b\b\b\b\b\b\b\n",
            "INFO\t2021-06-19 17:42:49 +0000\tmaster-replica-0\t\t114/254 [============>.................] - ETA: 0s - loss: 0.3318 - acc: 0.8463\b\b\b\b\b\b\b\b\b\b\b\b\b\b\b\b\b\b\b\b\b\b\b\b\b\b\b\b\b\b\b\b\b\b\b\b\b\b\b\b\b\b\b\b\b\b\b\b\b\b\b\b\b\b\b\b\b\b\b\b\b\b\b\b\b\b\b\b\b\b\b\b\b\b\b\b\b\b\b\n",
            "INFO\t2021-06-19 17:42:49 +0000\tmaster-replica-0\t\t133/254 [==============>...............] - ETA: 0s - loss: 0.3306 - acc: 0.8475\b\b\b\b\b\b\b\b\b\b\b\b\b\b\b\b\b\b\b\b\b\b\b\b\b\b\b\b\b\b\b\b\b\b\b\b\b\b\b\b\b\b\b\b\b\b\b\b\b\b\b\b\b\b\b\b\b\b\b\b\b\b\b\b\b\b\b\b\b\b\b\b\b\b\b\b\b\b\b\n",
            "INFO\t2021-06-19 17:42:49 +0000\tmaster-replica-0\t\t152/254 [================>.............] - ETA: 0s - loss: 0.3301 - acc: 0.8472\b\b\b\b\b\b\b\b\b\b\b\b\b\b\b\b\b\b\b\b\b\b\b\b\b\b\b\b\b\b\b\b\b\b\b\b\b\b\b\b\b\b\b\b\b\b\b\b\b\b\b\b\b\b\b\b\b\b\b\b\b\b\b\b\b\b\b\b\b\b\b\b\b\b\b\b\b\b\b\n",
            "INFO\t2021-06-19 17:42:49 +0000\tmaster-replica-0\t\t172/254 [===================>..........] - ETA: 0s - loss: 0.3300 - acc: 0.8465\b\b\b\b\b\b\b\b\b\b\b\b\b\b\b\b\b\b\b\b\b\b\b\b\b\b\b\b\b\b\b\b\b\b\b\b\b\b\b\b\b\b\b\b\b\b\b\b\b\b\b\b\b\b\b\b\b\b\b\b\b\b\b\b\b\b\b\b\b\b\b\b\b\b\b\b\b\b\b\n",
            "INFO\t2021-06-19 17:42:49 +0000\tmaster-replica-0\t\t190/254 [=====================>........] - ETA: 0s - loss: 0.3290 - acc: 0.8474\b\b\b\b\b\b\b\b\b\b\b\b\b\b\b\b\b\b\b\b\b\b\b\b\b\b\b\b\b\b\b\b\b\b\b\b\b\b\b\b\b\b\b\b\b\b\b\b\b\b\b\b\b\b\b\b\b\b\b\b\b\b\b\b\b\b\b\b\b\b\b\b\b\b\b\b\b\b\b\n",
            "INFO\t2021-06-19 17:42:50 +0000\tmaster-replica-0\t\t210/254 [=======================>......] - ETA: 0s - loss: 0.3287 - acc: 0.8471\b\b\b\b\b\b\b\b\b\b\b\b\b\b\b\b\b\b\b\b\b\b\b\b\b\b\b\b\b\b\b\b\b\b\b\b\b\b\b\b\b\b\b\b\b\b\b\b\b\b\b\b\b\b\b\b\b\b\b\b\b\b\b\b\b\b\b\b\b\b\b\b\b\b\b\b\b\b\b\n",
            "INFO\t2021-06-19 17:42:50 +0000\tmaster-replica-0\t\t229/254 [==========================>...] - ETA: 0s - loss: 0.3292 - acc: 0.8467\b\b\b\b\b\b\b\b\b\b\b\b\b\b\b\b\b\b\b\b\b\b\b\b\b\b\b\b\b\b\b\b\b\b\b\b\b\b\b\b\b\b\b\b\b\b\b\b\b\b\b\b\b\b\b\b\b\b\b\b\b\b\b\b\b\b\b\b\b\b\b\b\b\b\b\b\b\b\b\n",
            "INFO\t2021-06-19 17:42:50 +0000\tmaster-replica-0\t\t249/254 [============================>.] - ETA: 0s - loss: 0.3294 - acc: 0.8470\b\b\b\b\b\b\b\b\b\b\b\b\b\b\b\b\b\b\b\b\b\b\b\b\b\b\b\b\b\b\b\b\b\b\b\b\b\b\b\b\b\b\b\b\b\b\b\b\b\b\b\b\b\b\b\b\b\b\b\b\b\b\b\b\b\b\b\b\b\b\b\b\b\b\b\b\b\b\b\n",
            "INFO\t2021-06-19 17:42:50 +0000\tmaster-replica-0\t\t254/254 [==============================] - 1s 4ms/step - loss: 0.3286 - acc: 0.8476 - val_loss: 0.3231 - val_acc: 0.8511\n",
            "INFO\t2021-06-19 17:42:50 +0000\tmaster-replica-0\t\tEpoch 00011: LearningRateScheduler reducing learning rate to 0.010009765625.\n",
            "INFO\t2021-06-19 17:42:50 +0000\tmaster-replica-0\t\tEpoch 11/20\n",
            "INFO\t2021-06-19 17:42:50 +0000\tmaster-replica-0\t\t  1/254 [..............................] - ETA: 0s - loss: 0.3206 - acc: 0.8438\b\b\b\b\b\b\b\b\b\b\b\b\b\b\b\b\b\b\b\b\b\b\b\b\b\b\b\b\b\b\b\b\b\b\b\b\b\b\b\b\b\b\b\b\b\b\b\b\b\b\b\b\b\b\b\b\b\b\b\b\b\b\b\b\b\b\b\b\b\b\b\b\b\b\b\b\b\b\b\n",
            "INFO\t2021-06-19 17:42:50 +0000\tmaster-replica-0\t\t  2/254 [..............................] - ETA: 7s - loss: 0.3187 - acc: 0.8438\b\b\b\b\b\b\b\b\b\b\b\b\b\b\b\b\b\b\b\b\b\b\b\b\b\b\b\b\b\b\b\b\b\b\b\b\b\b\b\b\b\b\b\b\b\b\b\b\b\b\b\b\b\b\b\b\b\b\b\b\b\b\b\b\b\b\b\b\b\b\b\b\b\b\b\b\b\b\b\n",
            "INFO\t2021-06-19 17:42:50 +0000\tmaster-replica-0\t\t 20/254 [=>............................] - ETA: 1s - loss: 0.3188 - acc: 0.8488\b\b\b\b\b\b\b\b\b\b\b\b\b\b\b\b\b\b\b\b\b\b\b\b\b\b\b\b\b\b\b\b\b\b\b\b\b\b\b\b\b\b\b\b\b\b\b\b\b\b\b\b\b\b\b\b\b\b\b\b\b\b\b\b\b\b\b\b\b\b\b\b\b\b\b\b\b\b\b\n",
            "INFO\t2021-06-19 17:42:50 +0000\tmaster-replica-0\t\t 39/254 [===>..........................] - ETA: 0s - loss: 0.3165 - acc: 0.8532\b\b\b\b\b\b\b\b\b\b\b\b\b\b\b\b\b\b\b\b\b\b\b\b\b\b\b\b\b\b\b\b\b\b\b\b\b\b\b\b\b\b\b\b\b\b\b\b\b\b\b\b\b\b\b\b\b\b\b\b\b\b\b\b\b\b\b\b\b\b\b\b\b\b\b\b\b\b\b\n",
            "INFO\t2021-06-19 17:42:50 +0000\tmaster-replica-0\t\t 58/254 [=====>........................] - ETA: 0s - loss: 0.3237 - acc: 0.8499\b\b\b\b\b\b\b\b\b\b\b\b\b\b\b\b\b\b\b\b\b\b\b\b\b\b\b\b\b\b\b\b\b\b\b\b\b\b\b\b\b\b\b\b\b\b\b\b\b\b\b\b\b\b\b\b\b\b\b\b\b\b\b\b\b\b\b\b\b\b\b\b\b\b\b\b\b\b\b\n",
            "INFO\t2021-06-19 17:42:50 +0000\tmaster-replica-0\t\t 76/254 [=======>......................] - ETA: 0s - loss: 0.3198 - acc: 0.8501\b\b\b\b\b\b\b\b\b\b\b\b\b\b\b\b\b\b\b\b\b\b\b\b\b\b\b\b\b\b\b\b\b\b\b\b\b\b\b\b\b\b\b\b\b\b\b\b\b\b\b\b\b\b\b\b\b\b\b\b\b\b\b\b\b\b\b\b\b\b\b\b\b\b\b\b\b\b\b\n",
            "INFO\t2021-06-19 17:42:50 +0000\tmaster-replica-0\t\t 95/254 [==========>...................] - ETA: 0s - loss: 0.3201 - acc: 0.8504\b\b\b\b\b\b\b\b\b\b\b\b\b\b\b\b\b\b\b\b\b\b\b\b\b\b\b\b\b\b\b\b\b\b\b\b\b\b\b\b\b\b\b\b\b\b\b\b\b\b\b\b\b\b\b\b\b\b\b\b\b\b\b\b\b\b\b\b\b\b\b\b\b\b\b\b\b\b\b\n",
            "INFO\t2021-06-19 17:42:50 +0000\tmaster-replica-0\t\t112/254 [============>.................] - ETA: 0s - loss: 0.3218 - acc: 0.8497\b\b\b\b\b\b\b\b\b\b\b\b\b\b\b\b\b\b\b\b\b\b\b\b\b\b\b\b\b\b\b\b\b\b\b\b\b\b\b\b\b\b\b\b\b\b\b\b\b\b\b\b\b\b\b\b\b\b\b\b\b\b\b\b\b\b\b\b\b\b\b\b\b\b\b\b\b\b\b\n",
            "INFO\t2021-06-19 17:42:50 +0000\tmaster-replica-0\t\t131/254 [==============>...............] - ETA: 0s - loss: 0.3213 - acc: 0.8505\b\b\b\b\b\b\b\b\b\b\b\b\b\b\b\b\b\b\b\b\b\b\b\b\b\b\b\b\b\b\b\b\b\b\b\b\b\b\b\b\b\b\b\b\b\b\b\b\b\b\b\b\b\b\b\b\b\b\b\b\b\b\b\b\b\b\b\b\b\b\b\b\b\b\b\b\b\b\b\n",
            "INFO\t2021-06-19 17:42:50 +0000\tmaster-replica-0\t\t150/254 [================>.............] - ETA: 0s - loss: 0.3213 - acc: 0.8516\b\b\b\b\b\b\b\b\b\b\b\b\b\b\b\b\b\b\b\b\b\b\b\b\b\b\b\b\b\b\b\b\b\b\b\b\b\b\b\b\b\b\b\b\b\b\b\b\b\b\b\b\b\b\b\b\b\b\b\b\b\b\b\b\b\b\b\b\b\b\b\b\b\b\b\b\b\b\b\n",
            "INFO\t2021-06-19 17:42:51 +0000\tmaster-replica-0\t\t169/254 [==================>...........] - ETA: 0s - loss: 0.3216 - acc: 0.8513\b\b\b\b\b\b\b\b\b\b\b\b\b\b\b\b\b\b\b\b\b\b\b\b\b\b\b\b\b\b\b\b\b\b\b\b\b\b\b\b\b\b\b\b\b\b\b\b\b\b\b\b\b\b\b\b\b\b\b\b\b\b\b\b\b\b\b\b\b\b\b\b\b\b\b\b\b\b\b\n",
            "INFO\t2021-06-19 17:42:51 +0000\tmaster-replica-0\t\t188/254 [=====================>........] - ETA: 0s - loss: 0.3242 - acc: 0.8506\b\b\b\b\b\b\b\b\b\b\b\b\b\b\b\b\b\b\b\b\b\b\b\b\b\b\b\b\b\b\b\b\b\b\b\b\b\b\b\b\b\b\b\b\b\b\b\b\b\b\b\b\b\b\b\b\b\b\b\b\b\b\b\b\b\b\b\b\b\b\b\b\b\b\b\b\b\b\b\n",
            "INFO\t2021-06-19 17:42:51 +0000\tmaster-replica-0\t\t209/254 [=======================>......] - ETA: 0s - loss: 0.3244 - acc: 0.8506\b\b\b\b\b\b\b\b\b\b\b\b\b\b\b\b\b\b\b\b\b\b\b\b\b\b\b\b\b\b\b\b\b\b\b\b\b\b\b\b\b\b\b\b\b\b\b\b\b\b\b\b\b\b\b\b\b\b\b\b\b\b\b\b\b\b\b\b\b\b\b\b\b\b\b\b\b\b\b\n",
            "INFO\t2021-06-19 17:42:51 +0000\tmaster-replica-0\t\t229/254 [==========================>...] - ETA: 0s - loss: 0.3255 - acc: 0.8508\b\b\b\b\b\b\b\b\b\b\b\b\b\b\b\b\b\b\b\b\b\b\b\b\b\b\b\b\b\b\b\b\b\b\b\b\b\b\b\b\b\b\b\b\b\b\b\b\b\b\b\b\b\b\b\b\b\b\b\b\b\b\b\b\b\b\b\b\b\b\b\b\b\b\b\b\b\b\b\n",
            "INFO\t2021-06-19 17:42:51 +0000\tmaster-replica-0\t\t249/254 [============================>.] - ETA: 0s - loss: 0.3262 - acc: 0.8503\b\b\b\b\b\b\b\b\b\b\b\b\b\b\b\b\b\b\b\b\b\b\b\b\b\b\b\b\b\b\b\b\b\b\b\b\b\b\b\b\b\b\b\b\b\b\b\b\b\b\b\b\b\b\b\b\b\b\b\b\b\b\b\b\b\b\b\b\b\b\b\b\b\b\b\b\b\b\b\n",
            "INFO\t2021-06-19 17:42:51 +0000\tmaster-replica-0\t\t254/254 [==============================] - 1s 4ms/step - loss: 0.3270 - acc: 0.8497 - val_loss: 0.3224 - val_acc: 0.8475\n",
            "INFO\t2021-06-19 17:42:51 +0000\tmaster-replica-0\t\tEpoch 00012: LearningRateScheduler reducing learning rate to 0.010004882812500001.\n",
            "INFO\t2021-06-19 17:42:51 +0000\tmaster-replica-0\t\tEpoch 12/20\n",
            "INFO\t2021-06-19 17:42:51 +0000\tmaster-replica-0\t\t  1/254 [..............................] - ETA: 0s - loss: 0.2845 - acc: 0.8516\b\b\b\b\b\b\b\b\b\b\b\b\b\b\b\b\b\b\b\b\b\b\b\b\b\b\b\b\b\b\b\b\b\b\b\b\b\b\b\b\b\b\b\b\b\b\b\b\b\b\b\b\b\b\b\b\b\b\b\b\b\b\b\b\b\b\b\b\b\b\b\b\b\b\b\b\b\b\b\n",
            "INFO\t2021-06-19 17:42:51 +0000\tmaster-replica-0\t\t 19/254 [=>............................] - ETA: 0s - loss: 0.3328 - acc: 0.8479\b\b\b\b\b\b\b\b\b\b\b\b\b\b\b\b\b\b\b\b\b\b\b\b\b\b\b\b\b\b\b\b\b\b\b\b\b\b\b\b\b\b\b\b\b\b\b\b\b\b\b\b\b\b\b\b\b\b\b\b\b\b\b\b\b\b\b\b\b\b\b\b\b\b\b\b\b\b\b\n",
            "INFO\t2021-06-19 17:42:51 +0000\tmaster-replica-0\t\t 39/254 [===>..........................] - ETA: 0s - loss: 0.3129 - acc: 0.8598\b\b\b\b\b\b\b\b\b\b\b\b\b\b\b\b\b\b\b\b\b\b\b\b\b\b\b\b\b\b\b\b\b\b\b\b\b\b\b\b\b\b\b\b\b\b\b\b\b\b\b\b\b\b\b\b\b\b\b\b\b\b\b\b\b\b\b\b\b\b\b\b\b\b\b\b\b\b\b\n",
            "INFO\t2021-06-19 17:42:51 +0000\tmaster-replica-0\t\t 57/254 [=====>........................] - ETA: 0s - loss: 0.3140 - acc: 0.8575\b\b\b\b\b\b\b\b\b\b\b\b\b\b\b\b\b\b\b\b\b\b\b\b\b\b\b\b\b\b\b\b\b\b\b\b\b\b\b\b\b\b\b\b\b\b\b\b\b\b\b\b\b\b\b\b\b\b\b\b\b\b\b\b\b\b\b\b\b\b\b\b\b\b\b\b\b\b\b\n",
            "INFO\t2021-06-19 17:42:51 +0000\tmaster-replica-0\t\t 77/254 [========>.....................] - ETA: 0s - loss: 0.3181 - acc: 0.8534\b\b\b\b\b\b\b\b\b\b\b\b\b\b\b\b\b\b\b\b\b\b\b\b\b\b\b\b\b\b\b\b\b\b\b\b\b\b\b\b\b\b\b\b\b\b\b\b\b\b\b\b\b\b\b\b\b\b\b\b\b\b\b\b\b\b\b\b\b\b\b\b\b\b\b\b\b\b\b\n",
            "INFO\t2021-06-19 17:42:51 +0000\tmaster-replica-0\t\t 97/254 [==========>...................] - ETA: 0s - loss: 0.3177 - acc: 0.8541\b\b\b\b\b\b\b\b\b\b\b\b\b\b\b\b\b\b\b\b\b\b\b\b\b\b\b\b\b\b\b\b\b\b\b\b\b\b\b\b\b\b\b\b\b\b\b\b\b\b\b\b\b\b\b\b\b\b\b\b\b\b\b\b\b\b\b\b\b\b\b\b\b\b\b\b\b\b\b\n",
            "INFO\t2021-06-19 17:42:51 +0000\tmaster-replica-0\t\t116/254 [============>.................] - ETA: 0s - loss: 0.3198 - acc: 0.8520\b\b\b\b\b\b\b\b\b\b\b\b\b\b\b\b\b\b\b\b\b\b\b\b\b\b\b\b\b\b\b\b\b\b\b\b\b\b\b\b\b\b\b\b\b\b\b\b\b\b\b\b\b\b\b\b\b\b\b\b\b\b\b\b\b\b\b\b\b\b\b\b\b\b\b\b\b\b\b\n",
            "INFO\t2021-06-19 17:42:51 +0000\tmaster-replica-0\t\t135/254 [==============>...............] - ETA: 0s - loss: 0.3220 - acc: 0.8514\b\b\b\b\b\b\b\b\b\b\b\b\b\b\b\b\b\b\b\b\b\b\b\b\b\b\b\b\b\b\b\b\b\b\b\b\b\b\b\b\b\b\b\b\b\b\b\b\b\b\b\b\b\b\b\b\b\b\b\b\b\b\b\b\b\b\b\b\b\b\b\b\b\b\b\b\b\b\b\n",
            "INFO\t2021-06-19 17:42:51 +0000\tmaster-replica-0\t\t155/254 [=================>............] - ETA: 0s - loss: 0.3216 - acc: 0.8514\b\b\b\b\b\b\b\b\b\b\b\b\b\b\b\b\b\b\b\b\b\b\b\b\b\b\b\b\b\b\b\b\b\b\b\b\b\b\b\b\b\b\b\b\b\b\b\b\b\b\b\b\b\b\b\b\b\b\b\b\b\b\b\b\b\b\b\b\b\b\b\b\b\b\b\b\b\b\b\n",
            "INFO\t2021-06-19 17:42:52 +0000\tmaster-replica-0\t\t173/254 [===================>..........] - ETA: 0s - loss: 0.3248 - acc: 0.8506\b\b\b\b\b\b\b\b\b\b\b\b\b\b\b\b\b\b\b\b\b\b\b\b\b\b\b\b\b\b\b\b\b\b\b\b\b\b\b\b\b\b\b\b\b\b\b\b\b\b\b\b\b\b\b\b\b\b\b\b\b\b\b\b\b\b\b\b\b\b\b\b\b\b\b\b\b\b\b\n",
            "INFO\t2021-06-19 17:42:52 +0000\tmaster-replica-0\t\t193/254 [=====================>........] - ETA: 0s - loss: 0.3250 - acc: 0.8498\b\b\b\b\b\b\b\b\b\b\b\b\b\b\b\b\b\b\b\b\b\b\b\b\b\b\b\b\b\b\b\b\b\b\b\b\b\b\b\b\b\b\b\b\b\b\b\b\b\b\b\b\b\b\b\b\b\b\b\b\b\b\b\b\b\b\b\b\b\b\b\b\b\b\b\b\b\b\b\n",
            "INFO\t2021-06-19 17:42:52 +0000\tmaster-replica-0\t\t212/254 [========================>.....] - ETA: 0s - loss: 0.3233 - acc: 0.8499\b\b\b\b\b\b\b\b\b\b\b\b\b\b\b\b\b\b\b\b\b\b\b\b\b\b\b\b\b\b\b\b\b\b\b\b\b\b\b\b\b\b\b\b\b\b\b\b\b\b\b\b\b\b\b\b\b\b\b\b\b\b\b\b\b\b\b\b\b\b\b\b\b\b\b\b\b\b\b\n",
            "INFO\t2021-06-19 17:42:52 +0000\tmaster-replica-0\t\t233/254 [==========================>...] - ETA: 0s - loss: 0.3239 - acc: 0.8497\b\b\b\b\b\b\b\b\b\b\b\b\b\b\b\b\b\b\b\b\b\b\b\b\b\b\b\b\b\b\b\b\b\b\b\b\b\b\b\b\b\b\b\b\b\b\b\b\b\b\b\b\b\b\b\b\b\b\b\b\b\b\b\b\b\b\b\b\b\b\b\b\b\b\b\b\b\b\b\n",
            "INFO\t2021-06-19 17:42:52 +0000\tmaster-replica-0\t\t252/254 [============================>.] - ETA: 0s - loss: 0.3251 - acc: 0.8491\b\b\b\b\b\b\b\b\b\b\b\b\b\b\b\b\b\b\b\b\b\b\b\b\b\b\b\b\b\b\b\b\b\b\b\b\b\b\b\b\b\b\b\b\b\b\b\b\b\b\b\b\b\b\b\b\b\b\b\b\b\b\b\b\b\b\b\b\b\b\b\b\b\b\b\b\b\b\b\n",
            "INFO\t2021-06-19 17:42:52 +0000\tmaster-replica-0\t\t254/254 [==============================] - 1s 4ms/step - loss: 0.3255 - acc: 0.8491 - val_loss: 0.3386 - val_acc: 0.8396\n",
            "INFO\t2021-06-19 17:42:52 +0000\tmaster-replica-0\t\tEpoch 00013: LearningRateScheduler reducing learning rate to 0.01000244140625.\n",
            "INFO\t2021-06-19 17:42:52 +0000\tmaster-replica-0\t\tEpoch 13/20\n",
            "INFO\t2021-06-19 17:42:52 +0000\tmaster-replica-0\t\t  1/254 [..............................] - ETA: 0s - loss: 0.2794 - acc: 0.8750\b\b\b\b\b\b\b\b\b\b\b\b\b\b\b\b\b\b\b\b\b\b\b\b\b\b\b\b\b\b\b\b\b\b\b\b\b\b\b\b\b\b\b\b\b\b\b\b\b\b\b\b\b\b\b\b\b\b\b\b\b\b\b\b\b\b\b\b\b\b\b\b\b\b\b\b\b\b\b\n",
            "INFO\t2021-06-19 17:42:52 +0000\tmaster-replica-0\t\t 21/254 [=>............................] - ETA: 0s - loss: 0.3147 - acc: 0.8460\b\b\b\b\b\b\b\b\b\b\b\b\b\b\b\b\b\b\b\b\b\b\b\b\b\b\b\b\b\b\b\b\b\b\b\b\b\b\b\b\b\b\b\b\b\b\b\b\b\b\b\b\b\b\b\b\b\b\b\b\b\b\b\b\b\b\b\b\b\b\b\b\b\b\b\b\b\b\b\n",
            "INFO\t2021-06-19 17:42:52 +0000\tmaster-replica-0\t\t 42/254 [===>..........................] - ETA: 0s - loss: 0.3219 - acc: 0.8423\b\b\b\b\b\b\b\b\b\b\b\b\b\b\b\b\b\b\b\b\b\b\b\b\b\b\b\b\b\b\b\b\b\b\b\b\b\b\b\b\b\b\b\b\b\b\b\b\b\b\b\b\b\b\b\b\b\b\b\b\b\b\b\b\b\b\b\b\b\b\b\b\b\b\b\b\b\b\b\n",
            "INFO\t2021-06-19 17:42:52 +0000\tmaster-replica-0\t\t 61/254 [======>.......................] - ETA: 0s - loss: 0.3155 - acc: 0.8467\b\b\b\b\b\b\b\b\b\b\b\b\b\b\b\b\b\b\b\b\b\b\b\b\b\b\b\b\b\b\b\b\b\b\b\b\b\b\b\b\b\b\b\b\b\b\b\b\b\b\b\b\b\b\b\b\b\b\b\b\b\b\b\b\b\b\b\b\b\b\b\b\b\b\b\b\b\b\b\n",
            "INFO\t2021-06-19 17:42:52 +0000\tmaster-replica-0\t\t 82/254 [========>.....................] - ETA: 0s - loss: 0.3172 - acc: 0.8481\b\b\b\b\b\b\b\b\b\b\b\b\b\b\b\b\b\b\b\b\b\b\b\b\b\b\b\b\b\b\b\b\b\b\b\b\b\b\b\b\b\b\b\b\b\b\b\b\b\b\b\b\b\b\b\b\b\b\b\b\b\b\b\b\b\b\b\b\b\b\b\b\b\b\b\b\b\b\b\n",
            "INFO\t2021-06-19 17:42:52 +0000\tmaster-replica-0\t\t102/254 [===========>..................] - ETA: 0s - loss: 0.3173 - acc: 0.8477\b\b\b\b\b\b\b\b\b\b\b\b\b\b\b\b\b\b\b\b\b\b\b\b\b\b\b\b\b\b\b\b\b\b\b\b\b\b\b\b\b\b\b\b\b\b\b\b\b\b\b\b\b\b\b\b\b\b\b\b\b\b\b\b\b\b\b\b\b\b\b\b\b\b\b\b\b\b\b\n",
            "INFO\t2021-06-19 17:42:52 +0000\tmaster-replica-0\t\t123/254 [=============>................] - ETA: 0s - loss: 0.3202 - acc: 0.8476\b\b\b\b\b\b\b\b\b\b\b\b\b\b\b\b\b\b\b\b\b\b\b\b\b\b\b\b\b\b\b\b\b\b\b\b\b\b\b\b\b\b\b\b\b\b\b\b\b\b\b\b\b\b\b\b\b\b\b\b\b\b\b\b\b\b\b\b\b\b\b\b\b\b\b\b\b\b\b\n",
            "INFO\t2021-06-19 17:42:52 +0000\tmaster-replica-0\t\t142/254 [===============>..............] - ETA: 0s - loss: 0.3201 - acc: 0.8490\b\b\b\b\b\b\b\b\b\b\b\b\b\b\b\b\b\b\b\b\b\b\b\b\b\b\b\b\b\b\b\b\b\b\b\b\b\b\b\b\b\b\b\b\b\b\b\b\b\b\b\b\b\b\b\b\b\b\b\b\b\b\b\b\b\b\b\b\b\b\b\b\b\b\b\b\b\b\b\n",
            "INFO\t2021-06-19 17:42:52 +0000\tmaster-replica-0\t\t161/254 [==================>...........] - ETA: 0s - loss: 0.3220 - acc: 0.8494\b\b\b\b\b\b\b\b\b\b\b\b\b\b\b\b\b\b\b\b\b\b\b\b\b\b\b\b\b\b\b\b\b\b\b\b\b\b\b\b\b\b\b\b\b\b\b\b\b\b\b\b\b\b\b\b\b\b\b\b\b\b\b\b\b\b\b\b\b\b\b\b\b\b\b\b\b\b\b\n",
            "INFO\t2021-06-19 17:42:53 +0000\tmaster-replica-0\t\t180/254 [====================>.........] - ETA: 0s - loss: 0.3225 - acc: 0.8484\b\b\b\b\b\b\b\b\b\b\b\b\b\b\b\b\b\b\b\b\b\b\b\b\b\b\b\b\b\b\b\b\b\b\b\b\b\b\b\b\b\b\b\b\b\b\b\b\b\b\b\b\b\b\b\b\b\b\b\b\b\b\b\b\b\b\b\b\b\b\b\b\b\b\b\b\b\b\b\n",
            "INFO\t2021-06-19 17:42:53 +0000\tmaster-replica-0\t\t200/254 [======================>.......] - ETA: 0s - loss: 0.3223 - acc: 0.8492\b\b\b\b\b\b\b\b\b\b\b\b\b\b\b\b\b\b\b\b\b\b\b\b\b\b\b\b\b\b\b\b\b\b\b\b\b\b\b\b\b\b\b\b\b\b\b\b\b\b\b\b\b\b\b\b\b\b\b\b\b\b\b\b\b\b\b\b\b\b\b\b\b\b\b\b\b\b\b\n",
            "INFO\t2021-06-19 17:42:53 +0000\tmaster-replica-0\t\t221/254 [=========================>....] - ETA: 0s - loss: 0.3214 - acc: 0.8502\b\b\b\b\b\b\b\b\b\b\b\b\b\b\b\b\b\b\b\b\b\b\b\b\b\b\b\b\b\b\b\b\b\b\b\b\b\b\b\b\b\b\b\b\b\b\b\b\b\b\b\b\b\b\b\b\b\b\b\b\b\b\b\b\b\b\b\b\b\b\b\b\b\b\b\b\b\b\b\n",
            "INFO\t2021-06-19 17:42:53 +0000\tmaster-replica-0\t\t240/254 [===========================>..] - ETA: 0s - loss: 0.3219 - acc: 0.8501\b\b\b\b\b\b\b\b\b\b\b\b\b\b\b\b\b\b\b\b\b\b\b\b\b\b\b\b\b\b\b\b\b\b\b\b\b\b\b\b\b\b\b\b\b\b\b\b\b\b\b\b\b\b\b\b\b\b\b\b\b\b\b\b\b\b\b\b\b\b\b\b\b\b\b\b\b\b\b\n",
            "INFO\t2021-06-19 17:42:53 +0000\tmaster-replica-0\t\t254/254 [==============================] - 1s 4ms/step - loss: 0.3229 - acc: 0.8503 - val_loss: 0.3207 - val_acc: 0.8527\n",
            "INFO\t2021-06-19 17:42:53 +0000\tmaster-replica-0\t\tEpoch 00014: LearningRateScheduler reducing learning rate to 0.010001220703125.\n",
            "INFO\t2021-06-19 17:42:53 +0000\tmaster-replica-0\t\tEpoch 14/20\n",
            "INFO\t2021-06-19 17:42:53 +0000\tmaster-replica-0\t\t  1/254 [..............................] - ETA: 0s - loss: 0.2922 - acc: 0.8672\b\b\b\b\b\b\b\b\b\b\b\b\b\b\b\b\b\b\b\b\b\b\b\b\b\b\b\b\b\b\b\b\b\b\b\b\b\b\b\b\b\b\b\b\b\b\b\b\b\b\b\b\b\b\b\b\b\b\b\b\b\b\b\b\b\b\b\b\b\b\b\b\b\b\b\b\b\b\b\n",
            "INFO\t2021-06-19 17:42:53 +0000\tmaster-replica-0\t\t 18/254 [=>............................] - ETA: 0s - loss: 0.3391 - acc: 0.8446\b\b\b\b\b\b\b\b\b\b\b\b\b\b\b\b\b\b\b\b\b\b\b\b\b\b\b\b\b\b\b\b\b\b\b\b\b\b\b\b\b\b\b\b\b\b\b\b\b\b\b\b\b\b\b\b\b\b\b\b\b\b\b\b\b\b\b\b\b\b\b\b\b\b\b\b\b\b\b\n",
            "INFO\t2021-06-19 17:42:53 +0000\tmaster-replica-0\t\t 37/254 [===>..........................] - ETA: 0s - loss: 0.3384 - acc: 0.8412\b\b\b\b\b\b\b\b\b\b\b\b\b\b\b\b\b\b\b\b\b\b\b\b\b\b\b\b\b\b\b\b\b\b\b\b\b\b\b\b\b\b\b\b\b\b\b\b\b\b\b\b\b\b\b\b\b\b\b\b\b\b\b\b\b\b\b\b\b\b\b\b\b\b\b\b\b\b\b\n",
            "INFO\t2021-06-19 17:42:53 +0000\tmaster-replica-0\t\t 54/254 [=====>........................] - ETA: 0s - loss: 0.3287 - acc: 0.8436\b\b\b\b\b\b\b\b\b\b\b\b\b\b\b\b\b\b\b\b\b\b\b\b\b\b\b\b\b\b\b\b\b\b\b\b\b\b\b\b\b\b\b\b\b\b\b\b\b\b\b\b\b\b\b\b\b\b\b\b\b\b\b\b\b\b\b\b\b\b\b\b\b\b\b\b\b\b\b\n",
            "INFO\t2021-06-19 17:42:53 +0000\tmaster-replica-0\t\t 73/254 [=======>......................] - ETA: 0s - loss: 0.3239 - acc: 0.8467\b\b\b\b\b\b\b\b\b\b\b\b\b\b\b\b\b\b\b\b\b\b\b\b\b\b\b\b\b\b\b\b\b\b\b\b\b\b\b\b\b\b\b\b\b\b\b\b\b\b\b\b\b\b\b\b\b\b\b\b\b\b\b\b\b\b\b\b\b\b\b\b\b\b\b\b\b\b\b\n",
            "INFO\t2021-06-19 17:42:53 +0000\tmaster-replica-0\t\t 88/254 [=========>....................] - ETA: 0s - loss: 0.3271 - acc: 0.8456\b\b\b\b\b\b\b\b\b\b\b\b\b\b\b\b\b\b\b\b\b\b\b\b\b\b\b\b\b\b\b\b\b\b\b\b\b\b\b\b\b\b\b\b\b\b\b\b\b\b\b\b\b\b\b\b\b\b\b\b\b\b\b\b\b\b\b\b\b\b\b\b\b\b\b\b\b\b\b\n",
            "INFO\t2021-06-19 17:42:53 +0000\tmaster-replica-0\t\t107/254 [===========>..................] - ETA: 0s - loss: 0.3240 - acc: 0.8468\b\b\b\b\b\b\b\b\b\b\b\b\b\b\b\b\b\b\b\b\b\b\b\b\b\b\b\b\b\b\b\b\b\b\b\b\b\b\b\b\b\b\b\b\b\b\b\b\b\b\b\b\b\b\b\b\b\b\b\b\b\b\b\b\b\b\b\b\b\b\b\b\b\b\b\b\b\b\b\n",
            "INFO\t2021-06-19 17:42:53 +0000\tmaster-replica-0\t\t127/254 [==============>...............] - ETA: 0s - loss: 0.3225 - acc: 0.8468\b\b\b\b\b\b\b\b\b\b\b\b\b\b\b\b\b\b\b\b\b\b\b\b\b\b\b\b\b\b\b\b\b\b\b\b\b\b\b\b\b\b\b\b\b\b\b\b\b\b\b\b\b\b\b\b\b\b\b\b\b\b\b\b\b\b\b\b\b\b\b\b\b\b\b\b\b\b\b\n",
            "INFO\t2021-06-19 17:42:53 +0000\tmaster-replica-0\t\t146/254 [================>.............] - ETA: 0s - loss: 0.3250 - acc: 0.8461\b\b\b\b\b\b\b\b\b\b\b\b\b\b\b\b\b\b\b\b\b\b\b\b\b\b\b\b\b\b\b\b\b\b\b\b\b\b\b\b\b\b\b\b\b\b\b\b\b\b\b\b\b\b\b\b\b\b\b\b\b\b\b\b\b\b\b\b\b\b\b\b\b\b\b\b\b\b\b\n",
            "INFO\t2021-06-19 17:42:54 +0000\tmaster-replica-0\t\t164/254 [==================>...........] - ETA: 0s - loss: 0.3249 - acc: 0.8454\b\b\b\b\b\b\b\b\b\b\b\b\b\b\b\b\b\b\b\b\b\b\b\b\b\b\b\b\b\b\b\b\b\b\b\b\b\b\b\b\b\b\b\b\b\b\b\b\b\b\b\b\b\b\b\b\b\b\b\b\b\b\b\b\b\b\b\b\b\b\b\b\b\b\b\b\b\b\b\n",
            "INFO\t2021-06-19 17:42:54 +0000\tmaster-replica-0\t\t184/254 [====================>.........] - ETA: 0s - loss: 0.3255 - acc: 0.8448\b\b\b\b\b\b\b\b\b\b\b\b\b\b\b\b\b\b\b\b\b\b\b\b\b\b\b\b\b\b\b\b\b\b\b\b\b\b\b\b\b\b\b\b\b\b\b\b\b\b\b\b\b\b\b\b\b\b\b\b\b\b\b\b\b\b\b\b\b\b\b\b\b\b\b\b\b\b\b\n",
            "INFO\t2021-06-19 17:42:54 +0000\tmaster-replica-0\t\t201/254 [======================>.......] - ETA: 0s - loss: 0.3243 - acc: 0.8464\b\b\b\b\b\b\b\b\b\b\b\b\b\b\b\b\b\b\b\b\b\b\b\b\b\b\b\b\b\b\b\b\b\b\b\b\b\b\b\b\b\b\b\b\b\b\b\b\b\b\b\b\b\b\b\b\b\b\b\b\b\b\b\b\b\b\b\b\b\b\b\b\b\b\b\b\b\b\b\n",
            "INFO\t2021-06-19 17:42:54 +0000\tmaster-replica-0\t\t218/254 [========================>.....] - ETA: 0s - loss: 0.3227 - acc: 0.8470\b\b\b\b\b\b\b\b\b\b\b\b\b\b\b\b\b\b\b\b\b\b\b\b\b\b\b\b\b\b\b\b\b\b\b\b\b\b\b\b\b\b\b\b\b\b\b\b\b\b\b\b\b\b\b\b\b\b\b\b\b\b\b\b\b\b\b\b\b\b\b\b\b\b\b\b\b\b\b\n",
            "INFO\t2021-06-19 17:42:54 +0000\tmaster-replica-0\t\t235/254 [==========================>...] - ETA: 0s - loss: 0.3224 - acc: 0.8476\b\b\b\b\b\b\b\b\b\b\b\b\b\b\b\b\b\b\b\b\b\b\b\b\b\b\b\b\b\b\b\b\b\b\b\b\b\b\b\b\b\b\b\b\b\b\b\b\b\b\b\b\b\b\b\b\b\b\b\b\b\b\b\b\b\b\b\b\b\b\b\b\b\b\b\b\b\b\b\n",
            "INFO\t2021-06-19 17:42:54 +0000\tmaster-replica-0\t\t254/254 [==============================] - 1s 4ms/step - loss: 0.3224 - acc: 0.8479 - val_loss: 0.3239 - val_acc: 0.8543\n",
            "INFO\t2021-06-19 17:42:54 +0000\tmaster-replica-0\t\tEpoch 00015: LearningRateScheduler reducing learning rate to 0.0100006103515625.\n",
            "INFO\t2021-06-19 17:42:54 +0000\tmaster-replica-0\t\tEpoch 15/20\n",
            "INFO\t2021-06-19 17:42:54 +0000\tmaster-replica-0\t\t  1/254 [..............................] - ETA: 0s - loss: 0.4470 - acc: 0.8438\b\b\b\b\b\b\b\b\b\b\b\b\b\b\b\b\b\b\b\b\b\b\b\b\b\b\b\b\b\b\b\b\b\b\b\b\b\b\b\b\b\b\b\b\b\b\b\b\b\b\b\b\b\b\b\b\b\b\b\b\b\b\b\b\b\b\b\b\b\b\b\b\b\b\b\b\b\b\b\n",
            "INFO\t2021-06-19 17:42:54 +0000\tmaster-replica-0\t\t 20/254 [=>............................] - ETA: 0s - loss: 0.3506 - acc: 0.8434\b\b\b\b\b\b\b\b\b\b\b\b\b\b\b\b\b\b\b\b\b\b\b\b\b\b\b\b\b\b\b\b\b\b\b\b\b\b\b\b\b\b\b\b\b\b\b\b\b\b\b\b\b\b\b\b\b\b\b\b\b\b\b\b\b\b\b\b\b\b\b\b\b\b\b\b\b\b\b\n",
            "INFO\t2021-06-19 17:42:54 +0000\tmaster-replica-0\t\t 41/254 [===>..........................] - ETA: 0s - loss: 0.3376 - acc: 0.8457\b\b\b\b\b\b\b\b\b\b\b\b\b\b\b\b\b\b\b\b\b\b\b\b\b\b\b\b\b\b\b\b\b\b\b\b\b\b\b\b\b\b\b\b\b\b\b\b\b\b\b\b\b\b\b\b\b\b\b\b\b\b\b\b\b\b\b\b\b\b\b\b\b\b\b\b\b\b\b\n",
            "INFO\t2021-06-19 17:42:54 +0000\tmaster-replica-0\t\t 60/254 [======>.......................] - ETA: 0s - loss: 0.3290 - acc: 0.8486\b\b\b\b\b\b\b\b\b\b\b\b\b\b\b\b\b\b\b\b\b\b\b\b\b\b\b\b\b\b\b\b\b\b\b\b\b\b\b\b\b\b\b\b\b\b\b\b\b\b\b\b\b\b\b\b\b\b\b\b\b\b\b\b\b\b\b\b\b\b\b\b\b\b\b\b\b\b\b\n",
            "INFO\t2021-06-19 17:42:54 +0000\tmaster-replica-0\t\t 80/254 [========>.....................] - ETA: 0s - loss: 0.3213 - acc: 0.8528\b\b\b\b\b\b\b\b\b\b\b\b\b\b\b\b\b\b\b\b\b\b\b\b\b\b\b\b\b\b\b\b\b\b\b\b\b\b\b\b\b\b\b\b\b\b\b\b\b\b\b\b\b\b\b\b\b\b\b\b\b\b\b\b\b\b\b\b\b\b\b\b\b\b\b\b\b\b\b\n",
            "INFO\t2021-06-19 17:42:54 +0000\tmaster-replica-0\t\t100/254 [==========>...................] - ETA: 0s - loss: 0.3207 - acc: 0.8537\b\b\b\b\b\b\b\b\b\b\b\b\b\b\b\b\b\b\b\b\b\b\b\b\b\b\b\b\b\b\b\b\b\b\b\b\b\b\b\b\b\b\b\b\b\b\b\b\b\b\b\b\b\b\b\b\b\b\b\b\b\b\b\b\b\b\b\b\b\b\b\b\b\b\b\b\b\b\b\n",
            "INFO\t2021-06-19 17:42:54 +0000\tmaster-replica-0\t\t118/254 [============>.................] - ETA: 0s - loss: 0.3226 - acc: 0.8526\b\b\b\b\b\b\b\b\b\b\b\b\b\b\b\b\b\b\b\b\b\b\b\b\b\b\b\b\b\b\b\b\b\b\b\b\b\b\b\b\b\b\b\b\b\b\b\b\b\b\b\b\b\b\b\b\b\b\b\b\b\b\b\b\b\b\b\b\b\b\b\b\b\b\b\b\b\b\b\n",
            "INFO\t2021-06-19 17:42:54 +0000\tmaster-replica-0\t\t138/254 [===============>..............] - ETA: 0s - loss: 0.3239 - acc: 0.8501\b\b\b\b\b\b\b\b\b\b\b\b\b\b\b\b\b\b\b\b\b\b\b\b\b\b\b\b\b\b\b\b\b\b\b\b\b\b\b\b\b\b\b\b\b\b\b\b\b\b\b\b\b\b\b\b\b\b\b\b\b\b\b\b\b\b\b\b\b\b\b\b\b\b\b\b\b\b\b\n",
            "INFO\t2021-06-19 17:42:54 +0000\tmaster-replica-0\t\t155/254 [=================>............] - ETA: 0s - loss: 0.3231 - acc: 0.8503\b\b\b\b\b\b\b\b\b\b\b\b\b\b\b\b\b\b\b\b\b\b\b\b\b\b\b\b\b\b\b\b\b\b\b\b\b\b\b\b\b\b\b\b\b\b\b\b\b\b\b\b\b\b\b\b\b\b\b\b\b\b\b\b\b\b\b\b\b\b\b\b\b\b\b\b\b\b\b\n",
            "INFO\t2021-06-19 17:42:55 +0000\tmaster-replica-0\t\t175/254 [===================>..........] - ETA: 0s - loss: 0.3251 - acc: 0.8491\b\b\b\b\b\b\b\b\b\b\b\b\b\b\b\b\b\b\b\b\b\b\b\b\b\b\b\b\b\b\b\b\b\b\b\b\b\b\b\b\b\b\b\b\b\b\b\b\b\b\b\b\b\b\b\b\b\b\b\b\b\b\b\b\b\b\b\b\b\b\b\b\b\b\b\b\b\b\b\n",
            "INFO\t2021-06-19 17:42:55 +0000\tmaster-replica-0\t\t192/254 [=====================>........] - ETA: 0s - loss: 0.3236 - acc: 0.8501\b\b\b\b\b\b\b\b\b\b\b\b\b\b\b\b\b\b\b\b\b\b\b\b\b\b\b\b\b\b\b\b\b\b\b\b\b\b\b\b\b\b\b\b\b\b\b\b\b\b\b\b\b\b\b\b\b\b\b\b\b\b\b\b\b\b\b\b\b\b\b\b\b\b\b\b\b\b\b\n",
            "INFO\t2021-06-19 17:42:55 +0000\tmaster-replica-0\t\t212/254 [========================>.....] - ETA: 0s - loss: 0.3241 - acc: 0.8496\b\b\b\b\b\b\b\b\b\b\b\b\b\b\b\b\b\b\b\b\b\b\b\b\b\b\b\b\b\b\b\b\b\b\b\b\b\b\b\b\b\b\b\b\b\b\b\b\b\b\b\b\b\b\b\b\b\b\b\b\b\b\b\b\b\b\b\b\b\b\b\b\b\b\b\b\b\b\b\n",
            "INFO\t2021-06-19 17:42:55 +0000\tmaster-replica-0\t\t232/254 [==========================>...] - ETA: 0s - loss: 0.3263 - acc: 0.8487\b\b\b\b\b\b\b\b\b\b\b\b\b\b\b\b\b\b\b\b\b\b\b\b\b\b\b\b\b\b\b\b\b\b\b\b\b\b\b\b\b\b\b\b\b\b\b\b\b\b\b\b\b\b\b\b\b\b\b\b\b\b\b\b\b\b\b\b\b\b\b\b\b\b\b\b\b\b\b\n",
            "INFO\t2021-06-19 17:42:55 +0000\tmaster-replica-0\t\t252/254 [============================>.] - ETA: 0s - loss: 0.3250 - acc: 0.8491\b\b\b\b\b\b\b\b\b\b\b\b\b\b\b\b\b\b\b\b\b\b\b\b\b\b\b\b\b\b\b\b\b\b\b\b\b\b\b\b\b\b\b\b\b\b\b\b\b\b\b\b\b\b\b\b\b\b\b\b\b\b\b\b\b\b\b\b\b\b\b\b\b\b\b\b\b\b\b\n",
            "INFO\t2021-06-19 17:42:55 +0000\tmaster-replica-0\t\t254/254 [==============================] - 1s 4ms/step - loss: 0.3245 - acc: 0.8494 - val_loss: 0.3276 - val_acc: 0.8523\n",
            "INFO\t2021-06-19 17:42:55 +0000\tmaster-replica-0\t\tEpoch 00016: LearningRateScheduler reducing learning rate to 0.01000030517578125.\n",
            "INFO\t2021-06-19 17:42:55 +0000\tmaster-replica-0\t\tEpoch 16/20\n",
            "INFO\t2021-06-19 17:42:55 +0000\tmaster-replica-0\t\t  1/254 [..............................] - ETA: 0s - loss: 0.3814 - acc: 0.8750\b\b\b\b\b\b\b\b\b\b\b\b\b\b\b\b\b\b\b\b\b\b\b\b\b\b\b\b\b\b\b\b\b\b\b\b\b\b\b\b\b\b\b\b\b\b\b\b\b\b\b\b\b\b\b\b\b\b\b\b\b\b\b\b\b\b\b\b\b\b\b\b\b\b\b\b\b\b\b\n",
            "INFO\t2021-06-19 17:42:55 +0000\tmaster-replica-0\t\t 17/254 [=>............................] - ETA: 0s - loss: 0.3339 - acc: 0.8415\b\b\b\b\b\b\b\b\b\b\b\b\b\b\b\b\b\b\b\b\b\b\b\b\b\b\b\b\b\b\b\b\b\b\b\b\b\b\b\b\b\b\b\b\b\b\b\b\b\b\b\b\b\b\b\b\b\b\b\b\b\b\b\b\b\b\b\b\b\b\b\b\b\b\b\b\b\b\b\n",
            "INFO\t2021-06-19 17:42:55 +0000\tmaster-replica-0\t\t 36/254 [===>..........................] - ETA: 0s - loss: 0.3299 - acc: 0.8509\b\b\b\b\b\b\b\b\b\b\b\b\b\b\b\b\b\b\b\b\b\b\b\b\b\b\b\b\b\b\b\b\b\b\b\b\b\b\b\b\b\b\b\b\b\b\b\b\b\b\b\b\b\b\b\b\b\b\b\b\b\b\b\b\b\b\b\b\b\b\b\b\b\b\b\b\b\b\b\n",
            "INFO\t2021-06-19 17:42:55 +0000\tmaster-replica-0\t\t 55/254 [=====>........................] - ETA: 0s - loss: 0.3249 - acc: 0.8533\b\b\b\b\b\b\b\b\b\b\b\b\b\b\b\b\b\b\b\b\b\b\b\b\b\b\b\b\b\b\b\b\b\b\b\b\b\b\b\b\b\b\b\b\b\b\b\b\b\b\b\b\b\b\b\b\b\b\b\b\b\b\b\b\b\b\b\b\b\b\b\b\b\b\b\b\b\b\b\n",
            "INFO\t2021-06-19 17:42:55 +0000\tmaster-replica-0\t\t 76/254 [=======>......................] - ETA: 0s - loss: 0.3262 - acc: 0.8521\b\b\b\b\b\b\b\b\b\b\b\b\b\b\b\b\b\b\b\b\b\b\b\b\b\b\b\b\b\b\b\b\b\b\b\b\b\b\b\b\b\b\b\b\b\b\b\b\b\b\b\b\b\b\b\b\b\b\b\b\b\b\b\b\b\b\b\b\b\b\b\b\b\b\b\b\b\b\b\n",
            "INFO\t2021-06-19 17:42:55 +0000\tmaster-replica-0\t\t 95/254 [==========>...................] - ETA: 0s - loss: 0.3268 - acc: 0.8499\b\b\b\b\b\b\b\b\b\b\b\b\b\b\b\b\b\b\b\b\b\b\b\b\b\b\b\b\b\b\b\b\b\b\b\b\b\b\b\b\b\b\b\b\b\b\b\b\b\b\b\b\b\b\b\b\b\b\b\b\b\b\b\b\b\b\b\b\b\b\b\b\b\b\b\b\b\b\b\n",
            "INFO\t2021-06-19 17:42:55 +0000\tmaster-replica-0\t\t116/254 [============>.................] - ETA: 0s - loss: 0.3290 - acc: 0.8487\b\b\b\b\b\b\b\b\b\b\b\b\b\b\b\b\b\b\b\b\b\b\b\b\b\b\b\b\b\b\b\b\b\b\b\b\b\b\b\b\b\b\b\b\b\b\b\b\b\b\b\b\b\b\b\b\b\b\b\b\b\b\b\b\b\b\b\b\b\b\b\b\b\b\b\b\b\b\b\n",
            "INFO\t2021-06-19 17:42:55 +0000\tmaster-replica-0\t\t134/254 [==============>...............] - ETA: 0s - loss: 0.3293 - acc: 0.8474\b\b\b\b\b\b\b\b\b\b\b\b\b\b\b\b\b\b\b\b\b\b\b\b\b\b\b\b\b\b\b\b\b\b\b\b\b\b\b\b\b\b\b\b\b\b\b\b\b\b\b\b\b\b\b\b\b\b\b\b\b\b\b\b\b\b\b\b\b\b\b\b\b\b\b\b\b\b\b\n",
            "INFO\t2021-06-19 17:42:55 +0000\tmaster-replica-0\t\t154/254 [=================>............] - ETA: 0s - loss: 0.3273 - acc: 0.8471\b\b\b\b\b\b\b\b\b\b\b\b\b\b\b\b\b\b\b\b\b\b\b\b\b\b\b\b\b\b\b\b\b\b\b\b\b\b\b\b\b\b\b\b\b\b\b\b\b\b\b\b\b\b\b\b\b\b\b\b\b\b\b\b\b\b\b\b\b\b\b\b\b\b\b\b\b\b\b\n",
            "INFO\t2021-06-19 17:42:56 +0000\tmaster-replica-0\t\t171/254 [===================>..........] - ETA: 0s - loss: 0.3264 - acc: 0.8479\b\b\b\b\b\b\b\b\b\b\b\b\b\b\b\b\b\b\b\b\b\b\b\b\b\b\b\b\b\b\b\b\b\b\b\b\b\b\b\b\b\b\b\b\b\b\b\b\b\b\b\b\b\b\b\b\b\b\b\b\b\b\b\b\b\b\b\b\b\b\b\b\b\b\b\b\b\b\b\n",
            "INFO\t2021-06-19 17:42:56 +0000\tmaster-replica-0\t\t191/254 [=====================>........] - ETA: 0s - loss: 0.3254 - acc: 0.8487\b\b\b\b\b\b\b\b\b\b\b\b\b\b\b\b\b\b\b\b\b\b\b\b\b\b\b\b\b\b\b\b\b\b\b\b\b\b\b\b\b\b\b\b\b\b\b\b\b\b\b\b\b\b\b\b\b\b\b\b\b\b\b\b\b\b\b\b\b\b\b\b\b\b\b\b\b\b\b\n",
            "INFO\t2021-06-19 17:42:56 +0000\tmaster-replica-0\t\t209/254 [=======================>......] - ETA: 0s - loss: 0.3249 - acc: 0.8489\b\b\b\b\b\b\b\b\b\b\b\b\b\b\b\b\b\b\b\b\b\b\b\b\b\b\b\b\b\b\b\b\b\b\b\b\b\b\b\b\b\b\b\b\b\b\b\b\b\b\b\b\b\b\b\b\b\b\b\b\b\b\b\b\b\b\b\b\b\b\b\b\b\b\b\b\b\b\b\n",
            "INFO\t2021-06-19 17:42:56 +0000\tmaster-replica-0\t\t229/254 [==========================>...] - ETA: 0s - loss: 0.3242 - acc: 0.8497\b\b\b\b\b\b\b\b\b\b\b\b\b\b\b\b\b\b\b\b\b\b\b\b\b\b\b\b\b\b\b\b\b\b\b\b\b\b\b\b\b\b\b\b\b\b\b\b\b\b\b\b\b\b\b\b\b\b\b\b\b\b\b\b\b\b\b\b\b\b\b\b\b\b\b\b\b\b\b\n",
            "INFO\t2021-06-19 17:42:56 +0000\tmaster-replica-0\t\t246/254 [============================>.] - ETA: 0s - loss: 0.3241 - acc: 0.8496\b\b\b\b\b\b\b\b\b\b\b\b\b\b\b\b\b\b\b\b\b\b\b\b\b\b\b\b\b\b\b\b\b\b\b\b\b\b\b\b\b\b\b\b\b\b\b\b\b\b\b\b\b\b\b\b\b\b\b\b\b\b\b\b\b\b\b\b\b\b\b\b\b\b\b\b\b\b\b\n",
            "INFO\t2021-06-19 17:42:56 +0000\tmaster-replica-0\t\t254/254 [==============================] - 1s 4ms/step - loss: 0.3231 - acc: 0.8504 - val_loss: 0.3165 - val_acc: 0.8527\n",
            "INFO\t2021-06-19 17:42:56 +0000\tmaster-replica-0\t\tEpoch 00017: LearningRateScheduler reducing learning rate to 0.010000152587890625.\n",
            "INFO\t2021-06-19 17:42:56 +0000\tmaster-replica-0\t\tEpoch 17/20\n",
            "INFO\t2021-06-19 17:42:56 +0000\tmaster-replica-0\t\t  1/254 [..............................] - ETA: 0s - loss: 0.3580 - acc: 0.8281\b\b\b\b\b\b\b\b\b\b\b\b\b\b\b\b\b\b\b\b\b\b\b\b\b\b\b\b\b\b\b\b\b\b\b\b\b\b\b\b\b\b\b\b\b\b\b\b\b\b\b\b\b\b\b\b\b\b\b\b\b\b\b\b\b\b\b\b\b\b\b\b\b\b\b\b\b\b\b\n",
            "INFO\t2021-06-19 17:42:56 +0000\tmaster-replica-0\t\t  2/254 [..............................] - ETA: 6s - loss: 0.4006 - acc: 0.8086\b\b\b\b\b\b\b\b\b\b\b\b\b\b\b\b\b\b\b\b\b\b\b\b\b\b\b\b\b\b\b\b\b\b\b\b\b\b\b\b\b\b\b\b\b\b\b\b\b\b\b\b\b\b\b\b\b\b\b\b\b\b\b\b\b\b\b\b\b\b\b\b\b\b\b\b\b\b\b\n",
            "INFO\t2021-06-19 17:42:56 +0000\tmaster-replica-0\t\t 21/254 [=>............................] - ETA: 1s - loss: 0.3471 - acc: 0.8374\b\b\b\b\b\b\b\b\b\b\b\b\b\b\b\b\b\b\b\b\b\b\b\b\b\b\b\b\b\b\b\b\b\b\b\b\b\b\b\b\b\b\b\b\b\b\b\b\b\b\b\b\b\b\b\b\b\b\b\b\b\b\b\b\b\b\b\b\b\b\b\b\b\b\b\b\b\b\b\n",
            "INFO\t2021-06-19 17:42:56 +0000\tmaster-replica-0\t\t 41/254 [===>..........................] - ETA: 0s - loss: 0.3338 - acc: 0.8481\b\b\b\b\b\b\b\b\b\b\b\b\b\b\b\b\b\b\b\b\b\b\b\b\b\b\b\b\b\b\b\b\b\b\b\b\b\b\b\b\b\b\b\b\b\b\b\b\b\b\b\b\b\b\b\b\b\b\b\b\b\b\b\b\b\b\b\b\b\b\b\b\b\b\b\b\b\b\b\n",
            "INFO\t2021-06-19 17:42:56 +0000\tmaster-replica-0\t\t 61/254 [======>.......................] - ETA: 0s - loss: 0.3247 - acc: 0.8545\b\b\b\b\b\b\b\b\b\b\b\b\b\b\b\b\b\b\b\b\b\b\b\b\b\b\b\b\b\b\b\b\b\b\b\b\b\b\b\b\b\b\b\b\b\b\b\b\b\b\b\b\b\b\b\b\b\b\b\b\b\b\b\b\b\b\b\b\b\b\b\b\b\b\b\b\b\b\b\n",
            "INFO\t2021-06-19 17:42:56 +0000\tmaster-replica-0\t\t 81/254 [========>.....................] - ETA: 0s - loss: 0.3211 - acc: 0.8533\b\b\b\b\b\b\b\b\b\b\b\b\b\b\b\b\b\b\b\b\b\b\b\b\b\b\b\b\b\b\b\b\b\b\b\b\b\b\b\b\b\b\b\b\b\b\b\b\b\b\b\b\b\b\b\b\b\b\b\b\b\b\b\b\b\b\b\b\b\b\b\b\b\b\b\b\b\b\b\n",
            "INFO\t2021-06-19 17:42:56 +0000\tmaster-replica-0\t\t102/254 [===========>..................] - ETA: 0s - loss: 0.3213 - acc: 0.8523\b\b\b\b\b\b\b\b\b\b\b\b\b\b\b\b\b\b\b\b\b\b\b\b\b\b\b\b\b\b\b\b\b\b\b\b\b\b\b\b\b\b\b\b\b\b\b\b\b\b\b\b\b\b\b\b\b\b\b\b\b\b\b\b\b\b\b\b\b\b\b\b\b\b\b\b\b\b\b\n",
            "INFO\t2021-06-19 17:42:56 +0000\tmaster-replica-0\t\t120/254 [=============>................] - ETA: 0s - loss: 0.3239 - acc: 0.8512\b\b\b\b\b\b\b\b\b\b\b\b\b\b\b\b\b\b\b\b\b\b\b\b\b\b\b\b\b\b\b\b\b\b\b\b\b\b\b\b\b\b\b\b\b\b\b\b\b\b\b\b\b\b\b\b\b\b\b\b\b\b\b\b\b\b\b\b\b\b\b\b\b\b\b\b\b\b\b\n",
            "INFO\t2021-06-19 17:42:57 +0000\tmaster-replica-0\t\t140/254 [===============>..............] - ETA: 0s - loss: 0.3265 - acc: 0.8491\b\b\b\b\b\b\b\b\b\b\b\b\b\b\b\b\b\b\b\b\b\b\b\b\b\b\b\b\b\b\b\b\b\b\b\b\b\b\b\b\b\b\b\b\b\b\b\b\b\b\b\b\b\b\b\b\b\b\b\b\b\b\b\b\b\b\b\b\b\b\b\b\b\b\b\b\b\b\b\n",
            "INFO\t2021-06-19 17:42:57 +0000\tmaster-replica-0\t\t159/254 [=================>............] - ETA: 0s - loss: 0.3254 - acc: 0.8487\b\b\b\b\b\b\b\b\b\b\b\b\b\b\b\b\b\b\b\b\b\b\b\b\b\b\b\b\b\b\b\b\b\b\b\b\b\b\b\b\b\b\b\b\b\b\b\b\b\b\b\b\b\b\b\b\b\b\b\b\b\b\b\b\b\b\b\b\b\b\b\b\b\b\b\b\b\b\b\n",
            "INFO\t2021-06-19 17:42:57 +0000\tmaster-replica-0\t\t178/254 [====================>.........] - ETA: 0s - loss: 0.3251 - acc: 0.8492\b\b\b\b\b\b\b\b\b\b\b\b\b\b\b\b\b\b\b\b\b\b\b\b\b\b\b\b\b\b\b\b\b\b\b\b\b\b\b\b\b\b\b\b\b\b\b\b\b\b\b\b\b\b\b\b\b\b\b\b\b\b\b\b\b\b\b\b\b\b\b\b\b\b\b\b\b\b\b\n",
            "INFO\t2021-06-19 17:42:57 +0000\tmaster-replica-0\t\t197/254 [======================>.......] - ETA: 0s - loss: 0.3253 - acc: 0.8489\b\b\b\b\b\b\b\b\b\b\b\b\b\b\b\b\b\b\b\b\b\b\b\b\b\b\b\b\b\b\b\b\b\b\b\b\b\b\b\b\b\b\b\b\b\b\b\b\b\b\b\b\b\b\b\b\b\b\b\b\b\b\b\b\b\b\b\b\b\b\b\b\b\b\b\b\b\b\b\n",
            "INFO\t2021-06-19 17:42:57 +0000\tmaster-replica-0\t\t218/254 [========================>.....] - ETA: 0s - loss: 0.3260 - acc: 0.8486\b\b\b\b\b\b\b\b\b\b\b\b\b\b\b\b\b\b\b\b\b\b\b\b\b\b\b\b\b\b\b\b\b\b\b\b\b\b\b\b\b\b\b\b\b\b\b\b\b\b\b\b\b\b\b\b\b\b\b\b\b\b\b\b\b\b\b\b\b\b\b\b\b\b\b\b\b\b\b\n",
            "INFO\t2021-06-19 17:42:57 +0000\tmaster-replica-0\t\t237/254 [==========================>...] - ETA: 0s - loss: 0.3246 - acc: 0.8491\b\b\b\b\b\b\b\b\b\b\b\b\b\b\b\b\b\b\b\b\b\b\b\b\b\b\b\b\b\b\b\b\b\b\b\b\b\b\b\b\b\b\b\b\b\b\b\b\b\b\b\b\b\b\b\b\b\b\b\b\b\b\b\b\b\b\b\b\b\b\b\b\b\b\b\b\b\b\b\n",
            "INFO\t2021-06-19 17:42:57 +0000\tmaster-replica-0\t\t254/254 [==============================] - 1s 4ms/step - loss: 0.3228 - acc: 0.8496 - val_loss: 0.3245 - val_acc: 0.8481\n",
            "INFO\t2021-06-19 17:42:57 +0000\tmaster-replica-0\t\tEpoch 00018: LearningRateScheduler reducing learning rate to 0.010000076293945313.\n",
            "INFO\t2021-06-19 17:42:57 +0000\tmaster-replica-0\t\tEpoch 18/20\n",
            "INFO\t2021-06-19 17:42:57 +0000\tmaster-replica-0\t\t  1/254 [..............................] - ETA: 0s - loss: 0.3317 - acc: 0.8516\b\b\b\b\b\b\b\b\b\b\b\b\b\b\b\b\b\b\b\b\b\b\b\b\b\b\b\b\b\b\b\b\b\b\b\b\b\b\b\b\b\b\b\b\b\b\b\b\b\b\b\b\b\b\b\b\b\b\b\b\b\b\b\b\b\b\b\b\b\b\b\b\b\b\b\b\b\b\b\n",
            "INFO\t2021-06-19 17:42:57 +0000\tmaster-replica-0\t\t 20/254 [=>............................] - ETA: 0s - loss: 0.3305 - acc: 0.8410\b\b\b\b\b\b\b\b\b\b\b\b\b\b\b\b\b\b\b\b\b\b\b\b\b\b\b\b\b\b\b\b\b\b\b\b\b\b\b\b\b\b\b\b\b\b\b\b\b\b\b\b\b\b\b\b\b\b\b\b\b\b\b\b\b\b\b\b\b\b\b\b\b\b\b\b\b\b\b\n",
            "INFO\t2021-06-19 17:42:57 +0000\tmaster-replica-0\t\t 39/254 [===>..........................] - ETA: 0s - loss: 0.3228 - acc: 0.8486\b\b\b\b\b\b\b\b\b\b\b\b\b\b\b\b\b\b\b\b\b\b\b\b\b\b\b\b\b\b\b\b\b\b\b\b\b\b\b\b\b\b\b\b\b\b\b\b\b\b\b\b\b\b\b\b\b\b\b\b\b\b\b\b\b\b\b\b\b\b\b\b\b\b\b\b\b\b\b\n",
            "INFO\t2021-06-19 17:42:57 +0000\tmaster-replica-0\t\t 59/254 [=====>........................] - ETA: 0s - loss: 0.3214 - acc: 0.8492\b\b\b\b\b\b\b\b\b\b\b\b\b\b\b\b\b\b\b\b\b\b\b\b\b\b\b\b\b\b\b\b\b\b\b\b\b\b\b\b\b\b\b\b\b\b\b\b\b\b\b\b\b\b\b\b\b\b\b\b\b\b\b\b\b\b\b\b\b\b\b\b\b\b\b\b\b\b\b\n",
            "INFO\t2021-06-19 17:42:57 +0000\tmaster-replica-0\t\t 79/254 [========>.....................] - ETA: 0s - loss: 0.3191 - acc: 0.8520\b\b\b\b\b\b\b\b\b\b\b\b\b\b\b\b\b\b\b\b\b\b\b\b\b\b\b\b\b\b\b\b\b\b\b\b\b\b\b\b\b\b\b\b\b\b\b\b\b\b\b\b\b\b\b\b\b\b\b\b\b\b\b\b\b\b\b\b\b\b\b\b\b\b\b\b\b\b\b\n",
            "INFO\t2021-06-19 17:42:57 +0000\tmaster-replica-0\t\t 98/254 [==========>...................] - ETA: 0s - loss: 0.3205 - acc: 0.8521\b\b\b\b\b\b\b\b\b\b\b\b\b\b\b\b\b\b\b\b\b\b\b\b\b\b\b\b\b\b\b\b\b\b\b\b\b\b\b\b\b\b\b\b\b\b\b\b\b\b\b\b\b\b\b\b\b\b\b\b\b\b\b\b\b\b\b\b\b\b\b\b\b\b\b\b\b\b\b\n",
            "INFO\t2021-06-19 17:42:57 +0000\tmaster-replica-0\t\t118/254 [============>.................] - ETA: 0s - loss: 0.3234 - acc: 0.8504\b\b\b\b\b\b\b\b\b\b\b\b\b\b\b\b\b\b\b\b\b\b\b\b\b\b\b\b\b\b\b\b\b\b\b\b\b\b\b\b\b\b\b\b\b\b\b\b\b\b\b\b\b\b\b\b\b\b\b\b\b\b\b\b\b\b\b\b\b\b\b\b\b\b\b\b\b\b\b\n",
            "INFO\t2021-06-19 17:42:58 +0000\tmaster-replica-0\t\t138/254 [===============>..............] - ETA: 0s - loss: 0.3214 - acc: 0.8520\b\b\b\b\b\b\b\b\b\b\b\b\b\b\b\b\b\b\b\b\b\b\b\b\b\b\b\b\b\b\b\b\b\b\b\b\b\b\b\b\b\b\b\b\b\b\b\b\b\b\b\b\b\b\b\b\b\b\b\b\b\b\b\b\b\b\b\b\b\b\b\b\b\b\b\b\b\b\b\n",
            "INFO\t2021-06-19 17:42:58 +0000\tmaster-replica-0\t\t157/254 [=================>............] - ETA: 0s - loss: 0.3217 - acc: 0.8515\b\b\b\b\b\b\b\b\b\b\b\b\b\b\b\b\b\b\b\b\b\b\b\b\b\b\b\b\b\b\b\b\b\b\b\b\b\b\b\b\b\b\b\b\b\b\b\b\b\b\b\b\b\b\b\b\b\b\b\b\b\b\b\b\b\b\b\b\b\b\b\b\b\b\b\b\b\b\b\n",
            "INFO\t2021-06-19 17:42:58 +0000\tmaster-replica-0\t\t176/254 [===================>..........] - ETA: 0s - loss: 0.3215 - acc: 0.8510\b\b\b\b\b\b\b\b\b\b\b\b\b\b\b\b\b\b\b\b\b\b\b\b\b\b\b\b\b\b\b\b\b\b\b\b\b\b\b\b\b\b\b\b\b\b\b\b\b\b\b\b\b\b\b\b\b\b\b\b\b\b\b\b\b\b\b\b\b\b\b\b\b\b\b\b\b\b\b\n",
            "INFO\t2021-06-19 17:42:58 +0000\tmaster-replica-0\t\t196/254 [======================>.......] - ETA: 0s - loss: 0.3204 - acc: 0.8510\b\b\b\b\b\b\b\b\b\b\b\b\b\b\b\b\b\b\b\b\b\b\b\b\b\b\b\b\b\b\b\b\b\b\b\b\b\b\b\b\b\b\b\b\b\b\b\b\b\b\b\b\b\b\b\b\b\b\b\b\b\b\b\b\b\b\b\b\b\b\b\b\b\b\b\b\b\b\b\n",
            "INFO\t2021-06-19 17:42:58 +0000\tmaster-replica-0\t\t216/254 [========================>.....] - ETA: 0s - loss: 0.3224 - acc: 0.8502\b\b\b\b\b\b\b\b\b\b\b\b\b\b\b\b\b\b\b\b\b\b\b\b\b\b\b\b\b\b\b\b\b\b\b\b\b\b\b\b\b\b\b\b\b\b\b\b\b\b\b\b\b\b\b\b\b\b\b\b\b\b\b\b\b\b\b\b\b\b\b\b\b\b\b\b\b\b\b\n",
            "INFO\t2021-06-19 17:42:58 +0000\tmaster-replica-0\t\t234/254 [==========================>...] - ETA: 0s - loss: 0.3223 - acc: 0.8506\b\b\b\b\b\b\b\b\b\b\b\b\b\b\b\b\b\b\b\b\b\b\b\b\b\b\b\b\b\b\b\b\b\b\b\b\b\b\b\b\b\b\b\b\b\b\b\b\b\b\b\b\b\b\b\b\b\b\b\b\b\b\b\b\b\b\b\b\b\b\b\b\b\b\b\b\b\b\b\n",
            "INFO\t2021-06-19 17:42:58 +0000\tmaster-replica-0\t\t254/254 [==============================] - 1s 4ms/step - loss: 0.3220 - acc: 0.8509 - val_loss: 0.3214 - val_acc: 0.8516\n",
            "INFO\t2021-06-19 17:42:58 +0000\tmaster-replica-0\t\tEpoch 00019: LearningRateScheduler reducing learning rate to 0.010000038146972657.\n",
            "INFO\t2021-06-19 17:42:58 +0000\tmaster-replica-0\t\tEpoch 19/20\n",
            "INFO\t2021-06-19 17:42:58 +0000\tmaster-replica-0\t\t  1/254 [..............................] - ETA: 0s - loss: 0.3147 - acc: 0.8438\b\b\b\b\b\b\b\b\b\b\b\b\b\b\b\b\b\b\b\b\b\b\b\b\b\b\b\b\b\b\b\b\b\b\b\b\b\b\b\b\b\b\b\b\b\b\b\b\b\b\b\b\b\b\b\b\b\b\b\b\b\b\b\b\b\b\b\b\b\b\b\b\b\b\b\b\b\b\b\n",
            "INFO\t2021-06-19 17:42:58 +0000\tmaster-replica-0\t\t  7/254 [..............................] - ETA: 1s - loss: 0.3151 - acc: 0.8493\b\b\b\b\b\b\b\b\b\b\b\b\b\b\b\b\b\b\b\b\b\b\b\b\b\b\b\b\b\b\b\b\b\b\b\b\b\b\b\b\b\b\b\b\b\b\b\b\b\b\b\b\b\b\b\b\b\b\b\b\b\b\b\b\b\b\b\b\b\b\b\b\b\b\b\b\b\b\b\n",
            "INFO\t2021-06-19 17:42:58 +0000\tmaster-replica-0\t\t 27/254 [==>...........................] - ETA: 0s - loss: 0.3267 - acc: 0.8478\b\b\b\b\b\b\b\b\b\b\b\b\b\b\b\b\b\b\b\b\b\b\b\b\b\b\b\b\b\b\b\b\b\b\b\b\b\b\b\b\b\b\b\b\b\b\b\b\b\b\b\b\b\b\b\b\b\b\b\b\b\b\b\b\b\b\b\b\b\b\b\b\b\b\b\b\b\b\b\n",
            "INFO\t2021-06-19 17:42:58 +0000\tmaster-replica-0\t\t 46/254 [====>.........................] - ETA: 0s - loss: 0.3195 - acc: 0.8507\b\b\b\b\b\b\b\b\b\b\b\b\b\b\b\b\b\b\b\b\b\b\b\b\b\b\b\b\b\b\b\b\b\b\b\b\b\b\b\b\b\b\b\b\b\b\b\b\b\b\b\b\b\b\b\b\b\b\b\b\b\b\b\b\b\b\b\b\b\b\b\b\b\b\b\b\b\b\b\n",
            "INFO\t2021-06-19 17:42:58 +0000\tmaster-replica-0\t\t 65/254 [======>.......................] - ETA: 0s - loss: 0.3160 - acc: 0.8524\b\b\b\b\b\b\b\b\b\b\b\b\b\b\b\b\b\b\b\b\b\b\b\b\b\b\b\b\b\b\b\b\b\b\b\b\b\b\b\b\b\b\b\b\b\b\b\b\b\b\b\b\b\b\b\b\b\b\b\b\b\b\b\b\b\b\b\b\b\b\b\b\b\b\b\b\b\b\b\n",
            "INFO\t2021-06-19 17:42:58 +0000\tmaster-replica-0\t\t 85/254 [=========>....................] - ETA: 0s - loss: 0.3200 - acc: 0.8523\b\b\b\b\b\b\b\b\b\b\b\b\b\b\b\b\b\b\b\b\b\b\b\b\b\b\b\b\b\b\b\b\b\b\b\b\b\b\b\b\b\b\b\b\b\b\b\b\b\b\b\b\b\b\b\b\b\b\b\b\b\b\b\b\b\b\b\b\b\b\b\b\b\b\b\b\b\b\b\n",
            "INFO\t2021-06-19 17:42:59 +0000\tmaster-replica-0\t\t105/254 [===========>..................] - ETA: 0s - loss: 0.3188 - acc: 0.8534\b\b\b\b\b\b\b\b\b\b\b\b\b\b\b\b\b\b\b\b\b\b\b\b\b\b\b\b\b\b\b\b\b\b\b\b\b\b\b\b\b\b\b\b\b\b\b\b\b\b\b\b\b\b\b\b\b\b\b\b\b\b\b\b\b\b\b\b\b\b\b\b\b\b\b\b\b\b\b\n",
            "INFO\t2021-06-19 17:42:59 +0000\tmaster-replica-0\t\t125/254 [=============>................] - ETA: 0s - loss: 0.3200 - acc: 0.8520\b\b\b\b\b\b\b\b\b\b\b\b\b\b\b\b\b\b\b\b\b\b\b\b\b\b\b\b\b\b\b\b\b\b\b\b\b\b\b\b\b\b\b\b\b\b\b\b\b\b\b\b\b\b\b\b\b\b\b\b\b\b\b\b\b\b\b\b\b\b\b\b\b\b\b\b\b\b\b\n",
            "INFO\t2021-06-19 17:42:59 +0000\tmaster-replica-0\t\t144/254 [================>.............] - ETA: 0s - loss: 0.3216 - acc: 0.8492\b\b\b\b\b\b\b\b\b\b\b\b\b\b\b\b\b\b\b\b\b\b\b\b\b\b\b\b\b\b\b\b\b\b\b\b\b\b\b\b\b\b\b\b\b\b\b\b\b\b\b\b\b\b\b\b\b\b\b\b\b\b\b\b\b\b\b\b\b\b\b\b\b\b\b\b\b\b\b\n",
            "INFO\t2021-06-19 17:42:59 +0000\tmaster-replica-0\t\t164/254 [==================>...........] - ETA: 0s - loss: 0.3228 - acc: 0.8496\b\b\b\b\b\b\b\b\b\b\b\b\b\b\b\b\b\b\b\b\b\b\b\b\b\b\b\b\b\b\b\b\b\b\b\b\b\b\b\b\b\b\b\b\b\b\b\b\b\b\b\b\b\b\b\b\b\b\b\b\b\b\b\b\b\b\b\b\b\b\b\b\b\b\b\b\b\b\b\n",
            "INFO\t2021-06-19 17:42:59 +0000\tmaster-replica-0\t\t185/254 [====================>.........] - ETA: 0s - loss: 0.3225 - acc: 0.8492\b\b\b\b\b\b\b\b\b\b\b\b\b\b\b\b\b\b\b\b\b\b\b\b\b\b\b\b\b\b\b\b\b\b\b\b\b\b\b\b\b\b\b\b\b\b\b\b\b\b\b\b\b\b\b\b\b\b\b\b\b\b\b\b\b\b\b\b\b\b\b\b\b\b\b\b\b\b\b\n",
            "INFO\t2021-06-19 17:42:59 +0000\tmaster-replica-0\t\t205/254 [=======================>......] - ETA: 0s - loss: 0.3229 - acc: 0.8490\b\b\b\b\b\b\b\b\b\b\b\b\b\b\b\b\b\b\b\b\b\b\b\b\b\b\b\b\b\b\b\b\b\b\b\b\b\b\b\b\b\b\b\b\b\b\b\b\b\b\b\b\b\b\b\b\b\b\b\b\b\b\b\b\b\b\b\b\b\b\b\b\b\b\b\b\b\b\b\n",
            "INFO\t2021-06-19 17:42:59 +0000\tmaster-replica-0\t\t225/254 [=========================>....] - ETA: 0s - loss: 0.3209 - acc: 0.8499\b\b\b\b\b\b\b\b\b\b\b\b\b\b\b\b\b\b\b\b\b\b\b\b\b\b\b\b\b\b\b\b\b\b\b\b\b\b\b\b\b\b\b\b\b\b\b\b\b\b\b\b\b\b\b\b\b\b\b\b\b\b\b\b\b\b\b\b\b\b\b\b\b\b\b\b\b\b\b\n",
            "INFO\t2021-06-19 17:42:59 +0000\tmaster-replica-0\t\t243/254 [===========================>..] - ETA: 0s - loss: 0.3219 - acc: 0.8499\b\b\b\b\b\b\b\b\b\b\b\b\b\b\b\b\b\b\b\b\b\b\b\b\b\b\b\b\b\b\b\b\b\b\b\b\b\b\b\b\b\b\b\b\b\b\b\b\b\b\b\b\b\b\b\b\b\b\b\b\b\b\b\b\b\b\b\b\b\b\b\b\b\b\b\b\b\b\b\n",
            "INFO\t2021-06-19 17:42:59 +0000\tmaster-replica-0\t\t254/254 [==============================] - 1s 4ms/step - loss: 0.3227 - acc: 0.8493 - val_loss: 0.3301 - val_acc: 0.8470\n",
            "INFO\t2021-06-19 17:42:59 +0000\tmaster-replica-0\t\tEpoch 00020: LearningRateScheduler reducing learning rate to 0.010000019073486329.\n",
            "INFO\t2021-06-19 17:42:59 +0000\tmaster-replica-0\t\tEpoch 20/20\n",
            "INFO\t2021-06-19 17:42:59 +0000\tmaster-replica-0\t\t  1/254 [..............................] - ETA: 0s - loss: 0.2615 - acc: 0.8672\b\b\b\b\b\b\b\b\b\b\b\b\b\b\b\b\b\b\b\b\b\b\b\b\b\b\b\b\b\b\b\b\b\b\b\b\b\b\b\b\b\b\b\b\b\b\b\b\b\b\b\b\b\b\b\b\b\b\b\b\b\b\b\b\b\b\b\b\b\b\b\b\b\b\b\b\b\b\b\n",
            "INFO\t2021-06-19 17:42:59 +0000\tmaster-replica-0\t\t 22/254 [=>............................] - ETA: 0s - loss: 0.3162 - acc: 0.8551\b\b\b\b\b\b\b\b\b\b\b\b\b\b\b\b\b\b\b\b\b\b\b\b\b\b\b\b\b\b\b\b\b\b\b\b\b\b\b\b\b\b\b\b\b\b\b\b\b\b\b\b\b\b\b\b\b\b\b\b\b\b\b\b\b\b\b\b\b\b\b\b\b\b\b\b\b\b\b\n",
            "INFO\t2021-06-19 17:42:59 +0000\tmaster-replica-0\t\t 44/254 [====>.........................] - ETA: 0s - loss: 0.3207 - acc: 0.8525\b\b\b\b\b\b\b\b\b\b\b\b\b\b\b\b\b\b\b\b\b\b\b\b\b\b\b\b\b\b\b\b\b\b\b\b\b\b\b\b\b\b\b\b\b\b\b\b\b\b\b\b\b\b\b\b\b\b\b\b\b\b\b\b\b\b\b\b\b\b\b\b\b\b\b\b\b\b\b\n",
            "INFO\t2021-06-19 17:42:59 +0000\tmaster-replica-0\t\t 64/254 [======>.......................] - ETA: 0s - loss: 0.3211 - acc: 0.8516\b\b\b\b\b\b\b\b\b\b\b\b\b\b\b\b\b\b\b\b\b\b\b\b\b\b\b\b\b\b\b\b\b\b\b\b\b\b\b\b\b\b\b\b\b\b\b\b\b\b\b\b\b\b\b\b\b\b\b\b\b\b\b\b\b\b\b\b\b\b\b\b\b\b\b\b\b\b\b\n",
            "INFO\t2021-06-19 17:42:59 +0000\tmaster-replica-0\t\t 81/254 [========>.....................] - ETA: 0s - loss: 0.3175 - acc: 0.8536\b\b\b\b\b\b\b\b\b\b\b\b\b\b\b\b\b\b\b\b\b\b\b\b\b\b\b\b\b\b\b\b\b\b\b\b\b\b\b\b\b\b\b\b\b\b\b\b\b\b\b\b\b\b\b\b\b\b\b\b\b\b\b\b\b\b\b\b\b\b\b\b\b\b\b\b\b\b\b\n",
            "INFO\t2021-06-19 17:42:59 +0000\tmaster-replica-0\t\t101/254 [==========>...................] - ETA: 0s - loss: 0.3158 - acc: 0.8546\b\b\b\b\b\b\b\b\b\b\b\b\b\b\b\b\b\b\b\b\b\b\b\b\b\b\b\b\b\b\b\b\b\b\b\b\b\b\b\b\b\b\b\b\b\b\b\b\b\b\b\b\b\b\b\b\b\b\b\b\b\b\b\b\b\b\b\b\b\b\b\b\b\b\b\b\b\b\b\n",
            "INFO\t2021-06-19 17:43:00 +0000\tmaster-replica-0\t\t122/254 [=============>................] - ETA: 0s - loss: 0.3192 - acc: 0.8535\b\b\b\b\b\b\b\b\b\b\b\b\b\b\b\b\b\b\b\b\b\b\b\b\b\b\b\b\b\b\b\b\b\b\b\b\b\b\b\b\b\b\b\b\b\b\b\b\b\b\b\b\b\b\b\b\b\b\b\b\b\b\b\b\b\b\b\b\b\b\b\b\b\b\b\b\b\b\b\n",
            "INFO\t2021-06-19 17:43:00 +0000\tmaster-replica-0\t\t142/254 [===============>..............] - ETA: 0s - loss: 0.3195 - acc: 0.8530\b\b\b\b\b\b\b\b\b\b\b\b\b\b\b\b\b\b\b\b\b\b\b\b\b\b\b\b\b\b\b\b\b\b\b\b\b\b\b\b\b\b\b\b\b\b\b\b\b\b\b\b\b\b\b\b\b\b\b\b\b\b\b\b\b\b\b\b\b\b\b\b\b\b\b\b\b\b\b\n",
            "INFO\t2021-06-19 17:43:00 +0000\tmaster-replica-0\t\t163/254 [==================>...........] - ETA: 0s - loss: 0.3185 - acc: 0.8534\b\b\b\b\b\b\b\b\b\b\b\b\b\b\b\b\b\b\b\b\b\b\b\b\b\b\b\b\b\b\b\b\b\b\b\b\b\b\b\b\b\b\b\b\b\b\b\b\b\b\b\b\b\b\b\b\b\b\b\b\b\b\b\b\b\b\b\b\b\b\b\b\b\b\b\b\b\b\b\n",
            "INFO\t2021-06-19 17:43:00 +0000\tmaster-replica-0\t\t184/254 [====================>.........] - ETA: 0s - loss: 0.3191 - acc: 0.8537\b\b\b\b\b\b\b\b\b\b\b\b\b\b\b\b\b\b\b\b\b\b\b\b\b\b\b\b\b\b\b\b\b\b\b\b\b\b\b\b\b\b\b\b\b\b\b\b\b\b\b\b\b\b\b\b\b\b\b\b\b\b\b\b\b\b\b\b\b\b\b\b\b\b\b\b\b\b\b\n",
            "INFO\t2021-06-19 17:43:00 +0000\tmaster-replica-0\t\t206/254 [=======================>......] - ETA: 0s - loss: 0.3193 - acc: 0.8532\b\b\b\b\b\b\b\b\b\b\b\b\b\b\b\b\b\b\b\b\b\b\b\b\b\b\b\b\b\b\b\b\b\b\b\b\b\b\b\b\b\b\b\b\b\b\b\b\b\b\b\b\b\b\b\b\b\b\b\b\b\b\b\b\b\b\b\b\b\b\b\b\b\b\b\b\b\b\b\n",
            "INFO\t2021-06-19 17:43:00 +0000\tmaster-replica-0\t\t228/254 [=========================>....] - ETA: 0s - loss: 0.3200 - acc: 0.8529\b\b\b\b\b\b\b\b\b\b\b\b\b\b\b\b\b\b\b\b\b\b\b\b\b\b\b\b\b\b\b\b\b\b\b\b\b\b\b\b\b\b\b\b\b\b\b\b\b\b\b\b\b\b\b\b\b\b\b\b\b\b\b\b\b\b\b\b\b\b\b\b\b\b\b\b\b\b\b\n",
            "INFO\t2021-06-19 17:43:00 +0000\tmaster-replica-0\t\t249/254 [============================>.] - ETA: 0s - loss: 0.3232 - acc: 0.8520\b\b\b\b\b\b\b\b\b\b\b\b\b\b\b\b\b\b\b\b\b\b\b\b\b\b\b\b\b\b\b\b\b\b\b\b\b\b\b\b\b\b\b\b\b\b\b\b\b\b\b\b\b\b\b\b\b\b\b\b\b\b\b\b\b\b\b\b\b\b\b\b\b\b\b\b\b\b\b\n",
            "INFO\t2021-06-19 17:43:00 +0000\tmaster-replica-0\t\t254/254 [==============================] - 1s 4ms/step - loss: 0.3226 - acc: 0.8522 - val_loss: 0.3399 - val_acc: 0.8502\n",
            "WARNING\t2021-06-19 17:43:00 +0000\tmaster-replica-0\t\tFrom /root/.local/lib/python3.7/site-packages/trainer/task.py:123: export_saved_model (from tensorflow.python.keras.saving.saved_model_experimental) is deprecated and will be removed in a future version.\n",
            "WARNING\t2021-06-19 17:43:00 +0000\tmaster-replica-0\t\tInstructions for updating:\n",
            "WARNING\t2021-06-19 17:43:00 +0000\tmaster-replica-0\t\tPlease use `model.save(..., save_format=\"tf\")` or `tf.keras.models.save_model(..., save_format=\"tf\")`.\n",
            "WARNING\t2021-06-19 17:43:03 +0000\tmaster-replica-0\t\tFrom /usr/local/lib/python3.7/dist-packages/tensorflow_core/python/ops/init_ops.py:97: calling Zeros.__init__ (from tensorflow.python.ops.init_ops) with dtype is deprecated and will be removed in a future version.\n",
            "WARNING\t2021-06-19 17:43:03 +0000\tmaster-replica-0\t\tInstructions for updating:\n",
            "WARNING\t2021-06-19 17:43:03 +0000\tmaster-replica-0\t\tCall initializer instance with the dtype argument instead of passing it to the constructor\n",
            "WARNING\t2021-06-19 17:43:03 +0000\tmaster-replica-0\t\tFrom /usr/local/lib/python3.7/dist-packages/tensorflow_core/python/ops/init_ops.py:97: calling GlorotUniform.__init__ (from tensorflow.python.ops.init_ops) with dtype is deprecated and will be removed in a future version.\n",
            "WARNING\t2021-06-19 17:43:03 +0000\tmaster-replica-0\t\tInstructions for updating:\n",
            "WARNING\t2021-06-19 17:43:03 +0000\tmaster-replica-0\t\tCall initializer instance with the dtype argument instead of passing it to the constructor\n",
            "WARNING\t2021-06-19 17:43:08 +0000\tmaster-replica-0\t\tFrom /usr/local/lib/python3.7/dist-packages/tensorflow_core/python/saved_model/signature_def_utils_impl.py:253: build_tensor_info (from tensorflow.python.saved_model.utils_impl) is deprecated and will be removed in a future version.\n",
            "WARNING\t2021-06-19 17:43:08 +0000\tmaster-replica-0\t\tInstructions for updating:\n",
            "WARNING\t2021-06-19 17:43:08 +0000\tmaster-replica-0\t\tThis function will only be available through the v1 compatibility library as tf.compat.v1.saved_model.utils.build_tensor_info or tf.compat.v1.saved_model.build_tensor_info.\n",
            "INFO\t2021-06-19 17:43:08 +0000\tmaster-replica-0\t\tSignatures INCLUDED in export for Classify: None\n",
            "INFO\t2021-06-19 17:43:08 +0000\tmaster-replica-0\t\tSignatures INCLUDED in export for Regress: None\n",
            "INFO\t2021-06-19 17:43:08 +0000\tmaster-replica-0\t\tSignatures INCLUDED in export for Predict: None\n",
            "INFO\t2021-06-19 17:43:08 +0000\tmaster-replica-0\t\tSignatures INCLUDED in export for Train: ['train']\n",
            "INFO\t2021-06-19 17:43:08 +0000\tmaster-replica-0\t\tSignatures INCLUDED in export for Eval: None\n",
            "WARNING\t2021-06-19 17:43:08 +0000\tmaster-replica-0\t\tExport includes no default signature!\n",
            "INFO\t2021-06-19 17:43:08 +0000\tmaster-replica-0\t\tNo assets to save.\n",
            "INFO\t2021-06-19 17:43:08 +0000\tmaster-replica-0\t\tNo assets to write.\n",
            "INFO\t2021-06-19 17:43:10 +0000\tmaster-replica-0\t\tSignatures INCLUDED in export for Classify: None\n",
            "INFO\t2021-06-19 17:43:10 +0000\tmaster-replica-0\t\tSignatures INCLUDED in export for Regress: None\n",
            "INFO\t2021-06-19 17:43:10 +0000\tmaster-replica-0\t\tSignatures INCLUDED in export for Predict: None\n",
            "INFO\t2021-06-19 17:43:10 +0000\tmaster-replica-0\t\tSignatures INCLUDED in export for Train: None\n",
            "INFO\t2021-06-19 17:43:10 +0000\tmaster-replica-0\t\tSignatures INCLUDED in export for Eval: ['eval']\n",
            "WARNING\t2021-06-19 17:43:10 +0000\tmaster-replica-0\t\tExport includes no default signature!\n",
            "INFO\t2021-06-19 17:43:10 +0000\tmaster-replica-0\t\tNo assets to save.\n",
            "INFO\t2021-06-19 17:43:10 +0000\tmaster-replica-0\t\tNo assets to write.\n",
            "WARNING\t2021-06-19 17:43:10 +0000\tmaster-replica-0\t\tUnresolved object in checkpoint: (root).optimizer.decay\n",
            "WARNING\t2021-06-19 17:43:10 +0000\tmaster-replica-0\t\tUnresolved object in checkpoint: (root).optimizer.learning_rate\n",
            "WARNING\t2021-06-19 17:43:10 +0000\tmaster-replica-0\t\tUnresolved object in checkpoint: (root).optimizer.momentum\n",
            "WARNING\t2021-06-19 17:43:10 +0000\tmaster-replica-0\t\tUnresolved object in checkpoint: (root).optimizer.rho\n",
            "WARNING\t2021-06-19 17:43:10 +0000\tmaster-replica-0\t\tUnresolved object in checkpoint: (root).optimizer's state 'rms' for (root).layer_with_weights-0.kernel\n",
            "WARNING\t2021-06-19 17:43:10 +0000\tmaster-replica-0\t\tUnresolved object in checkpoint: (root).optimizer's state 'rms' for (root).layer_with_weights-0.bias\n",
            "WARNING\t2021-06-19 17:43:10 +0000\tmaster-replica-0\t\tUnresolved object in checkpoint: (root).optimizer's state 'rms' for (root).layer_with_weights-1.kernel\n",
            "WARNING\t2021-06-19 17:43:10 +0000\tmaster-replica-0\t\tUnresolved object in checkpoint: (root).optimizer's state 'rms' for (root).layer_with_weights-1.bias\n",
            "WARNING\t2021-06-19 17:43:10 +0000\tmaster-replica-0\t\tUnresolved object in checkpoint: (root).optimizer's state 'rms' for (root).layer_with_weights-2.kernel\n",
            "WARNING\t2021-06-19 17:43:10 +0000\tmaster-replica-0\t\tUnresolved object in checkpoint: (root).optimizer's state 'rms' for (root).layer_with_weights-2.bias\n",
            "WARNING\t2021-06-19 17:43:10 +0000\tmaster-replica-0\t\tUnresolved object in checkpoint: (root).optimizer's state 'rms' for (root).layer_with_weights-3.kernel\n",
            "WARNING\t2021-06-19 17:43:10 +0000\tmaster-replica-0\t\tUnresolved object in checkpoint: (root).optimizer's state 'rms' for (root).layer_with_weights-3.bias\n",
            "WARNING\t2021-06-19 17:43:10 +0000\tmaster-replica-0\t\tUnresolved object in checkpoint: (root).optimizer's state 'rms' for (root).layer_with_weights-4.kernel\n",
            "WARNING\t2021-06-19 17:43:10 +0000\tmaster-replica-0\t\tUnresolved object in checkpoint: (root).optimizer's state 'rms' for (root).layer_with_weights-4.bias\n",
            "WARNING\t2021-06-19 17:43:10 +0000\tmaster-replica-0\t\tA checkpoint was restored (e.g. tf.train.Checkpoint.restore or tf.keras.Model.load_weights) but not all checkpointed values were used. See above for specific issues. Use expect_partial() on the load status object, e.g. tf.train.Checkpoint.restore(...).expect_partial(), to silence these warnings, or use assert_consumed() to make the check explicit. See https://www.tensorflow.org/alpha/guide/checkpoints#loading_mechanics for details.\n",
            "INFO\t2021-06-19 17:43:11 +0000\tmaster-replica-0\t\tSignatures INCLUDED in export for Classify: None\n",
            "INFO\t2021-06-19 17:43:11 +0000\tmaster-replica-0\t\tSignatures INCLUDED in export for Regress: None\n",
            "INFO\t2021-06-19 17:43:11 +0000\tmaster-replica-0\t\tSignatures INCLUDED in export for Predict: ['serving_default']\n",
            "INFO\t2021-06-19 17:43:11 +0000\tmaster-replica-0\t\tSignatures INCLUDED in export for Train: None\n",
            "INFO\t2021-06-19 17:43:11 +0000\tmaster-replica-0\t\tSignatures INCLUDED in export for Eval: None\n",
            "INFO\t2021-06-19 17:43:11 +0000\tmaster-replica-0\t\tNo assets to save.\n",
            "INFO\t2021-06-19 17:43:11 +0000\tmaster-replica-0\t\tNo assets to write.\n",
            "INFO\t2021-06-19 17:43:11 +0000\tmaster-replica-0\t\tSavedModel written to: gs://nooji-test-bucket/keras-job-dir/keras_export/saved_model.pb\n",
            "INFO\t2021-06-19 17:43:12 +0000\tmaster-replica-0\t\tModel exported to: gs://nooji-test-bucket/keras-job-dir/keras_export\n",
            "WARNING\t2021-06-19 17:43:12 +0000\tmaster-replica-0\t\tUnresolved object in checkpoint: (root).optimizer\n",
            "WARNING\t2021-06-19 17:43:12 +0000\tmaster-replica-0\t\tUnresolved object in checkpoint: (root).optimizer.iter\n",
            "WARNING\t2021-06-19 17:43:12 +0000\tmaster-replica-0\t\tUnresolved object in checkpoint: (root).optimizer.decay\n",
            "WARNING\t2021-06-19 17:43:12 +0000\tmaster-replica-0\t\tUnresolved object in checkpoint: (root).optimizer.learning_rate\n",
            "WARNING\t2021-06-19 17:43:12 +0000\tmaster-replica-0\t\tUnresolved object in checkpoint: (root).optimizer.momentum\n",
            "WARNING\t2021-06-19 17:43:12 +0000\tmaster-replica-0\t\tUnresolved object in checkpoint: (root).optimizer.rho\n",
            "WARNING\t2021-06-19 17:43:12 +0000\tmaster-replica-0\t\tUnresolved object in checkpoint: (root).optimizer's state 'rms' for (root).layer_with_weights-0.kernel\n",
            "WARNING\t2021-06-19 17:43:12 +0000\tmaster-replica-0\t\tUnresolved object in checkpoint: (root).optimizer's state 'rms' for (root).layer_with_weights-0.bias\n",
            "WARNING\t2021-06-19 17:43:12 +0000\tmaster-replica-0\t\tUnresolved object in checkpoint: (root).optimizer's state 'rms' for (root).layer_with_weights-1.kernel\n",
            "WARNING\t2021-06-19 17:43:12 +0000\tmaster-replica-0\t\tUnresolved object in checkpoint: (root).optimizer's state 'rms' for (root).layer_with_weights-1.bias\n",
            "WARNING\t2021-06-19 17:43:12 +0000\tmaster-replica-0\t\tUnresolved object in checkpoint: (root).optimizer's state 'rms' for (root).layer_with_weights-2.kernel\n",
            "WARNING\t2021-06-19 17:43:12 +0000\tmaster-replica-0\t\tUnresolved object in checkpoint: (root).optimizer's state 'rms' for (root).layer_with_weights-2.bias\n",
            "WARNING\t2021-06-19 17:43:12 +0000\tmaster-replica-0\t\tUnresolved object in checkpoint: (root).optimizer's state 'rms' for (root).layer_with_weights-3.kernel\n",
            "WARNING\t2021-06-19 17:43:12 +0000\tmaster-replica-0\t\tUnresolved object in checkpoint: (root).optimizer's state 'rms' for (root).layer_with_weights-3.bias\n",
            "WARNING\t2021-06-19 17:43:12 +0000\tmaster-replica-0\t\tUnresolved object in checkpoint: (root).optimizer's state 'rms' for (root).layer_with_weights-4.kernel\n",
            "WARNING\t2021-06-19 17:43:12 +0000\tmaster-replica-0\t\tUnresolved object in checkpoint: (root).optimizer's state 'rms' for (root).layer_with_weights-4.bias\n",
            "WARNING\t2021-06-19 17:43:12 +0000\tmaster-replica-0\t\tA checkpoint was restored (e.g. tf.train.Checkpoint.restore or tf.keras.Model.load_weights) but not all checkpointed values were used. See above for specific issues. Use expect_partial() on the load status object, e.g. tf.train.Checkpoint.restore(...).expect_partial(), to silence these warnings, or use assert_consumed() to make the check explicit. See https://www.tensorflow.org/alpha/guide/checkpoints#loading_mechanics for details.\n",
            "INFO\t2021-06-19 17:43:12 +0000\tmaster-replica-0\t\tModule completed; cleaning up.\n",
            "INFO\t2021-06-19 17:43:12 +0000\tmaster-replica-0\t\tClean up finished.\n",
            "INFO\t2021-06-19 17:43:12 +0000\tmaster-replica-0\t\tTask completed successfully.\n",
            "INFO\t2021-06-19 17:45:30 +0000\tservice\t\tJob completed successfully.\n",
            "endTime: '2021-06-19T17:45:30'\n",
            "jobId: nooji_4B_keras_job\n",
            "startTime: '2021-06-19T17:42:28'\n",
            "state: SUCCEEDED\n"
          ],
          "name": "stdout"
        }
      ]
    },
    {
      "cell_type": "markdown",
      "metadata": {
        "deletable": true,
        "editable": true,
        "id": "gAO6-zv6osJ8"
      },
      "source": [
        "# Part 2 (Cloud Deployment). Quickstart for online predictions in AI Platform\n",
        "\n",
        "This section shows how to use AI Platform and your trained model from Part 1\n",
        "to predict a person's income bracket from other Census information about them."
      ]
    },
    {
      "cell_type": "markdown",
      "metadata": {
        "deletable": true,
        "editable": true,
        "id": "Oi1xMGzLsjf_"
      },
      "source": [
        "### Create model and version resources in AI Platform\n",
        "\n",
        "To serve online predictions using the model you trained and exported in Part 1,\n",
        "create a *model* resource in AI Platform and a *version* resource\n",
        "within it. The version resource is what actually uses your trained model to\n",
        "serve predictions. This structure lets you adjust and retrain your model many times and\n",
        "organize all the versions together in AI Platform. Learn more about [models\n",
        "and\n",
        "versions](https://cloud.google.com/ml-engine/docs/tensorflow/projects-models-versions-jobs).\n",
        "\n",
        "First, name and create the model resource:"
      ]
    },
    {
      "cell_type": "code",
      "metadata": {
        "deletable": true,
        "editable": true,
        "id": "SurMKEbBtc2W",
        "colab": {
          "base_uri": "https://localhost:8080/"
        },
        "outputId": "d5e0af47-ebe3-4272-9a9d-7a9a936fe05c"
      },
      "source": [
        "############ENTER HERE#########################\n",
        "MODEL_NAME = \"nooji_Keras_model \" #<Lastname_Keras_model>\n",
        "\n",
        "! gcloud ai-platform models create $MODEL_NAME \\\n",
        "  --region $REGION"
      ],
      "execution_count": 14,
      "outputs": [
        {
          "output_type": "stream",
          "text": [
            "Using endpoint [https://us-east1-ml.googleapis.com/]\n",
            "Created ai platform model [projects/fb-mle-march-21/models/nooji_Keras_model].\n"
          ],
          "name": "stdout"
        }
      ]
    },
    {
      "cell_type": "code",
      "metadata": {
        "colab": {
          "base_uri": "https://localhost:8080/"
        },
        "id": "oTWnbT2UewTZ",
        "outputId": "06c38230-1a13-43b1-ca22-6ad51f8447a7"
      },
      "source": [
        "!ls"
      ],
      "execution_count": 15,
      "outputs": [
        {
          "output_type": "stream",
          "text": [
            "hptuning_config.yaml   README.md\t scripts\n",
            "local-training-output  requirements.txt  trainer\n"
          ],
          "name": "stdout"
        }
      ]
    },
    {
      "cell_type": "markdown",
      "metadata": {
        "deletable": true,
        "editable": true,
        "id": "c5YLJugmt-Wm"
      },
      "source": [
        " # You can verify your job completion at the AI Training Dashboard:\n",
        " https://console.cloud.google.com/ai-platform/models/\n",
        "\n",
        " # Look under jobs and models on the left panel\n",
        "```\n",
        "\n",
        "Execute the following command to identify your SavedModel directory and use it to create a model version resource:"
      ]
    },
    {
      "cell_type": "code",
      "metadata": {
        "colab": {
          "base_uri": "https://localhost:8080/"
        },
        "id": "e3mtBIAcoXku",
        "outputId": "c2ccc813-a68e-4552-941f-377dafb4cda3"
      },
      "source": [
        "#ENTER HERE#####################\n",
        "MODEL_VERSION = \"v_nooji\" # Give a unique name <v_Lastname>\n",
        "\n",
        "# Get a list of directories in the `keras_export` parent directory\n",
        "KERAS_EXPORT_DIRS = ! gsutil ls $JOB_DIR/keras_export/\n",
        "print(KERAS_EXPORT_DIRS)"
      ],
      "execution_count": 16,
      "outputs": [
        {
          "output_type": "stream",
          "text": [
            "['gs://nooji-test-bucket/keras-job-dir/keras_export/', 'gs://nooji-test-bucket/keras-job-dir/keras_export/saved_model.pb', 'gs://nooji-test-bucket/keras-job-dir/keras_export/assets/', 'gs://nooji-test-bucket/keras-job-dir/keras_export/variables/']\n"
          ],
          "name": "stdout"
        }
      ]
    },
    {
      "cell_type": "code",
      "metadata": {
        "colab": {
          "base_uri": "https://localhost:8080/"
        },
        "id": "nhDlqAXaoow9",
        "outputId": "6c81bd11-7334-4261-df50-b931c5668aa9"
      },
      "source": [
        "# Point to the folder ../keras_export. Your index number may be different that the one here based on how many times you ahve run.\n",
        "idx=0\n",
        "SAVED_MODEL_PATH = KERAS_EXPORT_DIRS[idx]\n",
        "print(SAVED_MODEL_PATH)"
      ],
      "execution_count": 17,
      "outputs": [
        {
          "output_type": "stream",
          "text": [
            "gs://nooji-test-bucket/keras-job-dir/keras_export/\n"
          ],
          "name": "stdout"
        }
      ]
    },
    {
      "cell_type": "code",
      "metadata": {
        "colab": {
          "base_uri": "https://localhost:8080/"
        },
        "id": "dv436o5Eo0eO",
        "outputId": "05f3954c-56fb-4b72-a83c-2c6ff299619a"
      },
      "source": [
        "print(MODEL_NAME)"
      ],
      "execution_count": 18,
      "outputs": [
        {
          "output_type": "stream",
          "text": [
            "nooji_Keras_model \n"
          ],
          "name": "stdout"
        }
      ]
    },
    {
      "cell_type": "code",
      "metadata": {
        "cellView": "both",
        "deletable": true,
        "editable": true,
        "id": "NYfK78654CVm",
        "colab": {
          "base_uri": "https://localhost:8080/"
        },
        "outputId": "79f8cfdd-7950-42a0-a815-03a363c7d1c0"
      },
      "source": [
        "# Create model version based on that SavedModel directory\n",
        "! gcloud ai-platform versions create $MODEL_VERSION \\\n",
        "  --model $MODEL_NAME \\\n",
        "  --region $REGION \\\n",
        "  --runtime-version 1.15 \\\n",
        "  --python-version 3.7 \\\n",
        "  --framework tensorflow \\\n",
        "  --origin $SAVED_MODEL_PATH"
      ],
      "execution_count": 19,
      "outputs": [
        {
          "output_type": "stream",
          "text": [
            "Using endpoint [https://us-east1-ml.googleapis.com/]\n"
          ],
          "name": "stdout"
        }
      ]
    },
    {
      "cell_type": "markdown",
      "metadata": {
        "id": "QQUEdzroNJgB"
      },
      "source": [
        "# Now you are ready to submit a training job to Google AI platform"
      ]
    },
    {
      "cell_type": "markdown",
      "metadata": {
        "deletable": true,
        "editable": true,
        "id": "JzevJps9IOcU"
      },
      "source": [
        "# Task 2: Data Preparation for Modeling\n",
        "\n",
        "To receive valid and useful predictions, you must preprocess input for prediction in the same way that training data was preprocessed. In a production\n",
        "system, you may want to create a preprocessing pipeline that can be used identically at training time and prediction time.\n",
        "\n",
        "For this exercise, use the training package's data-loading code to select a random sample from the evaluation data. This data is in the form that was used to evaluate accuracy after each epoch of training, so it can be used to send test predictions without further preprocessing:"
      ]
    },
    {
      "cell_type": "code",
      "metadata": {
        "deletable": true,
        "editable": true,
        "id": "zuh7LWeWv_GT",
        "colab": {
          "base_uri": "https://localhost:8080/",
          "height": 689
        },
        "outputId": "3964435f-392b-4e2b-f734-65a74fa0cf75"
      },
      "source": [
        "#First, lets review the data and features that are used for classifictaion\n",
        "from trainer import util\n",
        "\n",
        "_, _, eval_x, eval_y = util.load_data()\n",
        "\n",
        "prediction_input = eval_x.sample(20)\n",
        "prediction_targets = eval_y[prediction_input.index]\n",
        "\n",
        "prediction_input"
      ],
      "execution_count": 20,
      "outputs": [
        {
          "output_type": "execute_result",
          "data": {
            "text/html": [
              "<div>\n",
              "<style scoped>\n",
              "    .dataframe tbody tr th:only-of-type {\n",
              "        vertical-align: middle;\n",
              "    }\n",
              "\n",
              "    .dataframe tbody tr th {\n",
              "        vertical-align: top;\n",
              "    }\n",
              "\n",
              "    .dataframe thead th {\n",
              "        text-align: right;\n",
              "    }\n",
              "</style>\n",
              "<table border=\"1\" class=\"dataframe\">\n",
              "  <thead>\n",
              "    <tr style=\"text-align: right;\">\n",
              "      <th></th>\n",
              "      <th>age</th>\n",
              "      <th>workclass</th>\n",
              "      <th>education_num</th>\n",
              "      <th>marital_status</th>\n",
              "      <th>occupation</th>\n",
              "      <th>relationship</th>\n",
              "      <th>race</th>\n",
              "      <th>capital_gain</th>\n",
              "      <th>capital_loss</th>\n",
              "      <th>hours_per_week</th>\n",
              "      <th>native_country</th>\n",
              "    </tr>\n",
              "  </thead>\n",
              "  <tbody>\n",
              "    <tr>\n",
              "      <th>2597</th>\n",
              "      <td>-0.411611</td>\n",
              "      <td>6</td>\n",
              "      <td>-0.030304</td>\n",
              "      <td>0</td>\n",
              "      <td>9</td>\n",
              "      <td>1</td>\n",
              "      <td>4</td>\n",
              "      <td>-0.144792</td>\n",
              "      <td>-0.217132</td>\n",
              "      <td>-0.034039</td>\n",
              "      <td>38</td>\n",
              "    </tr>\n",
              "    <tr>\n",
              "      <th>1712</th>\n",
              "      <td>-0.484546</td>\n",
              "      <td>4</td>\n",
              "      <td>1.525542</td>\n",
              "      <td>4</td>\n",
              "      <td>3</td>\n",
              "      <td>1</td>\n",
              "      <td>4</td>\n",
              "      <td>-0.144792</td>\n",
              "      <td>-0.217132</td>\n",
              "      <td>0.934372</td>\n",
              "      <td>38</td>\n",
              "    </tr>\n",
              "    <tr>\n",
              "      <th>7269</th>\n",
              "      <td>0.536539</td>\n",
              "      <td>3</td>\n",
              "      <td>-0.030304</td>\n",
              "      <td>0</td>\n",
              "      <td>12</td>\n",
              "      <td>1</td>\n",
              "      <td>4</td>\n",
              "      <td>-0.144792</td>\n",
              "      <td>-0.217132</td>\n",
              "      <td>-0.195441</td>\n",
              "      <td>38</td>\n",
              "    </tr>\n",
              "    <tr>\n",
              "      <th>1895</th>\n",
              "      <td>-0.192807</td>\n",
              "      <td>3</td>\n",
              "      <td>1.136580</td>\n",
              "      <td>0</td>\n",
              "      <td>8</td>\n",
              "      <td>4</td>\n",
              "      <td>4</td>\n",
              "      <td>-0.144792</td>\n",
              "      <td>-0.217132</td>\n",
              "      <td>-0.034039</td>\n",
              "      <td>38</td>\n",
              "    </tr>\n",
              "    <tr>\n",
              "      <th>274</th>\n",
              "      <td>1.047082</td>\n",
              "      <td>-1</td>\n",
              "      <td>-0.419265</td>\n",
              "      <td>2</td>\n",
              "      <td>-1</td>\n",
              "      <td>0</td>\n",
              "      <td>4</td>\n",
              "      <td>-0.144792</td>\n",
              "      <td>-0.217132</td>\n",
              "      <td>-0.437544</td>\n",
              "      <td>38</td>\n",
              "    </tr>\n",
              "    <tr>\n",
              "      <th>7018</th>\n",
              "      <td>-0.703350</td>\n",
              "      <td>3</td>\n",
              "      <td>1.525542</td>\n",
              "      <td>4</td>\n",
              "      <td>9</td>\n",
              "      <td>1</td>\n",
              "      <td>4</td>\n",
              "      <td>-0.144792</td>\n",
              "      <td>-0.217132</td>\n",
              "      <td>-0.034039</td>\n",
              "      <td>38</td>\n",
              "    </tr>\n",
              "    <tr>\n",
              "      <th>9915</th>\n",
              "      <td>-0.557481</td>\n",
              "      <td>3</td>\n",
              "      <td>1.525542</td>\n",
              "      <td>2</td>\n",
              "      <td>9</td>\n",
              "      <td>5</td>\n",
              "      <td>4</td>\n",
              "      <td>-0.144792</td>\n",
              "      <td>4.502280</td>\n",
              "      <td>0.369465</td>\n",
              "      <td>38</td>\n",
              "    </tr>\n",
              "    <tr>\n",
              "      <th>14091</th>\n",
              "      <td>-0.630415</td>\n",
              "      <td>3</td>\n",
              "      <td>-0.419265</td>\n",
              "      <td>2</td>\n",
              "      <td>2</td>\n",
              "      <td>0</td>\n",
              "      <td>4</td>\n",
              "      <td>-0.144792</td>\n",
              "      <td>-0.217132</td>\n",
              "      <td>1.176475</td>\n",
              "      <td>38</td>\n",
              "    </tr>\n",
              "    <tr>\n",
              "      <th>3147</th>\n",
              "      <td>-0.484546</td>\n",
              "      <td>6</td>\n",
              "      <td>1.525542</td>\n",
              "      <td>2</td>\n",
              "      <td>3</td>\n",
              "      <td>0</td>\n",
              "      <td>4</td>\n",
              "      <td>-0.144792</td>\n",
              "      <td>-0.217132</td>\n",
              "      <td>-0.034039</td>\n",
              "      <td>38</td>\n",
              "    </tr>\n",
              "    <tr>\n",
              "      <th>15588</th>\n",
              "      <td>-0.922154</td>\n",
              "      <td>3</td>\n",
              "      <td>1.136580</td>\n",
              "      <td>2</td>\n",
              "      <td>0</td>\n",
              "      <td>0</td>\n",
              "      <td>4</td>\n",
              "      <td>-0.144792</td>\n",
              "      <td>-0.217132</td>\n",
              "      <td>-0.034039</td>\n",
              "      <td>38</td>\n",
              "    </tr>\n",
              "    <tr>\n",
              "      <th>15817</th>\n",
              "      <td>-0.703350</td>\n",
              "      <td>3</td>\n",
              "      <td>1.136580</td>\n",
              "      <td>4</td>\n",
              "      <td>3</td>\n",
              "      <td>2</td>\n",
              "      <td>4</td>\n",
              "      <td>-0.144792</td>\n",
              "      <td>-0.217132</td>\n",
              "      <td>-0.034039</td>\n",
              "      <td>38</td>\n",
              "    </tr>\n",
              "    <tr>\n",
              "      <th>4169</th>\n",
              "      <td>-0.922154</td>\n",
              "      <td>3</td>\n",
              "      <td>1.136580</td>\n",
              "      <td>4</td>\n",
              "      <td>11</td>\n",
              "      <td>3</td>\n",
              "      <td>4</td>\n",
              "      <td>-0.144792</td>\n",
              "      <td>-0.217132</td>\n",
              "      <td>0.369465</td>\n",
              "      <td>38</td>\n",
              "    </tr>\n",
              "    <tr>\n",
              "      <th>13439</th>\n",
              "      <td>-1.213893</td>\n",
              "      <td>-1</td>\n",
              "      <td>-0.419265</td>\n",
              "      <td>4</td>\n",
              "      <td>-1</td>\n",
              "      <td>3</td>\n",
              "      <td>4</td>\n",
              "      <td>-0.144792</td>\n",
              "      <td>-0.217132</td>\n",
              "      <td>-0.841048</td>\n",
              "      <td>38</td>\n",
              "    </tr>\n",
              "    <tr>\n",
              "      <th>9092</th>\n",
              "      <td>0.171866</td>\n",
              "      <td>3</td>\n",
              "      <td>0.358658</td>\n",
              "      <td>4</td>\n",
              "      <td>2</td>\n",
              "      <td>1</td>\n",
              "      <td>4</td>\n",
              "      <td>-0.144792</td>\n",
              "      <td>-0.217132</td>\n",
              "      <td>0.127363</td>\n",
              "      <td>38</td>\n",
              "    </tr>\n",
              "    <tr>\n",
              "      <th>4582</th>\n",
              "      <td>0.901213</td>\n",
              "      <td>3</td>\n",
              "      <td>-0.030304</td>\n",
              "      <td>0</td>\n",
              "      <td>11</td>\n",
              "      <td>4</td>\n",
              "      <td>2</td>\n",
              "      <td>-0.144792</td>\n",
              "      <td>-0.217132</td>\n",
              "      <td>0.772970</td>\n",
              "      <td>38</td>\n",
              "    </tr>\n",
              "    <tr>\n",
              "      <th>2124</th>\n",
              "      <td>0.098931</td>\n",
              "      <td>3</td>\n",
              "      <td>1.136580</td>\n",
              "      <td>2</td>\n",
              "      <td>9</td>\n",
              "      <td>0</td>\n",
              "      <td>4</td>\n",
              "      <td>-0.144792</td>\n",
              "      <td>-0.217132</td>\n",
              "      <td>0.772970</td>\n",
              "      <td>38</td>\n",
              "    </tr>\n",
              "    <tr>\n",
              "      <th>2402</th>\n",
              "      <td>1.338821</td>\n",
              "      <td>3</td>\n",
              "      <td>-1.197188</td>\n",
              "      <td>2</td>\n",
              "      <td>2</td>\n",
              "      <td>0</td>\n",
              "      <td>4</td>\n",
              "      <td>-0.144792</td>\n",
              "      <td>-0.217132</td>\n",
              "      <td>-0.034039</td>\n",
              "      <td>38</td>\n",
              "    </tr>\n",
              "    <tr>\n",
              "      <th>3575</th>\n",
              "      <td>0.609474</td>\n",
              "      <td>3</td>\n",
              "      <td>1.136580</td>\n",
              "      <td>2</td>\n",
              "      <td>3</td>\n",
              "      <td>0</td>\n",
              "      <td>4</td>\n",
              "      <td>-0.144792</td>\n",
              "      <td>-0.217132</td>\n",
              "      <td>0.772970</td>\n",
              "      <td>38</td>\n",
              "    </tr>\n",
              "    <tr>\n",
              "      <th>16164</th>\n",
              "      <td>-0.776285</td>\n",
              "      <td>3</td>\n",
              "      <td>-0.030304</td>\n",
              "      <td>2</td>\n",
              "      <td>9</td>\n",
              "      <td>0</td>\n",
              "      <td>4</td>\n",
              "      <td>-0.144792</td>\n",
              "      <td>-0.217132</td>\n",
              "      <td>-0.034039</td>\n",
              "      <td>38</td>\n",
              "    </tr>\n",
              "    <tr>\n",
              "      <th>7167</th>\n",
              "      <td>-0.557481</td>\n",
              "      <td>3</td>\n",
              "      <td>0.358658</td>\n",
              "      <td>4</td>\n",
              "      <td>0</td>\n",
              "      <td>4</td>\n",
              "      <td>2</td>\n",
              "      <td>-0.144792</td>\n",
              "      <td>-0.217132</td>\n",
              "      <td>-0.841048</td>\n",
              "      <td>38</td>\n",
              "    </tr>\n",
              "  </tbody>\n",
              "</table>\n",
              "</div>"
            ],
            "text/plain": [
              "            age  workclass  ...  hours_per_week  native_country\n",
              "2597  -0.411611          6  ...       -0.034039              38\n",
              "1712  -0.484546          4  ...        0.934372              38\n",
              "7269   0.536539          3  ...       -0.195441              38\n",
              "1895  -0.192807          3  ...       -0.034039              38\n",
              "274    1.047082         -1  ...       -0.437544              38\n",
              "7018  -0.703350          3  ...       -0.034039              38\n",
              "9915  -0.557481          3  ...        0.369465              38\n",
              "14091 -0.630415          3  ...        1.176475              38\n",
              "3147  -0.484546          6  ...       -0.034039              38\n",
              "15588 -0.922154          3  ...       -0.034039              38\n",
              "15817 -0.703350          3  ...       -0.034039              38\n",
              "4169  -0.922154          3  ...        0.369465              38\n",
              "13439 -1.213893         -1  ...       -0.841048              38\n",
              "9092   0.171866          3  ...        0.127363              38\n",
              "4582   0.901213          3  ...        0.772970              38\n",
              "2124   0.098931          3  ...        0.772970              38\n",
              "2402   1.338821          3  ...       -0.034039              38\n",
              "3575   0.609474          3  ...        0.772970              38\n",
              "16164 -0.776285          3  ...       -0.034039              38\n",
              "7167  -0.557481          3  ...       -0.841048              38\n",
              "\n",
              "[20 rows x 11 columns]"
            ]
          },
          "metadata": {
            "tags": []
          },
          "execution_count": 20
        }
      ]
    },
    {
      "cell_type": "markdown",
      "metadata": {
        "deletable": true,
        "editable": true,
        "id": "HV1JhIWkn1t5"
      },
      "source": [
        "Notice that categorical fields, like `occupation`,  have already been converted to integers (with the same mapping that was used for training). Numerical fields, like `age`, have been scaled to a\n",
        "[z-score](https://developers.google.com/machine-learning/crash-course/representation/cleaning-data). Some fields have been dropped from the original\n",
        "data. Compare the prediction input with the raw data for the same examples:"
      ]
    },
    {
      "cell_type": "code",
      "metadata": {
        "deletable": true,
        "editable": true,
        "id": "fvRzpDgugqQr",
        "colab": {
          "base_uri": "https://localhost:8080/",
          "height": 978
        },
        "outputId": "0ba67069-ddcc-4e40-9c8c-6ae6303c7ad0"
      },
      "source": [
        "#Now lets review the raw data with all features\n",
        "import pandas as pd\n",
        "\n",
        "_, eval_file_path = util.download(util.DATA_DIR)\n",
        "raw_eval_data = pd.read_csv(eval_file_path,\n",
        "                            names=util._CSV_COLUMNS,\n",
        "                            na_values='?')\n",
        "\n",
        "raw_eval_data.iloc[prediction_input.index]"
      ],
      "execution_count": 21,
      "outputs": [
        {
          "output_type": "execute_result",
          "data": {
            "text/html": [
              "<div>\n",
              "<style scoped>\n",
              "    .dataframe tbody tr th:only-of-type {\n",
              "        vertical-align: middle;\n",
              "    }\n",
              "\n",
              "    .dataframe tbody tr th {\n",
              "        vertical-align: top;\n",
              "    }\n",
              "\n",
              "    .dataframe thead th {\n",
              "        text-align: right;\n",
              "    }\n",
              "</style>\n",
              "<table border=\"1\" class=\"dataframe\">\n",
              "  <thead>\n",
              "    <tr style=\"text-align: right;\">\n",
              "      <th></th>\n",
              "      <th>age</th>\n",
              "      <th>workclass</th>\n",
              "      <th>fnlwgt</th>\n",
              "      <th>education</th>\n",
              "      <th>education_num</th>\n",
              "      <th>marital_status</th>\n",
              "      <th>occupation</th>\n",
              "      <th>relationship</th>\n",
              "      <th>race</th>\n",
              "      <th>gender</th>\n",
              "      <th>capital_gain</th>\n",
              "      <th>capital_loss</th>\n",
              "      <th>hours_per_week</th>\n",
              "      <th>native_country</th>\n",
              "      <th>income_bracket</th>\n",
              "    </tr>\n",
              "  </thead>\n",
              "  <tbody>\n",
              "    <tr>\n",
              "      <th>2597</th>\n",
              "      <td>33</td>\n",
              "      <td>State-gov</td>\n",
              "      <td>237903</td>\n",
              "      <td>Some-college</td>\n",
              "      <td>10</td>\n",
              "      <td>Divorced</td>\n",
              "      <td>Prof-specialty</td>\n",
              "      <td>Not-in-family</td>\n",
              "      <td>White</td>\n",
              "      <td>Female</td>\n",
              "      <td>0</td>\n",
              "      <td>0</td>\n",
              "      <td>40</td>\n",
              "      <td>United-States</td>\n",
              "      <td>&lt;=50K</td>\n",
              "    </tr>\n",
              "    <tr>\n",
              "      <th>1712</th>\n",
              "      <td>32</td>\n",
              "      <td>Self-emp-inc</td>\n",
              "      <td>235847</td>\n",
              "      <td>Masters</td>\n",
              "      <td>14</td>\n",
              "      <td>Never-married</td>\n",
              "      <td>Exec-managerial</td>\n",
              "      <td>Not-in-family</td>\n",
              "      <td>White</td>\n",
              "      <td>Female</td>\n",
              "      <td>0</td>\n",
              "      <td>0</td>\n",
              "      <td>52</td>\n",
              "      <td>United-States</td>\n",
              "      <td>&lt;=50K</td>\n",
              "    </tr>\n",
              "    <tr>\n",
              "      <th>7269</th>\n",
              "      <td>46</td>\n",
              "      <td>Private</td>\n",
              "      <td>114120</td>\n",
              "      <td>Some-college</td>\n",
              "      <td>10</td>\n",
              "      <td>Divorced</td>\n",
              "      <td>Tech-support</td>\n",
              "      <td>Not-in-family</td>\n",
              "      <td>White</td>\n",
              "      <td>Female</td>\n",
              "      <td>0</td>\n",
              "      <td>0</td>\n",
              "      <td>38</td>\n",
              "      <td>United-States</td>\n",
              "      <td>&lt;=50K</td>\n",
              "    </tr>\n",
              "    <tr>\n",
              "      <th>1895</th>\n",
              "      <td>36</td>\n",
              "      <td>Private</td>\n",
              "      <td>50707</td>\n",
              "      <td>Bachelors</td>\n",
              "      <td>13</td>\n",
              "      <td>Divorced</td>\n",
              "      <td>Priv-house-serv</td>\n",
              "      <td>Unmarried</td>\n",
              "      <td>White</td>\n",
              "      <td>Female</td>\n",
              "      <td>0</td>\n",
              "      <td>0</td>\n",
              "      <td>40</td>\n",
              "      <td>United-States</td>\n",
              "      <td>&lt;=50K</td>\n",
              "    </tr>\n",
              "    <tr>\n",
              "      <th>274</th>\n",
              "      <td>53</td>\n",
              "      <td>NaN</td>\n",
              "      <td>237868</td>\n",
              "      <td>HS-grad</td>\n",
              "      <td>9</td>\n",
              "      <td>Married-civ-spouse</td>\n",
              "      <td>NaN</td>\n",
              "      <td>Husband</td>\n",
              "      <td>White</td>\n",
              "      <td>Male</td>\n",
              "      <td>0</td>\n",
              "      <td>0</td>\n",
              "      <td>35</td>\n",
              "      <td>United-States</td>\n",
              "      <td>&gt;50K</td>\n",
              "    </tr>\n",
              "    <tr>\n",
              "      <th>7018</th>\n",
              "      <td>29</td>\n",
              "      <td>Private</td>\n",
              "      <td>354496</td>\n",
              "      <td>Masters</td>\n",
              "      <td>14</td>\n",
              "      <td>Never-married</td>\n",
              "      <td>Prof-specialty</td>\n",
              "      <td>Not-in-family</td>\n",
              "      <td>White</td>\n",
              "      <td>Female</td>\n",
              "      <td>0</td>\n",
              "      <td>0</td>\n",
              "      <td>40</td>\n",
              "      <td>United-States</td>\n",
              "      <td>&lt;=50K</td>\n",
              "    </tr>\n",
              "    <tr>\n",
              "      <th>9915</th>\n",
              "      <td>31</td>\n",
              "      <td>Private</td>\n",
              "      <td>181388</td>\n",
              "      <td>Masters</td>\n",
              "      <td>14</td>\n",
              "      <td>Married-civ-spouse</td>\n",
              "      <td>Prof-specialty</td>\n",
              "      <td>Wife</td>\n",
              "      <td>White</td>\n",
              "      <td>Female</td>\n",
              "      <td>0</td>\n",
              "      <td>1902</td>\n",
              "      <td>45</td>\n",
              "      <td>United-States</td>\n",
              "      <td>&gt;50K</td>\n",
              "    </tr>\n",
              "    <tr>\n",
              "      <th>14091</th>\n",
              "      <td>30</td>\n",
              "      <td>Private</td>\n",
              "      <td>155914</td>\n",
              "      <td>HS-grad</td>\n",
              "      <td>9</td>\n",
              "      <td>Married-civ-spouse</td>\n",
              "      <td>Craft-repair</td>\n",
              "      <td>Husband</td>\n",
              "      <td>White</td>\n",
              "      <td>Male</td>\n",
              "      <td>0</td>\n",
              "      <td>0</td>\n",
              "      <td>55</td>\n",
              "      <td>United-States</td>\n",
              "      <td>&lt;=50K</td>\n",
              "    </tr>\n",
              "    <tr>\n",
              "      <th>3147</th>\n",
              "      <td>32</td>\n",
              "      <td>State-gov</td>\n",
              "      <td>316589</td>\n",
              "      <td>Masters</td>\n",
              "      <td>14</td>\n",
              "      <td>Married-civ-spouse</td>\n",
              "      <td>Exec-managerial</td>\n",
              "      <td>Husband</td>\n",
              "      <td>White</td>\n",
              "      <td>Male</td>\n",
              "      <td>0</td>\n",
              "      <td>0</td>\n",
              "      <td>40</td>\n",
              "      <td>United-States</td>\n",
              "      <td>&gt;50K</td>\n",
              "    </tr>\n",
              "    <tr>\n",
              "      <th>15588</th>\n",
              "      <td>26</td>\n",
              "      <td>Private</td>\n",
              "      <td>235520</td>\n",
              "      <td>Bachelors</td>\n",
              "      <td>13</td>\n",
              "      <td>Married-civ-spouse</td>\n",
              "      <td>Adm-clerical</td>\n",
              "      <td>Husband</td>\n",
              "      <td>White</td>\n",
              "      <td>Male</td>\n",
              "      <td>0</td>\n",
              "      <td>0</td>\n",
              "      <td>40</td>\n",
              "      <td>United-States</td>\n",
              "      <td>&gt;50K</td>\n",
              "    </tr>\n",
              "    <tr>\n",
              "      <th>15817</th>\n",
              "      <td>29</td>\n",
              "      <td>Private</td>\n",
              "      <td>85572</td>\n",
              "      <td>Bachelors</td>\n",
              "      <td>13</td>\n",
              "      <td>Never-married</td>\n",
              "      <td>Exec-managerial</td>\n",
              "      <td>Other-relative</td>\n",
              "      <td>White</td>\n",
              "      <td>Female</td>\n",
              "      <td>0</td>\n",
              "      <td>0</td>\n",
              "      <td>40</td>\n",
              "      <td>United-States</td>\n",
              "      <td>&lt;=50K</td>\n",
              "    </tr>\n",
              "    <tr>\n",
              "      <th>4169</th>\n",
              "      <td>26</td>\n",
              "      <td>Private</td>\n",
              "      <td>157617</td>\n",
              "      <td>Bachelors</td>\n",
              "      <td>13</td>\n",
              "      <td>Never-married</td>\n",
              "      <td>Sales</td>\n",
              "      <td>Own-child</td>\n",
              "      <td>White</td>\n",
              "      <td>Male</td>\n",
              "      <td>0</td>\n",
              "      <td>0</td>\n",
              "      <td>45</td>\n",
              "      <td>United-States</td>\n",
              "      <td>&lt;=50K</td>\n",
              "    </tr>\n",
              "    <tr>\n",
              "      <th>13439</th>\n",
              "      <td>22</td>\n",
              "      <td>NaN</td>\n",
              "      <td>205940</td>\n",
              "      <td>HS-grad</td>\n",
              "      <td>9</td>\n",
              "      <td>Never-married</td>\n",
              "      <td>NaN</td>\n",
              "      <td>Own-child</td>\n",
              "      <td>White</td>\n",
              "      <td>Female</td>\n",
              "      <td>0</td>\n",
              "      <td>0</td>\n",
              "      <td>30</td>\n",
              "      <td>United-States</td>\n",
              "      <td>&lt;=50K</td>\n",
              "    </tr>\n",
              "    <tr>\n",
              "      <th>9092</th>\n",
              "      <td>41</td>\n",
              "      <td>Private</td>\n",
              "      <td>29591</td>\n",
              "      <td>Assoc-voc</td>\n",
              "      <td>11</td>\n",
              "      <td>Never-married</td>\n",
              "      <td>Craft-repair</td>\n",
              "      <td>Not-in-family</td>\n",
              "      <td>White</td>\n",
              "      <td>Male</td>\n",
              "      <td>0</td>\n",
              "      <td>0</td>\n",
              "      <td>42</td>\n",
              "      <td>United-States</td>\n",
              "      <td>&lt;=50K</td>\n",
              "    </tr>\n",
              "    <tr>\n",
              "      <th>4582</th>\n",
              "      <td>51</td>\n",
              "      <td>Private</td>\n",
              "      <td>275507</td>\n",
              "      <td>Some-college</td>\n",
              "      <td>10</td>\n",
              "      <td>Divorced</td>\n",
              "      <td>Sales</td>\n",
              "      <td>Unmarried</td>\n",
              "      <td>Black</td>\n",
              "      <td>Female</td>\n",
              "      <td>0</td>\n",
              "      <td>0</td>\n",
              "      <td>50</td>\n",
              "      <td>United-States</td>\n",
              "      <td>&lt;=50K</td>\n",
              "    </tr>\n",
              "    <tr>\n",
              "      <th>2124</th>\n",
              "      <td>40</td>\n",
              "      <td>Private</td>\n",
              "      <td>53956</td>\n",
              "      <td>Bachelors</td>\n",
              "      <td>13</td>\n",
              "      <td>Married-civ-spouse</td>\n",
              "      <td>Prof-specialty</td>\n",
              "      <td>Husband</td>\n",
              "      <td>White</td>\n",
              "      <td>Male</td>\n",
              "      <td>0</td>\n",
              "      <td>0</td>\n",
              "      <td>50</td>\n",
              "      <td>United-States</td>\n",
              "      <td>&lt;=50K</td>\n",
              "    </tr>\n",
              "    <tr>\n",
              "      <th>2402</th>\n",
              "      <td>57</td>\n",
              "      <td>Private</td>\n",
              "      <td>190488</td>\n",
              "      <td>11th</td>\n",
              "      <td>7</td>\n",
              "      <td>Married-civ-spouse</td>\n",
              "      <td>Craft-repair</td>\n",
              "      <td>Husband</td>\n",
              "      <td>White</td>\n",
              "      <td>Male</td>\n",
              "      <td>0</td>\n",
              "      <td>0</td>\n",
              "      <td>40</td>\n",
              "      <td>United-States</td>\n",
              "      <td>&gt;50K</td>\n",
              "    </tr>\n",
              "    <tr>\n",
              "      <th>3575</th>\n",
              "      <td>47</td>\n",
              "      <td>Private</td>\n",
              "      <td>216999</td>\n",
              "      <td>Bachelors</td>\n",
              "      <td>13</td>\n",
              "      <td>Married-civ-spouse</td>\n",
              "      <td>Exec-managerial</td>\n",
              "      <td>Husband</td>\n",
              "      <td>White</td>\n",
              "      <td>Male</td>\n",
              "      <td>0</td>\n",
              "      <td>0</td>\n",
              "      <td>50</td>\n",
              "      <td>United-States</td>\n",
              "      <td>&lt;=50K</td>\n",
              "    </tr>\n",
              "    <tr>\n",
              "      <th>16164</th>\n",
              "      <td>28</td>\n",
              "      <td>Private</td>\n",
              "      <td>249720</td>\n",
              "      <td>Some-college</td>\n",
              "      <td>10</td>\n",
              "      <td>Married-civ-spouse</td>\n",
              "      <td>Prof-specialty</td>\n",
              "      <td>Husband</td>\n",
              "      <td>White</td>\n",
              "      <td>Male</td>\n",
              "      <td>0</td>\n",
              "      <td>0</td>\n",
              "      <td>40</td>\n",
              "      <td>United-States</td>\n",
              "      <td>&lt;=50K</td>\n",
              "    </tr>\n",
              "    <tr>\n",
              "      <th>7167</th>\n",
              "      <td>31</td>\n",
              "      <td>Private</td>\n",
              "      <td>192660</td>\n",
              "      <td>Assoc-voc</td>\n",
              "      <td>11</td>\n",
              "      <td>Never-married</td>\n",
              "      <td>Adm-clerical</td>\n",
              "      <td>Unmarried</td>\n",
              "      <td>Black</td>\n",
              "      <td>Female</td>\n",
              "      <td>0</td>\n",
              "      <td>0</td>\n",
              "      <td>30</td>\n",
              "      <td>United-States</td>\n",
              "      <td>&lt;=50K</td>\n",
              "    </tr>\n",
              "  </tbody>\n",
              "</table>\n",
              "</div>"
            ],
            "text/plain": [
              "       age     workclass  fnlwgt  ... hours_per_week  native_country income_bracket\n",
              "2597    33     State-gov  237903  ...             40   United-States          <=50K\n",
              "1712    32  Self-emp-inc  235847  ...             52   United-States          <=50K\n",
              "7269    46       Private  114120  ...             38   United-States          <=50K\n",
              "1895    36       Private   50707  ...             40   United-States          <=50K\n",
              "274     53           NaN  237868  ...             35   United-States           >50K\n",
              "7018    29       Private  354496  ...             40   United-States          <=50K\n",
              "9915    31       Private  181388  ...             45   United-States           >50K\n",
              "14091   30       Private  155914  ...             55   United-States          <=50K\n",
              "3147    32     State-gov  316589  ...             40   United-States           >50K\n",
              "15588   26       Private  235520  ...             40   United-States           >50K\n",
              "15817   29       Private   85572  ...             40   United-States          <=50K\n",
              "4169    26       Private  157617  ...             45   United-States          <=50K\n",
              "13439   22           NaN  205940  ...             30   United-States          <=50K\n",
              "9092    41       Private   29591  ...             42   United-States          <=50K\n",
              "4582    51       Private  275507  ...             50   United-States          <=50K\n",
              "2124    40       Private   53956  ...             50   United-States          <=50K\n",
              "2402    57       Private  190488  ...             40   United-States           >50K\n",
              "3575    47       Private  216999  ...             50   United-States          <=50K\n",
              "16164   28       Private  249720  ...             40   United-States          <=50K\n",
              "7167    31       Private  192660  ...             30   United-States          <=50K\n",
              "\n",
              "[20 rows x 15 columns]"
            ]
          },
          "metadata": {
            "tags": []
          },
          "execution_count": 21
        }
      ]
    },
    {
      "cell_type": "markdown",
      "metadata": {
        "deletable": true,
        "editable": true,
        "id": "HFAbbH6ksG6s"
      },
      "source": [
        "Export the prediction input (filtered features only) to a newline-delimited JSON file:"
      ]
    },
    {
      "cell_type": "code",
      "metadata": {
        "deletable": true,
        "editable": true,
        "id": "Yl3JALtnsGj-",
        "colab": {
          "base_uri": "https://localhost:8080/"
        },
        "outputId": "4f65d18f-5337-4d33-da88-27515465e544"
      },
      "source": [
        "import json\n",
        "\n",
        "with open('prediction_input.json', 'w') as json_file:\n",
        "  for row in prediction_input.values.tolist():\n",
        "    json.dump(row, json_file)\n",
        "    json_file.write('\\n')\n",
        "\n",
        "! cat prediction_input.json"
      ],
      "execution_count": 22,
      "outputs": [
        {
          "output_type": "stream",
          "text": [
            "[-0.4116113873310685, 6.0, -0.030303770229214273, 0.0, 9.0, 1.0, 4.0, -0.14479173735784842, -0.21713186390175285, -0.03403923708700391, 38.0]\n",
            "[-0.48454606302320563, 4.0, 1.525541514460902, 4.0, 3.0, 1.0, 4.0, -0.14479173735784842, -0.21713186390175285, 0.934371839987696, 38.0]\n",
            "[0.5365393966667138, 3.0, -0.030303770229214273, 0.0, 12.0, 1.0, 4.0, -0.14479173735784842, -0.21713186390175285, -0.19544108326612056, 38.0]\n",
            "[-0.19280736025465722, 3.0, 1.1365801932883728, 0.0, 8.0, 4.0, 4.0, -0.14479173735784842, -0.21713186390175285, -0.03403923708700391, 38.0]\n",
            "[1.0470821265116736, -1.0, -0.4192650914017433, 2.0, -1.0, 0.0, 4.0, -0.14479173735784842, -0.21713186390175285, -0.43754385253479555, 38.0]\n",
            "[-0.7033500900996169, 3.0, 1.525541514460902, 4.0, 9.0, 1.0, 4.0, -0.14479173735784842, -0.21713186390175285, -0.03403923708700391, 38.0]\n",
            "[-0.5574807387153428, 3.0, 1.525541514460902, 2.0, 9.0, 5.0, 4.0, -0.14479173735784842, 4.5022796885373735, 0.3694653783607877, 38.0]\n",
            "[-0.6304154144074798, 3.0, -0.4192650914017433, 2.0, 2.0, 0.0, 4.0, -0.14479173735784842, -0.21713186390175285, 1.176474609256371, 38.0]\n",
            "[-0.48454606302320563, 6.0, 1.525541514460902, 2.0, 3.0, 0.0, 4.0, -0.14479173735784842, -0.21713186390175285, -0.03403923708700391, 38.0]\n",
            "[-0.9221541171760282, 3.0, 1.1365801932883728, 2.0, 0.0, 0.0, 4.0, -0.14479173735784842, -0.21713186390175285, -0.03403923708700391, 38.0]\n",
            "[-0.7033500900996169, 3.0, 1.1365801932883728, 4.0, 3.0, 2.0, 4.0, -0.14479173735784842, -0.21713186390175285, -0.03403923708700391, 38.0]\n",
            "[-0.9221541171760282, 3.0, 1.1365801932883728, 4.0, 11.0, 3.0, 4.0, -0.14479173735784842, -0.21713186390175285, 0.3694653783607877, 38.0]\n",
            "[-1.2138928199445767, -1.0, -0.4192650914017433, 4.0, -1.0, 3.0, 4.0, -0.14479173735784842, -0.21713186390175285, -0.8410484679825871, 38.0]\n",
            "[0.17186601820602831, 3.0, 0.35865755094331475, 4.0, 2.0, 1.0, 4.0, -0.14479173735784842, -0.21713186390175285, 0.12736260909211275, 38.0]\n",
            "[0.9012127751273994, 3.0, -0.030303770229214273, 0.0, 11.0, 4.0, 2.0, -0.14479173735784842, -0.21713186390175285, 0.7729699938085793, 38.0]\n",
            "[0.0989313425138912, 3.0, 1.1365801932883728, 2.0, 9.0, 0.0, 4.0, -0.14479173735784842, -0.21713186390175285, 0.7729699938085793, 38.0]\n",
            "[1.338820829280222, 3.0, -1.1971877337468013, 2.0, 2.0, 0.0, 4.0, -0.14479173735784842, -0.21713186390175285, -0.03403923708700391, 38.0]\n",
            "[0.609474072358851, 3.0, 1.1365801932883728, 2.0, 3.0, 0.0, 4.0, -0.14479173735784842, -0.21713186390175285, 0.7729699938085793, 38.0]\n",
            "[-0.7762847657917541, 3.0, -0.030303770229214273, 2.0, 9.0, 0.0, 4.0, -0.14479173735784842, -0.21713186390175285, -0.03403923708700391, 38.0]\n",
            "[-0.5574807387153428, 3.0, 0.35865755094331475, 4.0, 0.0, 4.0, 2.0, -0.14479173735784842, -0.21713186390175285, -0.8410484679825871, 38.0]\n"
          ],
          "name": "stdout"
        }
      ]
    },
    {
      "cell_type": "markdown",
      "metadata": {
        "deletable": true,
        "editable": true,
        "id": "kVvEmazFKUCp"
      },
      "source": [
        "The `gcloud` command-line tool accepts newline-delimited JSON for online\n",
        "prediction, and this particular Keras model expects a flat list of\n",
        "numbers for each input example.\n",
        "\n",
        "AI Platform requires a different format when you make online prediction requests to the REST API without using the `gcloud` tool. The way you structure\n",
        "your model may also change how you must format data for prediction. Learn more\n",
        "about [formatting data for online\n",
        "prediction](https://cloud.google.com/ml-engine/docs/tensorflow/prediction-overview#prediction_input_data)."
      ]
    },
    {
      "cell_type": "markdown",
      "metadata": {
        "deletable": true,
        "editable": true,
        "id": "91xQnLqRN8A8"
      },
      "source": [
        "### Submit the online prediction request"
      ]
    },
    {
      "cell_type": "markdown",
      "metadata": {
        "deletable": true,
        "editable": true,
        "id": "KrDIoVLaG7zZ"
      },
      "source": [
        "Use `gcloud` to submit your online prediction request."
      ]
    },
    {
      "cell_type": "code",
      "metadata": {
        "deletable": true,
        "editable": true,
        "id": "5gIcXDFwOERG",
        "colab": {
          "base_uri": "https://localhost:8080/"
        },
        "outputId": "4bc4be43-c854-4e61-93d2-23cc05ec6e0c"
      },
      "source": [
        "! gcloud ai-platform predict \\\n",
        "  --model $MODEL_NAME \\\n",
        "  --region $REGION \\\n",
        "  --version $MODEL_VERSION \\\n",
        "  --json-instances prediction_input.json"
      ],
      "execution_count": 23,
      "outputs": [
        {
          "output_type": "stream",
          "text": [
            "Using endpoint [https://us-east1-ml.googleapis.com/]\n",
            "[[0.00732091069], [0.150200039], [0.0156175792], [0.0247817338], [0.160367787], [0.0311962366], [0.77327764], [0.138848513], [0.348996609], [0.149517387], [0.00291228294], [0.00575524569], [7.74860382e-07], [0.0311662257], [0.022107631], [0.677194178], [0.120679103], [0.714982748], [0.0869566053], [0.00105022371]]\n"
          ],
          "name": "stdout"
        }
      ]
    },
    {
      "cell_type": "markdown",
      "metadata": {
        "deletable": true,
        "editable": true,
        "id": "n6U2DYKJGwdf"
      },
      "source": [
        "Since the model's last layer uses a [sigmoid function](https://developers.google.com/machine-learning/glossary/#sigmoid_function) for its activation, outputs between 0 and 0.5 represent negative predictions (\"<=50K\") and outputs between 0.5 and 1 represent positive ones (\">50K\").\n",
        "\n",
        "Do the predicted income brackets match the actual ones? Run the following cell\n",
        "to see the true labels.\n",
        "# Q: How would you compute classification performance using the output json file above? Enter your answers below."
      ]
    },
    {
      "cell_type": "code",
      "metadata": {
        "deletable": true,
        "editable": true,
        "id": "w2Piq3PcGhaX",
        "colab": {
          "base_uri": "https://localhost:8080/"
        },
        "outputId": "23574168-9d19-441f-97e2-44d9bacc074c"
      },
      "source": [
        "prediction_targets"
      ],
      "execution_count": 24,
      "outputs": [
        {
          "output_type": "execute_result",
          "data": {
            "text/plain": [
              "array([[0.],\n",
              "       [0.],\n",
              "       [0.],\n",
              "       [0.],\n",
              "       [1.],\n",
              "       [0.],\n",
              "       [1.],\n",
              "       [0.],\n",
              "       [1.],\n",
              "       [1.],\n",
              "       [0.],\n",
              "       [0.],\n",
              "       [0.],\n",
              "       [0.],\n",
              "       [0.],\n",
              "       [0.],\n",
              "       [1.],\n",
              "       [0.],\n",
              "       [0.],\n",
              "       [0.]], dtype=float32)"
            ]
          },
          "metadata": {
            "tags": []
          },
          "execution_count": 24
        }
      ]
    },
    {
      "cell_type": "markdown",
      "metadata": {
        "deletable": true,
        "editable": true,
        "id": "GKP7F6-EDb5_"
      },
      "source": [
        "## Part 3. Developing the Keras model from scratch\n",
        "\n",
        "At this point, you have trained a machine learning model on AI Platform, deployed the trained model as a version resource on AI Platform, and received online predictions from the deployment. The next section walks through recreating the Keras code used to train your model. It covers the following parts of developing a machine learning model for use with AI Platform:\n",
        "\n",
        "* Downloading and preprocessing data\n",
        "* Designing and training the model\n",
        "* Visualizing training and exporting the trained model\n",
        "\n",
        "# Now you will develop  a model from scratch and train on the same data by submitting a fresh job on the AI platform."
      ]
    },
    {
      "cell_type": "markdown",
      "metadata": {
        "deletable": true,
        "editable": true,
        "id": "-VtUN0L5x4ql"
      },
      "source": [
        "### Import libraries and define constants\n",
        "\n",
        "First, import Python libraries required for training:"
      ]
    },
    {
      "cell_type": "code",
      "metadata": {
        "deletable": true,
        "editable": true,
        "id": "RcxfR3GfscsA",
        "colab": {
          "base_uri": "https://localhost:8080/"
        },
        "outputId": "b4e90122-7cde-4359-e844-aeedffc347bc"
      },
      "source": [
        "import os\n",
        "from six.moves import urllib\n",
        "import tempfile\n",
        "\n",
        "import numpy as np\n",
        "import pandas as pd\n",
        "import tensorflow as tf\n",
        "\n",
        "# Examine software versions\n",
        "print(__import__('sys').version)\n",
        "print(tf.__version__)\n",
        "print(tf.keras.__version__)"
      ],
      "execution_count": 25,
      "outputs": [
        {
          "output_type": "stream",
          "text": [
            "3.7.10 (default, May  3 2021, 02:48:31) \n",
            "[GCC 7.5.0]\n",
            "1.15.5\n",
            "2.2.4-tf\n"
          ],
          "name": "stdout"
        }
      ]
    },
    {
      "cell_type": "markdown",
      "metadata": {
        "deletable": true,
        "editable": true,
        "id": "xWZQbZQmx26U"
      },
      "source": [
        "Then, define some useful constants:\n",
        "\n",
        "* Information for downloading training and evaluation data\n",
        "* Information required for Pandas to interpret the data and convert categorical fields into numeric features\n",
        "* Hyperparameters for training, such as learning rate and batch size"
      ]
    },
    {
      "cell_type": "code",
      "metadata": {
        "deletable": true,
        "editable": true,
        "id": "Cx4OXeXEsh_v"
      },
      "source": [
        "### For downloading data ###\n",
        "\n",
        "# Storage directory\n",
        "DATA_DIR = os.path.join(tempfile.gettempdir(), 'census_data')\n",
        "\n",
        "# Download options.\n",
        "DATA_URL = 'https://storage.googleapis.com/cloud-samples-data/ai-platform' \\\n",
        "           '/census/data'\n",
        "TRAINING_FILE = 'adult.data.csv'\n",
        "EVAL_FILE = 'adult.test.csv'\n",
        "TRAINING_URL = '%s/%s' % (DATA_URL, TRAINING_FILE)\n",
        "EVAL_URL = '%s/%s' % (DATA_URL, EVAL_FILE)\n",
        "\n",
        "### For interpreting data ###\n",
        "\n",
        "# These are the features in the dataset.\n",
        "# Dataset information: https://archive.ics.uci.edu/ml/datasets/census+income\n",
        "_CSV_COLUMNS = [\n",
        "    'age', 'workclass', 'fnlwgt', 'education', 'education_num',\n",
        "    'marital_status', 'occupation', 'relationship', 'race', 'gender',\n",
        "    'capital_gain', 'capital_loss', 'hours_per_week', 'native_country',\n",
        "    'income_bracket'\n",
        "]\n",
        "\n",
        "_CATEGORICAL_TYPES = {\n",
        "    'workclass': pd.api.types.CategoricalDtype(categories=[\n",
        "        'Federal-gov', 'Local-gov', 'Never-worked', 'Private', 'Self-emp-inc',\n",
        "        'Self-emp-not-inc', 'State-gov', 'Without-pay'\n",
        "    ]),\n",
        "    'marital_status': pd.api.types.CategoricalDtype(categories=[\n",
        "        'Divorced', 'Married-AF-spouse', 'Married-civ-spouse',\n",
        "        'Married-spouse-absent', 'Never-married', 'Separated', 'Widowed'\n",
        "    ]),\n",
        "    'occupation': pd.api.types.CategoricalDtype([\n",
        "        'Adm-clerical', 'Armed-Forces', 'Craft-repair', 'Exec-managerial',\n",
        "        'Farming-fishing', 'Handlers-cleaners', 'Machine-op-inspct',\n",
        "        'Other-service', 'Priv-house-serv', 'Prof-specialty', 'Protective-serv',\n",
        "        'Sales', 'Tech-support', 'Transport-moving'\n",
        "    ]),\n",
        "    'relationship': pd.api.types.CategoricalDtype(categories=[\n",
        "        'Husband', 'Not-in-family', 'Other-relative', 'Own-child', 'Unmarried',\n",
        "        'Wife'\n",
        "    ]),\n",
        "    'race': pd.api.types.CategoricalDtype(categories=[\n",
        "        'Amer-Indian-Eskimo', 'Asian-Pac-Islander', 'Black', 'Other', 'White'\n",
        "    ]),\n",
        "    'native_country': pd.api.types.CategoricalDtype(categories=[\n",
        "        'Cambodia', 'Canada', 'China', 'Columbia', 'Cuba', 'Dominican-Republic',\n",
        "        'Ecuador', 'El-Salvador', 'England', 'France', 'Germany', 'Greece',\n",
        "        'Guatemala', 'Haiti', 'Holand-Netherlands', 'Honduras', 'Hong', 'Hungary',\n",
        "        'India', 'Iran', 'Ireland', 'Italy', 'Jamaica', 'Japan', 'Laos', 'Mexico',\n",
        "        'Nicaragua', 'Outlying-US(Guam-USVI-etc)', 'Peru', 'Philippines', 'Poland',\n",
        "        'Portugal', 'Puerto-Rico', 'Scotland', 'South', 'Taiwan', 'Thailand',\n",
        "        'Trinadad&Tobago', 'United-States', 'Vietnam', 'Yugoslavia'\n",
        "    ]),\n",
        "    'income_bracket': pd.api.types.CategoricalDtype(categories=[\n",
        "        '<=50K', '>50K'\n",
        "    ])\n",
        "}\n",
        "\n",
        "# This is the label (target) we want to predict.\n",
        "_LABEL_COLUMN = 'income_bracket'\n",
        "\n",
        "### Hyperparameters for training ###\n",
        "\n",
        "# This the training batch size\n",
        "BATCH_SIZE = 128\n",
        "\n",
        "# This is the number of epochs (passes over the full training data)\n",
        "NUM_EPOCHS = 20\n",
        "\n",
        "# Define learning rate.\n",
        "LEARNING_RATE = .01"
      ],
      "execution_count": 26,
      "outputs": []
    },
    {
      "cell_type": "markdown",
      "metadata": {
        "deletable": true,
        "editable": true,
        "id": "bSJjhQ8ZyDae"
      },
      "source": [
        "### Download and preprocess data"
      ]
    },
    {
      "cell_type": "markdown",
      "metadata": {
        "deletable": true,
        "editable": true,
        "id": "uafupKCgxazq"
      },
      "source": [
        "#### Download the data\n",
        "\n",
        "Next, define functions to download training and evaluation data. These functions also fix minor irregularities in the data's formatting."
      ]
    },
    {
      "cell_type": "code",
      "metadata": {
        "cellView": "both",
        "deletable": true,
        "editable": true,
        "id": "iGorBTXWUZPy"
      },
      "source": [
        "def _download_and_clean_file(filename, url):\n",
        "    \"\"\"Downloads data from url, and makes changes to match the CSV format.\n",
        "  \n",
        "    The CSVs may use spaces after the comma delimters (non-standard) or include\n",
        "    rows which do not represent well-formed examples. This function strips out\n",
        "    some of these problems.\n",
        "  \n",
        "    Args:\n",
        "      filename: filename to save url to\n",
        "      url: URL of resource to download\n",
        "    \"\"\"\n",
        "    temp_file, _ = urllib.request.urlretrieve(url)\n",
        "    with tf.io.gfile.GFile(temp_file, 'r') as temp_file_object:\n",
        "        with tf.io.gfile.GFile(filename, 'w') as file_object:\n",
        "            for line in temp_file_object:\n",
        "                line = line.strip()\n",
        "                line = line.replace(', ', ',')\n",
        "                if not line or ',' not in line:\n",
        "                    continue\n",
        "                if line[-1] == '.':\n",
        "                    line = line[:-1]\n",
        "                line += '\\n'\n",
        "                file_object.write(line)\n",
        "    tf.io.gfile.remove(temp_file)\n",
        "\n",
        "\n",
        "def download(data_dir):\n",
        "    \"\"\"Downloads census data if it is not already present.\n",
        "  \n",
        "    Args:\n",
        "      data_dir: directory where we will access/save the census data\n",
        "    \"\"\"\n",
        "    tf.io.gfile.makedirs(data_dir)\n",
        "\n",
        "    training_file_path = os.path.join(data_dir, TRAINING_FILE)\n",
        "    if not tf.io.gfile.exists(training_file_path):\n",
        "        _download_and_clean_file(training_file_path, TRAINING_URL)\n",
        "\n",
        "    eval_file_path = os.path.join(data_dir, EVAL_FILE)\n",
        "    if not tf.io.gfile.exists(eval_file_path):\n",
        "        _download_and_clean_file(eval_file_path, EVAL_URL)\n",
        "\n",
        "    return training_file_path, eval_file_path"
      ],
      "execution_count": 27,
      "outputs": []
    },
    {
      "cell_type": "markdown",
      "metadata": {
        "deletable": true,
        "editable": true,
        "id": "fuX5SyAOgYsG"
      },
      "source": [
        "Use those functions to download the data for training and verify that you have CSV files for training and evaluation: "
      ]
    },
    {
      "cell_type": "code",
      "metadata": {
        "deletable": true,
        "editable": true,
        "id": "9Wii7NAss92J",
        "colab": {
          "base_uri": "https://localhost:8080/"
        },
        "outputId": "db74ed7a-0079-4528-b502-37f77283ea55"
      },
      "source": [
        "training_file_path, eval_file_path = download(DATA_DIR)\n",
        "\n",
        "# You should see 2 files: adult.data.csv and adult.test.csv\n",
        "!ls -l $DATA_DIR"
      ],
      "execution_count": 28,
      "outputs": [
        {
          "output_type": "stream",
          "text": [
            "total 5156\n",
            "-rw-r--r-- 1 root root 3518450 Jun 19 17:38 adult.data.csv\n",
            "-rw-r--r-- 1 root root 1758573 Jun 19 17:38 adult.test.csv\n"
          ],
          "name": "stdout"
        }
      ]
    },
    {
      "cell_type": "markdown",
      "metadata": {
        "deletable": true,
        "editable": true,
        "id": "tHSJTrDygqpS"
      },
      "source": [
        "Next, load these files using Pandas and examine the data:"
      ]
    },
    {
      "cell_type": "code",
      "metadata": {
        "deletable": true,
        "editable": true,
        "id": "KHWiAYCew28Q",
        "colab": {
          "base_uri": "https://localhost:8080/",
          "height": 309
        },
        "outputId": "66a00072-52f8-4dd0-df02-8dce7bba2ed4"
      },
      "source": [
        "# This census data uses the value '?' for fields (column) that are missing data. \n",
        "# We use na_values to find ? and set it to NaN values.\n",
        "# https://pandas.pydata.org/pandas-docs/stable/generated/pandas.read_csv.html\n",
        "\n",
        "train_df = pd.read_csv(training_file_path, names=_CSV_COLUMNS, na_values='?')\n",
        "eval_df = pd.read_csv(eval_file_path, names=_CSV_COLUMNS, na_values='?')\n",
        "\n",
        "# Here's what the data looks like before we preprocess the data.\n",
        "train_df.head()"
      ],
      "execution_count": 29,
      "outputs": [
        {
          "output_type": "execute_result",
          "data": {
            "text/html": [
              "<div>\n",
              "<style scoped>\n",
              "    .dataframe tbody tr th:only-of-type {\n",
              "        vertical-align: middle;\n",
              "    }\n",
              "\n",
              "    .dataframe tbody tr th {\n",
              "        vertical-align: top;\n",
              "    }\n",
              "\n",
              "    .dataframe thead th {\n",
              "        text-align: right;\n",
              "    }\n",
              "</style>\n",
              "<table border=\"1\" class=\"dataframe\">\n",
              "  <thead>\n",
              "    <tr style=\"text-align: right;\">\n",
              "      <th></th>\n",
              "      <th>age</th>\n",
              "      <th>workclass</th>\n",
              "      <th>fnlwgt</th>\n",
              "      <th>education</th>\n",
              "      <th>education_num</th>\n",
              "      <th>marital_status</th>\n",
              "      <th>occupation</th>\n",
              "      <th>relationship</th>\n",
              "      <th>race</th>\n",
              "      <th>gender</th>\n",
              "      <th>capital_gain</th>\n",
              "      <th>capital_loss</th>\n",
              "      <th>hours_per_week</th>\n",
              "      <th>native_country</th>\n",
              "      <th>income_bracket</th>\n",
              "    </tr>\n",
              "  </thead>\n",
              "  <tbody>\n",
              "    <tr>\n",
              "      <th>0</th>\n",
              "      <td>39</td>\n",
              "      <td>State-gov</td>\n",
              "      <td>77516</td>\n",
              "      <td>Bachelors</td>\n",
              "      <td>13</td>\n",
              "      <td>Never-married</td>\n",
              "      <td>Adm-clerical</td>\n",
              "      <td>Not-in-family</td>\n",
              "      <td>White</td>\n",
              "      <td>Male</td>\n",
              "      <td>2174</td>\n",
              "      <td>0</td>\n",
              "      <td>40</td>\n",
              "      <td>United-States</td>\n",
              "      <td>&lt;=50K</td>\n",
              "    </tr>\n",
              "    <tr>\n",
              "      <th>1</th>\n",
              "      <td>50</td>\n",
              "      <td>Self-emp-not-inc</td>\n",
              "      <td>83311</td>\n",
              "      <td>Bachelors</td>\n",
              "      <td>13</td>\n",
              "      <td>Married-civ-spouse</td>\n",
              "      <td>Exec-managerial</td>\n",
              "      <td>Husband</td>\n",
              "      <td>White</td>\n",
              "      <td>Male</td>\n",
              "      <td>0</td>\n",
              "      <td>0</td>\n",
              "      <td>13</td>\n",
              "      <td>United-States</td>\n",
              "      <td>&lt;=50K</td>\n",
              "    </tr>\n",
              "    <tr>\n",
              "      <th>2</th>\n",
              "      <td>38</td>\n",
              "      <td>Private</td>\n",
              "      <td>215646</td>\n",
              "      <td>HS-grad</td>\n",
              "      <td>9</td>\n",
              "      <td>Divorced</td>\n",
              "      <td>Handlers-cleaners</td>\n",
              "      <td>Not-in-family</td>\n",
              "      <td>White</td>\n",
              "      <td>Male</td>\n",
              "      <td>0</td>\n",
              "      <td>0</td>\n",
              "      <td>40</td>\n",
              "      <td>United-States</td>\n",
              "      <td>&lt;=50K</td>\n",
              "    </tr>\n",
              "    <tr>\n",
              "      <th>3</th>\n",
              "      <td>53</td>\n",
              "      <td>Private</td>\n",
              "      <td>234721</td>\n",
              "      <td>11th</td>\n",
              "      <td>7</td>\n",
              "      <td>Married-civ-spouse</td>\n",
              "      <td>Handlers-cleaners</td>\n",
              "      <td>Husband</td>\n",
              "      <td>Black</td>\n",
              "      <td>Male</td>\n",
              "      <td>0</td>\n",
              "      <td>0</td>\n",
              "      <td>40</td>\n",
              "      <td>United-States</td>\n",
              "      <td>&lt;=50K</td>\n",
              "    </tr>\n",
              "    <tr>\n",
              "      <th>4</th>\n",
              "      <td>28</td>\n",
              "      <td>Private</td>\n",
              "      <td>338409</td>\n",
              "      <td>Bachelors</td>\n",
              "      <td>13</td>\n",
              "      <td>Married-civ-spouse</td>\n",
              "      <td>Prof-specialty</td>\n",
              "      <td>Wife</td>\n",
              "      <td>Black</td>\n",
              "      <td>Female</td>\n",
              "      <td>0</td>\n",
              "      <td>0</td>\n",
              "      <td>40</td>\n",
              "      <td>Cuba</td>\n",
              "      <td>&lt;=50K</td>\n",
              "    </tr>\n",
              "  </tbody>\n",
              "</table>\n",
              "</div>"
            ],
            "text/plain": [
              "   age         workclass  fnlwgt  ... hours_per_week  native_country income_bracket\n",
              "0   39         State-gov   77516  ...             40   United-States          <=50K\n",
              "1   50  Self-emp-not-inc   83311  ...             13   United-States          <=50K\n",
              "2   38           Private  215646  ...             40   United-States          <=50K\n",
              "3   53           Private  234721  ...             40   United-States          <=50K\n",
              "4   28           Private  338409  ...             40            Cuba          <=50K\n",
              "\n",
              "[5 rows x 15 columns]"
            ]
          },
          "metadata": {
            "tags": []
          },
          "execution_count": 29
        }
      ]
    },
    {
      "cell_type": "markdown",
      "metadata": {
        "deletable": true,
        "editable": true,
        "id": "Hhsa1-6qVD0n"
      },
      "source": [
        "#### Preprocess the data\n",
        "\n",
        "The first preprocessing step removes certain features from the data and\n",
        "converts categorical features to numerical values for use with Keras.\n",
        "\n",
        "Learn more about [feature engineering](https://developers.google.com/machine-learning/crash-course/representation/feature-engineering) and [bias in data](https://developers.google.com/machine-learning/crash-course/fairness/types-of-bias)."
      ]
    },
    {
      "cell_type": "code",
      "metadata": {
        "deletable": true,
        "editable": true,
        "id": "WHbJecf1Bb2r"
      },
      "source": [
        "UNUSED_COLUMNS = ['fnlwgt', 'education', 'gender']\n",
        "\n",
        "\n",
        "def preprocess(dataframe):\n",
        "    \"\"\"Converts categorical features to numeric. Removes unused columns.\n",
        "  \n",
        "    Args:\n",
        "      dataframe: Pandas dataframe with raw data\n",
        "  \n",
        "    Returns:\n",
        "      Dataframe with preprocessed data\n",
        "    \"\"\"\n",
        "    dataframe = dataframe.drop(columns=UNUSED_COLUMNS)\n",
        "\n",
        "    # Convert integer valued (numeric) columns to floating point\n",
        "    numeric_columns = dataframe.select_dtypes(['int64']).columns\n",
        "    dataframe[numeric_columns] = dataframe[numeric_columns].astype('float32')\n",
        "\n",
        "    # Convert categorical columns to numeric\n",
        "    cat_columns = dataframe.select_dtypes(['object']).columns\n",
        "    dataframe[cat_columns] = dataframe[cat_columns].apply(lambda x: x.astype(\n",
        "        _CATEGORICAL_TYPES[x.name]))\n",
        "    dataframe[cat_columns] = dataframe[cat_columns].apply(lambda x: x.cat.codes)\n",
        "    return dataframe\n",
        "\n",
        "\n",
        "prepped_train_df = preprocess(train_df)\n",
        "prepped_eval_df = preprocess(eval_df)"
      ],
      "execution_count": 30,
      "outputs": []
    },
    {
      "cell_type": "markdown",
      "metadata": {
        "deletable": true,
        "editable": true,
        "id": "ce0Ln1P-mpwx"
      },
      "source": [
        "Run the following cell to see how preprocessing changed the data. Notice in particular that `income_bracket`, the label that you're training the model to predict, has changed from `<=50K` and `>50K` to `0` and `1`:"
      ]
    },
    {
      "cell_type": "code",
      "metadata": {
        "deletable": true,
        "editable": true,
        "id": "YbMskdWmTCED",
        "colab": {
          "base_uri": "https://localhost:8080/",
          "height": 224
        },
        "outputId": "a79b35da-d9db-4629-e855-9f76c866e645"
      },
      "source": [
        "prepped_train_df.head()"
      ],
      "execution_count": 31,
      "outputs": [
        {
          "output_type": "execute_result",
          "data": {
            "text/html": [
              "<div>\n",
              "<style scoped>\n",
              "    .dataframe tbody tr th:only-of-type {\n",
              "        vertical-align: middle;\n",
              "    }\n",
              "\n",
              "    .dataframe tbody tr th {\n",
              "        vertical-align: top;\n",
              "    }\n",
              "\n",
              "    .dataframe thead th {\n",
              "        text-align: right;\n",
              "    }\n",
              "</style>\n",
              "<table border=\"1\" class=\"dataframe\">\n",
              "  <thead>\n",
              "    <tr style=\"text-align: right;\">\n",
              "      <th></th>\n",
              "      <th>age</th>\n",
              "      <th>workclass</th>\n",
              "      <th>education_num</th>\n",
              "      <th>marital_status</th>\n",
              "      <th>occupation</th>\n",
              "      <th>relationship</th>\n",
              "      <th>race</th>\n",
              "      <th>capital_gain</th>\n",
              "      <th>capital_loss</th>\n",
              "      <th>hours_per_week</th>\n",
              "      <th>native_country</th>\n",
              "      <th>income_bracket</th>\n",
              "    </tr>\n",
              "  </thead>\n",
              "  <tbody>\n",
              "    <tr>\n",
              "      <th>0</th>\n",
              "      <td>39.0</td>\n",
              "      <td>6</td>\n",
              "      <td>13.0</td>\n",
              "      <td>4</td>\n",
              "      <td>0</td>\n",
              "      <td>1</td>\n",
              "      <td>4</td>\n",
              "      <td>2174.0</td>\n",
              "      <td>0.0</td>\n",
              "      <td>40.0</td>\n",
              "      <td>38</td>\n",
              "      <td>0</td>\n",
              "    </tr>\n",
              "    <tr>\n",
              "      <th>1</th>\n",
              "      <td>50.0</td>\n",
              "      <td>5</td>\n",
              "      <td>13.0</td>\n",
              "      <td>2</td>\n",
              "      <td>3</td>\n",
              "      <td>0</td>\n",
              "      <td>4</td>\n",
              "      <td>0.0</td>\n",
              "      <td>0.0</td>\n",
              "      <td>13.0</td>\n",
              "      <td>38</td>\n",
              "      <td>0</td>\n",
              "    </tr>\n",
              "    <tr>\n",
              "      <th>2</th>\n",
              "      <td>38.0</td>\n",
              "      <td>3</td>\n",
              "      <td>9.0</td>\n",
              "      <td>0</td>\n",
              "      <td>5</td>\n",
              "      <td>1</td>\n",
              "      <td>4</td>\n",
              "      <td>0.0</td>\n",
              "      <td>0.0</td>\n",
              "      <td>40.0</td>\n",
              "      <td>38</td>\n",
              "      <td>0</td>\n",
              "    </tr>\n",
              "    <tr>\n",
              "      <th>3</th>\n",
              "      <td>53.0</td>\n",
              "      <td>3</td>\n",
              "      <td>7.0</td>\n",
              "      <td>2</td>\n",
              "      <td>5</td>\n",
              "      <td>0</td>\n",
              "      <td>2</td>\n",
              "      <td>0.0</td>\n",
              "      <td>0.0</td>\n",
              "      <td>40.0</td>\n",
              "      <td>38</td>\n",
              "      <td>0</td>\n",
              "    </tr>\n",
              "    <tr>\n",
              "      <th>4</th>\n",
              "      <td>28.0</td>\n",
              "      <td>3</td>\n",
              "      <td>13.0</td>\n",
              "      <td>2</td>\n",
              "      <td>9</td>\n",
              "      <td>5</td>\n",
              "      <td>2</td>\n",
              "      <td>0.0</td>\n",
              "      <td>0.0</td>\n",
              "      <td>40.0</td>\n",
              "      <td>4</td>\n",
              "      <td>0</td>\n",
              "    </tr>\n",
              "  </tbody>\n",
              "</table>\n",
              "</div>"
            ],
            "text/plain": [
              "    age  workclass  ...  native_country  income_bracket\n",
              "0  39.0          6  ...              38               0\n",
              "1  50.0          5  ...              38               0\n",
              "2  38.0          3  ...              38               0\n",
              "3  53.0          3  ...              38               0\n",
              "4  28.0          3  ...               4               0\n",
              "\n",
              "[5 rows x 12 columns]"
            ]
          },
          "metadata": {
            "tags": []
          },
          "execution_count": 31
        }
      ]
    },
    {
      "cell_type": "markdown",
      "metadata": {
        "deletable": true,
        "editable": true,
        "id": "OCzBX6LuCmTT"
      },
      "source": [
        "Next, separate the data into features (\"x\") and labels (\"y\"), and reshape the label arrays into a format for use with `tf.data.Dataset` later:"
      ]
    },
    {
      "cell_type": "code",
      "metadata": {
        "deletable": true,
        "editable": true,
        "id": "gPq7WY51GW6M"
      },
      "source": [
        "# Split train and test data with labels.\n",
        "# The pop() method will extract (copy) and remove the label column from the dataframe\n",
        "train_x, train_y = prepped_train_df, prepped_train_df.pop(_LABEL_COLUMN)\n",
        "eval_x, eval_y = prepped_eval_df, prepped_eval_df.pop(_LABEL_COLUMN)\n",
        "\n",
        "# Reshape label columns for use with tf.data.Dataset\n",
        "train_y = np.asarray(train_y).astype('float32').reshape((-1, 1))\n",
        "eval_y = np.asarray(eval_y).astype('float32').reshape((-1, 1))"
      ],
      "execution_count": 33,
      "outputs": []
    },
    {
      "cell_type": "markdown",
      "metadata": {
        "deletable": true,
        "editable": true,
        "id": "A1tDH7_RDAIK"
      },
      "source": [
        "Scaling training data so each numerical feature column has a mean of 0 and a standard deviation of 1 [can improve your model](https://developers.google.com/machine-learning/crash-course/representation/cleaning-data).\n",
        "\n",
        "In a production system, you may want to save the means and standard deviations from your training set and use them to perform an identical transformation on test data at prediction time. For convenience in this exercise, temporarily combine the training and evaluation data to scale all of them:"
      ]
    },
    {
      "cell_type": "code",
      "metadata": {
        "deletable": true,
        "editable": true,
        "id": "OXAMwr3dCsqd"
      },
      "source": [
        "def standardize(dataframe):\n",
        "    \"\"\"Scales numerical columns using their means and standard deviation to get\n",
        "    z-scores: the mean of each numerical column becomes 0, and the standard\n",
        "    deviation becomes 1. This can help the model converge during training.\n",
        "  \n",
        "    Args:\n",
        "      dataframe: Pandas dataframe\n",
        "  \n",
        "    Returns:\n",
        "      Input dataframe with the numerical columns scaled to z-scores\n",
        "    \"\"\"\n",
        "    dtypes = list(zip(dataframe.dtypes.index, map(str, dataframe.dtypes)))\n",
        "    # Normalize numeric columns.\n",
        "    for column, dtype in dtypes:\n",
        "        if dtype == 'float32':\n",
        "            dataframe[column] -= dataframe[column].mean()\n",
        "            dataframe[column] /= dataframe[column].std()\n",
        "    return dataframe\n",
        "\n",
        "\n",
        "# Join train_x and eval_x to normalize on overall means and standard\n",
        "# deviations. Then separate them again.\n",
        "all_x = pd.concat([train_x, eval_x], keys=['train', 'eval'])\n",
        "all_x = standardize(all_x)\n",
        "train_x, eval_x = all_x.xs('train'), all_x.xs('eval')"
      ],
      "execution_count": 34,
      "outputs": []
    },
    {
      "cell_type": "markdown",
      "metadata": {
        "deletable": true,
        "editable": true,
        "id": "aqKZk6NawDe-"
      },
      "source": [
        "Finally, examine some of your fully preprocessed training data:"
      ]
    },
    {
      "cell_type": "code",
      "metadata": {
        "deletable": true,
        "editable": true,
        "id": "6NZqE3Wlg1yg",
        "colab": {
          "base_uri": "https://localhost:8080/",
          "height": 224
        },
        "outputId": "bdfd95bb-066b-41f2-a51d-6955c5f5acaf"
      },
      "source": [
        "# Verify dataset features\n",
        "# Note how only the numeric fields (not categorical) have been standardized\n",
        "train_x.head()"
      ],
      "execution_count": 35,
      "outputs": [
        {
          "output_type": "execute_result",
          "data": {
            "text/html": [
              "<div>\n",
              "<style scoped>\n",
              "    .dataframe tbody tr th:only-of-type {\n",
              "        vertical-align: middle;\n",
              "    }\n",
              "\n",
              "    .dataframe tbody tr th {\n",
              "        vertical-align: top;\n",
              "    }\n",
              "\n",
              "    .dataframe thead th {\n",
              "        text-align: right;\n",
              "    }\n",
              "</style>\n",
              "<table border=\"1\" class=\"dataframe\">\n",
              "  <thead>\n",
              "    <tr style=\"text-align: right;\">\n",
              "      <th></th>\n",
              "      <th>age</th>\n",
              "      <th>workclass</th>\n",
              "      <th>education_num</th>\n",
              "      <th>marital_status</th>\n",
              "      <th>occupation</th>\n",
              "      <th>relationship</th>\n",
              "      <th>race</th>\n",
              "      <th>capital_gain</th>\n",
              "      <th>capital_loss</th>\n",
              "      <th>hours_per_week</th>\n",
              "      <th>native_country</th>\n",
              "    </tr>\n",
              "  </thead>\n",
              "  <tbody>\n",
              "    <tr>\n",
              "      <th>0</th>\n",
              "      <td>0.025996</td>\n",
              "      <td>6</td>\n",
              "      <td>1.136850</td>\n",
              "      <td>4</td>\n",
              "      <td>0</td>\n",
              "      <td>1</td>\n",
              "      <td>4</td>\n",
              "      <td>0.146949</td>\n",
              "      <td>-0.217119</td>\n",
              "      <td>-0.034043</td>\n",
              "      <td>38</td>\n",
              "    </tr>\n",
              "    <tr>\n",
              "      <th>1</th>\n",
              "      <td>0.828270</td>\n",
              "      <td>5</td>\n",
              "      <td>1.136850</td>\n",
              "      <td>2</td>\n",
              "      <td>3</td>\n",
              "      <td>0</td>\n",
              "      <td>4</td>\n",
              "      <td>-0.144807</td>\n",
              "      <td>-0.217119</td>\n",
              "      <td>-2.213206</td>\n",
              "      <td>38</td>\n",
              "    </tr>\n",
              "    <tr>\n",
              "      <th>2</th>\n",
              "      <td>-0.046938</td>\n",
              "      <td>3</td>\n",
              "      <td>-0.419365</td>\n",
              "      <td>0</td>\n",
              "      <td>5</td>\n",
              "      <td>1</td>\n",
              "      <td>4</td>\n",
              "      <td>-0.144807</td>\n",
              "      <td>-0.217119</td>\n",
              "      <td>-0.034043</td>\n",
              "      <td>38</td>\n",
              "    </tr>\n",
              "    <tr>\n",
              "      <th>3</th>\n",
              "      <td>1.047072</td>\n",
              "      <td>3</td>\n",
              "      <td>-1.197472</td>\n",
              "      <td>2</td>\n",
              "      <td>5</td>\n",
              "      <td>0</td>\n",
              "      <td>2</td>\n",
              "      <td>-0.144807</td>\n",
              "      <td>-0.217119</td>\n",
              "      <td>-0.034043</td>\n",
              "      <td>38</td>\n",
              "    </tr>\n",
              "    <tr>\n",
              "      <th>4</th>\n",
              "      <td>-0.776277</td>\n",
              "      <td>3</td>\n",
              "      <td>1.136850</td>\n",
              "      <td>2</td>\n",
              "      <td>9</td>\n",
              "      <td>5</td>\n",
              "      <td>2</td>\n",
              "      <td>-0.144807</td>\n",
              "      <td>-0.217119</td>\n",
              "      <td>-0.034043</td>\n",
              "      <td>4</td>\n",
              "    </tr>\n",
              "  </tbody>\n",
              "</table>\n",
              "</div>"
            ],
            "text/plain": [
              "        age  workclass  ...  hours_per_week  native_country\n",
              "0  0.025996          6  ...       -0.034043              38\n",
              "1  0.828270          5  ...       -2.213206              38\n",
              "2 -0.046938          3  ...       -0.034043              38\n",
              "3  1.047072          3  ...       -0.034043              38\n",
              "4 -0.776277          3  ...       -0.034043               4\n",
              "\n",
              "[5 rows x 11 columns]"
            ]
          },
          "metadata": {
            "tags": []
          },
          "execution_count": 35
        }
      ]
    },
    {
      "cell_type": "markdown",
      "metadata": {
        "deletable": true,
        "editable": true,
        "id": "V1bLJFrNxHXV"
      },
      "source": [
        "### Design and train the model"
      ]
    },
    {
      "cell_type": "markdown",
      "metadata": {
        "deletable": true,
        "editable": true,
        "id": "iWkmN8ZmwSXU"
      },
      "source": [
        "#### Create training and validation datasets\n",
        "\n",
        "Create an input function to convert features and labels into a\n",
        "[`tf.data.Dataset`](https://www.tensorflow.org/guide/datasets) for training or evaluation:"
      ]
    },
    {
      "cell_type": "code",
      "metadata": {
        "deletable": true,
        "editable": true,
        "id": "PIfE-YaXwRaU"
      },
      "source": [
        "def input_fn(features, labels, shuffle, num_epochs, batch_size):\n",
        "    \"\"\"Generates an input function to be used for model training.\n",
        "  \n",
        "    Args:\n",
        "      features: numpy array of features used for training or inference\n",
        "      labels: numpy array of labels for each example\n",
        "      shuffle: boolean for whether to shuffle the data or not (set True for\n",
        "        training, False for evaluation)\n",
        "      num_epochs: number of epochs to provide the data for\n",
        "      batch_size: batch size for training\n",
        "  \n",
        "    Returns:\n",
        "      A tf.data.Dataset that can provide data to the Keras model for training or\n",
        "        evaluation\n",
        "    \"\"\"\n",
        "    if labels is None:\n",
        "        inputs = features\n",
        "    else:\n",
        "        inputs = (features, labels)\n",
        "    dataset = tf.data.Dataset.from_tensor_slices(inputs)\n",
        "\n",
        "    if shuffle:\n",
        "        dataset = dataset.shuffle(buffer_size=len(features))\n",
        "\n",
        "    # We call repeat after shuffling, rather than before, to prevent separate\n",
        "    # epochs from blending together.\n",
        "    dataset = dataset.repeat(num_epochs)\n",
        "    dataset = dataset.batch(batch_size)\n",
        "    return dataset"
      ],
      "execution_count": 36,
      "outputs": []
    },
    {
      "cell_type": "markdown",
      "metadata": {
        "deletable": true,
        "editable": true,
        "id": "f8paLJ_rF84R"
      },
      "source": [
        "Next, create these training and evaluation datasets.Use the `NUM_EPOCHS`\n",
        "and `BATCH_SIZE` hyperparameters defined previously to define how the training\n",
        "dataset provides examples to the model during training. Set up the validation\n",
        "dataset to provide all its examples in one batch, for a single validation step\n",
        "at the end of each training epoch."
      ]
    },
    {
      "cell_type": "code",
      "metadata": {
        "deletable": true,
        "editable": true,
        "id": "_xdC2P5EF7rH"
      },
      "source": [
        "# Pass a numpy array by using DataFrame.values\n",
        "training_dataset = input_fn(features=train_x.values, \n",
        "                    labels=train_y, \n",
        "                    shuffle=True, \n",
        "                    num_epochs=NUM_EPOCHS, \n",
        "                    batch_size=BATCH_SIZE)\n",
        "\n",
        "num_eval_examples = eval_x.shape[0]\n",
        "\n",
        "# Pass a numpy array by using DataFrame.values\n",
        "validation_dataset = input_fn(features=eval_x.values, \n",
        "                    labels=eval_y, \n",
        "                    shuffle=False, \n",
        "                    num_epochs=NUM_EPOCHS, \n",
        "                    batch_size=num_eval_examples)                "
      ],
      "execution_count": 37,
      "outputs": []
    },
    {
      "cell_type": "markdown",
      "metadata": {
        "deletable": true,
        "editable": true,
        "id": "vZrDBXnxggOH"
      },
      "source": [
        "# Design a Keras Model from Scratch. Enter code here.."
      ]
    },
    {
      "cell_type": "markdown",
      "metadata": {
        "deletable": true,
        "editable": true,
        "id": "JY_A0yPyqU08"
      },
      "source": [
        "Design your neural network using the [Keras Sequential API](https://www.tensorflow.org/guide/keras#sequential_model).\n",
        "\n",
        "This deep neural network (DNN) has several hidden layers, and the last layer uses a sigmoid activation function to output a value between 0 and 1:\n",
        "\n",
        "* The input layer has 100 units using the ReLU activation function.\n",
        "* The hidden layer has 75 units using the ReLU activation function.\n",
        "* The hidden layer has 50 units using the ReLU activation function.\n",
        "* The hidden layer has 25 units using the ReLU activation function.\n",
        "* The output layer has 1 units using a sigmoid activation function.\n",
        "* The optimizer uses the binary cross-entropy loss function, which is appropriate for a binary classification problem like this one.\n",
        "\n",
        "Feel free to change these layers to try to improve the model:"
      ]
    },
    {
      "cell_type": "code",
      "metadata": {
        "deletable": true,
        "editable": true,
        "id": "j_lsOhQAvzS-"
      },
      "source": [
        "def create_keras_model(input_dim, learning_rate):\n",
        "    \"\"\"Creates Keras Model for Binary Classification.\n",
        "  \n",
        "    Args:\n",
        "      input_dim: How many features the input has\n",
        "      learning_rate: Learning rate for training\n",
        "  \n",
        "    Returns:\n",
        "      The compiled Keras model (still needs to be trained)\n",
        "    \"\"\"\n",
        "    Dense = tf.keras.layers.Dense\n",
        "    #################START CODE HERE##############################################\n",
        "    # Define Keras sequential model with only 5 Dense layers with 100, 75, 50, 25 and 1 neurons each. \n",
        "    #All layers except last one has relu activation. \n",
        "    #Last layer has sigmoid activation.\n",
        "    model = tf.keras.Sequential(\n",
        "      [\n",
        "          Dense(100, activation=tf.nn.relu, kernel_initializer='uniform',\n",
        "                  input_shape=(input_dim,)),\n",
        "          Dense(75, activation=tf.nn.relu, kernel_initializer='uniform'),\n",
        "          Dense(50, activation=tf.nn.relu, kernel_initializer='uniform'),\n",
        "          Dense(25, activation=tf.nn.relu, kernel_initializer='uniform'),\n",
        "          Dense(1, activation=tf.nn.sigmoid, kernel_initializer='uniform')\n",
        "          #Enter more lines here###############################\n",
        "      ])\n",
        "    '''\n",
        "    The input layer has 100 units using the ReLU activation function.\n",
        "    The hidden layer has 75 units using the ReLU activation function.\n",
        "    The hidden layer has 50 units using the ReLU activation function.\n",
        "    The hidden layer has 25 units using the ReLU activation function.\n",
        "    The output layer has 1 units using a sigmoid activation function.\n",
        "    The optimizer uses the binary cross-entropy loss function, which is appropriate for a binary classification problem like this one.\n",
        "    '''\n",
        "    # Custom Optimizer:\n",
        "    # https://www.tensorflow.org/api_docs/python/tf/train/RMSPropOptimizer\n",
        "    optimizer = tf.keras.optimizers.RMSprop(\n",
        "        lr=learning_rate)\n",
        "\n",
        "    # Compile Keras model\n",
        "    model.compile(\n",
        "        loss='binary_crossentropy', optimizer=optimizer, metrics=['accuracy'])\n",
        "    return model"
      ],
      "execution_count": 42,
      "outputs": []
    },
    {
      "cell_type": "markdown",
      "metadata": {
        "deletable": true,
        "editable": true,
        "id": "mo5zTRNvBWv4"
      },
      "source": [
        "Next, create the Keras model object and examine its structure:"
      ]
    },
    {
      "cell_type": "code",
      "metadata": {
        "deletable": true,
        "editable": true,
        "id": "zdyOuwQcSjaY",
        "colab": {
          "base_uri": "https://localhost:8080/"
        },
        "outputId": "b51cf8dc-2bca-4efc-ba78-01d5f605bd6f"
      },
      "source": [
        "num_train_examples, input_dim = train_x.shape\n",
        "print('Number of features: {}'.format(input_dim))\n",
        "print('Number of examples: {}'.format(num_train_examples))\n",
        "\n",
        "keras_model = create_keras_model(\n",
        "    input_dim=input_dim,\n",
        "    learning_rate=LEARNING_RATE)\n"
      ],
      "execution_count": 43,
      "outputs": [
        {
          "output_type": "stream",
          "text": [
            "Number of features: 11\n",
            "Number of examples: 32561\n",
            "WARNING:tensorflow:From /usr/local/lib/python3.7/dist-packages/tensorflow_core/python/ops/nn_impl.py:183: where (from tensorflow.python.ops.array_ops) is deprecated and will be removed in a future version.\n",
            "Instructions for updating:\n",
            "Use tf.where in 2.0, which has the same broadcast rule as np.where\n"
          ],
          "name": "stdout"
        }
      ]
    },
    {
      "cell_type": "code",
      "metadata": {
        "id": "2Z09AeNjObee",
        "colab": {
          "base_uri": "https://localhost:8080/"
        },
        "outputId": "c7a318b0-2b38-4a23-baf8-8e2a8753a30b"
      },
      "source": [
        "##START CODE HERE#############\n",
        "#Summarize the Model above##########\n",
        "keras_model.summary()"
      ],
      "execution_count": 44,
      "outputs": [
        {
          "output_type": "stream",
          "text": [
            "Model: \"sequential_1\"\n",
            "_________________________________________________________________\n",
            "Layer (type)                 Output Shape              Param #   \n",
            "=================================================================\n",
            "dense_1 (Dense)              (None, 100)               1200      \n",
            "_________________________________________________________________\n",
            "dense_2 (Dense)              (None, 75)                7575      \n",
            "_________________________________________________________________\n",
            "dense_3 (Dense)              (None, 50)                3800      \n",
            "_________________________________________________________________\n",
            "dense_4 (Dense)              (None, 25)                1275      \n",
            "_________________________________________________________________\n",
            "dense_5 (Dense)              (None, 1)                 26        \n",
            "=================================================================\n",
            "Total params: 13,876\n",
            "Trainable params: 13,876\n",
            "Non-trainable params: 0\n",
            "_________________________________________________________________\n"
          ],
          "name": "stdout"
        }
      ]
    },
    {
      "cell_type": "markdown",
      "metadata": {
        "deletable": true,
        "editable": true,
        "id": "4cqeQttaHbZt"
      },
      "source": [
        "#### Train and evaluate the model\n",
        "\n",
        "Define a learning rate decay to encourage model paramaters to make smaller\n",
        "changes as training goes on:"
      ]
    },
    {
      "cell_type": "code",
      "metadata": {
        "deletable": true,
        "editable": true,
        "id": "7eLa_Yoj2rhv"
      },
      "source": [
        "# Setup Learning Rate decay.\n",
        "lr_decay_cb = tf.keras.callbacks.LearningRateScheduler(\n",
        "    lambda epoch: LEARNING_RATE + 0.02 * (0.5 ** (1 + epoch)),\n",
        "    verbose=True)\n",
        "\n",
        "# Setup TensorBoard callback.\n",
        "tensorboard_cb = tf.keras.callbacks.TensorBoard(\n",
        "      os.path.join(JOB_DIR, 'keras_tensorboard'),\n",
        "      histogram_freq=1)"
      ],
      "execution_count": 45,
      "outputs": []
    },
    {
      "cell_type": "markdown",
      "metadata": {
        "deletable": true,
        "editable": true,
        "id": "1fExnH6bhOSC"
      },
      "source": [
        "Finally, train the model. Provide the appropriate `steps_per_epoch` for the\n",
        "model to train on the entire training dataset (with `BATCH_SIZE` examples per step) during each epoch. And instruct the model to calculate validation\n",
        "accuracy with one big validation batch at the end of each epoch.\n"
      ]
    },
    {
      "cell_type": "code",
      "metadata": {
        "deletable": true,
        "editable": true,
        "id": "MG4EvLiorMmZ",
        "colab": {
          "base_uri": "https://localhost:8080/"
        },
        "outputId": "3df46199-d6a1-4f0f-ef1c-8c73d18d5c7e"
      },
      "source": [
        "keras_history = keras_model.fit(training_dataset, \n",
        "                          epochs=NUM_EPOCHS, \n",
        "                          steps_per_epoch=int(num_train_examples/BATCH_SIZE), \n",
        "                          validation_data=validation_dataset, \n",
        "                          validation_steps=1, \n",
        "                          callbacks=[lr_decay_cb, tensorboard_cb],\n",
        "                          verbose=1)"
      ],
      "execution_count": 51,
      "outputs": [
        {
          "output_type": "stream",
          "text": [
            "Train on 254 steps, validate on 1 steps\n",
            "\n",
            "Epoch 00001: LearningRateScheduler reducing learning rate to 0.02.\n",
            "Epoch 1/20\n",
            "254/254 [==============================] - 1s 6ms/step - loss: 0.3408 - acc: 0.8457 - val_loss: 0.3818 - val_acc: 0.8150\n",
            "\n",
            "Epoch 00002: LearningRateScheduler reducing learning rate to 0.015.\n",
            "Epoch 2/20\n",
            "254/254 [==============================] - 1s 5ms/step - loss: 0.3293 - acc: 0.8471 - val_loss: 0.3549 - val_acc: 0.8500\n",
            "\n",
            "Epoch 00003: LearningRateScheduler reducing learning rate to 0.0125.\n",
            "Epoch 3/20\n",
            "254/254 [==============================] - 1s 5ms/step - loss: 0.3271 - acc: 0.8480 - val_loss: 0.3215 - val_acc: 0.8524\n",
            "\n",
            "Epoch 00004: LearningRateScheduler reducing learning rate to 0.01125.\n",
            "Epoch 4/20\n",
            "254/254 [==============================] - 1s 5ms/step - loss: 0.3224 - acc: 0.8510 - val_loss: 0.3445 - val_acc: 0.8497\n",
            "\n",
            "Epoch 00005: LearningRateScheduler reducing learning rate to 0.010625.\n",
            "Epoch 5/20\n",
            "254/254 [==============================] - 1s 5ms/step - loss: 0.3241 - acc: 0.8485 - val_loss: 0.3302 - val_acc: 0.8504\n",
            "\n",
            "Epoch 00006: LearningRateScheduler reducing learning rate to 0.0103125.\n",
            "Epoch 6/20\n",
            "254/254 [==============================] - 1s 5ms/step - loss: 0.3217 - acc: 0.8507 - val_loss: 0.3746 - val_acc: 0.8473\n",
            "\n",
            "Epoch 00007: LearningRateScheduler reducing learning rate to 0.01015625.\n",
            "Epoch 7/20\n",
            "254/254 [==============================] - 1s 5ms/step - loss: 0.3212 - acc: 0.8509 - val_loss: 0.3566 - val_acc: 0.8335\n",
            "\n",
            "Epoch 00008: LearningRateScheduler reducing learning rate to 0.010078125.\n",
            "Epoch 8/20\n",
            "254/254 [==============================] - 1s 5ms/step - loss: 0.3214 - acc: 0.8506 - val_loss: 0.3264 - val_acc: 0.8491\n",
            "\n",
            "Epoch 00009: LearningRateScheduler reducing learning rate to 0.0100390625.\n",
            "Epoch 9/20\n",
            "254/254 [==============================] - 1s 5ms/step - loss: 0.3219 - acc: 0.8508 - val_loss: 0.3246 - val_acc: 0.8528\n",
            "\n",
            "Epoch 00010: LearningRateScheduler reducing learning rate to 0.01001953125.\n",
            "Epoch 10/20\n",
            "254/254 [==============================] - 1s 5ms/step - loss: 0.3199 - acc: 0.8521 - val_loss: 0.3277 - val_acc: 0.8478\n",
            "\n",
            "Epoch 00011: LearningRateScheduler reducing learning rate to 0.010009765625.\n",
            "Epoch 11/20\n",
            "254/254 [==============================] - 1s 5ms/step - loss: 0.3220 - acc: 0.8515 - val_loss: 0.3354 - val_acc: 0.8529\n",
            "\n",
            "Epoch 00012: LearningRateScheduler reducing learning rate to 0.010004882812500001.\n",
            "Epoch 12/20\n",
            "254/254 [==============================] - 1s 5ms/step - loss: 0.3278 - acc: 0.8531 - val_loss: 0.3278 - val_acc: 0.8529\n",
            "\n",
            "Epoch 00013: LearningRateScheduler reducing learning rate to 0.01000244140625.\n",
            "Epoch 13/20\n",
            "254/254 [==============================] - 1s 5ms/step - loss: 0.3238 - acc: 0.8505 - val_loss: 0.3360 - val_acc: 0.8513\n",
            "\n",
            "Epoch 00014: LearningRateScheduler reducing learning rate to 0.010001220703125.\n",
            "Epoch 14/20\n",
            "254/254 [==============================] - 1s 5ms/step - loss: 0.3233 - acc: 0.8524 - val_loss: 0.3328 - val_acc: 0.8515\n",
            "\n",
            "Epoch 00015: LearningRateScheduler reducing learning rate to 0.0100006103515625.\n",
            "Epoch 15/20\n",
            "254/254 [==============================] - 1s 5ms/step - loss: 0.3216 - acc: 0.8511 - val_loss: 0.3301 - val_acc: 0.8487\n",
            "\n",
            "Epoch 00016: LearningRateScheduler reducing learning rate to 0.01000030517578125.\n",
            "Epoch 16/20\n",
            "254/254 [==============================] - 1s 5ms/step - loss: 0.3232 - acc: 0.8509 - val_loss: 0.3262 - val_acc: 0.8523\n",
            "\n",
            "Epoch 00017: LearningRateScheduler reducing learning rate to 0.010000152587890625.\n",
            "Epoch 17/20\n",
            "254/254 [==============================] - 1s 5ms/step - loss: 0.3217 - acc: 0.8526 - val_loss: 0.3847 - val_acc: 0.8529\n",
            "\n",
            "Epoch 00018: LearningRateScheduler reducing learning rate to 0.010000076293945313.\n",
            "Epoch 18/20\n",
            "254/254 [==============================] - 1s 5ms/step - loss: 0.3242 - acc: 0.8496 - val_loss: 0.3201 - val_acc: 0.8535\n",
            "\n",
            "Epoch 00019: LearningRateScheduler reducing learning rate to 0.010000038146972657.\n",
            "Epoch 19/20\n",
            "254/254 [==============================] - 2s 7ms/step - loss: 0.3218 - acc: 0.8514 - val_loss: 0.3449 - val_acc: 0.8517\n",
            "\n",
            "Epoch 00020: LearningRateScheduler reducing learning rate to 0.010000019073486329.\n",
            "Epoch 20/20\n",
            "254/254 [==============================] - 1s 5ms/step - loss: 0.3293 - acc: 0.8502 - val_loss: 0.3445 - val_acc: 0.8426\n"
          ],
          "name": "stdout"
        }
      ]
    },
    {
      "cell_type": "markdown",
      "metadata": {
        "deletable": true,
        "editable": true,
        "id": "fW7vTPm2pd2l"
      },
      "source": [
        "### Visualize training and export the trained model"
      ]
    },
    {
      "cell_type": "markdown",
      "metadata": {
        "deletable": true,
        "editable": true,
        "id": "S9ZQcgetLHz9"
      },
      "source": [
        "#### Visualize training\n",
        "\n",
        "Import `matplotlib` to visualize how the model learned over the training period."
      ]
    },
    {
      "cell_type": "code",
      "metadata": {
        "deletable": true,
        "editable": true,
        "id": "ISzcM0lxMOPX",
        "colab": {
          "base_uri": "https://localhost:8080/"
        },
        "outputId": "c253e3f5-a155-499d-85e7-fd53e7c163b0"
      },
      "source": [
        "! pip install matplotlib\n",
        "\n",
        "from matplotlib import pyplot as plt\n",
        "\n",
        "%matplotlib inline"
      ],
      "execution_count": 52,
      "outputs": [
        {
          "output_type": "stream",
          "text": [
            "Requirement already satisfied: matplotlib in /usr/local/lib/python3.7/dist-packages (3.2.2)\n",
            "Requirement already satisfied: numpy>=1.11 in /usr/local/lib/python3.7/dist-packages (from matplotlib) (1.19.5)\n",
            "Requirement already satisfied: pyparsing!=2.0.4,!=2.1.2,!=2.1.6,>=2.0.1 in /usr/local/lib/python3.7/dist-packages (from matplotlib) (2.4.7)\n",
            "Requirement already satisfied: cycler>=0.10 in /usr/local/lib/python3.7/dist-packages (from matplotlib) (0.10.0)\n",
            "Requirement already satisfied: python-dateutil>=2.1 in /usr/local/lib/python3.7/dist-packages (from matplotlib) (2.8.1)\n",
            "Requirement already satisfied: kiwisolver>=1.0.1 in /usr/local/lib/python3.7/dist-packages (from matplotlib) (1.3.1)\n",
            "Requirement already satisfied: six in /usr/local/lib/python3.7/dist-packages (from cycler>=0.10->matplotlib) (1.15.0)\n"
          ],
          "name": "stdout"
        }
      ]
    },
    {
      "cell_type": "markdown",
      "metadata": {
        "deletable": true,
        "editable": true,
        "id": "e6tLXXT0SR-q"
      },
      "source": [
        "Plot the model's loss (binary cross-entropy) and accuracy, as measured at the\n",
        "end of each training epoch:"
      ]
    },
    {
      "cell_type": "code",
      "metadata": {
        "colab": {
          "base_uri": "https://localhost:8080/"
        },
        "id": "gB9i35zEkPK9",
        "outputId": "716736c0-1f4d-4d2a-9390-13ef52a5a0e9"
      },
      "source": [
        "keras_history.history"
      ],
      "execution_count": 54,
      "outputs": [
        {
          "output_type": "execute_result",
          "data": {
            "text/plain": [
              "{'acc': [0.84574926,\n",
              "  0.8471026,\n",
              "  0.8480253,\n",
              "  0.8509781,\n",
              "  0.84845597,\n",
              "  0.8506705,\n",
              "  0.85091656,\n",
              "  0.85057825,\n",
              "  0.85079354,\n",
              "  0.8521469,\n",
              "  0.851501,\n",
              "  0.8531312,\n",
              "  0.85051674,\n",
              "  0.8523622,\n",
              "  0.85110116,\n",
              "  0.85085505,\n",
              "  0.852639,\n",
              "  0.84956324,\n",
              "  0.8514395,\n",
              "  0.8501784],\n",
              " 'loss': [0.3408179873321939,\n",
              "  0.3293035961394235,\n",
              "  0.32707201613215947,\n",
              "  0.3224211414967935,\n",
              "  0.32413134260440435,\n",
              "  0.3216812253937008,\n",
              "  0.32119513754769574,\n",
              "  0.3213865938853091,\n",
              "  0.3219127302446703,\n",
              "  0.31991982342689995,\n",
              "  0.3220169894455925,\n",
              "  0.3277574870882072,\n",
              "  0.32382303916328536,\n",
              "  0.32326540949307087,\n",
              "  0.32157309494149966,\n",
              "  0.3231932001085732,\n",
              "  0.32167416931254655,\n",
              "  0.3241682620499078,\n",
              "  0.3217523243483596,\n",
              "  0.3292522138263297],\n",
              " 'lr': [0.02,\n",
              "  0.015,\n",
              "  0.0125,\n",
              "  0.01125,\n",
              "  0.010625,\n",
              "  0.0103125,\n",
              "  0.01015625,\n",
              "  0.010078125,\n",
              "  0.010039062,\n",
              "  0.0100195315,\n",
              "  0.010009766,\n",
              "  0.010004883,\n",
              "  0.010002442,\n",
              "  0.010001221,\n",
              "  0.010000611,\n",
              "  0.010000305,\n",
              "  0.0100001525,\n",
              "  0.010000076,\n",
              "  0.010000038,\n",
              "  0.010000019],\n",
              " 'val_acc': [0.814965,\n",
              "  0.84998155,\n",
              "  0.8523774,\n",
              "  0.84973586,\n",
              "  0.8504116,\n",
              "  0.84727854,\n",
              "  0.8335176,\n",
              "  0.8491215,\n",
              "  0.85280746,\n",
              "  0.84777,\n",
              "  0.8529303,\n",
              "  0.8529303,\n",
              "  0.8513331,\n",
              "  0.8515174,\n",
              "  0.84869146,\n",
              "  0.852316,\n",
              "  0.8529303,\n",
              "  0.85354465,\n",
              "  0.8517017,\n",
              "  0.84260964],\n",
              " 'val_loss': [0.38184216618537903,\n",
              "  0.3548985719680786,\n",
              "  0.32150623202323914,\n",
              "  0.34447693824768066,\n",
              "  0.3301825225353241,\n",
              "  0.3746383488178253,\n",
              "  0.3566233515739441,\n",
              "  0.3264332413673401,\n",
              "  0.3245576322078705,\n",
              "  0.3277179002761841,\n",
              "  0.3353882133960724,\n",
              "  0.3277750015258789,\n",
              "  0.33603429794311523,\n",
              "  0.3327837288379669,\n",
              "  0.33008190989494324,\n",
              "  0.3261847496032715,\n",
              "  0.3847326934337616,\n",
              "  0.320109486579895,\n",
              "  0.34485211968421936,\n",
              "  0.34446990489959717]}"
            ]
          },
          "metadata": {
            "tags": []
          },
          "execution_count": 54
        }
      ]
    },
    {
      "cell_type": "code",
      "metadata": {
        "deletable": true,
        "editable": true,
        "id": "yU1TzdlY0i-Y",
        "colab": {
          "base_uri": "https://localhost:8080/",
          "height": 573
        },
        "outputId": "3b5faf3d-7211-4a46-edf7-f306cbdadb04"
      },
      "source": [
        "# Visualize History for Loss.\n",
        "plt.title('Keras model loss')\n",
        "plt.plot(keras_history.history['loss'])\n",
        "plt.plot(keras_history.history['val_loss'])\n",
        "plt.ylabel('loss')\n",
        "plt.xlabel('epoch')\n",
        "plt.legend(['training', 'validation'], loc='upper right')\n",
        "plt.show()\n",
        "\n",
        "# Visualize History for Accuracy.\n",
        "plt.title('Keras model accuracy')\n",
        "plt.ylabel('accuracy')\n",
        "plt.xlabel('epoch')\n",
        "plt.plot(keras_history.history['acc'])\n",
        "plt.plot(keras_history.history['val_acc'])\n",
        "plt.legend(['training', 'validation'], loc='lower right')\n",
        "plt.show()"
      ],
      "execution_count": 55,
      "outputs": [
        {
          "output_type": "display_data",
          "data": {
            "image/png": "[encoded data removed]",
            "text/plain": [
              "<Figure size 432x288 with 1 Axes>"
            ]
          },
          "metadata": {
            "tags": [],
            "needs_background": "light"
          }
        },
        {
          "output_type": "display_data",
          "data": {
            "image/png": "[encoded data removed]",
            "text/plain": [
              "<Figure size 432x288 with 1 Axes>"
            ]
          },
          "metadata": {
            "tags": [],
            "needs_background": "light"
          }
        }
      ]
    },
    {
      "cell_type": "code",
      "metadata": {
        "colab": {
          "base_uri": "https://localhost:8080/"
        },
        "id": "Oixh8XG2vytt",
        "outputId": "076b01f9-ed9c-4007-affc-ef1aae01de2e"
      },
      "source": [
        "!ls"
      ],
      "execution_count": 56,
      "outputs": [
        {
          "output_type": "stream",
          "text": [
            "hptuning_config.yaml   prediction_input.json  requirements.txt\ttrainer\n",
            "local-training-output  README.md\t      scripts\n"
          ],
          "name": "stdout"
        }
      ]
    },
    {
      "cell_type": "markdown",
      "metadata": {
        "deletable": true,
        "editable": true,
        "id": "D2L4TkncQb0F"
      },
      "source": [
        "Over time, loss decreases and accuracy increases. But do they converge to a\n",
        "stable level? Are there big differences between the training and validation\n",
        "metrics (a sign of overfitting)?\n",
        "\n",
        "Learn about [how to improve your machine learning\n",
        "model](https://developers.google.com/machine-learning/crash-course/). Then, feel\n",
        "free to adjust hyperparameters or the model architecture and train again."
      ]
    },
    {
      "cell_type": "markdown",
      "metadata": {
        "deletable": true,
        "editable": true,
        "id": "gmTiOQObmTqd"
      },
      "source": [
        "#### Export the model for serving\n",
        "\n",
        "AI Platform requires when you [create a model version\n",
        "resource](https://cloud.google.com/ml-engine/docs/tensorflow/deploying-models#create_a_model_version).\n",
        "\n",
        "Since not all optimizers can be exported to the SavedModel format, you may see\n",
        "warnings during the export process. As long you successfully export a serving\n",
        "graph, AI Platform can used the SavedModel to serve predictions."
      ]
    },
    {
      "cell_type": "code",
      "metadata": {
        "colab": {
          "base_uri": "https://localhost:8080/"
        },
        "id": "pNNMR0UyvPpO",
        "outputId": "c83bb864-f75c-4a3c-bfa1-1b0cc1cdb9f8"
      },
      "source": [
        "# Export the model to a local SavedModel directory \n",
        "export_path = tf.compat.v1.keras.experimental.export_saved_model(keras_model, 'keras_export')\n",
        "print(\"Model exported to: \", export_path)"
      ],
      "execution_count": 57,
      "outputs": [
        {
          "output_type": "stream",
          "text": [
            "WARNING:tensorflow:From <ipython-input-57-c5840a3be305>:2: export_saved_model (from tensorflow.python.keras.saving.saved_model_experimental) is deprecated and will be removed in a future version.\n",
            "Instructions for updating:\n",
            "Please use `model.save(..., save_format=\"tf\")` or `tf.keras.models.save_model(..., save_format=\"tf\")`.\n",
            "WARNING:tensorflow:From /usr/local/lib/python3.7/dist-packages/tensorflow_core/python/ops/init_ops.py:97: calling Zeros.__init__ (from tensorflow.python.ops.init_ops) with dtype is deprecated and will be removed in a future version.\n",
            "Instructions for updating:\n",
            "Call initializer instance with the dtype argument instead of passing it to the constructor\n",
            "WARNING:tensorflow:From /usr/local/lib/python3.7/dist-packages/tensorflow_core/python/saved_model/signature_def_utils_impl.py:253: build_tensor_info (from tensorflow.python.saved_model.utils_impl) is deprecated and will be removed in a future version.\n",
            "Instructions for updating:\n",
            "This function will only be available through the v1 compatibility library as tf.compat.v1.saved_model.utils.build_tensor_info or tf.compat.v1.saved_model.build_tensor_info.\n",
            "INFO:tensorflow:Signatures INCLUDED in export for Classify: None\n",
            "INFO:tensorflow:Signatures INCLUDED in export for Regress: None\n",
            "INFO:tensorflow:Signatures INCLUDED in export for Predict: None\n",
            "INFO:tensorflow:Signatures INCLUDED in export for Train: ['train']\n",
            "INFO:tensorflow:Signatures INCLUDED in export for Eval: None\n",
            "WARNING:tensorflow:Export includes no default signature!\n",
            "INFO:tensorflow:No assets to save.\n",
            "INFO:tensorflow:No assets to write.\n",
            "INFO:tensorflow:Signatures INCLUDED in export for Classify: None\n",
            "INFO:tensorflow:Signatures INCLUDED in export for Regress: None\n",
            "INFO:tensorflow:Signatures INCLUDED in export for Predict: None\n",
            "INFO:tensorflow:Signatures INCLUDED in export for Train: None\n",
            "INFO:tensorflow:Signatures INCLUDED in export for Eval: ['eval']\n",
            "WARNING:tensorflow:Export includes no default signature!\n",
            "INFO:tensorflow:No assets to save.\n",
            "INFO:tensorflow:No assets to write.\n",
            "WARNING:tensorflow:Unresolved object in checkpoint: (root).optimizer.decay\n",
            "WARNING:tensorflow:Unresolved object in checkpoint: (root).optimizer.learning_rate\n",
            "WARNING:tensorflow:Unresolved object in checkpoint: (root).optimizer.momentum\n",
            "WARNING:tensorflow:Unresolved object in checkpoint: (root).optimizer.rho\n",
            "WARNING:tensorflow:Unresolved object in checkpoint: (root).optimizer's state 'rms' for (root).layer_with_weights-0.kernel\n",
            "WARNING:tensorflow:Unresolved object in checkpoint: (root).optimizer's state 'rms' for (root).layer_with_weights-0.bias\n",
            "WARNING:tensorflow:Unresolved object in checkpoint: (root).optimizer's state 'rms' for (root).layer_with_weights-1.kernel\n",
            "WARNING:tensorflow:Unresolved object in checkpoint: (root).optimizer's state 'rms' for (root).layer_with_weights-1.bias\n",
            "WARNING:tensorflow:Unresolved object in checkpoint: (root).optimizer's state 'rms' for (root).layer_with_weights-2.kernel\n",
            "WARNING:tensorflow:Unresolved object in checkpoint: (root).optimizer's state 'rms' for (root).layer_with_weights-2.bias\n",
            "WARNING:tensorflow:Unresolved object in checkpoint: (root).optimizer's state 'rms' for (root).layer_with_weights-3.kernel\n",
            "WARNING:tensorflow:Unresolved object in checkpoint: (root).optimizer's state 'rms' for (root).layer_with_weights-3.bias\n",
            "WARNING:tensorflow:Unresolved object in checkpoint: (root).optimizer's state 'rms' for (root).layer_with_weights-4.kernel\n",
            "WARNING:tensorflow:Unresolved object in checkpoint: (root).optimizer's state 'rms' for (root).layer_with_weights-4.bias\n",
            "WARNING:tensorflow:A checkpoint was restored (e.g. tf.train.Checkpoint.restore or tf.keras.Model.load_weights) but not all checkpointed values were used. See above for specific issues. Use expect_partial() on the load status object, e.g. tf.train.Checkpoint.restore(...).expect_partial(), to silence these warnings, or use assert_consumed() to make the check explicit. See https://www.tensorflow.org/alpha/guide/checkpoints#loading_mechanics for details.\n",
            "INFO:tensorflow:Signatures INCLUDED in export for Classify: None\n",
            "INFO:tensorflow:Signatures INCLUDED in export for Regress: None\n",
            "INFO:tensorflow:Signatures INCLUDED in export for Predict: ['serving_default']\n",
            "INFO:tensorflow:Signatures INCLUDED in export for Train: None\n",
            "INFO:tensorflow:Signatures INCLUDED in export for Eval: None\n",
            "INFO:tensorflow:No assets to save.\n",
            "INFO:tensorflow:No assets to write.\n",
            "INFO:tensorflow:SavedModel written to: keras_export/saved_model.pb\n",
            "Model exported to:  None\n"
          ],
          "name": "stdout"
        }
      ]
    },
    {
      "cell_type": "code",
      "metadata": {
        "deletable": true,
        "editable": true,
        "id": "_eIF2qfykiFJ",
        "colab": {
          "base_uri": "https://localhost:8080/"
        },
        "outputId": "8e20e5ca-6656-437c-c51c-e1ae475cbd13"
      },
      "source": [
        "# Export the model to a SavedModel directory in Cloud Storage\n",
        "export_path = tf.compat.v1.keras.experimental.export_saved_model(keras_model, JOB_DIR + '/keras_export1')\n",
        "print(\"Model exported to: \", export_path)"
      ],
      "execution_count": 60,
      "outputs": [
        {
          "output_type": "stream",
          "text": [
            "INFO:tensorflow:Signatures INCLUDED in export for Classify: None\n",
            "INFO:tensorflow:Signatures INCLUDED in export for Regress: None\n",
            "INFO:tensorflow:Signatures INCLUDED in export for Predict: None\n",
            "INFO:tensorflow:Signatures INCLUDED in export for Train: ['train']\n",
            "INFO:tensorflow:Signatures INCLUDED in export for Eval: None\n",
            "WARNING:tensorflow:Export includes no default signature!\n",
            "INFO:tensorflow:No assets to save.\n",
            "INFO:tensorflow:No assets to write.\n",
            "INFO:tensorflow:Signatures INCLUDED in export for Classify: None\n",
            "INFO:tensorflow:Signatures INCLUDED in export for Regress: None\n",
            "INFO:tensorflow:Signatures INCLUDED in export for Predict: None\n",
            "INFO:tensorflow:Signatures INCLUDED in export for Train: None\n",
            "INFO:tensorflow:Signatures INCLUDED in export for Eval: ['eval']\n",
            "WARNING:tensorflow:Export includes no default signature!\n",
            "INFO:tensorflow:No assets to save.\n",
            "INFO:tensorflow:No assets to write.\n",
            "WARNING:tensorflow:Unresolved object in checkpoint: (root).optimizer.decay\n",
            "WARNING:tensorflow:Unresolved object in checkpoint: (root).optimizer.learning_rate\n",
            "WARNING:tensorflow:Unresolved object in checkpoint: (root).optimizer.momentum\n",
            "WARNING:tensorflow:Unresolved object in checkpoint: (root).optimizer.rho\n",
            "WARNING:tensorflow:Unresolved object in checkpoint: (root).optimizer's state 'rms' for (root).layer_with_weights-0.kernel\n",
            "WARNING:tensorflow:Unresolved object in checkpoint: (root).optimizer's state 'rms' for (root).layer_with_weights-0.bias\n",
            "WARNING:tensorflow:Unresolved object in checkpoint: (root).optimizer's state 'rms' for (root).layer_with_weights-1.kernel\n",
            "WARNING:tensorflow:Unresolved object in checkpoint: (root).optimizer's state 'rms' for (root).layer_with_weights-1.bias\n",
            "WARNING:tensorflow:Unresolved object in checkpoint: (root).optimizer's state 'rms' for (root).layer_with_weights-2.kernel\n",
            "WARNING:tensorflow:Unresolved object in checkpoint: (root).optimizer's state 'rms' for (root).layer_with_weights-2.bias\n",
            "WARNING:tensorflow:Unresolved object in checkpoint: (root).optimizer's state 'rms' for (root).layer_with_weights-3.kernel\n",
            "WARNING:tensorflow:Unresolved object in checkpoint: (root).optimizer's state 'rms' for (root).layer_with_weights-3.bias\n",
            "WARNING:tensorflow:Unresolved object in checkpoint: (root).optimizer's state 'rms' for (root).layer_with_weights-4.kernel\n",
            "WARNING:tensorflow:Unresolved object in checkpoint: (root).optimizer's state 'rms' for (root).layer_with_weights-4.bias\n",
            "WARNING:tensorflow:A checkpoint was restored (e.g. tf.train.Checkpoint.restore or tf.keras.Model.load_weights) but not all checkpointed values were used. See above for specific issues. Use expect_partial() on the load status object, e.g. tf.train.Checkpoint.restore(...).expect_partial(), to silence these warnings, or use assert_consumed() to make the check explicit. See https://www.tensorflow.org/alpha/guide/checkpoints#loading_mechanics for details.\n",
            "INFO:tensorflow:Signatures INCLUDED in export for Classify: None\n",
            "INFO:tensorflow:Signatures INCLUDED in export for Regress: None\n",
            "INFO:tensorflow:Signatures INCLUDED in export for Predict: ['serving_default']\n",
            "INFO:tensorflow:Signatures INCLUDED in export for Train: None\n",
            "INFO:tensorflow:Signatures INCLUDED in export for Eval: None\n",
            "INFO:tensorflow:No assets to save.\n",
            "INFO:tensorflow:No assets to write.\n",
            "INFO:tensorflow:SavedModel written to: gs://nooji-test-bucket/keras-job-dir/keras_export1/saved_model.pb\n",
            "Model exported to:  None\n"
          ],
          "name": "stdout"
        }
      ]
    },
    {
      "cell_type": "markdown",
      "metadata": {
        "deletable": true,
        "editable": true,
        "id": "i805caqculq4"
      },
      "source": [
        "# Task 3: Deploy this model to AI Platform and serve predictions by following the steps from Part 2 (Cloud Deployment). Ensure you know all the steps to train and fetch results for test data.\n",
        "\n",
        "## Enter your code below."
      ]
    },
    {
      "cell_type": "markdown",
      "metadata": {
        "deletable": true,
        "editable": true,
        "id": "x27DXeUGzb-M"
      },
      "source": [
        "## Finally, Cleaning up\n",
        "\n",
        "To clean up all GCP resources used in this project, you can [delete the GCP\n",
        "project](https://cloud.google.com/resource-manager/docs/creating-managing-projects#shutting_down_projects) you used for the tutorial.\n",
        "\n",
        "Alternatively, you can clean up individual resources by running the following\n",
        "commands:"
      ]
    },
    {
      "cell_type": "code",
      "metadata": {
        "deletable": true,
        "editable": true,
        "id": "no210oWF68Uk",
        "colab": {
          "base_uri": "https://localhost:8080/"
        },
        "outputId": "b57db389-6278-47b2-cfe0-d16cff893768"
      },
      "source": [
        "# Delete model version resource\n",
        "! gcloud ai-platform versions delete $MODEL_VERSION --quiet --model $MODEL_NAME \n",
        "\n",
        "# Delete model resource\n",
        "! gcloud ai-platform models delete $MODEL_NAME --quiet\n",
        "\n",
        "# Delete Cloud Storage objects that were created\n",
        "! gsutil -m rm -r $JOB_DIR\n",
        "\n",
        "# If the training job is still running, cancel it\n",
        "! gcloud ai-platform jobs cancel $JOB_NAME --quiet --verbosity critical"
      ],
      "execution_count": null,
      "outputs": [
        {
          "output_type": "stream",
          "text": [
            "Using endpoint [https://us-central1-ml.googleapis.com/]\n",
            "\u001b[1;31mERROR:\u001b[0m (gcloud.ai-platform.versions.delete) NOT_FOUND: Field: name Error: The model resource: \"fb_keras_model\" was not found. Please create the model resource first by using 'gcloud ai-platform models create fb_keras_model'.\n",
            "- '@type': type.googleapis.com/google.rpc.BadRequest\n",
            "  fieldViolations:\n",
            "  - description: \"The model resource: \\\"fb_keras_model\\\" was not found. Please create\\\n",
            "      \\ the model resource first by using 'gcloud ai-platform models create fb_keras_model'.\"\n",
            "    field: name\n",
            "Using endpoint [https://us-central1-ml.googleapis.com/]\n",
            "\u001b[1;31mERROR:\u001b[0m (gcloud.ai-platform.models.delete) NOT_FOUND: Field: name Error: The model resource: \"fb_keras_model\" was not found. Please create the model resource first by using 'gcloud ai-platform models create fb_keras_model'.\n",
            "- '@type': type.googleapis.com/google.rpc.BadRequest\n",
            "  fieldViolations:\n",
            "  - description: \"The model resource: \\\"fb_keras_model\\\" was not found. Please create\\\n",
            "      \\ the model resource first by using 'gcloud ai-platform models create fb_keras_model'.\"\n",
            "    field: name\n",
            "Removing gs://automl-experiment-fourthbrain/keras-job-dir/keras_export/variables/#1611783602859892...\n",
            "Removing gs://automl-experiment-fourthbrain/keras-job-dir/keras_export/variables/variables.data-00000-of-00001#1611783619060626...\n",
            "Removing gs://automl-experiment-fourthbrain/keras-job-dir/#1611783601056674...\n",
            "Removing gs://automl-experiment-fourthbrain/keras-job-dir/keras_export/#1611783601455130...\n",
            "Removing gs://automl-experiment-fourthbrain/keras-job-dir/keras_export/variables/checkpoint#1611783621105562...\n",
            "Removing gs://automl-experiment-fourthbrain/keras-job-dir/keras_export/assets/saved_model.json#1611783629725562...\n",
            "Removing gs://automl-experiment-fourthbrain/keras-job-dir/keras_export/assets/#1611783629339265...\n",
            "Removing gs://automl-experiment-fourthbrain/keras-job-dir/keras_export/variables/variables.index#1611783619630260...\n",
            "Removing gs://automl-experiment-fourthbrain/keras-job-dir/keras_export/saved_model.pb#1611783628006223...\n",
            "/ [9/9 objects] 100% Done                                                       \n",
            "Operation completed over 9 objects.                                              \n"
          ],
          "name": "stdout"
        }
      ]
    },
    {
      "cell_type": "code",
      "metadata": {
        "id": "xtRXYp034URS"
      },
      "source": [
        "gsutil rm -r gs://$BUCKET_NAME"
      ],
      "execution_count": null,
      "outputs": []
    },
    {
      "cell_type": "markdown",
      "metadata": {
        "deletable": true,
        "editable": true,
        "id": "3F2g4OjbJ3gZ"
      },
      "source": [
        "# Ensure all your data is removed!\n",
        "Now you know how to use AutoML in GCP!\n",
        "Congratulations..."
      ]
    },
    {
      "cell_type": "markdown",
      "metadata": {
        "deletable": true,
        "editable": true,
        "id": "K0UXLWaBJnrY"
      },
      "source": [
        "## What's next?\n",
        "\n",
        "* View the [complete training\n",
        "code](https://github.com/GoogleCloudPlatform/cloudml-samples/tree/master/census/tf-keras) used in this guide, which structures the code to accept custom\n",
        "hyperparameters as command-line flags.\n",
        "* Read about [packaging\n",
        "code](https://cloud.google.com/ml-engine/docs/tensorflow/packaging-trainer) for an AI Platform training job.\n",
        "* Read about [deploying a\n",
        "model](https://cloud.google.com/ml-engine/docs/tensorflow/deploying-models) to serve predictions."
      ]
    }
  ]
}