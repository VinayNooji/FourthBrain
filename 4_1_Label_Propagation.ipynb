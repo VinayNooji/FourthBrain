{
  "nbformat": 4,
  "nbformat_minor": 0,
  "metadata": {
    "kernelspec": {
      "display_name": "Python 3",
      "language": "python",
      "name": "python3"
    },
    "language_info": {
      "codemirror_mode": {
        "name": "ipython",
        "version": 3
      },
      "file_extension": ".py",
      "mimetype": "text/x-python",
      "name": "python",
      "nbconvert_exporter": "python",
      "pygments_lexer": "ipython3",
      "version": "3.8.5"
    },
    "colab": {
      "name": "4.1_Label_Propagation.ipynb",
      "provenance": [],
      "collapsed_sections": [],
      "include_colab_link": true
    }
  },
  "cells": [
    {
      "cell_type": "markdown",
      "metadata": {
        "id": "view-in-github",
        "colab_type": "text"
      },
      "source": [
        "<a href=\"https://colab.research.google.com/github/VinayNooji/FourthBrain/blob/main/4_1_Label_Propagation.ipynb\" target=\"_parent\"><img src=\"https://colab.research.google.com/assets/colab-badge.svg\" alt=\"Open In Colab\"/></a>"
      ]
    },
    {
      "cell_type": "markdown",
      "metadata": {
        "id": "ieUiNqS3KCZw"
      },
      "source": [
        "# Label Propagation\n",
        "\n",
        "## Label propagation is similar to training a classification model and then using that model to make predictions on test data. The key difference is that in general, our analogue to the test data has no labels against which to evaluate our model. In this exercise, we keep the entire set of true labels for illustrative purposes, but the vast marjority of them play no role in training the model. \n",
        "\n",
        "## This exercise is adapted from scikit-learn's [tutorial](https://scikit-learn.org/stable/auto_examples/semi_supervised/plot_label_propagation_digits.html) on zero shot learning ."
      ]
    },
    {
      "cell_type": "markdown",
      "metadata": {
        "id": "IESgGiUAlfZn"
      },
      "source": [
        "### Load the necessary modules and functions"
      ]
    },
    {
      "cell_type": "code",
      "metadata": {
        "id": "hOVZd8fjgJyK"
      },
      "source": [
        "import numpy as np\n",
        "import matplotlib.pyplot as plt\n",
        "\n",
        "from scipy import stats\n",
        "\n",
        "from sklearn import datasets\n",
        "from sklearn.semi_supervised import LabelSpreading\n",
        "\n",
        "from sklearn.metrics import confusion_matrix, classification_report"
      ],
      "execution_count": 71,
      "outputs": []
    },
    {
      "cell_type": "code",
      "metadata": {
        "colab": {
          "base_uri": "https://localhost:8080/"
        },
        "id": "sNqxIcEe8mWY",
        "outputId": "b4355aaa-6d5e-4e9c-c970-434ffd566a1f"
      },
      "source": [
        "a = np.arange(50)\n",
        "np.put(a, range(5, 50), -5)\n",
        "a"
      ],
      "execution_count": 72,
      "outputs": [
        {
          "output_type": "execute_result",
          "data": {
            "text/plain": [
              "array([ 0,  1,  2,  3,  4, -5, -5, -5, -5, -5, -5, -5, -5, -5, -5, -5, -5,\n",
              "       -5, -5, -5, -5, -5, -5, -5, -5, -5, -5, -5, -5, -5, -5, -5, -5, -5,\n",
              "       -5, -5, -5, -5, -5, -5, -5, -5, -5, -5, -5, -5, -5, -5, -5, -5])"
            ]
          },
          "metadata": {
            "tags": []
          },
          "execution_count": 72
        }
      ]
    },
    {
      "cell_type": "markdown",
      "metadata": {
        "id": "0An6u8e9loVQ"
      },
      "source": [
        "### Exercise: Load and preprocess the data. \n",
        "1. Shuffle the indices\n",
        "2. Use the shuffled indices to extract 1000 random samples from the features data\n",
        "3. Extract the corresponding 1000 labels and images\n",
        "4. Copy the labels. Treat the first 50 shuffled samples as labeled data and the rest as unlabeled data. Replace the labels after the first 50 with -1.\n",
        "\n",
        "We'll use this copy of our labels (with 50 labels known and the other 950 hidden) to train our model, and use the original copy (with all 1000 labels known) to evaluate the model."
      ]
    },
    {
      "cell_type": "markdown",
      "metadata": {
        "id": "oEwLP6rNxwsZ"
      },
      "source": [
        "### Club the exercises to a single ***monolithic*** function"
      ]
    },
    {
      "cell_type": "markdown",
      "metadata": {
        "id": "Hwlk3ptY1YrL"
      },
      "source": [
        "### Exercise: Train the label propagation model with `gamma = 0.25` and `max_iter = 20`\n",
        "\n",
        "### Make sure you pass in the correct version of the target array, i.e. the one containing unlabeled data\n",
        "\n",
        "### Exercise: Evaluate the model's performance on the unlabeled data\n",
        "\n",
        "### Exercise: Find the 10 most uncertain labels in descending order of uncertainty, i.e. the labels for which the model made the least confident predictions. Plot the associated images. Observe any discrepancies between predicted and true labels. Do you see any patterns? What might account for them? "
      ]
    },
    {
      "cell_type": "code",
      "metadata": {
        "id": "Pz8fkg-ltHaB"
      },
      "source": [
        "def label_exercise_function(number_of_total_samples=1000, number_of_known_labels=50):\n",
        "  # Load the digits dataset\n",
        "  # digits = {data,target,indices}; n = 1797\n",
        "  digits = datasets.load_digits()\n",
        "\n",
        "  # Set the random state to 2 for reproducibility\n",
        "  rng = np.random.RandomState(2)\n",
        "\n",
        "  ### START CODE HERE ###\n",
        "  # Initialize the indices as an ordered array, with each element corresponding to a sample in the dataset\n",
        "  indices = np.arange(digits.data.shape[0])\n",
        "  #print(indices)\n",
        "  #print(digits.data.shape)\n",
        "  #print(len(indices))\n",
        "  # Shuffle the indices\n",
        "  rng.shuffle(indices)\n",
        "  #print(indices)\n",
        "  # Use the shuffled indices to extract 1000 feature vectors, labels, and images\n",
        "  n_total_samples = indices[:number_of_total_samples]\n",
        "  #print(len(n_total_samples))\n",
        "  #print(digits.target)\n",
        "  # Features\n",
        "  X = digits.data[n_total_samples]\n",
        "  # Labels\n",
        "  y = digits.target[n_total_samples]\n",
        "  # Images\n",
        "  images = digits.images[n_total_samples]\n",
        "\n",
        "  # Copy the labels\n",
        "  y_train = np.copy(y)\n",
        "  #print(y[50:90])\n",
        "\n",
        "  #Vinay implementation\n",
        "  #np.put(y_train, range(50, 1000), -1)\n",
        "\n",
        "  # Replace all of the elements of y_train after the first 50 with -1, rendering them unlabeled\n",
        "  n_labeled_points = number_of_known_labels\n",
        "  # Create an ordered array of indices of the training data\n",
        "  train_indices = np.arange(len(n_total_samples))\n",
        "  # Define the training data indices after n_labeled_points as unlabeled\n",
        "  unlabeled_set = train_indices[n_labeled_points:]\n",
        "  # Conduct the label replacement\n",
        "  #print(f'Y_Train Before = {y_train[50:90]}')\n",
        "  y_train[unlabeled_set] = -1\n",
        "  ### END CODE HERE ###\n",
        "  #print(f'X before = {digits.data[:25]}, X After {X[:25]}')\n",
        "  #print(f'Y_Train After = {y_train[50:90]}')\n",
        "\n",
        "  #Verify that the labels are randomly distributed and all the labels after the first 50 in `y_train` are hidden\n",
        "  verify_min = number_of_known_labels//2\n",
        "  verify_max = number_of_known_labels+number_of_known_labels//2\n",
        "  print(\"Verify y_train is randomly distributed and labels between %d and %d are hidden\" %(verify_min, verify_max))\n",
        "  print(f'{y_train[verify_min:verify_max]}\\n')\n",
        "  \n",
        "  ### START CODE HERE ###\n",
        "  # Initialize the model\n",
        "  lp_model = LabelSpreading(gamma = 0.25, max_iter = 20)\n",
        "  # Train the model\n",
        "  lp_model.fit(X, y_train)\n",
        "  ### END CODE HERE ###\n",
        "  ### START CODE HERE ###\n",
        "  # Extract the label predictions for the unlabeled data\n",
        "  predicted_labels = lp_model.transduction_[unlabeled_set]\n",
        "  # Extract the true labels of the unlabeled data\n",
        "  true_labels = y[unlabeled_set]\n",
        "  # Compute the confusion matrix between the true and predicted labels of the unlabeled data\n",
        "  cm = confusion_matrix(true_labels, predicted_labels)\n",
        "  ### END CODE HERE ###\n",
        "  print(\"Label Spreading model: %d labeled & %d unlabeled points (%d total)\" %\n",
        "        (n_labeled_points, len(n_total_samples) - n_labeled_points, len(n_total_samples)))\n",
        "\n",
        "  #print(classification_report(true_labels, predicted_labels))\n",
        "\n",
        "  print(\"Confusion matrix\")\n",
        "  print(f'{cm}\\n')\n",
        "  ### START CODE HERE ###\n",
        "  # Calculate uncertainty values for each transduced distribution\n",
        "  # You may scipy stats' entropy() function useful.\n",
        "  #pred_entropies = stats.entropy(predicted_labels, true_labels)\n",
        "  pred_entropies = stats.distributions.entropy(lp_model.label_distributions_.T)\n",
        "  # Pick the top 10 most uncertain labels, in descending order of uncertainty\n",
        "  uncertainty_index = np.argsort(pred_entropies)[-10:]\n",
        "  ### END CODE HERE ###\n",
        "\n",
        "  # Plot\n",
        "  f = plt.figure(figsize=(7, 4))\n",
        "  for index, image_index in enumerate(uncertainty_index):\n",
        "      image = images[image_index]\n",
        "      \n",
        "      sub = f.add_subplot(2, 5, index + 1)\n",
        "      sub.imshow(image, cmap=plt.cm.gray_r)\n",
        "      plt.xticks([])\n",
        "      plt.yticks([])\n",
        "      sub.set_title('predict: %i\\ntrue: %i' % (\n",
        "          lp_model.transduction_[image_index], y[image_index]))\n",
        "\n",
        "  f.suptitle('Learning with small amount of labeled data')\n",
        "  plt.show()\n",
        "  return true_labels, predicted_labels"
      ],
      "execution_count": 119,
      "outputs": []
    },
    {
      "cell_type": "markdown",
      "metadata": {
        "id": "xD119mlU69jb"
      },
      "source": [
        "### Exercise: Repeat the experiment with 10, 100, and 250 labeled images. How do the differing numbers of labeled samples affect the model's performance? Which number detections yield the most errors?\n",
        "\n"
      ]
    },
    {
      "cell_type": "code",
      "metadata": {
        "colab": {
          "base_uri": "https://localhost:8080/",
          "height": 571
        },
        "id": "CIZ4GTKE3eqE",
        "outputId": "ec041681-590e-411c-dee4-979145a1dade"
      },
      "source": [
        "true_labels_50, predicted_labels_50 = label_exercise_function()"
      ],
      "execution_count": 120,
      "outputs": [
        {
          "output_type": "stream",
          "text": [
            "Verify y_train is randomly distributed and labels between 25 and 75 are hidden\n",
            "[ 2  9  5  4  6  5  6  3  4  0  9  9  8  4  6  8  8  5  7  9  6  9  6  1\n",
            "  3 -1 -1 -1 -1 -1 -1 -1 -1 -1 -1 -1 -1 -1 -1 -1 -1 -1 -1 -1 -1 -1 -1 -1\n",
            " -1 -1]\n",
            "\n",
            "Label Spreading model: 50 labeled & 950 unlabeled points (1000 total)\n",
            "Confusion matrix\n",
            "[[ 98   0   0   0   0   0   0   0   0   0]\n",
            " [  0  84   0   0   1   1   0   0   3   4]\n",
            " [  0  12  71   0   0   0   0   1   7   0]\n",
            " [  0   0   0  97   0   0   0   1   0  10]\n",
            " [  0   0   0   0  88   0   0   0   0   0]\n",
            " [  0   0   0   0   0  95   0   0   0   7]\n",
            " [  0   0   0   0   0   0 100   0   0   0]\n",
            " [  0   0   0   0   0   2   0  83   0   6]\n",
            " [  0   3   1   8   1   0   3   0  71   0]\n",
            " [  0   0   0   0   1   0   0   0   2  89]]\n",
            "\n"
          ],
          "name": "stdout"
        },
        {
          "output_type": "display_data",
          "data": {
            "image/png": "[encoded data removed]",
            "text/plain": [
              "<Figure size 504x288 with 10 Axes>"
            ]
          },
          "metadata": {
            "tags": []
          }
        }
      ]
    },
    {
      "cell_type": "code",
      "metadata": {
        "colab": {
          "base_uri": "https://localhost:8080/",
          "height": 537
        },
        "id": "ynCmiHdw3eZU",
        "outputId": "a6f8d1bd-5d04-4d3a-b8c7-74aebe06c355"
      },
      "source": [
        "true_labels_10, predicted_labels_10 = label_exercise_function(number_of_known_labels=10)"
      ],
      "execution_count": 126,
      "outputs": [
        {
          "output_type": "stream",
          "text": [
            "Verify y_train is randomly distributed and labels between 5 and 15 are hidden\n",
            "[ 7  1  5  1  6 -1 -1 -1 -1 -1]\n",
            "\n",
            "Label Spreading model: 10 labeled & 990 unlabeled points (1000 total)\n",
            "Confusion matrix\n",
            "[[ 99   0   0   0   0   0   0   0   0   0]\n",
            " [  0  89   0   0   1   0   5   0   0   1]\n",
            " [  0  80   0   0   1   0   1   3   0   8]\n",
            " [  0   5   0   0   3   2   0   2   0  98]\n",
            " [  0   0   0   0  91   0   0   3   0   0]\n",
            " [  0   0   0   0   2 101   0   0   0   5]\n",
            " [  0   0   0   0   0   1 108   0   0   0]\n",
            " [  0   0   0   0   1   0   0  93   0   0]\n",
            " [  0  42   0   0  11   3   0   0   0  34]\n",
            " [  0   8   0   0  10   3   0   1   0  75]]\n",
            "\n"
          ],
          "name": "stdout"
        },
        {
          "output_type": "display_data",
          "data": {
            "image/png": "[encoded data removed]",
            "text/plain": [
              "<Figure size 504x288 with 10 Axes>"
            ]
          },
          "metadata": {
            "tags": []
          }
        }
      ]
    },
    {
      "cell_type": "code",
      "metadata": {
        "colab": {
          "base_uri": "https://localhost:8080/",
          "height": 605
        },
        "id": "NW9P3ELN3dxJ",
        "outputId": "579668a8-f186-4170-c157-0a4a4c6a8d13"
      },
      "source": [
        "true_labels_100, predicted_labels_100 = label_exercise_function(number_of_known_labels=100)"
      ],
      "execution_count": 123,
      "outputs": [
        {
          "output_type": "stream",
          "text": [
            "Verify y_train is randomly distributed and labels between 50 and 150 are hidden\n",
            "[ 0  1  9  7  3  3  1  1  8  8  9  8  5  4  4  7  3  5  8  4  3  1  3  8\n",
            "  7  3  3  0  8  7  2  8  5  3  8  7  6  4  6  2  2  0  1  1  5  3  5  7\n",
            "  6  8 -1 -1 -1 -1 -1 -1 -1 -1 -1 -1 -1 -1 -1 -1 -1 -1 -1 -1 -1 -1 -1 -1\n",
            " -1 -1 -1 -1 -1 -1 -1 -1 -1 -1 -1 -1 -1 -1 -1 -1 -1 -1 -1 -1 -1 -1 -1 -1\n",
            " -1 -1 -1 -1]\n",
            "\n",
            "Label Spreading model: 100 labeled & 900 unlabeled points (1000 total)\n",
            "Confusion matrix\n",
            "[[95  0  0  0  0  0  0  0  0  0]\n",
            " [ 0 86  0  0  0  1  0  0  0  0]\n",
            " [ 0  4 79  3  0  0  0  0  2  0]\n",
            " [ 0  0  0 95  0  0  0  0  0  4]\n",
            " [ 0  0  0  0 84  0  0  0  0  0]\n",
            " [ 0  0  0  0  0 90  0  0  0  7]\n",
            " [ 0  0  0  0  0  0 97  0  0  0]\n",
            " [ 0  0  0  0  0  2  0 77  0  6]\n",
            " [ 0  3  0  2  1  0  0  0 72  0]\n",
            " [ 0  0  0  2  1  0  0  0  1 86]]\n",
            "\n"
          ],
          "name": "stdout"
        },
        {
          "output_type": "display_data",
          "data": {
            "image/png": "[encoded data removed]",
            "text/plain": [
              "<Figure size 504x288 with 10 Axes>"
            ]
          },
          "metadata": {
            "tags": []
          }
        }
      ]
    },
    {
      "cell_type": "code",
      "metadata": {
        "id": "ziIXBKO298DX",
        "colab": {
          "base_uri": "https://localhost:8080/",
          "height": 707
        },
        "outputId": "08a3cdce-d5b4-416c-8b70-7e6295367838"
      },
      "source": [
        "true_labels_250, predicted_labels_250 = label_exercise_function(number_of_known_labels=250)"
      ],
      "execution_count": 124,
      "outputs": [
        {
          "output_type": "stream",
          "text": [
            "Verify y_train is randomly distributed and labels between 125 and 375 are hidden\n",
            "[ 8  1  9  2  1  9  1  0  3  4  3  0  9  3  2  2  7  3  1  6  7  2  8  3\n",
            "  1  1  6  4  8  2  1  8  4  1  3  1  1  9  5  4  8  7  4  8  9  5  7  6\n",
            "  9  0  0  4  0  0  4  0  6  5  8  8  3  7  9  2  0  3  2  7  3  0  2  1\n",
            "  5  2  7  0  6  9  3  1  1  3  5  2  3  5  2  1  2  9  4  6  5  5  5  9\n",
            "  7  1  5  9  6  3  7  1  7  5  1  7  2  7  5  5  4  8  6  6  2  8  7  3\n",
            "  7  8  0  9  5 -1 -1 -1 -1 -1 -1 -1 -1 -1 -1 -1 -1 -1 -1 -1 -1 -1 -1 -1\n",
            " -1 -1 -1 -1 -1 -1 -1 -1 -1 -1 -1 -1 -1 -1 -1 -1 -1 -1 -1 -1 -1 -1 -1 -1\n",
            " -1 -1 -1 -1 -1 -1 -1 -1 -1 -1 -1 -1 -1 -1 -1 -1 -1 -1 -1 -1 -1 -1 -1 -1\n",
            " -1 -1 -1 -1 -1 -1 -1 -1 -1 -1 -1 -1 -1 -1 -1 -1 -1 -1 -1 -1 -1 -1 -1 -1\n",
            " -1 -1 -1 -1 -1 -1 -1 -1 -1 -1 -1 -1 -1 -1 -1 -1 -1 -1 -1 -1 -1 -1 -1 -1\n",
            " -1 -1 -1 -1 -1 -1 -1 -1 -1 -1]\n",
            "\n",
            "Label Spreading model: 250 labeled & 750 unlabeled points (1000 total)\n",
            "Confusion matrix\n",
            "[[81  0  0  0  0  0  0  0  0  0]\n",
            " [ 0 68  0  0  0  1  0  0  1  0]\n",
            " [ 0  4 63  1  0  0  0  0  2  0]\n",
            " [ 0  0  0 79  0  0  0  0  0  1]\n",
            " [ 0  0  0  0 73  0  0  0  0  0]\n",
            " [ 0  0  0  0  0 75  0  0  0  6]\n",
            " [ 0  0  0  0  0  0 86  0  0  0]\n",
            " [ 0  0  0  0  0  0  0 66  0  1]\n",
            " [ 0  1  0  5  0  0  0  0 59  1]\n",
            " [ 0  0  0  2  0  0  0  0  1 73]]\n",
            "\n"
          ],
          "name": "stdout"
        },
        {
          "output_type": "display_data",
          "data": {
            "image/png": "[encoded data removed]",
            "text/plain": [
              "<Figure size 504x288 with 10 Axes>"
            ]
          },
          "metadata": {
            "tags": []
          }
        }
      ]
    },
    {
      "cell_type": "code",
      "metadata": {
        "colab": {
          "base_uri": "https://localhost:8080/",
          "height": 877
        },
        "id": "YirncNCL6oE4",
        "outputId": "b477d1d5-abdd-4500-e93b-d7f6513bf259"
      },
      "source": [
        "true_labels_500, predicted_labels_500 = label_exercise_function(number_of_known_labels=500)"
      ],
      "execution_count": 128,
      "outputs": [
        {
          "output_type": "stream",
          "text": [
            "Verify y_train is randomly distributed and labels between 250 and 750 are hidden\n",
            "[ 7  4  3  4  1  0  3  3  5  4  1  3  1  2  5  1  4  0  3  1  5  5  7  4\n",
            "  0  1  0  8  5  5  5  4  0  1  8  6  2  1  1  1  7  9  6  7  9  7  0  4\n",
            "  9  6  9  2  7  2  1  0  8  2  8  6  5  7  8  4  5  7  8  6  5  2  6  9\n",
            "  3  0  0  8  0  6  6  7  1  4  5  6  9  7  2  8  5  1  2  4  1  8  8  7\n",
            "  6  0  8  0  6  5  5  7  8  0  4  1  4  5  9  2  2  3  9  1  3  9  3  2\n",
            "  8  0  6  5  6  2  5  2  3  2  6  1  0  7  6  0  6  2  7  0  3  2  4  2\n",
            "  9  6  9  7  7  0  3  5  4  1  2  2  1  2  7  7  0  4  9  8  5  6  1  6\n",
            "  5  2  0  8  2  4  3  3  2  9  3  8  9  9  3  9  0  3  4  7  9  1  5  7\n",
            "  5  0  5  3  5  0  2  7  3  0  4  3  6  6  1  9  6  3  4  6  4  6  7  2\n",
            "  7  6  3  0  3  0  1  3  6  8  0  4  3  8  4  3  3  4  8  6  9  6  3  3\n",
            "  0  5  7  8  9  1  5  3  2  5 -1 -1 -1 -1 -1 -1 -1 -1 -1 -1 -1 -1 -1 -1\n",
            " -1 -1 -1 -1 -1 -1 -1 -1 -1 -1 -1 -1 -1 -1 -1 -1 -1 -1 -1 -1 -1 -1 -1 -1\n",
            " -1 -1 -1 -1 -1 -1 -1 -1 -1 -1 -1 -1 -1 -1 -1 -1 -1 -1 -1 -1 -1 -1 -1 -1\n",
            " -1 -1 -1 -1 -1 -1 -1 -1 -1 -1 -1 -1 -1 -1 -1 -1 -1 -1 -1 -1 -1 -1 -1 -1\n",
            " -1 -1 -1 -1 -1 -1 -1 -1 -1 -1 -1 -1 -1 -1 -1 -1 -1 -1 -1 -1 -1 -1 -1 -1\n",
            " -1 -1 -1 -1 -1 -1 -1 -1 -1 -1 -1 -1 -1 -1 -1 -1 -1 -1 -1 -1 -1 -1 -1 -1\n",
            " -1 -1 -1 -1 -1 -1 -1 -1 -1 -1 -1 -1 -1 -1 -1 -1 -1 -1 -1 -1 -1 -1 -1 -1\n",
            " -1 -1 -1 -1 -1 -1 -1 -1 -1 -1 -1 -1 -1 -1 -1 -1 -1 -1 -1 -1 -1 -1 -1 -1\n",
            " -1 -1 -1 -1 -1 -1 -1 -1 -1 -1 -1 -1 -1 -1 -1 -1 -1 -1 -1 -1 -1 -1 -1 -1\n",
            " -1 -1 -1 -1 -1 -1 -1 -1 -1 -1 -1 -1 -1 -1 -1 -1 -1 -1 -1 -1 -1 -1 -1 -1\n",
            " -1 -1 -1 -1 -1 -1 -1 -1 -1 -1 -1 -1 -1 -1 -1 -1 -1 -1 -1 -1]\n",
            "\n",
            "Label Spreading model: 500 labeled & 500 unlabeled points (1000 total)\n",
            "Confusion matrix\n",
            "[[53  0  0  0  0  0  0  0  0  0]\n",
            " [ 0 43  0  0  0  1  0  0  2  0]\n",
            " [ 0  0 44  0  0  0  0  0  0  0]\n",
            " [ 0  0  0 50  0  0  0  0  0  0]\n",
            " [ 0  0  0  0 50  0  0  0  0  0]\n",
            " [ 0  0  0  0  0 54  0  0  0  0]\n",
            " [ 0  0  0  0  0  0 58  0  0  0]\n",
            " [ 0  0  0  0  0  0  0 42  0  1]\n",
            " [ 0  0  0  0  0  0  0  0 45  1]\n",
            " [ 0  0  0  1  0  0  0  0  0 55]]\n",
            "\n"
          ],
          "name": "stdout"
        },
        {
          "output_type": "display_data",
          "data": {
            "image/png": "[encoded data removed]",
            "text/plain": [
              "<Figure size 504x288 with 10 Axes>"
            ]
          },
          "metadata": {
            "tags": []
          }
        }
      ]
    },
    {
      "cell_type": "code",
      "metadata": {
        "colab": {
          "base_uri": "https://localhost:8080/"
        },
        "id": "TOttO9S35VXX",
        "outputId": "e4ec0a85-8e6b-4e59-d0ca-7ced2e653336"
      },
      "source": [
        "print(classification_report(true_labels_10, predicted_labels_10))\n",
        "print(\"\\n\")\n",
        "print(classification_report(true_labels_50, predicted_labels_50))\n",
        "print(\"\\n\")\n",
        "print(classification_report(true_labels_100, predicted_labels_100))\n",
        "print(\"\\n\")\n",
        "print(classification_report(true_labels_250, predicted_labels_250))\n",
        "print(\"\\n\")\n",
        "print(classification_report(true_labels_500, predicted_labels_500))\n",
        "print(\"\\n\")\n"
      ],
      "execution_count": 129,
      "outputs": [
        {
          "output_type": "stream",
          "text": [
            "              precision    recall  f1-score   support\n",
            "\n",
            "           0       1.00      1.00      1.00        99\n",
            "           1       0.40      0.93      0.56        96\n",
            "           2       0.00      0.00      0.00        93\n",
            "           3       0.00      0.00      0.00       110\n",
            "           4       0.76      0.97      0.85        94\n",
            "           5       0.92      0.94      0.93       108\n",
            "           6       0.95      0.99      0.97       109\n",
            "           7       0.91      0.99      0.95        94\n",
            "           8       0.00      0.00      0.00        90\n",
            "           9       0.34      0.77      0.47        97\n",
            "\n",
            "    accuracy                           0.66       990\n",
            "   macro avg       0.53      0.66      0.57       990\n",
            "weighted avg       0.53      0.66      0.58       990\n",
            "\n",
            "\n",
            "\n",
            "              precision    recall  f1-score   support\n",
            "\n",
            "           0       1.00      1.00      1.00        98\n",
            "           1       0.85      0.90      0.88        93\n",
            "           2       0.99      0.78      0.87        91\n",
            "           3       0.92      0.90      0.91       108\n",
            "           4       0.97      1.00      0.98        88\n",
            "           5       0.97      0.93      0.95       102\n",
            "           6       0.97      1.00      0.99       100\n",
            "           7       0.98      0.91      0.94        91\n",
            "           8       0.86      0.82      0.84        87\n",
            "           9       0.77      0.97      0.86        92\n",
            "\n",
            "    accuracy                           0.92       950\n",
            "   macro avg       0.93      0.92      0.92       950\n",
            "weighted avg       0.93      0.92      0.92       950\n",
            "\n",
            "\n",
            "\n",
            "              precision    recall  f1-score   support\n",
            "\n",
            "           0       1.00      1.00      1.00        95\n",
            "           1       0.92      0.99      0.96        87\n",
            "           2       1.00      0.90      0.95        88\n",
            "           3       0.93      0.96      0.95        99\n",
            "           4       0.98      1.00      0.99        84\n",
            "           5       0.97      0.93      0.95        97\n",
            "           6       1.00      1.00      1.00        97\n",
            "           7       1.00      0.91      0.95        85\n",
            "           8       0.96      0.92      0.94        78\n",
            "           9       0.83      0.96      0.89        90\n",
            "\n",
            "    accuracy                           0.96       900\n",
            "   macro avg       0.96      0.96      0.96       900\n",
            "weighted avg       0.96      0.96      0.96       900\n",
            "\n",
            "\n",
            "\n",
            "              precision    recall  f1-score   support\n",
            "\n",
            "           0       1.00      1.00      1.00        81\n",
            "           1       0.93      0.97      0.95        70\n",
            "           2       1.00      0.90      0.95        70\n",
            "           3       0.91      0.99      0.95        80\n",
            "           4       1.00      1.00      1.00        73\n",
            "           5       0.99      0.93      0.96        81\n",
            "           6       1.00      1.00      1.00        86\n",
            "           7       1.00      0.99      0.99        67\n",
            "           8       0.94      0.89      0.91        66\n",
            "           9       0.89      0.96      0.92        76\n",
            "\n",
            "    accuracy                           0.96       750\n",
            "   macro avg       0.97      0.96      0.96       750\n",
            "weighted avg       0.97      0.96      0.96       750\n",
            "\n",
            "\n",
            "\n",
            "              precision    recall  f1-score   support\n",
            "\n",
            "           0       1.00      1.00      1.00        53\n",
            "           1       1.00      0.93      0.97        46\n",
            "           2       1.00      1.00      1.00        44\n",
            "           3       0.98      1.00      0.99        50\n",
            "           4       1.00      1.00      1.00        50\n",
            "           5       0.98      1.00      0.99        54\n",
            "           6       1.00      1.00      1.00        58\n",
            "           7       1.00      0.98      0.99        43\n",
            "           8       0.96      0.98      0.97        46\n",
            "           9       0.96      0.98      0.97        56\n",
            "\n",
            "    accuracy                           0.99       500\n",
            "   macro avg       0.99      0.99      0.99       500\n",
            "weighted avg       0.99      0.99      0.99       500\n",
            "\n",
            "\n",
            "\n"
          ],
          "name": "stdout"
        },
        {
          "output_type": "stream",
          "text": [
            "/usr/local/lib/python3.7/dist-packages/sklearn/metrics/_classification.py:1272: UndefinedMetricWarning: Precision and F-score are ill-defined and being set to 0.0 in labels with no predicted samples. Use `zero_division` parameter to control this behavior.\n",
            "  _warn_prf(average, modifier, msg_start, len(result))\n"
          ],
          "name": "stderr"
        }
      ]
    }
  ]
}